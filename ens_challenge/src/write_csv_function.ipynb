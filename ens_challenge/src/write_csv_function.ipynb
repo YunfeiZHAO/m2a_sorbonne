{
 "cells": [
  {
   "cell_type": "code",
   "execution_count": 1,
   "metadata": {},
   "outputs": [],
   "source": [
    "import torch\n",
    "import numpy as np\n",
    "import pandas as pd\n"
   ]
  },
  {
   "cell_type": "markdown",
   "metadata": {},
   "source": [
    "### 把MASK矩阵计算比例并写入csv文件"
   ]
  },
  {
   "cell_type": "code",
   "execution_count": 2,
   "metadata": {},
   "outputs": [],
   "source": [
    "def ratio(M):\n",
    "    Batch_size=M.shape[0]\n",
    "    size=M.shape[1]\n",
    "    res = np.zeros((Batch_size,10))\n",
    "    res=torch.tensor(res)\n",
    "    for i in range(10):\n",
    "        res[:,i]=(M==i).sum(dim=(1,2))/(size*size)\n",
    "    return res"
   ]
  },
  {
   "cell_type": "code",
   "execution_count": 3,
   "metadata": {},
   "outputs": [],
   "source": [
    "def write_csv(index,matrix):\n",
    "    #index must be a tensor with size = batch_size\n",
    "    #matrix must be a tensor withe shape =batch_size * 256 * 256\n",
    "    batch_size = matrix.shape[0]\n",
    "    idx = index.reshape(batch_size,-1)\n",
    "    myratio = ratio(matrix)\n",
    "    data_pure = torch.cat((idx,myratio),dim=1)\n",
    "    data = pd.DataFrame(data_pure.numpy() , columns = ['sample_id','no_data','clouds','artificial','cultivated','broadleaf','coniferous','herbaceous','natural','snow','water'])\n",
    "    data.to_csv('testing data.csv' , index=False)\n",
    "    print(\"make cvs done, with batch size = \",batch_size)"
   ]
  },
  {
   "cell_type": "code",
   "execution_count": 5,
   "metadata": {},
   "outputs": [
    {
     "name": "stdout",
     "output_type": "stream",
     "text": [
      "make cvs done, with batch size =  50\n"
     ]
    }
   ],
   "source": [
    "#setting matrix\n",
    "nb=50\n",
    "npmatrice=np.random.randint(0,10,(nb,256,256))#nb images' marks with size 256*256\n",
    "M=torch.tensor(npmatrice)\n",
    "\n",
    "#setting index\n",
    "index=np.arange(nb)+10001\n",
    "index=torch.tensor(index)\n",
    "\n",
    "#Write to csv\n",
    "write_csv(index,M)"
   ]
  },
  {
   "cell_type": "code",
   "execution_count": null,
   "metadata": {},
   "outputs": [],
   "source": []
  },
  {
   "cell_type": "markdown",
   "metadata": {},
   "source": [
    "### 数据增强，即八种翻转"
   ]
  },
  {
   "cell_type": "code",
   "execution_count": 37,
   "metadata": {},
   "outputs": [],
   "source": [
    "def ratation_test_for_matrix(img):\n",
    "        r = np.random.random()\n",
    "        if r < 0.125:\n",
    "            pass\n",
    "        elif r < 0.25:\n",
    "            # clockwise 90\n",
    "            img = torch.rot90(img,-1)\n",
    "            #mask = torch.rot90(mask,-1)\n",
    "        elif r < 0.375:\n",
    "            # clockwise 180\n",
    "            img = torch.rot90(img,2)\n",
    "            #mask = torch.rot90(mask,2)\n",
    "        elif r < 0.5:\n",
    "            # anticlockwise 90\n",
    "            img = torch.rot90(img,1)\n",
    "            #mask = torch.rot90(img,1)\n",
    "        elif r < 0.625:\n",
    "            # updown reversal\n",
    "            img = torch.flipud(img)\n",
    "            #mask = torch.flipud(img)\n",
    "        elif r < 0.75:\n",
    "            # updown reversal + clockwise 90\n",
    "            img = torch.rot90(img.flipud(),-1)\n",
    "            #mask = torch.rot90(img.flipud(),-1)\n",
    "        elif r < 0.875:\n",
    "            # updown reversal + clockwise 180\n",
    "            img = torch.rot90(img.flipud(),2)\n",
    "            #mask = torch.rot90(img.flipud(),2)\n",
    "        elif r < 1:\n",
    "            # updown reversal + anticlockwise 90\n",
    "            img = torch.rot90(img.flipud(),1)\n",
    "            #mask = torch.rot90(img.flipud(),1)\n",
    "        #return img.permute(2, 0, 1), mask\n",
    "        return img , r\n",
    "        "
   ]
  },
  {
   "cell_type": "code",
   "execution_count": 9,
   "metadata": {},
   "outputs": [
    {
     "data": {
      "text/plain": [
       "0.28996264138121686"
      ]
     },
     "execution_count": 9,
     "metadata": {},
     "output_type": "execute_result"
    }
   ],
   "source": [
    "a=np.random.random()\n",
    "a"
   ]
  },
  {
   "cell_type": "code",
   "execution_count": 14,
   "metadata": {},
   "outputs": [
    {
     "name": "stdout",
     "output_type": "stream",
     "text": [
      "tensor([[ 1,  2,  3,  4],\n",
      "        [ 5,  6,  7,  8],\n",
      "        [ 9, 10, 11, 12],\n",
      "        [13, 14, 15, 16]])\n"
     ]
    }
   ],
   "source": [
    "matrix=np.arange(16)+1\n",
    "matrix=torch.tensor(matrix)\n",
    "matrix=matrix.reshape(4,4)\n",
    "print(matrix)"
   ]
  },
  {
   "cell_type": "code",
   "execution_count": 48,
   "metadata": {},
   "outputs": [
    {
     "data": {
      "text/plain": [
       "(tensor([[13, 14, 15, 16],\n",
       "         [ 9, 10, 11, 12],\n",
       "         [ 5,  6,  7,  8],\n",
       "         [ 1,  2,  3,  4]]), 0.5284010647979314)"
      ]
     },
     "execution_count": 48,
     "metadata": {},
     "output_type": "execute_result"
    }
   ],
   "source": [
    "ratation_test_for_matrix(matrix)"
   ]
  },
  {
   "cell_type": "code",
   "execution_count": null,
   "metadata": {},
   "outputs": [],
   "source": [
    "def __call__(self , img , mask):\n",
    "        \"\"\"flip and rotation for data augmentation\n",
    "        :param img: H, W, C\n",
    "        :param mask: H, W\n",
    "        :return: img: C, H, W   mask: H, W\n",
    "        \"\"\"\n",
    "        r = np.random.random()\n",
    "        if r < 0.125:\n",
    "            pass\n",
    "        elif r < 0.25:\n",
    "            # clockwise 90\n",
    "            img = torch.rot90(img,-1)\n",
    "            mask = torch.rot90(mask,-1)\n",
    "        elif r < 0.375:\n",
    "            # clockwise 180\n",
    "            img = torch.rot90(img,2)\n",
    "            mask = torch.rot90(mask,2)\n",
    "        elif r < 0.5:\n",
    "            # anticlockwise 90\n",
    "            img = torch.rot90(img,1)\n",
    "            mask = torch.rot90(mask,1)\n",
    "        elif r < 0.625:\n",
    "            # updown reversal\n",
    "            img = torch.flipud(img)\n",
    "            mask = torch.flipud(mask)\n",
    "        elif r < 0.75:\n",
    "            # updown reversal + clockwise 90\n",
    "            img = torch.rot90(img.flipud(),-1)\n",
    "            mask = torch.rot90(mask.flipud(),-1)\n",
    "        elif r < 0.875:\n",
    "            # updown reversal + clockwise 180\n",
    "            img = torch.rot90(img.flipud(),2)\n",
    "            mask = torch.rot90(mask.flipud(),2)\n",
    "        elif r < 1:\n",
    "            # updown reversal + anticlockwise 90\n",
    "            img = torch.rot90(img.flipud(),1)\n",
    "            mask = torch.rot90(mask.flipud(),1)\n",
    "        return img.permute(2, 0, 1), mask\n",
    "        "
   ]
  }
 ],
 "metadata": {
  "kernelspec": {
   "display_name": "Python 3",
   "language": "python",
   "name": "python3"
  },
  "language_info": {
   "codemirror_mode": {
    "name": "ipython",
    "version": 3
   },
   "file_extension": ".py",
   "mimetype": "text/x-python",
   "name": "python",
   "nbconvert_exporter": "python",
   "pygments_lexer": "ipython3",
   "version": "3.8.5"
  }
 },
 "nbformat": 4,
 "nbformat_minor": 4
}
