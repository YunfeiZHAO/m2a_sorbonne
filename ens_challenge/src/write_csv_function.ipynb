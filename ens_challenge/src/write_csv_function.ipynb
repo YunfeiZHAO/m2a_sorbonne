{
 "cells": [
  {
   "cell_type": "code",
   "execution_count": 1,
   "metadata": {},
   "outputs": [],
   "source": [
    "import torch\n",
    "import numpy as np\n",
    "import pandas as pd\n"
   ]
  },
  {
   "cell_type": "code",
   "execution_count": null,
   "metadata": {},
   "outputs": [],
   "source": []
  },
  {
   "cell_type": "code",
   "execution_count": 2,
   "metadata": {},
   "outputs": [],
   "source": [
    "def ratio(M):\n",
    "    Batch_size=M.shape[0]\n",
    "    size=M.shape[1]\n",
    "    res = np.zeros((Batch_size,10))\n",
    "    res=torch.tensor(res)\n",
    "    for i in range(10):\n",
    "        res[:,i]=(M==i).sum(dim=(1,2))/(size*size)\n",
    "    return res"
   ]
  },
  {
   "cell_type": "code",
   "execution_count": 3,
   "metadata": {},
   "outputs": [],
   "source": [
    "def write_csv(index,matrix):\n",
    "    #index must be a tensor with size = batch_size\n",
    "    #matrix must be a tensor withe shape =batch_size * 256 * 256\n",
    "    batch_size = matrix.shape[0]\n",
    "    idx = index.reshape(batch_size,-1)\n",
    "    myratio = ratio(matrix)\n",
    "    data_pure = torch.cat((idx,myratio),dim=1)\n",
    "    data = pd.DataFrame(data_pure.numpy() , columns = ['sample_id','no_data','clouds','artificial','cultivated','broadleaf','coniferous','herbaceous','natural','snow','water'])\n",
    "    data.to_csv('testing data.csv' , index=False)\n",
    "    print(\"make cvs done, with batch size = \",batch_size)"
   ]
  },
  {
   "cell_type": "code",
   "execution_count": 5,
   "metadata": {},
   "outputs": [
    {
     "name": "stdout",
     "output_type": "stream",
     "text": [
      "make cvs done, with batch size =  50\n"
     ]
    }
   ],
   "source": [
    "#setting matrix\n",
    "nb=50\n",
    "npmatrice=np.random.randint(0,10,(nb,256,256))#nb images' marks with size 256*256\n",
    "M=torch.tensor(npmatrice)\n",
    "\n",
    "#setting index\n",
    "index=np.arange(nb)+10001\n",
    "index=torch.tensor(index)\n",
    "\n",
    "#Write to csv\n",
    "write_csv(index,M)"
   ]
  },
  {
   "cell_type": "code",
   "execution_count": null,
   "metadata": {},
   "outputs": [],
   "source": []
  }
 ],
 "metadata": {
  "kernelspec": {
   "display_name": "Python 3",
   "language": "python",
   "name": "python3"
  },
  "language_info": {
   "codemirror_mode": {
    "name": "ipython",
    "version": 3
   },
   "file_extension": ".py",
   "mimetype": "text/x-python",
   "name": "python",
   "nbconvert_exporter": "python",
   "pygments_lexer": "ipython3",
   "version": "3.8.5"
  }
 },
 "nbformat": 4,
 "nbformat_minor": 4
}
