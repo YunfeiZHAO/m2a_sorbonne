{
 "cells": [
  {
   "cell_type": "markdown",
   "metadata": {},
   "source": [
    "# Introduction à l'apprentissage automatique\n",
    "\n",
    "*Maxime Sangnier*\n",
    "\n",
    "Novembre, 2020\n",
    "\n",
    "## Contrôle continu"
   ]
  },
  {
   "cell_type": "markdown",
   "metadata": {},
   "source": [
    "# Table of contents\n",
    "1. [Consignes](#part1)\n",
    "1. [Exercice 1 : Application (8 points)](#part2)\n",
    "    - [Partie 1](#part2sec1)\n",
    "    - [Partie 2](#part2sec2)\n",
    "1. [Exercice 2 : Implémentation (12 points)](#part3)\n"
   ]
  },
  {
   "cell_type": "markdown",
   "metadata": {},
   "source": [
    "# Consignes <a id=\"part1\"></a>\n",
    "\n",
    "1. Vos réponses doivent se trouver dans les cellules adéquates de **ce fichier**.\n",
    "1. En fin d'épreuve, **exportez** votre notebook en fichier `html`.\n",
    "1. **Téléversez** ensuite les fichiers `ipynb` **et** `html` dans ce dossier distant : [https://www.dropbox.com/request/iAMyQ8B1yUg3inSAVQFx](https://www.dropbox.com/request/iAMyQ8B1yUg3inSAVQFx).\n",
    "1. La durée de l'épreuve est **1h30**. Tous les documents sont autorisés.\n",
    "\n",
    "Si vous n’arrivez pas à faire une question, **continuez** quand même l'exercice avec les éléments à votre disposition.\n",
    "\n",
    "Le barême est donné à titre indicatif."
   ]
  },
  {
   "cell_type": "code",
   "execution_count": 3,
   "metadata": {},
   "outputs": [
    {
     "name": "stdout",
     "output_type": "stream",
     "text": [
      "\n",
      "Packages:\n",
      "\tnympy as np\n",
      "\tmatplotlib.pyplot as plt\n",
      "\tseaborn as sns\n",
      "\n",
      "Functions:\n",
      "\tplotXY\n",
      "\tplot_frontiere\n",
      "\tmap_regions\n",
      "\tcovariance\n",
      "\tplot_cov\n",
      "\tsample_gmm\n",
      "\tscatter\n",
      "\tplot_level_set\n",
      "\tgaussian_sample\n",
      "\n"
     ]
    }
   ],
   "source": [
    "from sys import path\n",
    "path.append('../')\n",
    "from mllab import *"
   ]
  },
  {
   "cell_type": "code",
   "execution_count": 60,
   "metadata": {},
   "outputs": [],
   "source": [
    "from matplotlib import pyplot as plt"
   ]
  },
  {
   "cell_type": "markdown",
   "metadata": {},
   "source": [
    "# Exercice 1 : Application (8 points) <a id=\"part2\"></a>\n",
    "## Partie 1 <a id=\"part2sec1\"></a>\n",
    ">Considérons le jeu de données défini ci-dessous."
   ]
  },
  {
   "cell_type": "code",
   "execution_count": 2,
   "metadata": {},
   "outputs": [
    {
     "data": {
      "image/png": "[encoded data removed]",
      "text/plain": [
       "<Figure size 432x288 with 1 Axes>"
      ]
     },
     "metadata": {},
     "output_type": "display_data"
    }
   ],
   "source": [
    "from sklearn.datasets import make_blobs\n",
    "\n",
    "X, y = make_blobs(centers = 4, cluster_std=1)\n",
    "plotXY(X, y)"
   ]
  },
  {
   "cell_type": "markdown",
   "metadata": {},
   "source": [
    ">**Question 1.**\n",
    "Appliquer l'algorithme des k-moyennes avec 5 groupes et afficher le partitionnement en résultant."
   ]
  },
  {
   "cell_type": "code",
   "execution_count": null,
   "metadata": {
    "collapsed": true,
    "jupyter": {
     "outputs_hidden": true
    }
   },
   "outputs": [],
   "source": [
    "# Answer"
   ]
  },
  {
   "cell_type": "markdown",
   "metadata": {},
   "source": [
    ">**Question 2.**\n",
    "En remarquant que l'inertie intra-classe fait partie des attributs calculés, afficher l'évolution de cette quantité lorsque le nombre de groupes varie.\n",
    "Comment peut-on en déduire un nombre de groupes pertinent au regard du jeu de données ?"
   ]
  },
  {
   "cell_type": "code",
   "execution_count": null,
   "metadata": {
    "collapsed": true,
    "jupyter": {
     "outputs_hidden": true
    }
   },
   "outputs": [],
   "source": [
    "# Answer"
   ]
  },
  {
   "cell_type": "markdown",
   "metadata": {},
   "source": [
    ">**Question 3.**\n",
    "On s'intéresse maintenant au partitionnement obtenu par un modèle de mélange gaussien.\n",
    "À l'aide de `sklearn`, réaliser l'estimation pour un mélange de trois gaussiennes et afficher les matrices de covariances estimées."
   ]
  },
  {
   "cell_type": "code",
   "execution_count": null,
   "metadata": {
    "collapsed": true,
    "jupyter": {
     "outputs_hidden": true
    }
   },
   "outputs": [],
   "source": [
    "# Answer"
   ]
  },
  {
   "cell_type": "markdown",
   "metadata": {},
   "source": [
    ">**Question 4.**\n",
    "Modifier à présent les paramètres de l'algorithme EM pour produire des estimateurs diagonaux des matrices de covariance et afficher les estimations (sous la forme de trois matrices)."
   ]
  },
  {
   "cell_type": "code",
   "execution_count": null,
   "metadata": {
    "collapsed": true,
    "jupyter": {
     "outputs_hidden": true
    }
   },
   "outputs": [],
   "source": [
    "# Answer"
   ]
  },
  {
   "cell_type": "markdown",
   "metadata": {},
   "source": [
    ">**Question 5.**\n",
    "Afficher l'évolution de l'attribut `lower_bound` en fonction du nombre de composantes dans le mélange.\n",
    "Que remarque-t-on ? À quoi correspond cet attribut ?"
   ]
  },
  {
   "cell_type": "code",
   "execution_count": null,
   "metadata": {
    "collapsed": true,
    "jupyter": {
     "outputs_hidden": true
    }
   },
   "outputs": [],
   "source": [
    "# Answer"
   ]
  },
  {
   "cell_type": "markdown",
   "metadata": {},
   "source": [
    "## Partie 2 <a id=\"part2sec2\"></a>\n",
    ">**Question 1.**\n",
    "Charger le jeu de données [diabète](https://scikit-learn.org/stable/modules/generated/sklearn.datasets.load_diabetes.html#sklearn.datasets.load_diabetes) et l'afficher en deux dimensions grâce à une analyse en composantes principales.\n",
    "On représentera la variable à expliquer en faisant varier la couleur des points affichés (dans cet objectif, on spécifiera la palette de couleurs `cmap='GnBu'` à `plt.scatter()` et on affichera la barre de couleur)."
   ]
  },
  {
   "cell_type": "code",
   "execution_count": null,
   "metadata": {
    "collapsed": true,
    "jupyter": {
     "outputs_hidden": true
    }
   },
   "outputs": [],
   "source": [
    "# Answer"
   ]
  },
  {
   "cell_type": "markdown",
   "metadata": {},
   "source": [
    ">**Question 2.**\n",
    "On souhaite à présent déterminer la plus petite dimension acceptable en vue d'une régression linéaire.\n",
    "Afficher le score de validation croisée de la régression linéaire en fonction du nombre de composantes principales de l'ACP.\n",
    "\n",
    ">Quelle dimension choisiriez-vous ?"
   ]
  },
  {
   "cell_type": "code",
   "execution_count": null,
   "metadata": {
    "collapsed": true,
    "jupyter": {
     "outputs_hidden": true
    }
   },
   "outputs": [],
   "source": [
    "# Answer"
   ]
  },
  {
   "cell_type": "markdown",
   "metadata": {},
   "source": [
    ">**Question 3.**\n",
    "On fixe maintenant le nombre de dimension à 4 et on considère une [réduction de dimension ISOMAP](https://scikit-learn.org/stable/modules/generated/sklearn.manifold.Isomap.html) en lieu et place de l'ACP.\n",
    "Tracer l'évolution du score de validation croisée de la régression linéaire en fonction du nombre de plus proches voisins (typiquement entre 15 et 25) de la réduction ISOMAP.\n",
    "\n",
    ">Est-ce mieux qu'avec l'ACP ?"
   ]
  },
  {
   "cell_type": "code",
   "execution_count": null,
   "metadata": {
    "collapsed": true,
    "jupyter": {
     "outputs_hidden": true
    }
   },
   "outputs": [],
   "source": [
    "# Answer"
   ]
  },
  {
   "cell_type": "markdown",
   "metadata": {},
   "source": [
    ">**Question 4.**\n",
    "On souhaite enfin comparer aux arbres de décision, sans réduction de dimension.\n",
    "Tracer l'évolution du score de validation croisée en fonction de la profondeur de l'arbre.\n",
    "\n",
    ">Est-ce mieux qu'avec l'ACP ?"
   ]
  },
  {
   "cell_type": "code",
   "execution_count": null,
   "metadata": {
    "collapsed": true,
    "jupyter": {
     "outputs_hidden": true
    }
   },
   "outputs": [],
   "source": [
    "# Answer"
   ]
  },
  {
   "cell_type": "markdown",
   "metadata": {},
   "source": [
    "# Exercice 2 : Implémentation (12 points) <a id=\"part3\"></a>\n",
    ">Considérons la matrice symétrique semi-définie positive $Q \\in \\mathbb R^{n \\times n}$ suivante (ici $n=10$), ainsi que le vecteur $y \\in \\{\\pm 1\\}^n$ et le paramètre $C>0$."
   ]
  },
  {
   "cell_type": "code",
   "execution_count": 37,
   "metadata": {},
   "outputs": [],
   "source": [
    "n = 10\n",
    "Q = np.random.randn(n, n)\n",
    "Q = Q @ Q.T\n",
    "\n",
    "y = np.random.randint(2, size=Q.shape[1]) * 2 - 1\n",
    "\n",
    "C = 5"
   ]
  },
  {
   "cell_type": "markdown",
   "metadata": {},
   "source": [
    ">**Question 1.**\n",
    "Définire une fonction `obj(Q, x)` retournant $f(x)$, où $f : x \\in \\mathbb R^n \\mapsto \\frac 12 x^\\top Q x - \\mathbb 1^\\top x$.\n",
    "\n",
    ">En déduire une fonction `sub_obj(Q, x, i, j, vali, valj)` qui retourne $f(x')$, où $x'$ est défini de sorte que\n",
    ">- $\\forall \\ell \\in \\{1, \\dots, n\\}\\backslash \\{i, j\\} : x_\\ell' = x_\\ell$ ;\n",
    ">- $x_i' =$ `vali` ;\n",
    ">- $x_j' =$ `valj`.\n",
    "\n",
    ">Tester vos deux fonctions pour des valeurs arbitraires de $x$, `vali` et `valj`."
   ]
  },
  {
   "cell_type": "code",
   "execution_count": 27,
   "metadata": {
    "tags": []
   },
   "outputs": [
    {
     "name": "stdout",
     "output_type": "stream",
     "text": [
      "[[2.]]\n"
     ]
    }
   ],
   "source": [
    "# Answer\n",
    "def obj(Q, x):\n",
    "    return (1/2)*x.T@Q@x - np.sum(x)\n",
    "\n",
    "def sub_obj(Q, x, i, j, vali, valj):\n",
    "    x[i] = vali\n",
    "    x[j] = valj\n",
    "    return obj(Q, x)\n",
    "\n",
    "Q = np.array([[1, 0, 1], [0, 2, 1], [1, 1, 1]])\n",
    "x = np.array([1, 2, 1])[:, np.newaxis]\n",
    "print(sub_obj(Q, x, 0, 2, 0, 0))"
   ]
  },
  {
   "cell_type": "markdown",
   "metadata": {},
   "source": [
    ">**Question 2.**\n",
    "Choisir aléatoirement deux valeurs $i \\neq j$ dans $\\{1, \\dots, n\\}$ et afficher la courbe des valeurs $f(x')$ en fonction de $x_i'$ pour :\n",
    ">- $x'$ défini de sorte que $\\forall \\ell \\in \\{1, \\dots, n\\}\\backslash \\{i, j\\} : x_\\ell' = 0$ ;\n",
    ">- $x_i' \\in [0, 0.2]$ ;\n",
    ">- $y^\\top x' = 0$."
   ]
  },
  {
   "cell_type": "code",
   "execution_count": 67,
   "metadata": {
    "tags": []
   },
   "outputs": [
    {
     "data": {
      "image/png": "[encoded data removed]",
      "text/plain": [
       "<Figure size 432x288 with 1 Axes>"
      ]
     },
     "metadata": {},
     "output_type": "display_data"
    }
   ],
   "source": [
    "# Answer\n",
    "def plot_f_xi(i = 3, j = 5, n = 10):\n",
    "    x_is = np.linspace(0, 0.2, 100)\n",
    "    f_x = np.zeros_like(x_is)\n",
    "    for ind, x_i in enumerate(x_is):\n",
    "        x_j = (y[i] * x_i)/y[j]\n",
    "        x = np.zeros((n, 1))\n",
    "        x[i] = x_i\n",
    "        x[j] = x_j\n",
    "        f_x[ind] = sub_obj(Q, x, i, j, x_i, x_j)\n",
    "    plt.plot(x_is, f_x)\n",
    "plot_f_xi(i = 3, j = 5, n = 10)"
   ]
  },
  {
   "cell_type": "code",
   "execution_count": 65,
   "metadata": {},
   "outputs": [
    {
     "data": {
      "image/png": "[encoded data removed]",
      "text/plain": [
       "<Figure size 432x288 with 1 Axes>"
      ]
     },
     "metadata": {},
     "output_type": "display_data"
    }
   ],
   "source": [
    "plot_f_xi(i = 1, j = 2, n = 10)"
   ]
  },
  {
   "cell_type": "markdown",
   "metadata": {},
   "source": [
    ">**Question 3.**\n",
    "Soient $x \\in \\mathbb R^n$ un vecteur donné vérifiant $y^\\top x = 0$ et $i \\neq j$ dans $\\{1, \\dots, n\\}$.\n",
    "La solution du sous-problème d'optimisation consistant à minimiser $x' \\mapsto f(x')$ par rapport à $(x_i', x_j')$ sous les contraintes\n",
    "\\begin{cases}\n",
    "    \\forall \\ell \\in \\{1, \\dots, n\\}\\backslash \\{i, j\\} : x_\\ell' = x_\\ell \\\\\n",
    "    x_i' \\in [0, C] \\\\\n",
    "    x_j' \\in [0, C] \\\\\n",
    "    y^\\top x' = 0,\n",
    "\\end{cases}\n",
    "est décrite ci-dessous.\n",
    "\n",
    ">Soit $I = \\{1, \\dots, n\\}\\backslash \\{i, j\\}$.\n",
    "Pour un vecteur $v \\in \\mathbb R^n$ quelconque, notons alors $v_I = (v_i)_{i \\in I} \\in \\mathbb R^{n-2}$ le sous-vecteur des $n-2$ coordonnées décrites par $I$.\n",
    "Avec une convention similaire sur les matrices, définissons maintenant :\n",
    "\\begin{cases}\n",
    "    \\alpha = - y_j y_I ^\\top x_I \\\\\n",
    "    \\beta = -y_j y_i \\\\\n",
    "    c_i = Q_{I, i} \\in \\mathbb R^{n-2} \\\\\n",
    "    c_j = Q_{I, j} \\in \\mathbb R^{n-2} \\\\\n",
    "    a = Q_{i, i} \\\\\n",
    "    b = Q_{i, j} \\\\\n",
    "    c = Q_{j, j} \\\\\n",
    "    B = (0, -\\alpha \\beta, C, \\beta (C-\\alpha)) \\text{ et } \\sigma \\text{ la permutation telle que } B_{\\sigma(1)} \\leqslant B_{\\sigma(2)} \\leqslant B_{\\sigma(3)} \\leqslant B_{\\sigma(4)}.\n",
    "\\end{cases}\n",
    "\n",
    ">La solution $(x_i', x_j')$ du problème sus-mentionné est alors donnée par\n",
    "$$\n",
    "    x_i' = \\operatorname{proj}_{[B_{\\sigma(2)}, B_{\\sigma(3)}]} \\left( -\\frac{(c_i + \\beta c_j)^\\top x_I + (c\\beta + b)\\alpha - 1 - \\beta}{a + c + 2b\\beta} \\right)\n",
    "    \\qquad \\text{et} \\qquad\n",
    "    x_j' = \\alpha + \\beta x_i',\n",
    "$$\n",
    "où $\\operatorname{proj}_{[B_{\\sigma(2)}, B_{\\sigma(3)}]}(u) = \\max(B_{\\sigma(2)}, \\min(u, B_{\\sigma(3)}))$.\n",
    "\n",
    "\n",
    ">Implémenter ce calcul et le comparer au résultat de $(x_i', x_j')$ donné par `scipy` :"
   ]
  },
  {
   "cell_type": "code",
   "execution_count": 18,
   "metadata": {},
   "outputs": [
    {
     "name": "stdout",
     "output_type": "stream",
     "text": [
      "[0.1383413 0.1383413]\n"
     ]
    }
   ],
   "source": [
    "from scipy.optimize import minimize\n",
    "\n",
    "x = np.zeros(n)\n",
    "\n",
    "ind = [el for el in range(n) if el not in [i, j]]\n",
    "\n",
    "res = minimize(lambda val: sub_obj(Q, x, i, j, val[0], val[1]), x0=(0, 0),\n",
    "               constraints=[dict(type='ineq', fun=lambda u: u),\n",
    "                            dict(type='ineq', fun=lambda u: C-u),\n",
    "                            dict(type='eq', fun=lambda u: u@y[[i, j]]+x[ind]@y[ind])])\n",
    "print(res.x)"
   ]
  },
  {
   "cell_type": "code",
   "execution_count": null,
   "metadata": {
    "collapsed": true,
    "jupyter": {
     "outputs_hidden": true
    }
   },
   "outputs": [],
   "source": [
    "# Answer"
   ]
  },
  {
   "cell_type": "markdown",
   "metadata": {},
   "source": [
    ">**Question 4.**\n",
    "On souhaite maintenant résoudre le problème d'optimisation visant à minimiser $x \\mapsto f(x)$ par rapport à $x$ sous les contraintes\n",
    "\\begin{cases}\n",
    "    \\forall i \\in \\{1, \\dots, n\\} : x_i \\in [0, C] \\\\\n",
    "    y^\\top x = 0.\n",
    "\\end{cases}\n",
    "\n",
    ">Pour ce faire, définir une fonction `solve(Q, y, C, iter=1000)` réalisant l'itération suivante.\n",
    "\n",
    ">Répéter `iter` fois :\n",
    ">- choisir aléatoirement deux valeurs $i$ et $j$ dans $\\{1, \\dots, n\\}$ ;\n",
    ">- si $i \\neq j$ :\n",
    "    - résoudre le sous-problème d'optimisation consistant à minimiser $x' \\mapsto f(x')$ par rapport à $(x_i', x_j')$ sous les contraintes\n",
    "    \\begin{cases}\n",
    "        \\forall \\ell \\in \\{1, \\dots, n\\}\\backslash \\{i, j\\} : x_\\ell' = x_\\ell \\\\\n",
    "        x_i' \\in [0, C] \\\\\n",
    "        x_j' \\in [0, C] \\\\\n",
    "        y^\\top x' = 0 ;\n",
    "    \\end{cases}\n",
    "    - mettre à jour les coordonnées $x_i$ et $x_j$ respectivement par $x_i'$ et $x_j'$.\n",
    "\n",
    ">Comparer le résultat à celui donné par `scipy` :"
   ]
  },
  {
   "cell_type": "code",
   "execution_count": 20,
   "metadata": {},
   "outputs": [
    {
     "data": {
      "text/plain": [
       "array([3.40729655e-15, 4.74626767e-15, 1.68967600e+00, 2.45140178e-01,\n",
       "       5.35811333e-03, 2.02334592e+00, 2.99320835e+00, 1.77580379e+00,\n",
       "       2.10135181e+00, 2.09420834e+00])"
      ]
     },
     "execution_count": 20,
     "metadata": {},
     "output_type": "execute_result"
    }
   ],
   "source": [
    "res = minimize(lambda x: obj(Q, x), x0=np.zeros(n),\n",
    "               constraints=[dict(type='ineq', fun=lambda x: x),\n",
    "                            dict(type='ineq', fun=lambda x: C-x),\n",
    "                            dict(type='eq', fun=lambda x: x@y)])\n",
    "res.x"
   ]
  },
  {
   "cell_type": "code",
   "execution_count": null,
   "metadata": {
    "collapsed": true,
    "jupyter": {
     "outputs_hidden": true
    }
   },
   "outputs": [],
   "source": [
    "# Answer"
   ]
  },
  {
   "cell_type": "markdown",
   "metadata": {},
   "source": [
    ">**Question 5.**\n",
    "On se donne le problème de classification suivant.\n",
    "À l'aide des éléments ci-dessus, résoudre le problème dual des SVM linéaires pour la valeur donnée du paramètre $C$.\n",
    "\n",
    ">Déterminer les variables primales solutions (une inégalité stricte est numériquement valable à $10^{-9}$ près) et comparer l'ensemble des résultats obtenus à ceux donnés par `sklearn`."
   ]
  },
  {
   "cell_type": "code",
   "execution_count": 22,
   "metadata": {},
   "outputs": [
    {
     "data": {
      "image/png": "[encoded data removed]",
      "text/plain": [
       "<Figure size 432x288 with 1 Axes>"
      ]
     },
     "metadata": {},
     "output_type": "display_data"
    }
   ],
   "source": [
    "from sklearn.datasets import make_classification\n",
    "\n",
    "X, y = make_classification(n_samples=30, n_features=2, n_redundant=0)\n",
    "y = 2*y - 1  # +1/-1 labels\n",
    "\n",
    "plotXY(X, y)"
   ]
  },
  {
   "cell_type": "code",
   "execution_count": 23,
   "metadata": {},
   "outputs": [
    {
     "name": "stdout",
     "output_type": "stream",
     "text": [
      "Multiplicateurs de Lagrange : [0.10891676 0.         0.         4.55558442 0.         0.\n",
      " 5.         0.         0.         0.         0.         0.\n",
      " 0.         0.         0.         0.         0.         0.\n",
      " 5.         5.         0.         0.         0.         5.\n",
      " 0.         0.         0.         0.         0.         4.66450118]\n",
      "Paramètres de l'hyperplan : [[ 1.47659698 -0.68681461]] [-0.21403322]\n"
     ]
    }
   ],
   "source": [
    "from sklearn.svm import SVC\n",
    "\n",
    "svc = SVC(C=C, kernel='linear')\n",
    "svc.fit(X, y)\n",
    "\n",
    "dual_var = np.zeros(X.shape[0])\n",
    "dual_var[svc.support_] = svc.dual_coef_ * y[svc.support_]\n",
    "\n",
    "print(\"Multiplicateurs de Lagrange :\", dual_var)\n",
    "print(\"Paramètres de l'hyperplan :\", svc.coef_, svc.intercept_)"
   ]
  },
  {
   "cell_type": "code",
   "execution_count": null,
   "metadata": {
    "collapsed": true,
    "jupyter": {
     "outputs_hidden": true
    }
   },
   "outputs": [],
   "source": [
    "# Answer"
   ]
  },
  {
   "cell_type": "markdown",
   "metadata": {},
   "source": [
    ">**Question 6.**\n",
    "Compléter la classe suivante, permettant de résoudre le problème SVM linéaire et comparer les résultats produits avec ceux issus de `sklearn`."
   ]
  },
  {
   "cell_type": "code",
   "execution_count": null,
   "metadata": {
    "collapsed": true,
    "jupyter": {
     "outputs_hidden": true
    }
   },
   "outputs": [],
   "source": [
    "# Answer\n",
    "class SVM:\n",
    "    def __init__(self, C=1, n_iter=5000):\n",
    "        self.C = C\n",
    "        self.n_iter = n_iter\n",
    "        \n",
    "    def fit(self, X, y):\n",
    "        # To do\n",
    "\n",
    "        # End to do\n",
    "        \n",
    "    def decision_function(self, X):\n",
    "        # To do\n",
    "\n",
    "        # End to do\n",
    "        \n",
    "    def predict(self, X):\n",
    "        # To do\n",
    "\n",
    "        # End to do"
   ]
  },
  {
   "cell_type": "code",
   "execution_count": null,
   "metadata": {
    "collapsed": true,
    "jupyter": {
     "outputs_hidden": true
    }
   },
   "outputs": [],
   "source": [
    "# Answer"
   ]
  },
  {
   "cell_type": "markdown",
   "metadata": {},
   "source": [
    ">**Question 7.**\n",
    "Les conditions KKT sont-elles vérifiés pour les candidats retournés par votre implémentation SVM ?"
   ]
  },
  {
   "cell_type": "code",
   "execution_count": null,
   "metadata": {
    "collapsed": true,
    "jupyter": {
     "outputs_hidden": true
    }
   },
   "outputs": [],
   "source": [
    "# Answer"
   ]
  }
 ],
 "metadata": {
  "kernelspec": {
   "display_name": "Python 3",
   "language": "python",
   "name": "python3"
  },
  "language_info": {
   "codemirror_mode": {
    "name": "ipython",
    "version": 3
   },
   "file_extension": ".py",
   "mimetype": "text/x-python",
   "name": "python",
   "nbconvert_exporter": "python",
   "pygments_lexer": "ipython3",
   "version": "3.8.8"
  }
 },
 "nbformat": 4,
 "nbformat_minor": 4
}
