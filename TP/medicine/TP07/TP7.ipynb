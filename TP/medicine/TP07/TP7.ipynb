{
 "cells": [
  {
   "cell_type": "code",
   "execution_count": 58,
   "id": "0d544055",
   "metadata": {},
   "outputs": [],
   "source": [
    "import matplotlib.pyplot as plt\n",
    "import os\n",
    "\n",
    "import pandas\n",
    "import numpy as np\n",
    "import pyAgrum as gum\n",
    "import pyAgrum.lib.notebook as gnb\n",
    "import pyAgrum.lib.bn2graph as bnPlot\n",
    "import pyAgrum.lib.dynamicBN as gdyn"
   ]
  },
  {
   "cell_type": "markdown",
   "id": "23f6fd66",
   "metadata": {},
   "source": [
    "## Creating a network using PyAgrum"
   ]
  },
  {
   "cell_type": "markdown",
   "id": "03f49e82",
   "metadata": {},
   "source": [
    "### Create the empty BN network"
   ]
  },
  {
   "cell_type": "code",
   "execution_count": 39,
   "id": "e6fd2c2e",
   "metadata": {},
   "outputs": [
    {
     "name": "stdout",
     "output_type": "stream",
     "text": [
      "BN{nodes: 4, arcs: 4, domainSize: 16, dim: 18}\n"
     ]
    }
   ],
   "source": [
    "bn=gum.BayesNet('Diabetes Remission')\n",
    "G = bn.add(gum.LabelizedVariable('Glycemia','superior to 6.5 ?',2))\n",
    "I = bn.add(gum.LabelizedVariable('Insulin','Insulin taken ?',2))\n",
    "O = bn.add(gum.LabelizedVariable('Other_drugs','Other drugs taken ?',2))\n",
    "R = bn.add(gum.LabelizedVariable('Remission','Remission or not ?',2))\n",
    "for link in [(G, I),(G, O),(I, R), (O, R)]:\n",
    "    bn.addArc(*link)\n",
    "print(bn)"
   ]
  },
  {
   "cell_type": "markdown",
   "id": "069c102f",
   "metadata": {},
   "source": [
    "### Set the probability table"
   ]
  },
  {
   "cell_type": "markdown",
   "id": "a43677d5",
   "metadata": {},
   "source": [
    "In this TME 0 is yes and 1 is no"
   ]
  },
  {
   "cell_type": "code",
   "execution_count": 40,
   "id": "390e3808",
   "metadata": {},
   "outputs": [
    {
     "data": {
      "text/html": [
       "<table style=\"border:1px solid black;\">\n",
       "<tr><th colspan='2'></th>\n",
       "      <th colspan='2' style='border:1px solid black;color:black;background-color:#808080;'><center>Remission</center>\n",
       "      </th></tr>\n",
       "<tr><th style='border:1px solid black;color:black;background-color:#808080'><center>Other_drugs</center></th><th style='border:1px solid black;color:black;background-color:#808080'><center>Insulin</center></th><th style='border:1px solid black;border-bottom-style: double;color:black;background-color:#BBBBBB'>\n",
       "      <center>0</center></th><th style='border:1px solid black;border-bottom-style: double;color:black;background-color:#BBBBBB'>\n",
       "      <center>1</center></th></tr>\n",
       "<tr><th style='border:1px solid black;color:black;background-color:#BBBBBB;' rowspan = '2'>\n",
       "            <center>0</center></th><th style='border:1px solid black;color:black;background-color:#BBBBBB'><center>0</center></th><td style='color:black;background-color:#f28b64;text-align:right;'>0.1000</td><td style='color:black;background-color:#8bf264;text-align:right;'>0.9000</td></tr>\n",
       "<tr><th style='border:1px solid black;color:black;background-color:#BBBBBB'><center>1</center></th><td style='color:black;background-color:#b2cb64;text-align:right;'>0.6000</td><td style='color:black;background-color:#cbb264;text-align:right;'>0.4000</td></tr>\n",
       "<tr><th style='border:1px solid black;color:black;background-color:#BBBBBB;' rowspan = '2'>\n",
       "            <center>1</center></th><th style='border:1px solid black;color:black;background-color:#BBBBBB'><center>0</center></th><td style='color:black;background-color:#d8a564;text-align:right;'>0.3000</td><td style='color:black;background-color:#a5d864;text-align:right;'>0.7000</td></tr>\n",
       "<tr><th style='border:1px solid black;color:black;background-color:#BBBBBB'><center>1</center></th><td style='color:black;background-color:#8bf264;text-align:right;'>0.9000</td><td style='color:black;background-color:#f28b64;text-align:right;'>0.1000</td></tr>\n",
       "</table>"
      ],
      "text/plain": [
       "(pyAgrum.Potential<double>@0x600001527280) \n",
       "             ||  Remission        |\n",
       "Insuli|Other_||0        |1        |\n",
       "------|------||---------|---------|\n",
       "0     |0     || 0.1000  | 0.9000  |\n",
       "1     |0     || 0.6000  | 0.4000  |\n",
       "0     |1     || 0.3000  | 0.7000  |\n",
       "1     |1     || 0.9000  | 0.1000  |"
      ]
     },
     "execution_count": 40,
     "metadata": {},
     "output_type": "execute_result"
    }
   ],
   "source": [
    "bn.cpt(G).fillWith([0.5,0.5])\n",
    "bn.cpt(I)[:]=[ [0.9,0.1],[0.1,0.9]]\n",
    "bn.cpt(O)[:]=[ [0.75,0.25],[0.3,0.7]]\n",
    "bn.cpt(R)[{'Insulin': 0, 'Other_drugs': 0}] = [0.1, 0.9]\n",
    "bn.cpt(R)[{'Insulin': 1, 'Other_drugs': 0}] = [0.6, 0.4]\n",
    "bn.cpt(R)[{'Insulin': 0, 'Other_drugs': 1}] = [0.3, 0.7]\n",
    "bn.cpt(R)[{'Insulin': 1, 'Other_drugs': 1}] = [0.9, 0.1]\n",
    "bn.cpt(R)"
   ]
  },
  {
   "cell_type": "markdown",
   "id": "2d9ef9e8",
   "metadata": {},
   "source": [
    "### Show the graphe"
   ]
  },
  {
   "cell_type": "code",
   "execution_count": 41,
   "id": "5eda1e10",
   "metadata": {},
   "outputs": [
    {
     "data": {
      "text/html": [
       "<svg xmlns=\"http://www.w3.org/2000/svg\" xmlns:xlink=\"http://www.w3.org/1999/xlink\" width=\"206pt\" height=\"188pt\" viewBox=\"0.00 0.00 205.69 188.00\">\n",
       "<g id=\"graph0\" class=\"graph\" transform=\"scale(1 1) rotate(0) translate(4 184)\">\n",
       "<title>G</title>\n",
       "<!-- Insulin -->\n",
       "<g id=\"node1\" class=\"node\">\n",
       "<title>Insulin</title>\n",
       "<g id=\"a_node1\"><a xlink:title=\"(1) Insulin\">\n",
       "<ellipse fill=\"#404040\" stroke=\"black\" cx=\"35.1\" cy=\"-90\" rx=\"35.19\" ry=\"18\"/>\n",
       "<text text-anchor=\"middle\" x=\"35.1\" y=\"-86.3\" font-family=\"Times,serif\" font-size=\"14.00\" fill=\"white\">Insulin</text>\n",
       "</a>\n",
       "</g>\n",
       "</g>\n",
       "<!-- Remission -->\n",
       "<g id=\"node2\" class=\"node\">\n",
       "<title>Remission</title>\n",
       "<g id=\"a_node2\"><a xlink:title=\"(3) Remission\">\n",
       "<ellipse fill=\"#404040\" stroke=\"black\" cx=\"89.1\" cy=\"-18\" rx=\"48.19\" ry=\"18\"/>\n",
       "<text text-anchor=\"middle\" x=\"89.1\" y=\"-14.3\" font-family=\"Times,serif\" font-size=\"14.00\" fill=\"white\">Remission</text>\n",
       "</a>\n",
       "</g>\n",
       "</g>\n",
       "<!-- Insulin&#45;&gt;Remission -->\n",
       "<g id=\"edge4\" class=\"edge\">\n",
       "<title>Insulin-&gt;Remission</title>\n",
       "<g id=\"a_edge4\"><a xlink:title=\"(1, 3) : \">\n",
       "<path fill=\"none\" stroke=\"#4a4a4a\" d=\"M47.35,-73.12C53.99,-64.51 62.35,-53.67 69.84,-43.96\"/>\n",
       "<polygon fill=\"#4a4a4a\" stroke=\"#4a4a4a\" points=\"72.8,-45.85 76.14,-35.8 67.26,-41.58 72.8,-45.85\"/>\n",
       "</a>\n",
       "</g>\n",
       "</g>\n",
       "<!-- Other_drugs -->\n",
       "<g id=\"node3\" class=\"node\">\n",
       "<title>Other_drugs</title>\n",
       "<g id=\"a_node3\"><a xlink:title=\"(2) Other_drugs\">\n",
       "<ellipse fill=\"#404040\" stroke=\"black\" cx=\"143.1\" cy=\"-90\" rx=\"54.69\" ry=\"18\"/>\n",
       "<text text-anchor=\"middle\" x=\"143.1\" y=\"-86.3\" font-family=\"Times,serif\" font-size=\"14.00\" fill=\"white\">Other_drugs</text>\n",
       "</a>\n",
       "</g>\n",
       "</g>\n",
       "<!-- Other_drugs&#45;&gt;Remission -->\n",
       "<g id=\"edge3\" class=\"edge\">\n",
       "<title>Other_drugs-&gt;Remission</title>\n",
       "<g id=\"a_edge3\"><a xlink:title=\"(2, 3) : \">\n",
       "<path fill=\"none\" stroke=\"#4a4a4a\" d=\"M130.3,-72.41C123.64,-63.78 115.37,-53.06 107.99,-43.5\"/>\n",
       "<polygon fill=\"#4a4a4a\" stroke=\"#4a4a4a\" points=\"110.68,-41.25 101.8,-35.47 105.14,-45.53 110.68,-41.25\"/>\n",
       "</a>\n",
       "</g>\n",
       "</g>\n",
       "<!-- Glycemia -->\n",
       "<g id=\"node4\" class=\"node\">\n",
       "<title>Glycemia</title>\n",
       "<g id=\"a_node4\"><a xlink:title=\"(0) Glycemia\">\n",
       "<ellipse fill=\"#404040\" stroke=\"black\" cx=\"89.1\" cy=\"-162\" rx=\"45.49\" ry=\"18\"/>\n",
       "<text text-anchor=\"middle\" x=\"89.1\" y=\"-158.3\" font-family=\"Times,serif\" font-size=\"14.00\" fill=\"white\">Glycemia</text>\n",
       "</a>\n",
       "</g>\n",
       "</g>\n",
       "<!-- Glycemia&#45;&gt;Insulin -->\n",
       "<g id=\"edge1\" class=\"edge\">\n",
       "<title>Glycemia-&gt;Insulin</title>\n",
       "<g id=\"a_edge1\"><a xlink:title=\"(0, 1) : \">\n",
       "<path fill=\"none\" stroke=\"#4a4a4a\" d=\"M76.3,-144.41C69.55,-135.66 61.13,-124.75 53.67,-115.08\"/>\n",
       "<polygon fill=\"#4a4a4a\" stroke=\"#4a4a4a\" points=\"56.31,-112.77 47.43,-106.99 50.77,-117.04 56.31,-112.77\"/>\n",
       "</a>\n",
       "</g>\n",
       "</g>\n",
       "<!-- Glycemia&#45;&gt;Other_drugs -->\n",
       "<g id=\"edge2\" class=\"edge\">\n",
       "<title>Glycemia-&gt;Other_drugs</title>\n",
       "<g id=\"a_edge2\"><a xlink:title=\"(0, 2) : \">\n",
       "<path fill=\"none\" stroke=\"#4a4a4a\" d=\"M101.89,-144.41C108.46,-135.91 116.58,-125.37 123.88,-115.91\"/>\n",
       "<polygon fill=\"#4a4a4a\" stroke=\"#4a4a4a\" points=\"126.68,-118.01 130.02,-107.96 121.14,-113.74 126.68,-118.01\"/>\n",
       "</a>\n",
       "</g>\n",
       "</g>\n",
       "</g>\n",
       "</svg>"
      ],
      "text/plain": [
       "(pyAgrum.BayesNet<double>@0x7fae00564c00) BN{nodes: 4, arcs: 4, domainSize: 16, dim: 18}"
      ]
     },
     "execution_count": 41,
     "metadata": {},
     "output_type": "execute_result"
    }
   ],
   "source": [
    "bn"
   ]
  },
  {
   "cell_type": "markdown",
   "id": "f6110032",
   "metadata": {},
   "source": [
    "### Save BN net work"
   ]
  },
  {
   "cell_type": "code",
   "execution_count": 42,
   "id": "7de6827d",
   "metadata": {},
   "outputs": [
    {
     "name": "stdout",
     "output_type": "stream",
     "text": [
      "bif|dsl|net|bifxml|o3prm|uai\n",
      "network \"Diabetes Remission\" {\n",
      "// written by aGrUM 0.22.5\n",
      "}\n",
      "\n",
      "variable Glycemia {\n",
      "   type discrete[2] {0, 1};\n",
      "}\n",
      "\n",
      "variable Insulin {\n",
      "   type discrete[2] {0, 1};\n",
      "}\n",
      "\n",
      "variable Other_drugs {\n",
      "   type discrete[2] {0, 1};\n",
      "}\n",
      "\n",
      "variable Remission {\n",
      "   type discrete[2] {0, 1};\n",
      "}\n",
      "\n",
      "probability (Glycemia) {\n",
      "   default 0.5 0.5;\n",
      "}\n",
      "probability (Insulin | Glycemia) {\n",
      "   (0) 0.9 0.1;\n",
      "   (1) 0.1 0.9;\n",
      "}\n",
      "probability (Other_drugs | Glycemia) {\n",
      "   (0) 0.75 0.25;\n",
      "   (1) 0.3 0.7;\n",
      "}\n",
      "probability (Remission | Insulin, Other_drugs) {\n",
      "   (0, 0) 0.1 0.9;\n",
      "   (1, 0) 0.6 0.4;\n",
      "   (0, 1) 0.3 0.7;\n",
      "   (1, 1) 0.9 0.1;\n",
      "}\n",
      "\n",
      "\n"
     ]
    }
   ],
   "source": [
    "print(gum.availableBNExts())\n",
    "gum.saveBN(bn,\"Diabetes_Remission.bif\")\n",
    "with open(\"Diabetes_Remission.bif\",\"r\") as out:\n",
    "    print(out.read())"
   ]
  },
  {
   "cell_type": "markdown",
   "id": "3e1f4ce4",
   "metadata": {},
   "source": [
    "### Inference without evidence"
   ]
  },
  {
   "cell_type": "code",
   "execution_count": 15,
   "id": "3f932829",
   "metadata": {},
   "outputs": [
    {
     "name": "stdout",
     "output_type": "stream",
     "text": [
      "\n",
      "  Remission        |\n",
      "0        |1        |\n",
      "---------|---------|\n",
      " 0.4903  | 0.5097  |\n",
      "\n"
     ]
    }
   ],
   "source": [
    "ie=gum.LazyPropagation(bn)\n",
    "ie.makeInference()\n",
    "print (ie.posterior(\"Remission\"))"
   ]
  },
  {
   "cell_type": "markdown",
   "id": "b4717b10",
   "metadata": {},
   "source": [
    "### Inference with evidence"
   ]
  },
  {
   "cell_type": "markdown",
   "id": "2e5c10be",
   "metadata": {},
   "source": [
    "Q: What is the probability to get the remission if the\n",
    "glycemia level is less than 6.5 and no drugs are taken?"
   ]
  },
  {
   "cell_type": "code",
   "execution_count": 23,
   "id": "dacee764",
   "metadata": {},
   "outputs": [
    {
     "data": {
      "text/html": [
       "<table style=\"border:1px solid black;\">\n",
       "<tr style='border:1px solid black;color:black;background-color:#808080'>\n",
       "      <th colspan='2'><center>Remission</center></th></tr>\n",
       "<tr><th style='border:1px solid black;border-bottom-style: double;color:black;background-color:#BBBBBB'>\n",
       "      <center>0</center></th><th style='border:1px solid black;border-bottom-style: double;color:black;background-color:#BBBBBB'>\n",
       "      <center>1</center></th></tr>\n",
       "<tr><td style='color:black;background-color:#93ea64;text-align:right;'>0.8400</td><td style='color:black;background-color:#ea9364;text-align:right;'>0.1600</td></tr>\n",
       "</table>"
      ],
      "text/plain": [
       "(pyAgrum.Potential<double>@0x600001534da0) \n",
       "  Remission        |\n",
       "0        |1        |\n",
       "---------|---------|\n",
       " 0.8400  | 0.1600  |"
      ]
     },
     "execution_count": 23,
     "metadata": {},
     "output_type": "execute_result"
    }
   ],
   "source": [
    "ie.setEvidence({'Glycemia':1, 'Other_drugs': 1})\n",
    "ie.makeInference()\n",
    "ie.posterior(\"Remission\")"
   ]
  },
  {
   "cell_type": "markdown",
   "id": "03180cf9",
   "metadata": {},
   "source": [
    "A: In this case, the probability to get the remission is 0.84."
   ]
  },
  {
   "cell_type": "markdown",
   "id": "c22137b2",
   "metadata": {},
   "source": [
    "Q: What is the probability to get the remission if the glycemia level is bigger than 6.5 and\n",
    "insulin is prescribed?"
   ]
  },
  {
   "cell_type": "code",
   "execution_count": 24,
   "id": "b8620b08",
   "metadata": {},
   "outputs": [
    {
     "data": {
      "text/html": [
       "<table style=\"border:1px solid black;\">\n",
       "<tr style='border:1px solid black;color:black;background-color:#808080'>\n",
       "      <th colspan='2'><center>Remission</center></th></tr>\n",
       "<tr><th style='border:1px solid black;border-bottom-style: double;color:black;background-color:#BBBBBB'>\n",
       "      <center>0</center></th><th style='border:1px solid black;border-bottom-style: double;color:black;background-color:#BBBBBB'>\n",
       "      <center>1</center></th></tr>\n",
       "<tr><td style='color:black;background-color:#eb9264;text-align:right;'>0.1500</td><td style='color:black;background-color:#92eb64;text-align:right;'>0.8500</td></tr>\n",
       "</table>"
      ],
      "text/plain": [
       "(pyAgrum.Potential<double>@0x600001523320) \n",
       "  Remission        |\n",
       "0        |1        |\n",
       "---------|---------|\n",
       " 0.1500  | 0.8500  |"
      ]
     },
     "execution_count": 24,
     "metadata": {},
     "output_type": "execute_result"
    }
   ],
   "source": [
    "ie.setEvidence({'Glycemia':0, 'Insulin': 0})\n",
    "ie.makeInference()\n",
    "ie.posterior(\"Remission\")"
   ]
  },
  {
   "cell_type": "markdown",
   "id": "710e6eac",
   "metadata": {},
   "source": [
    "A: In this case, the probability to get remission is 0.15."
   ]
  },
  {
   "cell_type": "markdown",
   "id": "cc32c54b",
   "metadata": {},
   "source": [
    "## Construct Bayesian networks from real data"
   ]
  },
  {
   "cell_type": "code",
   "execution_count": 79,
   "id": "3668e98f",
   "metadata": {},
   "outputs": [],
   "source": [
    "import pandas as pd\n",
    "from pyAgrum.lib.image import export\n",
    "\n",
    "data_env = pd.read_csv('data/SPLEX_env.txt' , sep=' ')\n",
    "data_host = pd.read_csv('data/SPLEX_host.txt' , sep=' ')\n",
    "data_joint = pd.concat([data_env,data_host],axis=1)"
   ]
  },
  {
   "cell_type": "code",
   "execution_count": 94,
   "id": "2f29b47b",
   "metadata": {},
   "outputs": [],
   "source": [
    "def to_csv(data, file):\n",
    "    l=[]\n",
    "    for col in data.columns.values:\n",
    "        bins = np.linspace(min(data[col]), max(data[col]), 5)\n",
    "        l.append(pd.DataFrame(np.digitize(data[col], bins),columns=[col]))\n",
    "        \n",
    "    discr_data = pd.concat(l, join='outer', axis=1)\n",
    "    discr_data.to_csv(file,index=False)"
   ]
  },
  {
   "cell_type": "markdown",
   "id": "8afafcc7",
   "metadata": {},
   "source": [
    "### Env"
   ]
  },
  {
   "cell_type": "code",
   "execution_count": 100,
   "id": "530d80d3",
   "metadata": {},
   "outputs": [],
   "source": [
    "to_csv(data_env, \"data/discr_data_env.csv\")"
   ]
  },
  {
   "cell_type": "code",
   "execution_count": 101,
   "id": "ae5b0b57",
   "metadata": {},
   "outputs": [],
   "source": [
    "learner=gum.BNLearner(\"data/discr_data_env.csv\")\n",
    "learner.useLocalSearchWithTabuList()\n",
    "bn_l = learner.learnBN()\n",
    "export(bn_l,\"data/env_Local_search.pdf\")\n",
    "\n",
    "learner=gum.BNLearner(\"data/discr_data_env.csv\")\n",
    "learner.useGreedyHillClimbing()\n",
    "bn_G = learner.learnBN()\n",
    "export(bn_G,\"data/env_Hill_Climbing.pdf\")"
   ]
  },
  {
   "cell_type": "markdown",
   "id": "bd82f8f9",
   "metadata": {},
   "source": [
    "### Host"
   ]
  },
  {
   "cell_type": "code",
   "execution_count": 102,
   "id": "4e562d12",
   "metadata": {},
   "outputs": [],
   "source": [
    "to_csv(data_host, \"data/discr_data_host.csv\")"
   ]
  },
  {
   "cell_type": "code",
   "execution_count": 103,
   "id": "41331a55",
   "metadata": {},
   "outputs": [],
   "source": [
    "learner=gum.BNLearner(\"data/discr_data_host.csv\")\n",
    "learner.useLocalSearchWithTabuList()\n",
    "bn_l = learner.learnBN()\n",
    "export(bn_l,\"data/host_Local_search.pdf\")\n",
    "\n",
    "learner=gum.BNLearner(\"data/discr_data_host.csv\")\n",
    "learner.useGreedyHillClimbing()\n",
    "bn_G = learner.learnBN()\n",
    "export(bn_G,\"data/host_Hill_Climbing.pdf\")"
   ]
  },
  {
   "cell_type": "markdown",
   "id": "1c2919c1",
   "metadata": {},
   "source": [
    "### Joint"
   ]
  },
  {
   "cell_type": "code",
   "execution_count": 104,
   "id": "2cb8c9ad",
   "metadata": {},
   "outputs": [],
   "source": [
    "to_csv(data_host, \"data/discr_data_joint.csv\")"
   ]
  },
  {
   "cell_type": "code",
   "execution_count": 105,
   "id": "11153b35",
   "metadata": {},
   "outputs": [],
   "source": [
    "learner=gum.BNLearner(\"data/discr_data_joint.csv\")\n",
    "learner.useLocalSearchWithTabuList()\n",
    "bn_l = learner.learnBN()\n",
    "export(bn_l,\"data/joint_Local_search.pdf\")\n",
    "\n",
    "learner=gum.BNLearner(\"data/discr_data_joint.csv\")\n",
    "learner.useGreedyHillClimbing()\n",
    "bn_G = learner.learnBN()\n",
    "export(bn_G,\"data/joint_Hill_Climbing.pdf\")"
   ]
  },
  {
   "cell_type": "code",
   "execution_count": null,
   "id": "2093090d",
   "metadata": {},
   "outputs": [],
   "source": []
  }
 ],
 "metadata": {
  "kernelspec": {
   "display_name": "Python 3 (ipykernel)",
   "language": "python",
   "name": "python3"
  },
  "language_info": {
   "codemirror_mode": {
    "name": "ipython",
    "version": 3
   },
   "file_extension": ".py",
   "mimetype": "text/x-python",
   "name": "python",
   "nbconvert_exporter": "python",
   "pygments_lexer": "ipython3",
   "version": "3.9.7"
  }
 },
 "nbformat": 4,
 "nbformat_minor": 5
}
