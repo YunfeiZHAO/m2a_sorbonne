{
 "metadata": {
  "language_info": {
   "codemirror_mode": {
    "name": "ipython",
    "version": 3
   },
   "file_extension": ".py",
   "mimetype": "text/x-python",
   "name": "python",
   "nbconvert_exporter": "python",
   "pygments_lexer": "ipython3",
   "version": "3.8.12"
  },
  "orig_nbformat": 4,
  "kernelspec": {
   "name": "python3",
   "display_name": "Python 3.8.12 64-bit ('3.8': conda)"
  },
  "interpreter": {
   "hash": "807f53ec2c3eabe2dea5e74499e431519b82f739006da17a0c4c6f370ad2ade0"
  }
 },
 "nbformat": 4,
 "nbformat_minor": 2,
 "cells": [
  {
   "cell_type": "code",
   "execution_count": 10,
   "metadata": {},
   "outputs": [],
   "source": [
    "import matplotlib.pyplot as plt\n",
    "import os\n",
    "\n",
    "import pandas\n",
    "import numpy\n",
    "import pyAgrum as gum\n",
    "import pyAgrum.lib.notebook as gnb\n",
    "import pyAgrum.lib.bn2graph as bnPlot\n",
    "import pyAgrum.lib.dynamicBN as gdyn"
   ]
  },
  {
   "source": [
    "# Diabetes Remission Bayesian Networks"
   ],
   "cell_type": "markdown",
   "metadata": {}
  },
  {
   "cell_type": "code",
   "execution_count": 11,
   "metadata": {},
   "outputs": [
    {
     "output_type": "stream",
     "name": "stdout",
     "text": [
      "BN{nodes: 0, arcs: 0, domainSize: 1, dim: 0}\n"
     ]
    }
   ],
   "source": [
    "bn=gum.BayesNet('Diabetes Remission')\n",
    "print(bn)"
   ]
  },
  {
   "cell_type": "code",
   "execution_count": 12,
   "metadata": {},
   "outputs": [
    {
     "output_type": "stream",
     "name": "stdout",
     "text": [
      "BN{nodes: 4, arcs: 0, domainSize: 16, dim: 8}\n"
     ]
    }
   ],
   "source": [
    "G = bn.add(gum.LabelizedVariable('Glycemia','superior to 6.5 ?',2))\n",
    "I = bn.add(gum.LabelizedVariable('Insulin','Insulin taken ?',2))\n",
    "O = bn.add(gum.LabelizedVariable('Other_drugs','Other drugs taken ?',2))\n",
    "R = bn.add(gum.LabelizedVariable('Remission','Remission or not ?',2))\n",
    "print(bn)"
   ]
  },
  {
   "cell_type": "code",
   "execution_count": 13,
   "metadata": {},
   "outputs": [
    {
     "output_type": "stream",
     "name": "stdout",
     "text": [
      "BN{nodes: 4, arcs: 4, domainSize: 16, dim: 18}\n"
     ]
    }
   ],
   "source": [
    "for link in [(G, I),(G, O),(I, R), (O, R)]:\n",
    "    bn.addArc(*link)\n",
    "print(bn)"
   ]
  },
  {
   "cell_type": "code",
   "execution_count": 15,
   "metadata": {},
   "outputs": [
    {
     "output_type": "display_data",
     "data": {
      "text/plain": "<IPython.core.display.SVG object>",
      "image/svg+xml": "<svg xmlns=\"http://www.w3.org/2000/svg\" xmlns:xlink=\"http://www.w3.org/1999/xlink\" width=\"248pt\" height=\"188pt\" viewBox=\"0.00 0.00 248.14 188.00\">\n<g id=\"graph0\" class=\"graph\" transform=\"scale(1 1) rotate(0) translate(4 184)\">\n<title>G</title>\n<!-- Glycemia -->\n<g id=\"node1\" class=\"node\">\n<title>Glycemia</title>\n<g id=\"a_node1\"><a xlink:title=\"(0) Glycemia\">\n<ellipse fill=\"#404040\" stroke=\"black\" cx=\"106.25\" cy=\"-162\" rx=\"53.89\" ry=\"18\"/>\n<text text-anchor=\"middle\" x=\"106.25\" y=\"-158.3\" font-family=\"Times,serif\" font-size=\"14.00\" fill=\"white\">Glycemia</text>\n</a>\n</g>\n</g>\n<!-- Insulin -->\n<g id=\"node2\" class=\"node\">\n<title>Insulin</title>\n<g id=\"a_node2\"><a xlink:title=\"(1) Insulin\">\n<ellipse fill=\"#404040\" stroke=\"black\" cx=\"42.25\" cy=\"-90\" rx=\"42.49\" ry=\"18\"/>\n<text text-anchor=\"middle\" x=\"42.25\" y=\"-86.3\" font-family=\"Times,serif\" font-size=\"14.00\" fill=\"white\">Insulin</text>\n</a>\n</g>\n</g>\n<!-- Glycemia&#45;&gt;Insulin -->\n<g id=\"edge1\" class=\"edge\">\n<title>Glycemia-&gt;Insulin</title>\n<g id=\"a_edge1\"><a xlink:title=\"(0, 1) : \">\n<path fill=\"none\" stroke=\"#4a4a4a\" d=\"M91.08,-144.41C82.91,-135.48 72.7,-124.31 63.73,-114.5\"/>\n<polygon fill=\"#4a4a4a\" stroke=\"#4a4a4a\" points=\"66.19,-112.01 56.86,-106.99 61.03,-116.73 66.19,-112.01\"/>\n</a>\n</g>\n</g>\n<!-- Other_drugs -->\n<g id=\"node4\" class=\"node\">\n<title>Other_drugs</title>\n<g id=\"a_node4\"><a xlink:title=\"(2) Other_drugs\">\n<ellipse fill=\"#404040\" stroke=\"black\" cx=\"171.25\" cy=\"-90\" rx=\"68.79\" ry=\"18\"/>\n<text text-anchor=\"middle\" x=\"171.25\" y=\"-86.3\" font-family=\"Times,serif\" font-size=\"14.00\" fill=\"white\">Other_drugs</text>\n</a>\n</g>\n</g>\n<!-- Glycemia&#45;&gt;Other_drugs -->\n<g id=\"edge2\" class=\"edge\">\n<title>Glycemia-&gt;Other_drugs</title>\n<g id=\"a_edge2\"><a xlink:title=\"(0, 2) : \">\n<path fill=\"none\" stroke=\"#4a4a4a\" d=\"M121.65,-144.41C129.71,-135.73 139.72,-124.95 148.64,-115.34\"/>\n<polygon fill=\"#4a4a4a\" stroke=\"#4a4a4a\" points=\"151.26,-117.67 155.5,-107.96 146.13,-112.9 151.26,-117.67\"/>\n</a>\n</g>\n</g>\n<!-- Remission -->\n<g id=\"node3\" class=\"node\">\n<title>Remission</title>\n<g id=\"a_node3\"><a xlink:title=\"(3) Remission\">\n<ellipse fill=\"#404040\" stroke=\"black\" cx=\"106.25\" cy=\"-18\" rx=\"58.49\" ry=\"18\"/>\n<text text-anchor=\"middle\" x=\"106.25\" y=\"-14.3\" font-family=\"Times,serif\" font-size=\"14.00\" fill=\"white\">Remission</text>\n</a>\n</g>\n</g>\n<!-- Insulin&#45;&gt;Remission -->\n<g id=\"edge4\" class=\"edge\">\n<title>Insulin-&gt;Remission</title>\n<g id=\"a_edge4\"><a xlink:title=\"(1, 3) : \">\n<path fill=\"none\" stroke=\"#4a4a4a\" d=\"M57.09,-72.76C65.13,-63.97 75.23,-52.93 84.17,-43.14\"/>\n<polygon fill=\"#4a4a4a\" stroke=\"#4a4a4a\" points=\"86.87,-45.38 91.04,-35.63 81.71,-40.65 86.87,-45.38\"/>\n</a>\n</g>\n</g>\n<!-- Other_drugs&#45;&gt;Remission -->\n<g id=\"edge3\" class=\"edge\">\n<title>Other_drugs-&gt;Remission</title>\n<g id=\"a_edge3\"><a xlink:title=\"(2, 3) : \">\n<path fill=\"none\" stroke=\"#4a4a4a\" d=\"M155.84,-72.41C147.67,-63.61 137.47,-52.63 128.46,-42.92\"/>\n<polygon fill=\"#4a4a4a\" stroke=\"#4a4a4a\" points=\"130.91,-40.42 121.54,-35.47 125.78,-45.18 130.91,-40.42\"/>\n</a>\n</g>\n</g>\n</g>\n</svg>"
     },
     "metadata": {}
    }
   ],
   "source": [
    "gnb.show(bn)"
   ]
  },
  {
   "cell_type": "code",
   "execution_count": 9,
   "metadata": {},
   "outputs": [
    {
     "output_type": "stream",
     "name": "stdout",
     "text": [
      "BN{nodes: 4, arcs: 4, domainSize: 16, dim: 18}\n"
     ]
    }
   ],
   "source": [
    "print(bn)"
   ]
  },
  {
   "cell_type": "code",
   "execution_count": null,
   "metadata": {},
   "outputs": [],
   "source": []
  },
  {
   "cell_type": "code",
   "execution_count": null,
   "metadata": {},
   "outputs": [],
   "source": []
  }
 ]
}