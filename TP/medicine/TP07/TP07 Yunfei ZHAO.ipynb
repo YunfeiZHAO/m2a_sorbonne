{
 "cells": [
  {
   "cell_type": "code",
   "execution_count": 1,
   "metadata": {},
   "outputs": [],
   "source": [
    "import matplotlib.pyplot as plt\n",
    "import os\n",
    "\n",
    "import pandas as pd\n",
    "import numpy as np\n",
    "import pyAgrum as gum\n",
    "import pyAgrum.lib.notebook as gnb\n",
    "import pyAgrum.lib.bn2graph as bnPlot\n",
    "import pyAgrum.lib.dynamicBN as gdyn\n",
    "from pyAgrum.lib.image import export"
   ]
  },
  {
   "cell_type": "markdown",
   "metadata": {},
   "source": [
    "# Diabetes Remission Bayesian Networks"
   ]
  },
  {
   "cell_type": "markdown",
   "metadata": {},
   "source": [
    "## Create network"
   ]
  },
  {
   "cell_type": "code",
   "execution_count": 2,
   "metadata": {},
   "outputs": [
    {
     "name": "stdout",
     "output_type": "stream",
     "text": [
      "BN{nodes: 0, arcs: 0, domainSize: 1, dim: 0}\n"
     ]
    }
   ],
   "source": [
    "bn=gum.BayesNet('Diabetes Remission')\n",
    "print(bn)"
   ]
  },
  {
   "cell_type": "code",
   "execution_count": 3,
   "metadata": {},
   "outputs": [
    {
     "name": "stdout",
     "output_type": "stream",
     "text": [
      "BN{nodes: 4, arcs: 0, domainSize: 16, dim: 8}\n"
     ]
    }
   ],
   "source": [
    "G = bn.add(gum.LabelizedVariable('Glycemia','superior to 6.5 ?',2))\n",
    "I = bn.add(gum.LabelizedVariable('Insulin','Insulin taken ?',2))\n",
    "O = bn.add(gum.LabelizedVariable('Other_drugs','Other drugs taken ?',2))\n",
    "R = bn.add(gum.LabelizedVariable('Remission','Remission or not ?',2))\n",
    "print(bn)"
   ]
  },
  {
   "cell_type": "code",
   "execution_count": 4,
   "metadata": {},
   "outputs": [
    {
     "name": "stdout",
     "output_type": "stream",
     "text": [
      "BN{nodes: 4, arcs: 4, domainSize: 16, dim: 18}\n"
     ]
    }
   ],
   "source": [
    "for link in [(G, I),(G, O),(O, R),(I, R)]:\n",
    "    bn.addArc(*link)\n",
    "print(bn)"
   ]
  },
  {
   "cell_type": "code",
   "execution_count": 5,
   "metadata": {},
   "outputs": [
    {
     "data": {
      "image/svg+xml": "<svg xmlns=\"http://www.w3.org/2000/svg\" xmlns:xlink=\"http://www.w3.org/1999/xlink\" width=\"206pt\" height=\"188pt\" viewBox=\"0.00 0.00 205.69 188.00\">\n<g id=\"graph0\" class=\"graph\" transform=\"scale(1 1) rotate(0) translate(4 184)\">\n<title>G</title>\n<!-- Insulin -->\n<g id=\"node1\" class=\"node\">\n<title>Insulin</title>\n<g id=\"a_node1\"><a xlink:title=\"(1) Insulin\">\n<ellipse fill=\"#404040\" stroke=\"black\" cx=\"35.1\" cy=\"-90\" rx=\"35.19\" ry=\"18\"/>\n<text text-anchor=\"middle\" x=\"35.1\" y=\"-86.3\" font-family=\"Times,serif\" font-size=\"14.00\" fill=\"white\">Insulin</text>\n</a>\n</g>\n</g>\n<!-- Remission -->\n<g id=\"node2\" class=\"node\">\n<title>Remission</title>\n<g id=\"a_node2\"><a xlink:title=\"(3) Remission\">\n<ellipse fill=\"#404040\" stroke=\"black\" cx=\"89.1\" cy=\"-18\" rx=\"48.19\" ry=\"18\"/>\n<text text-anchor=\"middle\" x=\"89.1\" y=\"-14.3\" font-family=\"Times,serif\" font-size=\"14.00\" fill=\"white\">Remission</text>\n</a>\n</g>\n</g>\n<!-- Insulin&#45;&gt;Remission -->\n<g id=\"edge2\" class=\"edge\">\n<title>Insulin-&gt;Remission</title>\n<g id=\"a_edge2\"><a xlink:title=\"(1, 3) : \">\n<path fill=\"none\" stroke=\"#4a4a4a\" d=\"M47.35,-73.12C53.99,-64.51 62.35,-53.67 69.84,-43.96\"/>\n<polygon fill=\"#4a4a4a\" stroke=\"#4a4a4a\" points=\"72.8,-45.85 76.14,-35.8 67.26,-41.58 72.8,-45.85\"/>\n</a>\n</g>\n</g>\n<!-- Other_drugs -->\n<g id=\"node3\" class=\"node\">\n<title>Other_drugs</title>\n<g id=\"a_node3\"><a xlink:title=\"(2) Other_drugs\">\n<ellipse fill=\"#404040\" stroke=\"black\" cx=\"143.1\" cy=\"-90\" rx=\"54.69\" ry=\"18\"/>\n<text text-anchor=\"middle\" x=\"143.1\" y=\"-86.3\" font-family=\"Times,serif\" font-size=\"14.00\" fill=\"white\">Other_drugs</text>\n</a>\n</g>\n</g>\n<!-- Other_drugs&#45;&gt;Remission -->\n<g id=\"edge4\" class=\"edge\">\n<title>Other_drugs-&gt;Remission</title>\n<g id=\"a_edge4\"><a xlink:title=\"(2, 3) : \">\n<path fill=\"none\" stroke=\"#4a4a4a\" d=\"M130.3,-72.41C123.64,-63.78 115.37,-53.06 107.99,-43.5\"/>\n<polygon fill=\"#4a4a4a\" stroke=\"#4a4a4a\" points=\"110.68,-41.25 101.8,-35.47 105.14,-45.53 110.68,-41.25\"/>\n</a>\n</g>\n</g>\n<!-- Glycemia -->\n<g id=\"node4\" class=\"node\">\n<title>Glycemia</title>\n<g id=\"a_node4\"><a xlink:title=\"(0) Glycemia\">\n<ellipse fill=\"#404040\" stroke=\"black\" cx=\"89.1\" cy=\"-162\" rx=\"45.49\" ry=\"18\"/>\n<text text-anchor=\"middle\" x=\"89.1\" y=\"-158.3\" font-family=\"Times,serif\" font-size=\"14.00\" fill=\"white\">Glycemia</text>\n</a>\n</g>\n</g>\n<!-- Glycemia&#45;&gt;Insulin -->\n<g id=\"edge1\" class=\"edge\">\n<title>Glycemia-&gt;Insulin</title>\n<g id=\"a_edge1\"><a xlink:title=\"(0, 1) : \">\n<path fill=\"none\" stroke=\"#4a4a4a\" d=\"M76.3,-144.41C69.55,-135.66 61.13,-124.75 53.67,-115.08\"/>\n<polygon fill=\"#4a4a4a\" stroke=\"#4a4a4a\" points=\"56.31,-112.77 47.43,-106.99 50.77,-117.04 56.31,-112.77\"/>\n</a>\n</g>\n</g>\n<!-- Glycemia&#45;&gt;Other_drugs -->\n<g id=\"edge3\" class=\"edge\">\n<title>Glycemia-&gt;Other_drugs</title>\n<g id=\"a_edge3\"><a xlink:title=\"(0, 2) : \">\n<path fill=\"none\" stroke=\"#4a4a4a\" d=\"M101.89,-144.41C108.46,-135.91 116.58,-125.37 123.88,-115.91\"/>\n<polygon fill=\"#4a4a4a\" stroke=\"#4a4a4a\" points=\"126.68,-118.01 130.02,-107.96 121.14,-113.74 126.68,-118.01\"/>\n</a>\n</g>\n</g>\n</g>\n</svg>",
      "text/plain": [
       "<IPython.core.display.SVG object>"
      ]
     },
     "metadata": {},
     "output_type": "display_data"
    }
   ],
   "source": [
    "gnb.show(bn)"
   ]
  },
  {
   "cell_type": "code",
   "execution_count": 6,
   "metadata": {},
   "outputs": [
    {
     "name": "stdout",
     "output_type": "stream",
     "text": [
      "BN{nodes: 4, arcs: 4, domainSize: 16, dim: 18}\n"
     ]
    }
   ],
   "source": [
    "print(bn)"
   ]
  },
  {
   "cell_type": "code",
   "execution_count": 7,
   "metadata": {},
   "outputs": [
    {
     "name": "stdout",
     "output_type": "stream",
     "text": [
      "bif|dsl|net|bifxml|o3prm|uai\n",
      "network \"Diabetes Remission\" {\n",
      "// written by aGrUM 0.22.8\n",
      "}\n",
      "\n",
      "variable Glycemia {\n",
      "   type discrete[2] {0, 1};\n",
      "}\n",
      "\n",
      "variable Insulin {\n",
      "   type discrete[2] {0, 1};\n",
      "}\n",
      "\n",
      "variable Other_drugs {\n",
      "   type discrete[2] {0, 1};\n",
      "}\n",
      "\n",
      "variable Remission {\n",
      "   type discrete[2] {0, 1};\n",
      "}\n",
      "\n",
      "probability (Glycemia) {\n",
      "   default 0 0;\n",
      "}\n",
      "probability (Insulin | Glycemia) {\n",
      "   (0) 0 0;\n",
      "   (1) 0 0;\n",
      "}\n",
      "probability (Other_drugs | Glycemia) {\n",
      "   (0) 0 0;\n",
      "   (1) 0 0;\n",
      "}\n",
      "probability (Remission | Other_drugs, Insulin) {\n",
      "   (0, 0) 0 0;\n",
      "   (1, 0) 0 0;\n",
      "   (0, 1) 0 0;\n",
      "   (1, 1) 0 0;\n",
      "}\n",
      "\n",
      "\n"
     ]
    }
   ],
   "source": [
    "print(gum.availableBNExts())\n",
    "gum.saveBN(bn,\"Diabetes_Remission.bif\")\n",
    "with open(\"Diabetes_Remission.bif\",\"r\") as out:\n",
    "    print(out.read())"
   ]
  },
  {
   "cell_type": "markdown",
   "metadata": {},
   "source": [
    "##  Value initialisation"
   ]
  },
  {
   "cell_type": "code",
   "execution_count": 8,
   "metadata": {},
   "outputs": [],
   "source": [
    "bn.cpt(G).fillWith([0.5,0.5])\n",
    "bn.cpt('Insulin')[:] = [[0.9, 0.1], [0.1, 0.9]]\n",
    "bn.cpt('Other_drugs')[:] = [[0.75, 0.25], [0.3, 0.7]]\n",
    "bn.cpt('Remission')[0, 0, :] = [0.1, 0.9]\n",
    "bn.cpt('Remission')[{'Insulin': 1, 'Other_drugs': 0}] = [0.6, 0.4]\n",
    "bn.cpt('Remission')[{'Insulin': 0, 'Other_drugs': 1}] = [0.3, 0.7]\n",
    "bn.cpt('Remission')[{'Insulin': 1, 'Other_drugs': 1}] = [0.9, 0.1]"
   ]
  },
  {
   "cell_type": "code",
   "execution_count": 9,
   "metadata": {},
   "outputs": [
    {
     "data": {
      "text/html": [
       "<table style=\"border:1px solid black;\">\n",
       "<tr style='border:1px solid black;color:black;background-color:#808080'>\n",
       "      <th colspan='2'><center>Glycemia</center></th></tr>\n",
       "<tr><th style='border:1px solid black;border-bottom-style: double;color:black;background-color:#BBBBBB'>\n",
       "      <center>0</center></th><th style='border:1px solid black;border-bottom-style: double;color:black;background-color:#BBBBBB'>\n",
       "      <center>1</center></th></tr>\n",
       "<tr><td style='color:black;background-color:#bfbf64;text-align:right;'>0.5000</td><td style='color:black;background-color:#bfbf64;text-align:right;'>0.5000</td></tr>\n",
       "</table>"
      ],
      "text/plain": [
       "(pyAgrum.Potential<double>@0x55621071a970) \n",
       "  Glycemia         |\n",
       "0        |1        |\n",
       "---------|---------|\n",
       " 0.5000  | 0.5000  |"
      ]
     },
     "execution_count": 9,
     "metadata": {},
     "output_type": "execute_result"
    }
   ],
   "source": [
    "bn.cpt(G)"
   ]
  },
  {
   "cell_type": "code",
   "execution_count": 10,
   "metadata": {},
   "outputs": [
    {
     "data": {
      "text/html": [
       "<table style=\"border:1px solid black;\">\n",
       "<tr><th colspan='1'></th>\n",
       "      <th colspan='2' style='border:1px solid black;color:black;background-color:#808080;'><center>Insulin</center>\n",
       "      </th></tr>\n",
       "<tr><th style='border:1px solid black;color:black;background-color:#808080'><center>Glycemia</center></th><th style='border:1px solid black;border-bottom-style: double;color:black;background-color:#BBBBBB'>\n",
       "      <center>0</center></th><th style='border:1px solid black;border-bottom-style: double;color:black;background-color:#BBBBBB'>\n",
       "      <center>1</center></th></tr>\n",
       "<tr><th style='border:1px solid black;color:black;background-color:#BBBBBB'><center>0</center></th><td style='color:black;background-color:#8bf264;text-align:right;'>0.9000</td><td style='color:black;background-color:#f28b64;text-align:right;'>0.1000</td></tr>\n",
       "<tr><th style='border:1px solid black;color:black;background-color:#BBBBBB'><center>1</center></th><td style='color:black;background-color:#f28b64;text-align:right;'>0.1000</td><td style='color:black;background-color:#8bf264;text-align:right;'>0.9000</td></tr>\n",
       "</table>"
      ],
      "text/plain": [
       "(pyAgrum.Potential<double>@0x556210a1de60) \n",
       "      ||  Insulin          |\n",
       "Glycem||0        |1        |\n",
       "------||---------|---------|\n",
       "0     || 0.9000  | 0.1000  |\n",
       "1     || 0.1000  | 0.9000  |"
      ]
     },
     "execution_count": 10,
     "metadata": {},
     "output_type": "execute_result"
    }
   ],
   "source": [
    "bn.cpt('Insulin')"
   ]
  },
  {
   "cell_type": "code",
   "execution_count": 11,
   "metadata": {},
   "outputs": [
    {
     "data": {
      "text/html": [
       "<table style=\"border:1px solid black;\">\n",
       "<tr><th colspan='1'></th>\n",
       "      <th colspan='2' style='border:1px solid black;color:black;background-color:#808080;'><center>Other_drugs</center>\n",
       "      </th></tr>\n",
       "<tr><th style='border:1px solid black;color:black;background-color:#808080'><center>Glycemia</center></th><th style='border:1px solid black;border-bottom-style: double;color:black;background-color:#BBBBBB'>\n",
       "      <center>0</center></th><th style='border:1px solid black;border-bottom-style: double;color:black;background-color:#BBBBBB'>\n",
       "      <center>1</center></th></tr>\n",
       "<tr><th style='border:1px solid black;color:black;background-color:#BBBBBB'><center>0</center></th><td style='color:black;background-color:#9fdf64;text-align:right;'>0.7500</td><td style='color:black;background-color:#df9f64;text-align:right;'>0.2500</td></tr>\n",
       "<tr><th style='border:1px solid black;color:black;background-color:#BBBBBB'><center>1</center></th><td style='color:black;background-color:#d8a564;text-align:right;'>0.3000</td><td style='color:black;background-color:#a5d864;text-align:right;'>0.7000</td></tr>\n",
       "</table>"
      ],
      "text/plain": [
       "(pyAgrum.Potential<double>@0x556210e09270) \n",
       "      ||  Other_drugs      |\n",
       "Glycem||0        |1        |\n",
       "------||---------|---------|\n",
       "0     || 0.7500  | 0.2500  |\n",
       "1     || 0.3000  | 0.7000  |"
      ]
     },
     "execution_count": 11,
     "metadata": {},
     "output_type": "execute_result"
    }
   ],
   "source": [
    "bn.cpt('Other_drugs')"
   ]
  },
  {
   "cell_type": "code",
   "execution_count": 12,
   "metadata": {},
   "outputs": [
    {
     "data": {
      "text/html": [
       "<table style=\"border:1px solid black;\">\n",
       "<tr><th colspan='2'></th>\n",
       "      <th colspan='2' style='border:1px solid black;color:black;background-color:#808080;'><center>Remission</center>\n",
       "      </th></tr>\n",
       "<tr><th style='border:1px solid black;color:black;background-color:#808080'><center>Insulin</center></th><th style='border:1px solid black;color:black;background-color:#808080'><center>Other_drugs</center></th><th style='border:1px solid black;border-bottom-style: double;color:black;background-color:#BBBBBB'>\n",
       "      <center>0</center></th><th style='border:1px solid black;border-bottom-style: double;color:black;background-color:#BBBBBB'>\n",
       "      <center>1</center></th></tr>\n",
       "<tr><th style='border:1px solid black;color:black;background-color:#BBBBBB;' rowspan = '2'>\n",
       "            <center>0</center></th><th style='border:1px solid black;color:black;background-color:#BBBBBB'><center>0</center></th><td style='color:black;background-color:#f28b64;text-align:right;'>0.1000</td><td style='color:black;background-color:#8bf264;text-align:right;'>0.9000</td></tr>\n",
       "<tr><th style='border:1px solid black;color:black;background-color:#BBBBBB'><center>1</center></th><td style='color:black;background-color:#d8a564;text-align:right;'>0.3000</td><td style='color:black;background-color:#a5d864;text-align:right;'>0.7000</td></tr>\n",
       "<tr><th style='border:1px solid black;color:black;background-color:#BBBBBB;' rowspan = '2'>\n",
       "            <center>1</center></th><th style='border:1px solid black;color:black;background-color:#BBBBBB'><center>0</center></th><td style='color:black;background-color:#b2cb64;text-align:right;'>0.6000</td><td style='color:black;background-color:#cbb264;text-align:right;'>0.4000</td></tr>\n",
       "<tr><th style='border:1px solid black;color:black;background-color:#BBBBBB'><center>1</center></th><td style='color:black;background-color:#8bf264;text-align:right;'>0.9000</td><td style='color:black;background-color:#f28b64;text-align:right;'>0.1000</td></tr>\n",
       "</table>"
      ],
      "text/plain": [
       "(pyAgrum.Potential<double>@0x556211014cb0) \n",
       "             ||  Remission        |\n",
       "Other_|Insuli||0        |1        |\n",
       "------|------||---------|---------|\n",
       "0     |0     || 0.1000  | 0.9000  |\n",
       "1     |0     || 0.3000  | 0.7000  |\n",
       "0     |1     || 0.6000  | 0.4000  |\n",
       "1     |1     || 0.9000  | 0.1000  |"
      ]
     },
     "execution_count": 12,
     "metadata": {},
     "output_type": "execute_result"
    }
   ],
   "source": [
    "bn.cpt('Remission')"
   ]
  },
  {
   "cell_type": "markdown",
   "metadata": {},
   "source": [
    "## Perform inference"
   ]
  },
  {
   "cell_type": "code",
   "execution_count": 13,
   "metadata": {},
   "outputs": [],
   "source": [
    "ie=gum.LazyPropagation(bn)"
   ]
  },
  {
   "cell_type": "code",
   "execution_count": 14,
   "metadata": {},
   "outputs": [
    {
     "data": {
      "text/html": [
       "<table style=\"border:1px solid black;\">\n",
       "<tr style='border:1px solid black;color:black;background-color:#808080'>\n",
       "      <th colspan='2'><center>Remission</center></th></tr>\n",
       "<tr><th style='border:1px solid black;border-bottom-style: double;color:black;background-color:#BBBBBB'>\n",
       "      <center>0</center></th><th style='border:1px solid black;border-bottom-style: double;color:black;background-color:#BBBBBB'>\n",
       "      <center>1</center></th></tr>\n",
       "<tr><td style='color:black;background-color:#c1bc64;text-align:right;'>0.4778</td><td style='color:black;background-color:#bcc164;text-align:right;'>0.5223</td></tr>\n",
       "</table>"
      ],
      "text/plain": [
       "(pyAgrum.Potential<double>@0x556210d9b5d0) \n",
       "  Remission        |\n",
       "0        |1        |\n",
       "---------|---------|\n",
       " 0.4778  | 0.5223  |"
      ]
     },
     "execution_count": 14,
     "metadata": {},
     "output_type": "execute_result"
    }
   ],
   "source": [
    "ie.posterior('Remission')"
   ]
  },
  {
   "cell_type": "markdown",
   "metadata": {},
   "source": [
    "## Inference with evidence"
   ]
  },
  {
   "cell_type": "code",
   "execution_count": 15,
   "metadata": {},
   "outputs": [
    {
     "data": {
      "text/html": [
       "<table style=\"border:1px solid black;\">\n",
       "<tr style='border:1px solid black;color:black;background-color:#808080'>\n",
       "      <th colspan='2'><center>Remission</center></th></tr>\n",
       "<tr><th style='border:1px solid black;border-bottom-style: double;color:black;background-color:#BBBBBB'>\n",
       "      <center>0</center></th><th style='border:1px solid black;border-bottom-style: double;color:black;background-color:#BBBBBB'>\n",
       "      <center>1</center></th></tr>\n",
       "<tr><td style='color:black;background-color:#93ea64;text-align:right;'>0.8400</td><td style='color:black;background-color:#ea9364;text-align:right;'>0.1600</td></tr>\n",
       "</table>"
      ],
      "text/plain": [
       "(pyAgrum.Potential<double>@0x556210fb0420) \n",
       "  Remission        |\n",
       "0        |1        |\n",
       "---------|---------|\n",
       " 0.8400  | 0.1600  |"
      ]
     },
     "execution_count": 15,
     "metadata": {},
     "output_type": "execute_result"
    }
   ],
   "source": [
    "ie.setEvidence({'Glycemia': 1, 'Other_drugs': 1})\n",
    "ie.makeInference()\n",
    "ie.posterior(\"Remission\")"
   ]
  },
  {
   "cell_type": "code",
   "execution_count": 16,
   "metadata": {},
   "outputs": [
    {
     "data": {
      "text/html": [
       "<table style=\"border:1px solid black;\">\n",
       "<tr style='border:1px solid black;color:black;background-color:#808080'>\n",
       "      <th colspan='2'><center>Remission</center></th></tr>\n",
       "<tr><th style='border:1px solid black;border-bottom-style: double;color:black;background-color:#BBBBBB'>\n",
       "      <center>0</center></th><th style='border:1px solid black;border-bottom-style: double;color:black;background-color:#BBBBBB'>\n",
       "      <center>1</center></th></tr>\n",
       "<tr><td style='color:black;background-color:#eb9264;text-align:right;'>0.1500</td><td style='color:black;background-color:#92eb64;text-align:right;'>0.8500</td></tr>\n",
       "</table>"
      ],
      "text/plain": [
       "(pyAgrum.Potential<double>@0x556210c84430) \n",
       "  Remission        |\n",
       "0        |1        |\n",
       "---------|---------|\n",
       " 0.1500  | 0.8500  |"
      ]
     },
     "execution_count": 16,
     "metadata": {},
     "output_type": "execute_result"
    }
   ],
   "source": [
    "ie.setEvidence({'Glycemia': 0, 'Insulin': 0})\n",
    "ie.makeInference()\n",
    "ie.posterior(\"Remission\")"
   ]
  },
  {
   "cell_type": "markdown",
   "metadata": {},
   "source": [
    "It seems that \n",
    "\n",
    "if the glycemia level is less than 6.5 and no drugs are taken, the regmission is true with a probability of 0.84.\n",
    "\n",
    "if the glycemia level is bigger than 6.5 and insulin is prescribed the regmission is true with a probability of 0.15.\n"
   ]
  },
  {
   "cell_type": "code",
   "execution_count": 17,
   "metadata": {},
   "outputs": [
    {
     "data": {
      "image/svg+xml": "<svg xmlns=\"http://www.w3.org/2000/svg\" xmlns:xlink=\"http://www.w3.org/1999/xlink\" width=\"228pt\" height=\"226pt\" viewBox=\"0.00 0.00 228.00 226.00\">\n<g id=\"graph0\" class=\"graph\" transform=\"scale(1 1) rotate(0) translate(4 222)\">\n<title>structs</title>\n<text text-anchor=\"middle\" x=\"110\" y=\"-7.8\" font-family=\"Times,serif\" font-size=\"14.00\" fill=\"#4a4a4a\">Inference in   0.35ms</text>\n<!-- Glycemia -->\n<g id=\"node1\" class=\"node\">\n<title>Glycemia</title>\n<polygon fill=\"#e0e0e0\" stroke=\"#000000\" points=\"160,-218 59,-218 59,-177 160,-177 160,-218\"/>\n<svg viewBox=\"0 0 132.1625 52.998125\" width=\"101px\" height=\"41px\" preserveAspectRatio=\"xMinYMin meet\" x=\"59\" y=\"-218\"> <metadata>\n  <rdf:RDF xmlns:dc=\"http://purl.org/dc/elements/1.1/\" xmlns:cc=\"http://creativecommons.org/ns#\" xmlns:rdf=\"http://www.w3.org/1999/02/22-rdf-syntax-ns#\">\n   <cc:Work>\n    <dc:type rdf:resource=\"http://purl.org/dc/dcmitype/StillImage\"/>\n    <dc:date>2022-03-15T22:49:22.821019</dc:date>\n    <dc:format>image/svg+xml</dc:format>\n    <dc:creator>\n     <cc:Agent>\n      <dc:title>Matplotlib v3.5.0, https://matplotlib.org/</dc:title>\n     </cc:Agent>\n    </dc:creator>\n   </cc:Work>\n  </rdf:RDF>\n </metadata>\n <defs>\n  <style type=\"text/css\">*{stroke-linejoin: round; stroke-linecap: butt}</style>\n </defs>\n <g id=\"figure_1\">\n  <g id=\"patch_1\">\n   <path d=\"M 0 52.998125  L 132.1625 52.998125  L 132.1625 0  L 0 0  z \" style=\"fill: #e0e0e0\"/>\n  </g>\n  <g id=\"axes_1\">\n   <g id=\"patch_2\">\n    <path d=\"M 16.9625 45.898125  L 128.5625 45.898125  L 128.5625 18.718125  L 16.9625 18.718125  z \" style=\"fill: #ffffff\"/>\n   </g>\n   <g id=\"patch_3\">\n    <path d=\"M 16.9625 45.898125  L 72.7625 45.898125  L 72.7625 33.818125  L 16.9625 33.818125  z \" clip-path=\"url(#p43c1370019)\" style=\"fill: #8fbc8f\"/>\n   </g>\n   <g id=\"patch_4\">\n    <path d=\"M 16.9625 30.798125  L 72.7625 30.798125  L 72.7625 18.718125  L 16.9625 18.718125  z \" clip-path=\"url(#p43c1370019)\" style=\"fill: #8fbc8f\"/>\n   </g>\n   <g id=\"matplotlib.axis_1\">\n    <g id=\"xtick_1\">\n     <g id=\"line2d_1\">\n      <path d=\"M 16.9625 45.898125  L 16.9625 18.718125  \" clip-path=\"url(#p43c1370019)\" style=\"fill: none; stroke: #b0b0b0; stroke-width: 0.8; stroke-linecap: square\"/>\n     </g>\n     <g id=\"line2d_2\">\n      <defs>\n       <path id=\"mc3ed086115\" d=\"M 0 0  L 0 3.5  \" style=\"stroke: #000000; stroke-width: 0.8\"/>\n      </defs>\n      <g>\n       <use xlink:href=\"#mc3ed086115\" x=\"16.9625\" y=\"45.898125\" style=\"stroke: #000000; stroke-width: 0.8\"/>\n      </g>\n     </g>\n    </g>\n    <g id=\"xtick_2\">\n     <g id=\"line2d_3\">\n      <path d=\"M 72.7625 45.898125  L 72.7625 18.718125  \" clip-path=\"url(#p43c1370019)\" style=\"fill: none; stroke: #b0b0b0; stroke-width: 0.8; stroke-linecap: square\"/>\n     </g>\n     <g id=\"line2d_4\">\n      <g>\n       <use xlink:href=\"#mc3ed086115\" x=\"72.7625\" y=\"45.898125\" style=\"stroke: #000000; stroke-width: 0.8\"/>\n      </g>\n     </g>\n    </g>\n    <g id=\"xtick_3\">\n     <g id=\"line2d_5\">\n      <path d=\"M 128.5625 45.898125  L 128.5625 18.718125  \" clip-path=\"url(#p43c1370019)\" style=\"fill: none; stroke: #b0b0b0; stroke-width: 0.8; stroke-linecap: square\"/>\n     </g>\n     <g id=\"line2d_6\">\n      <g>\n       <use xlink:href=\"#mc3ed086115\" x=\"128.5625\" y=\"45.898125\" style=\"stroke: #000000; stroke-width: 0.8\"/>\n      </g>\n     </g>\n    </g>\n   </g>\n   <g id=\"matplotlib.axis_2\">\n    <g id=\"ytick_1\">\n     <g id=\"line2d_7\">\n      <defs>\n       <path id=\"m03f67c9e16\" d=\"M 0 0  L -3.5 0  \" style=\"stroke: #000000; stroke-width: 0.8\"/>\n      </defs>\n      <g>\n       <use xlink:href=\"#m03f67c9e16\" x=\"16.9625\" y=\"39.858125\" style=\"stroke: #000000; stroke-width: 0.8\"/>\n      </g>\n     </g>\n     <g id=\"text_1\">\n      <!-- 1 -->\n      <g transform=\"translate(3.6 43.657344)scale(0.1 -0.1)\">\n       <defs>\n        <path id=\"DejaVuSans-31\" d=\"M 794 531  L 1825 531  L 1825 4091  L 703 3866  L 703 4441  L 1819 4666  L 2450 4666  L 2450 531  L 3481 531  L 3481 0  L 794 0  L 794 531  z \" transform=\"scale(0.015625)\"/>\n       </defs>\n       <use xlink:href=\"#DejaVuSans-31\"/>\n      </g>\n     </g>\n    </g>\n    <g id=\"ytick_2\">\n     <g id=\"line2d_8\">\n      <g>\n       <use xlink:href=\"#m03f67c9e16\" x=\"16.9625\" y=\"24.758125\" style=\"stroke: #000000; stroke-width: 0.8\"/>\n      </g>\n     </g>\n     <g id=\"text_2\">\n      <!-- 0 -->\n      <g transform=\"translate(3.6 28.557344)scale(0.1 -0.1)\">\n       <defs>\n        <path id=\"DejaVuSans-30\" d=\"M 2034 4250  Q 1547 4250 1301 3770  Q 1056 3291 1056 2328  Q 1056 1369 1301 889  Q 1547 409 2034 409  Q 2525 409 2770 889  Q 3016 1369 3016 2328  Q 3016 3291 2770 3770  Q 2525 4250 2034 4250  z M 2034 4750  Q 2819 4750 3233 4129  Q 3647 3509 3647 2328  Q 3647 1150 3233 529  Q 2819 -91 2034 -91  Q 1250 -91 836 529  Q 422 1150 422 2328  Q 422 3509 836 4129  Q 1250 4750 2034 4750  z \" transform=\"scale(0.015625)\"/>\n       </defs>\n       <use xlink:href=\"#DejaVuSans-30\"/>\n      </g>\n     </g>\n    </g>\n   </g>\n   <g id=\"patch_5\">\n    <path d=\"M 16.9625 45.898125  L 16.9625 18.718125  \" style=\"fill: none; stroke: #000000; stroke-width: 0.8; stroke-linejoin: miter; stroke-linecap: square\"/>\n   </g>\n   <g id=\"patch_6\">\n    <path d=\"M 128.5625 45.898125  L 128.5625 18.718125  \" style=\"fill: none; stroke: #000000; stroke-width: 0.8; stroke-linejoin: miter; stroke-linecap: square\"/>\n   </g>\n   <g id=\"patch_7\">\n    <path d=\"M 16.9625 45.898125  L 128.5625 45.898125  \" style=\"fill: none; stroke: #000000; stroke-width: 0.8; stroke-linejoin: miter; stroke-linecap: square\"/>\n   </g>\n   <g id=\"patch_8\">\n    <path d=\"M 16.9625 18.718125  L 128.5625 18.718125  \" style=\"fill: none; stroke: #000000; stroke-width: 0.8; stroke-linejoin: miter; stroke-linecap: square\"/>\n   </g>\n   <g id=\"text_3\">\n    <!-- 50.00% -->\n    <g transform=\"translate(90.432812 43.818437)scale(0.1 -0.1)\">\n     <defs>\n      <path id=\"DejaVuSans-35\" d=\"M 691 4666  L 3169 4666  L 3169 4134  L 1269 4134  L 1269 2991  Q 1406 3038 1543 3061  Q 1681 3084 1819 3084  Q 2600 3084 3056 2656  Q 3513 2228 3513 1497  Q 3513 744 3044 326  Q 2575 -91 1722 -91  Q 1428 -91 1123 -41  Q 819 9 494 109  L 494 744  Q 775 591 1075 516  Q 1375 441 1709 441  Q 2250 441 2565 725  Q 2881 1009 2881 1497  Q 2881 1984 2565 2268  Q 2250 2553 1709 2553  Q 1456 2553 1204 2497  Q 953 2441 691 2322  L 691 4666  z \" transform=\"scale(0.015625)\"/>\n      <path id=\"DejaVuSans-2e\" d=\"M 684 794  L 1344 794  L 1344 0  L 684 0  L 684 794  z \" transform=\"scale(0.015625)\"/>\n      <path id=\"DejaVuSans-25\" d=\"M 4653 2053  Q 4381 2053 4226 1822  Q 4072 1591 4072 1178  Q 4072 772 4226 539  Q 4381 306 4653 306  Q 4919 306 5073 539  Q 5228 772 5228 1178  Q 5228 1588 5073 1820  Q 4919 2053 4653 2053  z M 4653 2450  Q 5147 2450 5437 2106  Q 5728 1763 5728 1178  Q 5728 594 5436 251  Q 5144 -91 4653 -91  Q 4153 -91 3862 251  Q 3572 594 3572 1178  Q 3572 1766 3864 2108  Q 4156 2450 4653 2450  z M 1428 4353  Q 1159 4353 1004 4120  Q 850 3888 850 3481  Q 850 3069 1003 2837  Q 1156 2606 1428 2606  Q 1700 2606 1854 2837  Q 2009 3069 2009 3481  Q 2009 3884 1853 4118  Q 1697 4353 1428 4353  z M 4250 4750  L 4750 4750  L 1831 -91  L 1331 -91  L 4250 4750  z M 1428 4750  Q 1922 4750 2215 4408  Q 2509 4066 2509 3481  Q 2509 2891 2217 2550  Q 1925 2209 1428 2209  Q 931 2209 642 2551  Q 353 2894 353 3481  Q 353 4063 643 4406  Q 934 4750 1428 4750  z \" transform=\"scale(0.015625)\"/>\n     </defs>\n     <use xlink:href=\"#DejaVuSans-35\"/>\n     <use xlink:href=\"#DejaVuSans-30\" x=\"63.623047\"/>\n     <use xlink:href=\"#DejaVuSans-2e\" x=\"127.246094\"/>\n     <use xlink:href=\"#DejaVuSans-30\" x=\"159.033203\"/>\n     <use xlink:href=\"#DejaVuSans-30\" x=\"222.65625\"/>\n     <use xlink:href=\"#DejaVuSans-25\" x=\"286.279297\"/>\n    </g>\n   </g>\n   <g id=\"text_4\">\n    <!-- 50.00% -->\n    <g transform=\"translate(90.432812 28.718437)scale(0.1 -0.1)\">\n     <use xlink:href=\"#DejaVuSans-35\"/>\n     <use xlink:href=\"#DejaVuSans-30\" x=\"63.623047\"/>\n     <use xlink:href=\"#DejaVuSans-2e\" x=\"127.246094\"/>\n     <use xlink:href=\"#DejaVuSans-30\" x=\"159.033203\"/>\n     <use xlink:href=\"#DejaVuSans-30\" x=\"222.65625\"/>\n     <use xlink:href=\"#DejaVuSans-25\" x=\"286.279297\"/>\n    </g>\n   </g>\n   <g id=\"text_5\">\n    <!-- Glycemia -->\n    <g transform=\"translate(44.71625 12.718125)scale(0.12 -0.12)\">\n     <defs>\n      <path id=\"DejaVuSans-47\" d=\"M 3809 666  L 3809 1919  L 2778 1919  L 2778 2438  L 4434 2438  L 4434 434  Q 4069 175 3628 42  Q 3188 -91 2688 -91  Q 1594 -91 976 548  Q 359 1188 359 2328  Q 359 3472 976 4111  Q 1594 4750 2688 4750  Q 3144 4750 3555 4637  Q 3966 4525 4313 4306  L 4313 3634  Q 3963 3931 3569 4081  Q 3175 4231 2741 4231  Q 1884 4231 1454 3753  Q 1025 3275 1025 2328  Q 1025 1384 1454 906  Q 1884 428 2741 428  Q 3075 428 3337 486  Q 3600 544 3809 666  z \" transform=\"scale(0.015625)\"/>\n      <path id=\"DejaVuSans-6c\" d=\"M 603 4863  L 1178 4863  L 1178 0  L 603 0  L 603 4863  z \" transform=\"scale(0.015625)\"/>\n      <path id=\"DejaVuSans-79\" d=\"M 2059 -325  Q 1816 -950 1584 -1140  Q 1353 -1331 966 -1331  L 506 -1331  L 506 -850  L 844 -850  Q 1081 -850 1212 -737  Q 1344 -625 1503 -206  L 1606 56  L 191 3500  L 800 3500  L 1894 763  L 2988 3500  L 3597 3500  L 2059 -325  z \" transform=\"scale(0.015625)\"/>\n      <path id=\"DejaVuSans-63\" d=\"M 3122 3366  L 3122 2828  Q 2878 2963 2633 3030  Q 2388 3097 2138 3097  Q 1578 3097 1268 2742  Q 959 2388 959 1747  Q 959 1106 1268 751  Q 1578 397 2138 397  Q 2388 397 2633 464  Q 2878 531 3122 666  L 3122 134  Q 2881 22 2623 -34  Q 2366 -91 2075 -91  Q 1284 -91 818 406  Q 353 903 353 1747  Q 353 2603 823 3093  Q 1294 3584 2113 3584  Q 2378 3584 2631 3529  Q 2884 3475 3122 3366  z \" transform=\"scale(0.015625)\"/>\n      <path id=\"DejaVuSans-65\" d=\"M 3597 1894  L 3597 1613  L 953 1613  Q 991 1019 1311 708  Q 1631 397 2203 397  Q 2534 397 2845 478  Q 3156 559 3463 722  L 3463 178  Q 3153 47 2828 -22  Q 2503 -91 2169 -91  Q 1331 -91 842 396  Q 353 884 353 1716  Q 353 2575 817 3079  Q 1281 3584 2069 3584  Q 2775 3584 3186 3129  Q 3597 2675 3597 1894  z M 3022 2063  Q 3016 2534 2758 2815  Q 2500 3097 2075 3097  Q 1594 3097 1305 2825  Q 1016 2553 972 2059  L 3022 2063  z \" transform=\"scale(0.015625)\"/>\n      <path id=\"DejaVuSans-6d\" d=\"M 3328 2828  Q 3544 3216 3844 3400  Q 4144 3584 4550 3584  Q 5097 3584 5394 3201  Q 5691 2819 5691 2113  L 5691 0  L 5113 0  L 5113 2094  Q 5113 2597 4934 2840  Q 4756 3084 4391 3084  Q 3944 3084 3684 2787  Q 3425 2491 3425 1978  L 3425 0  L 2847 0  L 2847 2094  Q 2847 2600 2669 2842  Q 2491 3084 2119 3084  Q 1678 3084 1418 2786  Q 1159 2488 1159 1978  L 1159 0  L 581 0  L 581 3500  L 1159 3500  L 1159 2956  Q 1356 3278 1631 3431  Q 1906 3584 2284 3584  Q 2666 3584 2933 3390  Q 3200 3197 3328 2828  z \" transform=\"scale(0.015625)\"/>\n      <path id=\"DejaVuSans-69\" d=\"M 603 3500  L 1178 3500  L 1178 0  L 603 0  L 603 3500  z M 603 4863  L 1178 4863  L 1178 4134  L 603 4134  L 603 4863  z \" transform=\"scale(0.015625)\"/>\n      <path id=\"DejaVuSans-61\" d=\"M 2194 1759  Q 1497 1759 1228 1600  Q 959 1441 959 1056  Q 959 750 1161 570  Q 1363 391 1709 391  Q 2188 391 2477 730  Q 2766 1069 2766 1631  L 2766 1759  L 2194 1759  z M 3341 1997  L 3341 0  L 2766 0  L 2766 531  Q 2569 213 2275 61  Q 1981 -91 1556 -91  Q 1019 -91 701 211  Q 384 513 384 1019  Q 384 1609 779 1909  Q 1175 2209 1959 2209  L 2766 2209  L 2766 2266  Q 2766 2663 2505 2880  Q 2244 3097 1772 3097  Q 1472 3097 1187 3025  Q 903 2953 641 2809  L 641 3341  Q 956 3463 1253 3523  Q 1550 3584 1831 3584  Q 2591 3584 2966 3190  Q 3341 2797 3341 1997  z \" transform=\"scale(0.015625)\"/>\n     </defs>\n     <use xlink:href=\"#DejaVuSans-47\"/>\n     <use xlink:href=\"#DejaVuSans-6c\" x=\"77.490234\"/>\n     <use xlink:href=\"#DejaVuSans-79\" x=\"105.273438\"/>\n     <use xlink:href=\"#DejaVuSans-63\" x=\"164.453125\"/>\n     <use xlink:href=\"#DejaVuSans-65\" x=\"219.433594\"/>\n     <use xlink:href=\"#DejaVuSans-6d\" x=\"280.957031\"/>\n     <use xlink:href=\"#DejaVuSans-69\" x=\"378.369141\"/>\n     <use xlink:href=\"#DejaVuSans-61\" x=\"406.152344\"/>\n    </g>\n   </g>\n  </g>\n </g>\n <defs>\n  <clipPath id=\"p43c1370019\">\n   <rect x=\"16.9625\" y=\"18.718125\" width=\"111.6\" height=\"27.18\"/>\n  </clipPath>\n </defs>\n</svg>\n\n</g>\n<!-- Insulin -->\n<g id=\"node2\" class=\"node\">\n<title>Insulin</title>\n<polygon fill=\"#e0e0e0\" stroke=\"#000000\" points=\"101,-141 0,-141 0,-100 101,-100 101,-141\"/>\n<svg viewBox=\"0 0 132.1625 52.998125\" width=\"101px\" height=\"41px\" preserveAspectRatio=\"xMinYMin meet\" x=\"0\" y=\"-141\"> <metadata>\n  <rdf:RDF xmlns:dc=\"http://purl.org/dc/elements/1.1/\" xmlns:cc=\"http://creativecommons.org/ns#\" xmlns:rdf=\"http://www.w3.org/1999/02/22-rdf-syntax-ns#\">\n   <cc:Work>\n    <dc:type rdf:resource=\"http://purl.org/dc/dcmitype/StillImage\"/>\n    <dc:date>2022-03-15T22:49:22.868622</dc:date>\n    <dc:format>image/svg+xml</dc:format>\n    <dc:creator>\n     <cc:Agent>\n      <dc:title>Matplotlib v3.5.0, https://matplotlib.org/</dc:title>\n     </cc:Agent>\n    </dc:creator>\n   </cc:Work>\n  </rdf:RDF>\n </metadata>\n <defs>\n  <style type=\"text/css\">*{stroke-linejoin: round; stroke-linecap: butt}</style>\n </defs>\n <g id=\"figure_1\">\n  <g id=\"patch_1\">\n   <path d=\"M 0 52.998125  L 132.1625 52.998125  L 132.1625 0  L 0 0  z \" style=\"fill: #e0e0e0\"/>\n  </g>\n  <g id=\"axes_1\">\n   <g id=\"patch_2\">\n    <path d=\"M 16.9625 45.898125  L 128.5625 45.898125  L 128.5625 18.718125  L 16.9625 18.718125  z \" style=\"fill: #ffffff\"/>\n   </g>\n   <g id=\"patch_3\">\n    <path d=\"M 16.9625 45.898125  L 72.7625 45.898125  L 72.7625 33.818125  L 16.9625 33.818125  z \" clip-path=\"url(#p9a1af6c840)\" style=\"fill: #8fbc8f\"/>\n   </g>\n   <g id=\"patch_4\">\n    <path d=\"M 16.9625 30.798125  L 72.7625 30.798125  L 72.7625 18.718125  L 16.9625 18.718125  z \" clip-path=\"url(#p9a1af6c840)\" style=\"fill: #8fbc8f\"/>\n   </g>\n   <g id=\"matplotlib.axis_1\">\n    <g id=\"xtick_1\">\n     <g id=\"line2d_1\">\n      <path d=\"M 16.9625 45.898125  L 16.9625 18.718125  \" clip-path=\"url(#p9a1af6c840)\" style=\"fill: none; stroke: #b0b0b0; stroke-width: 0.8; stroke-linecap: square\"/>\n     </g>\n     <g id=\"line2d_2\">\n      <defs>\n       <path id=\"m77f926f826\" d=\"M 0 0  L 0 3.5  \" style=\"stroke: #000000; stroke-width: 0.8\"/>\n      </defs>\n      <g>\n       <use xlink:href=\"#m77f926f826\" x=\"16.9625\" y=\"45.898125\" style=\"stroke: #000000; stroke-width: 0.8\"/>\n      </g>\n     </g>\n    </g>\n    <g id=\"xtick_2\">\n     <g id=\"line2d_3\">\n      <path d=\"M 72.7625 45.898125  L 72.7625 18.718125  \" clip-path=\"url(#p9a1af6c840)\" style=\"fill: none; stroke: #b0b0b0; stroke-width: 0.8; stroke-linecap: square\"/>\n     </g>\n     <g id=\"line2d_4\">\n      <g>\n       <use xlink:href=\"#m77f926f826\" x=\"72.7625\" y=\"45.898125\" style=\"stroke: #000000; stroke-width: 0.8\"/>\n      </g>\n     </g>\n    </g>\n    <g id=\"xtick_3\">\n     <g id=\"line2d_5\">\n      <path d=\"M 128.5625 45.898125  L 128.5625 18.718125  \" clip-path=\"url(#p9a1af6c840)\" style=\"fill: none; stroke: #b0b0b0; stroke-width: 0.8; stroke-linecap: square\"/>\n     </g>\n     <g id=\"line2d_6\">\n      <g>\n       <use xlink:href=\"#m77f926f826\" x=\"128.5625\" y=\"45.898125\" style=\"stroke: #000000; stroke-width: 0.8\"/>\n      </g>\n     </g>\n    </g>\n   </g>\n   <g id=\"matplotlib.axis_2\">\n    <g id=\"ytick_1\">\n     <g id=\"line2d_7\">\n      <defs>\n       <path id=\"md74bd922ed\" d=\"M 0 0  L -3.5 0  \" style=\"stroke: #000000; stroke-width: 0.8\"/>\n      </defs>\n      <g>\n       <use xlink:href=\"#md74bd922ed\" x=\"16.9625\" y=\"39.858125\" style=\"stroke: #000000; stroke-width: 0.8\"/>\n      </g>\n     </g>\n     <g id=\"text_1\">\n      <!-- 1 -->\n      <g transform=\"translate(3.6 43.657344)scale(0.1 -0.1)\">\n       <defs>\n        <path id=\"DejaVuSans-31\" d=\"M 794 531  L 1825 531  L 1825 4091  L 703 3866  L 703 4441  L 1819 4666  L 2450 4666  L 2450 531  L 3481 531  L 3481 0  L 794 0  L 794 531  z \" transform=\"scale(0.015625)\"/>\n       </defs>\n       <use xlink:href=\"#DejaVuSans-31\"/>\n      </g>\n     </g>\n    </g>\n    <g id=\"ytick_2\">\n     <g id=\"line2d_8\">\n      <g>\n       <use xlink:href=\"#md74bd922ed\" x=\"16.9625\" y=\"24.758125\" style=\"stroke: #000000; stroke-width: 0.8\"/>\n      </g>\n     </g>\n     <g id=\"text_2\">\n      <!-- 0 -->\n      <g transform=\"translate(3.6 28.557344)scale(0.1 -0.1)\">\n       <defs>\n        <path id=\"DejaVuSans-30\" d=\"M 2034 4250  Q 1547 4250 1301 3770  Q 1056 3291 1056 2328  Q 1056 1369 1301 889  Q 1547 409 2034 409  Q 2525 409 2770 889  Q 3016 1369 3016 2328  Q 3016 3291 2770 3770  Q 2525 4250 2034 4250  z M 2034 4750  Q 2819 4750 3233 4129  Q 3647 3509 3647 2328  Q 3647 1150 3233 529  Q 2819 -91 2034 -91  Q 1250 -91 836 529  Q 422 1150 422 2328  Q 422 3509 836 4129  Q 1250 4750 2034 4750  z \" transform=\"scale(0.015625)\"/>\n       </defs>\n       <use xlink:href=\"#DejaVuSans-30\"/>\n      </g>\n     </g>\n    </g>\n   </g>\n   <g id=\"patch_5\">\n    <path d=\"M 16.9625 45.898125  L 16.9625 18.718125  \" style=\"fill: none; stroke: #000000; stroke-width: 0.8; stroke-linejoin: miter; stroke-linecap: square\"/>\n   </g>\n   <g id=\"patch_6\">\n    <path d=\"M 128.5625 45.898125  L 128.5625 18.718125  \" style=\"fill: none; stroke: #000000; stroke-width: 0.8; stroke-linejoin: miter; stroke-linecap: square\"/>\n   </g>\n   <g id=\"patch_7\">\n    <path d=\"M 16.9625 45.898125  L 128.5625 45.898125  \" style=\"fill: none; stroke: #000000; stroke-width: 0.8; stroke-linejoin: miter; stroke-linecap: square\"/>\n   </g>\n   <g id=\"patch_8\">\n    <path d=\"M 16.9625 18.718125  L 128.5625 18.718125  \" style=\"fill: none; stroke: #000000; stroke-width: 0.8; stroke-linejoin: miter; stroke-linecap: square\"/>\n   </g>\n   <g id=\"text_3\">\n    <!-- 50.00% -->\n    <g transform=\"translate(90.432812 43.818437)scale(0.1 -0.1)\">\n     <defs>\n      <path id=\"DejaVuSans-35\" d=\"M 691 4666  L 3169 4666  L 3169 4134  L 1269 4134  L 1269 2991  Q 1406 3038 1543 3061  Q 1681 3084 1819 3084  Q 2600 3084 3056 2656  Q 3513 2228 3513 1497  Q 3513 744 3044 326  Q 2575 -91 1722 -91  Q 1428 -91 1123 -41  Q 819 9 494 109  L 494 744  Q 775 591 1075 516  Q 1375 441 1709 441  Q 2250 441 2565 725  Q 2881 1009 2881 1497  Q 2881 1984 2565 2268  Q 2250 2553 1709 2553  Q 1456 2553 1204 2497  Q 953 2441 691 2322  L 691 4666  z \" transform=\"scale(0.015625)\"/>\n      <path id=\"DejaVuSans-2e\" d=\"M 684 794  L 1344 794  L 1344 0  L 684 0  L 684 794  z \" transform=\"scale(0.015625)\"/>\n      <path id=\"DejaVuSans-25\" d=\"M 4653 2053  Q 4381 2053 4226 1822  Q 4072 1591 4072 1178  Q 4072 772 4226 539  Q 4381 306 4653 306  Q 4919 306 5073 539  Q 5228 772 5228 1178  Q 5228 1588 5073 1820  Q 4919 2053 4653 2053  z M 4653 2450  Q 5147 2450 5437 2106  Q 5728 1763 5728 1178  Q 5728 594 5436 251  Q 5144 -91 4653 -91  Q 4153 -91 3862 251  Q 3572 594 3572 1178  Q 3572 1766 3864 2108  Q 4156 2450 4653 2450  z M 1428 4353  Q 1159 4353 1004 4120  Q 850 3888 850 3481  Q 850 3069 1003 2837  Q 1156 2606 1428 2606  Q 1700 2606 1854 2837  Q 2009 3069 2009 3481  Q 2009 3884 1853 4118  Q 1697 4353 1428 4353  z M 4250 4750  L 4750 4750  L 1831 -91  L 1331 -91  L 4250 4750  z M 1428 4750  Q 1922 4750 2215 4408  Q 2509 4066 2509 3481  Q 2509 2891 2217 2550  Q 1925 2209 1428 2209  Q 931 2209 642 2551  Q 353 2894 353 3481  Q 353 4063 643 4406  Q 934 4750 1428 4750  z \" transform=\"scale(0.015625)\"/>\n     </defs>\n     <use xlink:href=\"#DejaVuSans-35\"/>\n     <use xlink:href=\"#DejaVuSans-30\" x=\"63.623047\"/>\n     <use xlink:href=\"#DejaVuSans-2e\" x=\"127.246094\"/>\n     <use xlink:href=\"#DejaVuSans-30\" x=\"159.033203\"/>\n     <use xlink:href=\"#DejaVuSans-30\" x=\"222.65625\"/>\n     <use xlink:href=\"#DejaVuSans-25\" x=\"286.279297\"/>\n    </g>\n   </g>\n   <g id=\"text_4\">\n    <!-- 50.00% -->\n    <g transform=\"translate(90.432812 28.718437)scale(0.1 -0.1)\">\n     <use xlink:href=\"#DejaVuSans-35\"/>\n     <use xlink:href=\"#DejaVuSans-30\" x=\"63.623047\"/>\n     <use xlink:href=\"#DejaVuSans-2e\" x=\"127.246094\"/>\n     <use xlink:href=\"#DejaVuSans-30\" x=\"159.033203\"/>\n     <use xlink:href=\"#DejaVuSans-30\" x=\"222.65625\"/>\n     <use xlink:href=\"#DejaVuSans-25\" x=\"286.279297\"/>\n    </g>\n   </g>\n   <g id=\"text_5\">\n    <!-- Insulin -->\n    <g transform=\"translate(53.125625 12.718125)scale(0.12 -0.12)\">\n     <defs>\n      <path id=\"DejaVuSans-49\" d=\"M 628 4666  L 1259 4666  L 1259 0  L 628 0  L 628 4666  z \" transform=\"scale(0.015625)\"/>\n      <path id=\"DejaVuSans-6e\" d=\"M 3513 2113  L 3513 0  L 2938 0  L 2938 2094  Q 2938 2591 2744 2837  Q 2550 3084 2163 3084  Q 1697 3084 1428 2787  Q 1159 2491 1159 1978  L 1159 0  L 581 0  L 581 3500  L 1159 3500  L 1159 2956  Q 1366 3272 1645 3428  Q 1925 3584 2291 3584  Q 2894 3584 3203 3211  Q 3513 2838 3513 2113  z \" transform=\"scale(0.015625)\"/>\n      <path id=\"DejaVuSans-73\" d=\"M 2834 3397  L 2834 2853  Q 2591 2978 2328 3040  Q 2066 3103 1784 3103  Q 1356 3103 1142 2972  Q 928 2841 928 2578  Q 928 2378 1081 2264  Q 1234 2150 1697 2047  L 1894 2003  Q 2506 1872 2764 1633  Q 3022 1394 3022 966  Q 3022 478 2636 193  Q 2250 -91 1575 -91  Q 1294 -91 989 -36  Q 684 19 347 128  L 347 722  Q 666 556 975 473  Q 1284 391 1588 391  Q 1994 391 2212 530  Q 2431 669 2431 922  Q 2431 1156 2273 1281  Q 2116 1406 1581 1522  L 1381 1569  Q 847 1681 609 1914  Q 372 2147 372 2553  Q 372 3047 722 3315  Q 1072 3584 1716 3584  Q 2034 3584 2315 3537  Q 2597 3491 2834 3397  z \" transform=\"scale(0.015625)\"/>\n      <path id=\"DejaVuSans-75\" d=\"M 544 1381  L 544 3500  L 1119 3500  L 1119 1403  Q 1119 906 1312 657  Q 1506 409 1894 409  Q 2359 409 2629 706  Q 2900 1003 2900 1516  L 2900 3500  L 3475 3500  L 3475 0  L 2900 0  L 2900 538  Q 2691 219 2414 64  Q 2138 -91 1772 -91  Q 1169 -91 856 284  Q 544 659 544 1381  z M 1991 3584  L 1991 3584  z \" transform=\"scale(0.015625)\"/>\n      <path id=\"DejaVuSans-6c\" d=\"M 603 4863  L 1178 4863  L 1178 0  L 603 0  L 603 4863  z \" transform=\"scale(0.015625)\"/>\n      <path id=\"DejaVuSans-69\" d=\"M 603 3500  L 1178 3500  L 1178 0  L 603 0  L 603 3500  z M 603 4863  L 1178 4863  L 1178 4134  L 603 4134  L 603 4863  z \" transform=\"scale(0.015625)\"/>\n     </defs>\n     <use xlink:href=\"#DejaVuSans-49\"/>\n     <use xlink:href=\"#DejaVuSans-6e\" x=\"29.492188\"/>\n     <use xlink:href=\"#DejaVuSans-73\" x=\"92.871094\"/>\n     <use xlink:href=\"#DejaVuSans-75\" x=\"144.970703\"/>\n     <use xlink:href=\"#DejaVuSans-6c\" x=\"208.349609\"/>\n     <use xlink:href=\"#DejaVuSans-69\" x=\"236.132812\"/>\n     <use xlink:href=\"#DejaVuSans-6e\" x=\"263.916016\"/>\n    </g>\n   </g>\n  </g>\n </g>\n <defs>\n  <clipPath id=\"p9a1af6c840\">\n   <rect x=\"16.9625\" y=\"18.718125\" width=\"111.6\" height=\"27.18\"/>\n  </clipPath>\n </defs>\n</svg>\n\n</g>\n<!-- Glycemia&#45;&gt;Insulin -->\n<g id=\"edge1\" class=\"edge\">\n<title>Glycemia-&gt;Insulin</title>\n<g id=\"a_edge1\"><a xlink:title=\"(0, 1):\">\n<path fill=\"none\" stroke=\"#4a4a4a\" d=\"M94,-176.79C87.36,-168.35 79.49,-158.35 72.28,-149.18\"/>\n<polygon fill=\"#4a4a4a\" stroke=\"#4a4a4a\" points=\"74.83,-146.77 65.9,-141.07 69.33,-151.1 74.83,-146.77\"/>\n</a>\n</g>\n</g>\n<!-- Other_drugs -->\n<g id=\"node3\" class=\"node\">\n<title>Other_drugs</title>\n<polygon fill=\"#e0e0e0\" stroke=\"#000000\" points=\"220,-141 119,-141 119,-100 220,-100 220,-141\"/>\n<svg viewBox=\"0 0 132.1625 52.998125\" width=\"101px\" height=\"41px\" preserveAspectRatio=\"xMinYMin meet\" x=\"119\" y=\"-141\"> <metadata>\n  <rdf:RDF xmlns:dc=\"http://purl.org/dc/elements/1.1/\" xmlns:cc=\"http://creativecommons.org/ns#\" xmlns:rdf=\"http://www.w3.org/1999/02/22-rdf-syntax-ns#\">\n   <cc:Work>\n    <dc:type rdf:resource=\"http://purl.org/dc/dcmitype/StillImage\"/>\n    <dc:date>2022-03-15T22:49:22.913915</dc:date>\n    <dc:format>image/svg+xml</dc:format>\n    <dc:creator>\n     <cc:Agent>\n      <dc:title>Matplotlib v3.5.0, https://matplotlib.org/</dc:title>\n     </cc:Agent>\n    </dc:creator>\n   </cc:Work>\n  </rdf:RDF>\n </metadata>\n <defs>\n  <style type=\"text/css\">*{stroke-linejoin: round; stroke-linecap: butt}</style>\n </defs>\n <g id=\"figure_1\">\n  <g id=\"patch_1\">\n   <path d=\"M 0 52.998125  L 132.1625 52.998125  L 132.1625 0  L 0 0  z \" style=\"fill: #e0e0e0\"/>\n  </g>\n  <g id=\"axes_1\">\n   <g id=\"patch_2\">\n    <path d=\"M 16.9625 45.898125  L 128.5625 45.898125  L 128.5625 18.718125  L 16.9625 18.718125  z \" style=\"fill: #ffffff\"/>\n   </g>\n   <g id=\"patch_3\">\n    <path d=\"M 16.9625 45.898125  L 69.9725 45.898125  L 69.9725 33.818125  L 16.9625 33.818125  z \" clip-path=\"url(#p6f46fda2e8)\" style=\"fill: #8fbc8f\"/>\n   </g>\n   <g id=\"patch_4\">\n    <path d=\"M 16.9625 30.798125  L 75.5525 30.798125  L 75.5525 18.718125  L 16.9625 18.718125  z \" clip-path=\"url(#p6f46fda2e8)\" style=\"fill: #8fbc8f\"/>\n   </g>\n   <g id=\"matplotlib.axis_1\">\n    <g id=\"xtick_1\">\n     <g id=\"line2d_1\">\n      <path d=\"M 16.9625 45.898125  L 16.9625 18.718125  \" clip-path=\"url(#p6f46fda2e8)\" style=\"fill: none; stroke: #b0b0b0; stroke-width: 0.8; stroke-linecap: square\"/>\n     </g>\n     <g id=\"line2d_2\">\n      <defs>\n       <path id=\"m26ae6bf54e\" d=\"M 0 0  L 0 3.5  \" style=\"stroke: #000000; stroke-width: 0.8\"/>\n      </defs>\n      <g>\n       <use xlink:href=\"#m26ae6bf54e\" x=\"16.9625\" y=\"45.898125\" style=\"stroke: #000000; stroke-width: 0.8\"/>\n      </g>\n     </g>\n    </g>\n    <g id=\"xtick_2\">\n     <g id=\"line2d_3\">\n      <path d=\"M 72.7625 45.898125  L 72.7625 18.718125  \" clip-path=\"url(#p6f46fda2e8)\" style=\"fill: none; stroke: #b0b0b0; stroke-width: 0.8; stroke-linecap: square\"/>\n     </g>\n     <g id=\"line2d_4\">\n      <g>\n       <use xlink:href=\"#m26ae6bf54e\" x=\"72.7625\" y=\"45.898125\" style=\"stroke: #000000; stroke-width: 0.8\"/>\n      </g>\n     </g>\n    </g>\n    <g id=\"xtick_3\">\n     <g id=\"line2d_5\">\n      <path d=\"M 128.5625 45.898125  L 128.5625 18.718125  \" clip-path=\"url(#p6f46fda2e8)\" style=\"fill: none; stroke: #b0b0b0; stroke-width: 0.8; stroke-linecap: square\"/>\n     </g>\n     <g id=\"line2d_6\">\n      <g>\n       <use xlink:href=\"#m26ae6bf54e\" x=\"128.5625\" y=\"45.898125\" style=\"stroke: #000000; stroke-width: 0.8\"/>\n      </g>\n     </g>\n    </g>\n   </g>\n   <g id=\"matplotlib.axis_2\">\n    <g id=\"ytick_1\">\n     <g id=\"line2d_7\">\n      <defs>\n       <path id=\"me4c0605297\" d=\"M 0 0  L -3.5 0  \" style=\"stroke: #000000; stroke-width: 0.8\"/>\n      </defs>\n      <g>\n       <use xlink:href=\"#me4c0605297\" x=\"16.9625\" y=\"39.858125\" style=\"stroke: #000000; stroke-width: 0.8\"/>\n      </g>\n     </g>\n     <g id=\"text_1\">\n      <!-- 1 -->\n      <g transform=\"translate(3.6 43.657344)scale(0.1 -0.1)\">\n       <defs>\n        <path id=\"DejaVuSans-31\" d=\"M 794 531  L 1825 531  L 1825 4091  L 703 3866  L 703 4441  L 1819 4666  L 2450 4666  L 2450 531  L 3481 531  L 3481 0  L 794 0  L 794 531  z \" transform=\"scale(0.015625)\"/>\n       </defs>\n       <use xlink:href=\"#DejaVuSans-31\"/>\n      </g>\n     </g>\n    </g>\n    <g id=\"ytick_2\">\n     <g id=\"line2d_8\">\n      <g>\n       <use xlink:href=\"#me4c0605297\" x=\"16.9625\" y=\"24.758125\" style=\"stroke: #000000; stroke-width: 0.8\"/>\n      </g>\n     </g>\n     <g id=\"text_2\">\n      <!-- 0 -->\n      <g transform=\"translate(3.6 28.557344)scale(0.1 -0.1)\">\n       <defs>\n        <path id=\"DejaVuSans-30\" d=\"M 2034 4250  Q 1547 4250 1301 3770  Q 1056 3291 1056 2328  Q 1056 1369 1301 889  Q 1547 409 2034 409  Q 2525 409 2770 889  Q 3016 1369 3016 2328  Q 3016 3291 2770 3770  Q 2525 4250 2034 4250  z M 2034 4750  Q 2819 4750 3233 4129  Q 3647 3509 3647 2328  Q 3647 1150 3233 529  Q 2819 -91 2034 -91  Q 1250 -91 836 529  Q 422 1150 422 2328  Q 422 3509 836 4129  Q 1250 4750 2034 4750  z \" transform=\"scale(0.015625)\"/>\n       </defs>\n       <use xlink:href=\"#DejaVuSans-30\"/>\n      </g>\n     </g>\n    </g>\n   </g>\n   <g id=\"patch_5\">\n    <path d=\"M 16.9625 45.898125  L 16.9625 18.718125  \" style=\"fill: none; stroke: #000000; stroke-width: 0.8; stroke-linejoin: miter; stroke-linecap: square\"/>\n   </g>\n   <g id=\"patch_6\">\n    <path d=\"M 128.5625 45.898125  L 128.5625 18.718125  \" style=\"fill: none; stroke: #000000; stroke-width: 0.8; stroke-linejoin: miter; stroke-linecap: square\"/>\n   </g>\n   <g id=\"patch_7\">\n    <path d=\"M 16.9625 45.898125  L 128.5625 45.898125  \" style=\"fill: none; stroke: #000000; stroke-width: 0.8; stroke-linejoin: miter; stroke-linecap: square\"/>\n   </g>\n   <g id=\"patch_8\">\n    <path d=\"M 16.9625 18.718125  L 128.5625 18.718125  \" style=\"fill: none; stroke: #000000; stroke-width: 0.8; stroke-linejoin: miter; stroke-linecap: square\"/>\n   </g>\n   <g id=\"text_3\">\n    <!-- 47.50% -->\n    <g transform=\"translate(90.432812 43.818437)scale(0.1 -0.1)\">\n     <defs>\n      <path id=\"DejaVuSans-34\" d=\"M 2419 4116  L 825 1625  L 2419 1625  L 2419 4116  z M 2253 4666  L 3047 4666  L 3047 1625  L 3713 1625  L 3713 1100  L 3047 1100  L 3047 0  L 2419 0  L 2419 1100  L 313 1100  L 313 1709  L 2253 4666  z \" transform=\"scale(0.015625)\"/>\n      <path id=\"DejaVuSans-37\" d=\"M 525 4666  L 3525 4666  L 3525 4397  L 1831 0  L 1172 0  L 2766 4134  L 525 4134  L 525 4666  z \" transform=\"scale(0.015625)\"/>\n      <path id=\"DejaVuSans-2e\" d=\"M 684 794  L 1344 794  L 1344 0  L 684 0  L 684 794  z \" transform=\"scale(0.015625)\"/>\n      <path id=\"DejaVuSans-35\" d=\"M 691 4666  L 3169 4666  L 3169 4134  L 1269 4134  L 1269 2991  Q 1406 3038 1543 3061  Q 1681 3084 1819 3084  Q 2600 3084 3056 2656  Q 3513 2228 3513 1497  Q 3513 744 3044 326  Q 2575 -91 1722 -91  Q 1428 -91 1123 -41  Q 819 9 494 109  L 494 744  Q 775 591 1075 516  Q 1375 441 1709 441  Q 2250 441 2565 725  Q 2881 1009 2881 1497  Q 2881 1984 2565 2268  Q 2250 2553 1709 2553  Q 1456 2553 1204 2497  Q 953 2441 691 2322  L 691 4666  z \" transform=\"scale(0.015625)\"/>\n      <path id=\"DejaVuSans-25\" d=\"M 4653 2053  Q 4381 2053 4226 1822  Q 4072 1591 4072 1178  Q 4072 772 4226 539  Q 4381 306 4653 306  Q 4919 306 5073 539  Q 5228 772 5228 1178  Q 5228 1588 5073 1820  Q 4919 2053 4653 2053  z M 4653 2450  Q 5147 2450 5437 2106  Q 5728 1763 5728 1178  Q 5728 594 5436 251  Q 5144 -91 4653 -91  Q 4153 -91 3862 251  Q 3572 594 3572 1178  Q 3572 1766 3864 2108  Q 4156 2450 4653 2450  z M 1428 4353  Q 1159 4353 1004 4120  Q 850 3888 850 3481  Q 850 3069 1003 2837  Q 1156 2606 1428 2606  Q 1700 2606 1854 2837  Q 2009 3069 2009 3481  Q 2009 3884 1853 4118  Q 1697 4353 1428 4353  z M 4250 4750  L 4750 4750  L 1831 -91  L 1331 -91  L 4250 4750  z M 1428 4750  Q 1922 4750 2215 4408  Q 2509 4066 2509 3481  Q 2509 2891 2217 2550  Q 1925 2209 1428 2209  Q 931 2209 642 2551  Q 353 2894 353 3481  Q 353 4063 643 4406  Q 934 4750 1428 4750  z \" transform=\"scale(0.015625)\"/>\n     </defs>\n     <use xlink:href=\"#DejaVuSans-34\"/>\n     <use xlink:href=\"#DejaVuSans-37\" x=\"63.623047\"/>\n     <use xlink:href=\"#DejaVuSans-2e\" x=\"127.246094\"/>\n     <use xlink:href=\"#DejaVuSans-35\" x=\"159.033203\"/>\n     <use xlink:href=\"#DejaVuSans-30\" x=\"222.65625\"/>\n     <use xlink:href=\"#DejaVuSans-25\" x=\"286.279297\"/>\n    </g>\n   </g>\n   <g id=\"text_4\">\n    <!-- 52.50% -->\n    <g transform=\"translate(90.432812 28.718437)scale(0.1 -0.1)\">\n     <defs>\n      <path id=\"DejaVuSans-32\" d=\"M 1228 531  L 3431 531  L 3431 0  L 469 0  L 469 531  Q 828 903 1448 1529  Q 2069 2156 2228 2338  Q 2531 2678 2651 2914  Q 2772 3150 2772 3378  Q 2772 3750 2511 3984  Q 2250 4219 1831 4219  Q 1534 4219 1204 4116  Q 875 4013 500 3803  L 500 4441  Q 881 4594 1212 4672  Q 1544 4750 1819 4750  Q 2544 4750 2975 4387  Q 3406 4025 3406 3419  Q 3406 3131 3298 2873  Q 3191 2616 2906 2266  Q 2828 2175 2409 1742  Q 1991 1309 1228 531  z \" transform=\"scale(0.015625)\"/>\n     </defs>\n     <use xlink:href=\"#DejaVuSans-35\"/>\n     <use xlink:href=\"#DejaVuSans-32\" x=\"63.623047\"/>\n     <use xlink:href=\"#DejaVuSans-2e\" x=\"127.246094\"/>\n     <use xlink:href=\"#DejaVuSans-35\" x=\"159.033203\"/>\n     <use xlink:href=\"#DejaVuSans-30\" x=\"222.65625\"/>\n     <use xlink:href=\"#DejaVuSans-25\" x=\"286.279297\"/>\n    </g>\n   </g>\n   <g id=\"text_5\">\n    <!-- Other_drugs -->\n    <g transform=\"translate(35.713438 12.718125)scale(0.12 -0.12)\">\n     <defs>\n      <path id=\"DejaVuSans-4f\" d=\"M 2522 4238  Q 1834 4238 1429 3725  Q 1025 3213 1025 2328  Q 1025 1447 1429 934  Q 1834 422 2522 422  Q 3209 422 3611 934  Q 4013 1447 4013 2328  Q 4013 3213 3611 3725  Q 3209 4238 2522 4238  z M 2522 4750  Q 3503 4750 4090 4092  Q 4678 3434 4678 2328  Q 4678 1225 4090 567  Q 3503 -91 2522 -91  Q 1538 -91 948 565  Q 359 1222 359 2328  Q 359 3434 948 4092  Q 1538 4750 2522 4750  z \" transform=\"scale(0.015625)\"/>\n      <path id=\"DejaVuSans-74\" d=\"M 1172 4494  L 1172 3500  L 2356 3500  L 2356 3053  L 1172 3053  L 1172 1153  Q 1172 725 1289 603  Q 1406 481 1766 481  L 2356 481  L 2356 0  L 1766 0  Q 1100 0 847 248  Q 594 497 594 1153  L 594 3053  L 172 3053  L 172 3500  L 594 3500  L 594 4494  L 1172 4494  z \" transform=\"scale(0.015625)\"/>\n      <path id=\"DejaVuSans-68\" d=\"M 3513 2113  L 3513 0  L 2938 0  L 2938 2094  Q 2938 2591 2744 2837  Q 2550 3084 2163 3084  Q 1697 3084 1428 2787  Q 1159 2491 1159 1978  L 1159 0  L 581 0  L 581 4863  L 1159 4863  L 1159 2956  Q 1366 3272 1645 3428  Q 1925 3584 2291 3584  Q 2894 3584 3203 3211  Q 3513 2838 3513 2113  z \" transform=\"scale(0.015625)\"/>\n      <path id=\"DejaVuSans-65\" d=\"M 3597 1894  L 3597 1613  L 953 1613  Q 991 1019 1311 708  Q 1631 397 2203 397  Q 2534 397 2845 478  Q 3156 559 3463 722  L 3463 178  Q 3153 47 2828 -22  Q 2503 -91 2169 -91  Q 1331 -91 842 396  Q 353 884 353 1716  Q 353 2575 817 3079  Q 1281 3584 2069 3584  Q 2775 3584 3186 3129  Q 3597 2675 3597 1894  z M 3022 2063  Q 3016 2534 2758 2815  Q 2500 3097 2075 3097  Q 1594 3097 1305 2825  Q 1016 2553 972 2059  L 3022 2063  z \" transform=\"scale(0.015625)\"/>\n      <path id=\"DejaVuSans-72\" d=\"M 2631 2963  Q 2534 3019 2420 3045  Q 2306 3072 2169 3072  Q 1681 3072 1420 2755  Q 1159 2438 1159 1844  L 1159 0  L 581 0  L 581 3500  L 1159 3500  L 1159 2956  Q 1341 3275 1631 3429  Q 1922 3584 2338 3584  Q 2397 3584 2469 3576  Q 2541 3569 2628 3553  L 2631 2963  z \" transform=\"scale(0.015625)\"/>\n      <path id=\"DejaVuSans-5f\" d=\"M 3263 -1063  L 3263 -1509  L -63 -1509  L -63 -1063  L 3263 -1063  z \" transform=\"scale(0.015625)\"/>\n      <path id=\"DejaVuSans-64\" d=\"M 2906 2969  L 2906 4863  L 3481 4863  L 3481 0  L 2906 0  L 2906 525  Q 2725 213 2448 61  Q 2172 -91 1784 -91  Q 1150 -91 751 415  Q 353 922 353 1747  Q 353 2572 751 3078  Q 1150 3584 1784 3584  Q 2172 3584 2448 3432  Q 2725 3281 2906 2969  z M 947 1747  Q 947 1113 1208 752  Q 1469 391 1925 391  Q 2381 391 2643 752  Q 2906 1113 2906 1747  Q 2906 2381 2643 2742  Q 2381 3103 1925 3103  Q 1469 3103 1208 2742  Q 947 2381 947 1747  z \" transform=\"scale(0.015625)\"/>\n      <path id=\"DejaVuSans-75\" d=\"M 544 1381  L 544 3500  L 1119 3500  L 1119 1403  Q 1119 906 1312 657  Q 1506 409 1894 409  Q 2359 409 2629 706  Q 2900 1003 2900 1516  L 2900 3500  L 3475 3500  L 3475 0  L 2900 0  L 2900 538  Q 2691 219 2414 64  Q 2138 -91 1772 -91  Q 1169 -91 856 284  Q 544 659 544 1381  z M 1991 3584  L 1991 3584  z \" transform=\"scale(0.015625)\"/>\n      <path id=\"DejaVuSans-67\" d=\"M 2906 1791  Q 2906 2416 2648 2759  Q 2391 3103 1925 3103  Q 1463 3103 1205 2759  Q 947 2416 947 1791  Q 947 1169 1205 825  Q 1463 481 1925 481  Q 2391 481 2648 825  Q 2906 1169 2906 1791  z M 3481 434  Q 3481 -459 3084 -895  Q 2688 -1331 1869 -1331  Q 1566 -1331 1297 -1286  Q 1028 -1241 775 -1147  L 775 -588  Q 1028 -725 1275 -790  Q 1522 -856 1778 -856  Q 2344 -856 2625 -561  Q 2906 -266 2906 331  L 2906 616  Q 2728 306 2450 153  Q 2172 0 1784 0  Q 1141 0 747 490  Q 353 981 353 1791  Q 353 2603 747 3093  Q 1141 3584 1784 3584  Q 2172 3584 2450 3431  Q 2728 3278 2906 2969  L 2906 3500  L 3481 3500  L 3481 434  z \" transform=\"scale(0.015625)\"/>\n      <path id=\"DejaVuSans-73\" d=\"M 2834 3397  L 2834 2853  Q 2591 2978 2328 3040  Q 2066 3103 1784 3103  Q 1356 3103 1142 2972  Q 928 2841 928 2578  Q 928 2378 1081 2264  Q 1234 2150 1697 2047  L 1894 2003  Q 2506 1872 2764 1633  Q 3022 1394 3022 966  Q 3022 478 2636 193  Q 2250 -91 1575 -91  Q 1294 -91 989 -36  Q 684 19 347 128  L 347 722  Q 666 556 975 473  Q 1284 391 1588 391  Q 1994 391 2212 530  Q 2431 669 2431 922  Q 2431 1156 2273 1281  Q 2116 1406 1581 1522  L 1381 1569  Q 847 1681 609 1914  Q 372 2147 372 2553  Q 372 3047 722 3315  Q 1072 3584 1716 3584  Q 2034 3584 2315 3537  Q 2597 3491 2834 3397  z \" transform=\"scale(0.015625)\"/>\n     </defs>\n     <use xlink:href=\"#DejaVuSans-4f\"/>\n     <use xlink:href=\"#DejaVuSans-74\" x=\"78.710938\"/>\n     <use xlink:href=\"#DejaVuSans-68\" x=\"117.919922\"/>\n     <use xlink:href=\"#DejaVuSans-65\" x=\"181.298828\"/>\n     <use xlink:href=\"#DejaVuSans-72\" x=\"242.822266\"/>\n     <use xlink:href=\"#DejaVuSans-5f\" x=\"283.935547\"/>\n     <use xlink:href=\"#DejaVuSans-64\" x=\"333.935547\"/>\n     <use xlink:href=\"#DejaVuSans-72\" x=\"397.412109\"/>\n     <use xlink:href=\"#DejaVuSans-75\" x=\"438.525391\"/>\n     <use xlink:href=\"#DejaVuSans-67\" x=\"501.904297\"/>\n     <use xlink:href=\"#DejaVuSans-73\" x=\"565.380859\"/>\n    </g>\n   </g>\n  </g>\n </g>\n <defs>\n  <clipPath id=\"p6f46fda2e8\">\n   <rect x=\"16.9625\" y=\"18.718125\" width=\"111.6\" height=\"27.18\"/>\n  </clipPath>\n </defs>\n</svg>\n\n</g>\n<!-- Glycemia&#45;&gt;Other_drugs -->\n<g id=\"edge3\" class=\"edge\">\n<title>Glycemia-&gt;Other_drugs</title>\n<g id=\"a_edge3\"><a xlink:title=\"(0, 2):\">\n<path fill=\"none\" stroke=\"#4a4a4a\" d=\"M125.26,-176.79C132.09,-168.27 140.18,-158.14 147.58,-148.9\"/>\n<polygon fill=\"#4a4a4a\" stroke=\"#4a4a4a\" points=\"150.33,-151.07 153.84,-141.07 144.86,-146.7 150.33,-151.07\"/>\n</a>\n</g>\n</g>\n<!-- Remission -->\n<g id=\"node4\" class=\"node\">\n<title>Remission</title>\n<polygon fill=\"#e0e0e0\" stroke=\"#000000\" points=\"160,-64 59,-64 59,-23 160,-23 160,-64\"/>\n<svg viewBox=\"0 0 132.1625 52.998125\" width=\"101px\" height=\"41px\" preserveAspectRatio=\"xMinYMin meet\" x=\"59\" y=\"-64\"> <metadata>\n  <rdf:RDF xmlns:dc=\"http://purl.org/dc/elements/1.1/\" xmlns:cc=\"http://creativecommons.org/ns#\" xmlns:rdf=\"http://www.w3.org/1999/02/22-rdf-syntax-ns#\">\n   <cc:Work>\n    <dc:type rdf:resource=\"http://purl.org/dc/dcmitype/StillImage\"/>\n    <dc:date>2022-03-15T22:49:22.960052</dc:date>\n    <dc:format>image/svg+xml</dc:format>\n    <dc:creator>\n     <cc:Agent>\n      <dc:title>Matplotlib v3.5.0, https://matplotlib.org/</dc:title>\n     </cc:Agent>\n    </dc:creator>\n   </cc:Work>\n  </rdf:RDF>\n </metadata>\n <defs>\n  <style type=\"text/css\">*{stroke-linejoin: round; stroke-linecap: butt}</style>\n </defs>\n <g id=\"figure_1\">\n  <g id=\"patch_1\">\n   <path d=\"M 0 52.998125  L 132.1625 52.998125  L 132.1625 0  L 0 0  z \" style=\"fill: #e0e0e0\"/>\n  </g>\n  <g id=\"axes_1\">\n   <g id=\"patch_2\">\n    <path d=\"M 16.9625 45.898125  L 128.5625 45.898125  L 128.5625 18.718125  L 16.9625 18.718125  z \" style=\"fill: #ffffff\"/>\n   </g>\n   <g id=\"patch_3\">\n    <path d=\"M 16.9625 45.898125  L 75.2456 45.898125  L 75.2456 33.818125  L 16.9625 33.818125  z \" clip-path=\"url(#p6e1b193991)\" style=\"fill: #8fbc8f\"/>\n   </g>\n   <g id=\"patch_4\">\n    <path d=\"M 16.9625 30.798125  L 70.2794 30.798125  L 70.2794 18.718125  L 16.9625 18.718125  z \" clip-path=\"url(#p6e1b193991)\" style=\"fill: #8fbc8f\"/>\n   </g>\n   <g id=\"matplotlib.axis_1\">\n    <g id=\"xtick_1\">\n     <g id=\"line2d_1\">\n      <path d=\"M 16.9625 45.898125  L 16.9625 18.718125  \" clip-path=\"url(#p6e1b193991)\" style=\"fill: none; stroke: #b0b0b0; stroke-width: 0.8; stroke-linecap: square\"/>\n     </g>\n     <g id=\"line2d_2\">\n      <defs>\n       <path id=\"m637a30e4c6\" d=\"M 0 0  L 0 3.5  \" style=\"stroke: #000000; stroke-width: 0.8\"/>\n      </defs>\n      <g>\n       <use xlink:href=\"#m637a30e4c6\" x=\"16.9625\" y=\"45.898125\" style=\"stroke: #000000; stroke-width: 0.8\"/>\n      </g>\n     </g>\n    </g>\n    <g id=\"xtick_2\">\n     <g id=\"line2d_3\">\n      <path d=\"M 72.7625 45.898125  L 72.7625 18.718125  \" clip-path=\"url(#p6e1b193991)\" style=\"fill: none; stroke: #b0b0b0; stroke-width: 0.8; stroke-linecap: square\"/>\n     </g>\n     <g id=\"line2d_4\">\n      <g>\n       <use xlink:href=\"#m637a30e4c6\" x=\"72.7625\" y=\"45.898125\" style=\"stroke: #000000; stroke-width: 0.8\"/>\n      </g>\n     </g>\n    </g>\n    <g id=\"xtick_3\">\n     <g id=\"line2d_5\">\n      <path d=\"M 128.5625 45.898125  L 128.5625 18.718125  \" clip-path=\"url(#p6e1b193991)\" style=\"fill: none; stroke: #b0b0b0; stroke-width: 0.8; stroke-linecap: square\"/>\n     </g>\n     <g id=\"line2d_6\">\n      <g>\n       <use xlink:href=\"#m637a30e4c6\" x=\"128.5625\" y=\"45.898125\" style=\"stroke: #000000; stroke-width: 0.8\"/>\n      </g>\n     </g>\n    </g>\n   </g>\n   <g id=\"matplotlib.axis_2\">\n    <g id=\"ytick_1\">\n     <g id=\"line2d_7\">\n      <defs>\n       <path id=\"md83d214b70\" d=\"M 0 0  L -3.5 0  \" style=\"stroke: #000000; stroke-width: 0.8\"/>\n      </defs>\n      <g>\n       <use xlink:href=\"#md83d214b70\" x=\"16.9625\" y=\"39.858125\" style=\"stroke: #000000; stroke-width: 0.8\"/>\n      </g>\n     </g>\n     <g id=\"text_1\">\n      <!-- 1 -->\n      <g transform=\"translate(3.6 43.657344)scale(0.1 -0.1)\">\n       <defs>\n        <path id=\"DejaVuSans-31\" d=\"M 794 531  L 1825 531  L 1825 4091  L 703 3866  L 703 4441  L 1819 4666  L 2450 4666  L 2450 531  L 3481 531  L 3481 0  L 794 0  L 794 531  z \" transform=\"scale(0.015625)\"/>\n       </defs>\n       <use xlink:href=\"#DejaVuSans-31\"/>\n      </g>\n     </g>\n    </g>\n    <g id=\"ytick_2\">\n     <g id=\"line2d_8\">\n      <g>\n       <use xlink:href=\"#md83d214b70\" x=\"16.9625\" y=\"24.758125\" style=\"stroke: #000000; stroke-width: 0.8\"/>\n      </g>\n     </g>\n     <g id=\"text_2\">\n      <!-- 0 -->\n      <g transform=\"translate(3.6 28.557344)scale(0.1 -0.1)\">\n       <defs>\n        <path id=\"DejaVuSans-30\" d=\"M 2034 4250  Q 1547 4250 1301 3770  Q 1056 3291 1056 2328  Q 1056 1369 1301 889  Q 1547 409 2034 409  Q 2525 409 2770 889  Q 3016 1369 3016 2328  Q 3016 3291 2770 3770  Q 2525 4250 2034 4250  z M 2034 4750  Q 2819 4750 3233 4129  Q 3647 3509 3647 2328  Q 3647 1150 3233 529  Q 2819 -91 2034 -91  Q 1250 -91 836 529  Q 422 1150 422 2328  Q 422 3509 836 4129  Q 1250 4750 2034 4750  z \" transform=\"scale(0.015625)\"/>\n       </defs>\n       <use xlink:href=\"#DejaVuSans-30\"/>\n      </g>\n     </g>\n    </g>\n   </g>\n   <g id=\"patch_5\">\n    <path d=\"M 16.9625 45.898125  L 16.9625 18.718125  \" style=\"fill: none; stroke: #000000; stroke-width: 0.8; stroke-linejoin: miter; stroke-linecap: square\"/>\n   </g>\n   <g id=\"patch_6\">\n    <path d=\"M 128.5625 45.898125  L 128.5625 18.718125  \" style=\"fill: none; stroke: #000000; stroke-width: 0.8; stroke-linejoin: miter; stroke-linecap: square\"/>\n   </g>\n   <g id=\"patch_7\">\n    <path d=\"M 16.9625 45.898125  L 128.5625 45.898125  \" style=\"fill: none; stroke: #000000; stroke-width: 0.8; stroke-linejoin: miter; stroke-linecap: square\"/>\n   </g>\n   <g id=\"patch_8\">\n    <path d=\"M 16.9625 18.718125  L 128.5625 18.718125  \" style=\"fill: none; stroke: #000000; stroke-width: 0.8; stroke-linejoin: miter; stroke-linecap: square\"/>\n   </g>\n   <g id=\"text_3\">\n    <!-- 52.23% -->\n    <g transform=\"translate(90.432812 43.818437)scale(0.1 -0.1)\">\n     <defs>\n      <path id=\"DejaVuSans-35\" d=\"M 691 4666  L 3169 4666  L 3169 4134  L 1269 4134  L 1269 2991  Q 1406 3038 1543 3061  Q 1681 3084 1819 3084  Q 2600 3084 3056 2656  Q 3513 2228 3513 1497  Q 3513 744 3044 326  Q 2575 -91 1722 -91  Q 1428 -91 1123 -41  Q 819 9 494 109  L 494 744  Q 775 591 1075 516  Q 1375 441 1709 441  Q 2250 441 2565 725  Q 2881 1009 2881 1497  Q 2881 1984 2565 2268  Q 2250 2553 1709 2553  Q 1456 2553 1204 2497  Q 953 2441 691 2322  L 691 4666  z \" transform=\"scale(0.015625)\"/>\n      <path id=\"DejaVuSans-32\" d=\"M 1228 531  L 3431 531  L 3431 0  L 469 0  L 469 531  Q 828 903 1448 1529  Q 2069 2156 2228 2338  Q 2531 2678 2651 2914  Q 2772 3150 2772 3378  Q 2772 3750 2511 3984  Q 2250 4219 1831 4219  Q 1534 4219 1204 4116  Q 875 4013 500 3803  L 500 4441  Q 881 4594 1212 4672  Q 1544 4750 1819 4750  Q 2544 4750 2975 4387  Q 3406 4025 3406 3419  Q 3406 3131 3298 2873  Q 3191 2616 2906 2266  Q 2828 2175 2409 1742  Q 1991 1309 1228 531  z \" transform=\"scale(0.015625)\"/>\n      <path id=\"DejaVuSans-2e\" d=\"M 684 794  L 1344 794  L 1344 0  L 684 0  L 684 794  z \" transform=\"scale(0.015625)\"/>\n      <path id=\"DejaVuSans-33\" d=\"M 2597 2516  Q 3050 2419 3304 2112  Q 3559 1806 3559 1356  Q 3559 666 3084 287  Q 2609 -91 1734 -91  Q 1441 -91 1130 -33  Q 819 25 488 141  L 488 750  Q 750 597 1062 519  Q 1375 441 1716 441  Q 2309 441 2620 675  Q 2931 909 2931 1356  Q 2931 1769 2642 2001  Q 2353 2234 1838 2234  L 1294 2234  L 1294 2753  L 1863 2753  Q 2328 2753 2575 2939  Q 2822 3125 2822 3475  Q 2822 3834 2567 4026  Q 2313 4219 1838 4219  Q 1578 4219 1281 4162  Q 984 4106 628 3988  L 628 4550  Q 988 4650 1302 4700  Q 1616 4750 1894 4750  Q 2613 4750 3031 4423  Q 3450 4097 3450 3541  Q 3450 3153 3228 2886  Q 3006 2619 2597 2516  z \" transform=\"scale(0.015625)\"/>\n      <path id=\"DejaVuSans-25\" d=\"M 4653 2053  Q 4381 2053 4226 1822  Q 4072 1591 4072 1178  Q 4072 772 4226 539  Q 4381 306 4653 306  Q 4919 306 5073 539  Q 5228 772 5228 1178  Q 5228 1588 5073 1820  Q 4919 2053 4653 2053  z M 4653 2450  Q 5147 2450 5437 2106  Q 5728 1763 5728 1178  Q 5728 594 5436 251  Q 5144 -91 4653 -91  Q 4153 -91 3862 251  Q 3572 594 3572 1178  Q 3572 1766 3864 2108  Q 4156 2450 4653 2450  z M 1428 4353  Q 1159 4353 1004 4120  Q 850 3888 850 3481  Q 850 3069 1003 2837  Q 1156 2606 1428 2606  Q 1700 2606 1854 2837  Q 2009 3069 2009 3481  Q 2009 3884 1853 4118  Q 1697 4353 1428 4353  z M 4250 4750  L 4750 4750  L 1831 -91  L 1331 -91  L 4250 4750  z M 1428 4750  Q 1922 4750 2215 4408  Q 2509 4066 2509 3481  Q 2509 2891 2217 2550  Q 1925 2209 1428 2209  Q 931 2209 642 2551  Q 353 2894 353 3481  Q 353 4063 643 4406  Q 934 4750 1428 4750  z \" transform=\"scale(0.015625)\"/>\n     </defs>\n     <use xlink:href=\"#DejaVuSans-35\"/>\n     <use xlink:href=\"#DejaVuSans-32\" x=\"63.623047\"/>\n     <use xlink:href=\"#DejaVuSans-2e\" x=\"127.246094\"/>\n     <use xlink:href=\"#DejaVuSans-32\" x=\"159.033203\"/>\n     <use xlink:href=\"#DejaVuSans-33\" x=\"222.65625\"/>\n     <use xlink:href=\"#DejaVuSans-25\" x=\"286.279297\"/>\n    </g>\n   </g>\n   <g id=\"text_4\">\n    <!-- 47.77% -->\n    <g transform=\"translate(90.432812 28.718437)scale(0.1 -0.1)\">\n     <defs>\n      <path id=\"DejaVuSans-34\" d=\"M 2419 4116  L 825 1625  L 2419 1625  L 2419 4116  z M 2253 4666  L 3047 4666  L 3047 1625  L 3713 1625  L 3713 1100  L 3047 1100  L 3047 0  L 2419 0  L 2419 1100  L 313 1100  L 313 1709  L 2253 4666  z \" transform=\"scale(0.015625)\"/>\n      <path id=\"DejaVuSans-37\" d=\"M 525 4666  L 3525 4666  L 3525 4397  L 1831 0  L 1172 0  L 2766 4134  L 525 4134  L 525 4666  z \" transform=\"scale(0.015625)\"/>\n     </defs>\n     <use xlink:href=\"#DejaVuSans-34\"/>\n     <use xlink:href=\"#DejaVuSans-37\" x=\"63.623047\"/>\n     <use xlink:href=\"#DejaVuSans-2e\" x=\"127.246094\"/>\n     <use xlink:href=\"#DejaVuSans-37\" x=\"159.033203\"/>\n     <use xlink:href=\"#DejaVuSans-37\" x=\"222.65625\"/>\n     <use xlink:href=\"#DejaVuSans-25\" x=\"286.279297\"/>\n    </g>\n   </g>\n   <g id=\"text_5\">\n    <!-- Remission -->\n    <g transform=\"translate(42.268438 12.718125)scale(0.12 -0.12)\">\n     <defs>\n      <path id=\"DejaVuSans-52\" d=\"M 2841 2188  Q 3044 2119 3236 1894  Q 3428 1669 3622 1275  L 4263 0  L 3584 0  L 2988 1197  Q 2756 1666 2539 1819  Q 2322 1972 1947 1972  L 1259 1972  L 1259 0  L 628 0  L 628 4666  L 2053 4666  Q 2853 4666 3247 4331  Q 3641 3997 3641 3322  Q 3641 2881 3436 2590  Q 3231 2300 2841 2188  z M 1259 4147  L 1259 2491  L 2053 2491  Q 2509 2491 2742 2702  Q 2975 2913 2975 3322  Q 2975 3731 2742 3939  Q 2509 4147 2053 4147  L 1259 4147  z \" transform=\"scale(0.015625)\"/>\n      <path id=\"DejaVuSans-65\" d=\"M 3597 1894  L 3597 1613  L 953 1613  Q 991 1019 1311 708  Q 1631 397 2203 397  Q 2534 397 2845 478  Q 3156 559 3463 722  L 3463 178  Q 3153 47 2828 -22  Q 2503 -91 2169 -91  Q 1331 -91 842 396  Q 353 884 353 1716  Q 353 2575 817 3079  Q 1281 3584 2069 3584  Q 2775 3584 3186 3129  Q 3597 2675 3597 1894  z M 3022 2063  Q 3016 2534 2758 2815  Q 2500 3097 2075 3097  Q 1594 3097 1305 2825  Q 1016 2553 972 2059  L 3022 2063  z \" transform=\"scale(0.015625)\"/>\n      <path id=\"DejaVuSans-6d\" d=\"M 3328 2828  Q 3544 3216 3844 3400  Q 4144 3584 4550 3584  Q 5097 3584 5394 3201  Q 5691 2819 5691 2113  L 5691 0  L 5113 0  L 5113 2094  Q 5113 2597 4934 2840  Q 4756 3084 4391 3084  Q 3944 3084 3684 2787  Q 3425 2491 3425 1978  L 3425 0  L 2847 0  L 2847 2094  Q 2847 2600 2669 2842  Q 2491 3084 2119 3084  Q 1678 3084 1418 2786  Q 1159 2488 1159 1978  L 1159 0  L 581 0  L 581 3500  L 1159 3500  L 1159 2956  Q 1356 3278 1631 3431  Q 1906 3584 2284 3584  Q 2666 3584 2933 3390  Q 3200 3197 3328 2828  z \" transform=\"scale(0.015625)\"/>\n      <path id=\"DejaVuSans-69\" d=\"M 603 3500  L 1178 3500  L 1178 0  L 603 0  L 603 3500  z M 603 4863  L 1178 4863  L 1178 4134  L 603 4134  L 603 4863  z \" transform=\"scale(0.015625)\"/>\n      <path id=\"DejaVuSans-73\" d=\"M 2834 3397  L 2834 2853  Q 2591 2978 2328 3040  Q 2066 3103 1784 3103  Q 1356 3103 1142 2972  Q 928 2841 928 2578  Q 928 2378 1081 2264  Q 1234 2150 1697 2047  L 1894 2003  Q 2506 1872 2764 1633  Q 3022 1394 3022 966  Q 3022 478 2636 193  Q 2250 -91 1575 -91  Q 1294 -91 989 -36  Q 684 19 347 128  L 347 722  Q 666 556 975 473  Q 1284 391 1588 391  Q 1994 391 2212 530  Q 2431 669 2431 922  Q 2431 1156 2273 1281  Q 2116 1406 1581 1522  L 1381 1569  Q 847 1681 609 1914  Q 372 2147 372 2553  Q 372 3047 722 3315  Q 1072 3584 1716 3584  Q 2034 3584 2315 3537  Q 2597 3491 2834 3397  z \" transform=\"scale(0.015625)\"/>\n      <path id=\"DejaVuSans-6f\" d=\"M 1959 3097  Q 1497 3097 1228 2736  Q 959 2375 959 1747  Q 959 1119 1226 758  Q 1494 397 1959 397  Q 2419 397 2687 759  Q 2956 1122 2956 1747  Q 2956 2369 2687 2733  Q 2419 3097 1959 3097  z M 1959 3584  Q 2709 3584 3137 3096  Q 3566 2609 3566 1747  Q 3566 888 3137 398  Q 2709 -91 1959 -91  Q 1206 -91 779 398  Q 353 888 353 1747  Q 353 2609 779 3096  Q 1206 3584 1959 3584  z \" transform=\"scale(0.015625)\"/>\n      <path id=\"DejaVuSans-6e\" d=\"M 3513 2113  L 3513 0  L 2938 0  L 2938 2094  Q 2938 2591 2744 2837  Q 2550 3084 2163 3084  Q 1697 3084 1428 2787  Q 1159 2491 1159 1978  L 1159 0  L 581 0  L 581 3500  L 1159 3500  L 1159 2956  Q 1366 3272 1645 3428  Q 1925 3584 2291 3584  Q 2894 3584 3203 3211  Q 3513 2838 3513 2113  z \" transform=\"scale(0.015625)\"/>\n     </defs>\n     <use xlink:href=\"#DejaVuSans-52\"/>\n     <use xlink:href=\"#DejaVuSans-65\" x=\"64.982422\"/>\n     <use xlink:href=\"#DejaVuSans-6d\" x=\"126.505859\"/>\n     <use xlink:href=\"#DejaVuSans-69\" x=\"223.917969\"/>\n     <use xlink:href=\"#DejaVuSans-73\" x=\"251.701172\"/>\n     <use xlink:href=\"#DejaVuSans-73\" x=\"303.800781\"/>\n     <use xlink:href=\"#DejaVuSans-69\" x=\"355.900391\"/>\n     <use xlink:href=\"#DejaVuSans-6f\" x=\"383.683594\"/>\n     <use xlink:href=\"#DejaVuSans-6e\" x=\"444.865234\"/>\n    </g>\n   </g>\n  </g>\n </g>\n <defs>\n  <clipPath id=\"p6e1b193991\">\n   <rect x=\"16.9625\" y=\"18.718125\" width=\"111.6\" height=\"27.18\"/>\n  </clipPath>\n </defs>\n</svg>\n\n</g>\n<!-- Insulin&#45;&gt;Remission -->\n<g id=\"edge2\" class=\"edge\">\n<title>Insulin-&gt;Remission</title>\n<g id=\"a_edge2\"><a xlink:title=\"(1, 3):\">\n<path fill=\"none\" stroke=\"#4a4a4a\" d=\"M66,-99.79C72.64,-91.35 80.51,-81.35 87.72,-72.18\"/>\n<polygon fill=\"#4a4a4a\" stroke=\"#4a4a4a\" points=\"90.67,-74.1 94.1,-64.07 85.17,-69.77 90.67,-74.1\"/>\n</a>\n</g>\n</g>\n<!-- Other_drugs&#45;&gt;Remission -->\n<g id=\"edge4\" class=\"edge\">\n<title>Other_drugs-&gt;Remission</title>\n<g id=\"a_edge4\"><a xlink:title=\"(2, 3):\">\n<path fill=\"none\" stroke=\"#4a4a4a\" d=\"M153.74,-99.79C146.91,-91.27 138.82,-81.14 131.42,-71.9\"/>\n<polygon fill=\"#4a4a4a\" stroke=\"#4a4a4a\" points=\"134.14,-69.7 125.16,-64.07 128.67,-74.07 134.14,-69.7\"/>\n</a>\n</g>\n</g>\n</g>\n</svg>",
      "text/plain": [
       "<IPython.core.display.SVG object>"
      ]
     },
     "metadata": {},
     "output_type": "display_data"
    }
   ],
   "source": [
    "gnb.showInference(bn,evs={})\n"
   ]
  },
  {
   "cell_type": "markdown",
   "metadata": {},
   "source": [
    "# 2. Construct Bayesian networks from real data"
   ]
  },
  {
   "cell_type": "code",
   "execution_count": 18,
   "metadata": {},
   "outputs": [],
   "source": [
    "data_env = pd.read_csv('data/SPLEX_env.txt' , sep=' ')\n",
    "data_host = pd.read_csv('data/SPLEX_host.txt' , sep=' ')\n",
    "data_joint = pd.concat([data_env,data_host],axis=1)"
   ]
  },
  {
   "cell_type": "code",
   "execution_count": 19,
   "metadata": {},
   "outputs": [],
   "source": [
    "def to_csv(data, file):\n",
    "    l=[]\n",
    "    for col in data.columns.values:\n",
    "        bins = np.linspace(min(data[col]), max(data[col]), 5)\n",
    "        l.append(pd.DataFrame(np.digitize(data[col], bins),columns=[col]))\n",
    "        \n",
    "    discr_data = pd.concat(l, join='outer', axis=1)\n",
    "    discr_data.to_csv(file,index=False)"
   ]
  },
  {
   "cell_type": "markdown",
   "metadata": {},
   "source": [
    "### Env"
   ]
  },
  {
   "cell_type": "code",
   "execution_count": 22,
   "metadata": {},
   "outputs": [],
   "source": [
    "to_csv(data_env, \"data/discr_data_env.csv\")"
   ]
  },
  {
   "cell_type": "code",
   "execution_count": 108,
   "metadata": {},
   "outputs": [
    {
     "data": {
      "image/svg+xml": "<svg xmlns=\"http://www.w3.org/2000/svg\" xmlns:xlink=\"http://www.w3.org/1999/xlink\" width=\"7618pt\" height=\"188pt\" viewBox=\"0.00 0.00 7617.59 188.00\">\n<g id=\"graph0\" class=\"graph\" transform=\"scale(1 1) rotate(0) translate(4 184)\">\n<title>G</title>\n<!-- Mg_alim -->\n<g id=\"node1\" class=\"node\">\n<title>Mg_alim</title>\n<g id=\"a_node1\"><a xlink:title=\"(21) Mg_alim\">\n<ellipse fill=\"#404040\" stroke=\"black\" cx=\"44.2\" cy=\"-90\" rx=\"44.39\" ry=\"18\"/>\n<text text-anchor=\"middle\" x=\"44.2\" y=\"-86.3\" font-family=\"Times,serif\" font-size=\"14.00\" fill=\"white\">Mg_alim</text>\n</a>\n</g>\n</g>\n<!-- K_alim -->\n<g id=\"node20\" class=\"node\">\n<title>K_alim</title>\n<g id=\"a_node20\"><a xlink:title=\"(20) K_alim\">\n<ellipse fill=\"#404040\" stroke=\"black\" cx=\"44.2\" cy=\"-18\" rx=\"37.89\" ry=\"18\"/>\n<text text-anchor=\"middle\" x=\"44.2\" y=\"-14.3\" font-family=\"Times,serif\" font-size=\"14.00\" fill=\"white\">K_alim</text>\n</a>\n</g>\n</g>\n<!-- Mg_alim&#45;&gt;K_alim -->\n<g id=\"edge2\" class=\"edge\">\n<title>Mg_alim-&gt;K_alim</title>\n<g id=\"a_edge2\"><a xlink:title=\"(21, 20) : \">\n<path fill=\"none\" stroke=\"#4a4a4a\" d=\"M44.2,-71.7C44.2,-63.98 44.2,-54.71 44.2,-46.11\"/>\n<polygon fill=\"#4a4a4a\" stroke=\"#4a4a4a\" points=\"47.7,-46.1 44.2,-36.1 40.7,-46.1 47.7,-46.1\"/>\n</a>\n</g>\n</g>\n<!-- aperitifs_tartes_salees_pizzas -->\n<g id=\"node2\" class=\"node\">\n<title>aperitifs_tartes_salees_pizzas</title>\n<g id=\"a_node2\"><a xlink:title=\"(37) aperitifs_tartes_salees_pizzas\">\n<ellipse fill=\"#404040\" stroke=\"black\" cx=\"217.2\" cy=\"-162\" rx=\"114.28\" ry=\"18\"/>\n<text text-anchor=\"middle\" x=\"217.2\" y=\"-158.3\" font-family=\"Times,serif\" font-size=\"14.00\" fill=\"white\">aperitifs_tartes_salees_pizzas</text>\n</a>\n</g>\n</g>\n<!-- Fe_alim -->\n<g id=\"node3\" class=\"node\">\n<title>Fe_alim</title>\n<g id=\"a_node3\"><a xlink:title=\"(24) Fe_alim\">\n<ellipse fill=\"#404040\" stroke=\"black\" cx=\"44.2\" cy=\"-162\" rx=\"40.09\" ry=\"18\"/>\n<text text-anchor=\"middle\" x=\"44.2\" y=\"-158.3\" font-family=\"Times,serif\" font-size=\"14.00\" fill=\"white\">Fe_alim</text>\n</a>\n</g>\n</g>\n<!-- Fe_alim&#45;&gt;Mg_alim -->\n<g id=\"edge10\" class=\"edge\">\n<title>Fe_alim-&gt;Mg_alim</title>\n<g id=\"a_edge10\"><a xlink:title=\"(24, 21) : \">\n<path fill=\"none\" stroke=\"#4a4a4a\" d=\"M44.2,-143.7C44.2,-135.98 44.2,-126.71 44.2,-118.11\"/>\n<polygon fill=\"#4a4a4a\" stroke=\"#4a4a4a\" points=\"47.7,-118.1 44.2,-108.1 40.7,-118.1 47.7,-118.1\"/>\n</a>\n</g>\n</g>\n<!-- VitB12_alim -->\n<g id=\"node4\" class=\"node\">\n<title>VitB12_alim</title>\n<g id=\"a_node4\"><a xlink:title=\"(33) VitB12_alim\">\n<ellipse fill=\"#404040\" stroke=\"black\" cx=\"407.2\" cy=\"-162\" rx=\"57.39\" ry=\"18\"/>\n<text text-anchor=\"middle\" x=\"407.2\" y=\"-158.3\" font-family=\"Times,serif\" font-size=\"14.00\" fill=\"white\">VitB12_alim</text>\n</a>\n</g>\n</g>\n<!-- VitB3_alim -->\n<g id=\"node5\" class=\"node\">\n<title>VitB3_alim</title>\n<g id=\"a_node5\"><a xlink:title=\"(29) VitB3_alim\">\n<ellipse fill=\"#404040\" stroke=\"black\" cx=\"535.2\" cy=\"-162\" rx=\"52.79\" ry=\"18\"/>\n<text text-anchor=\"middle\" x=\"535.2\" y=\"-158.3\" font-family=\"Times,serif\" font-size=\"14.00\" fill=\"white\">VitB3_alim</text>\n</a>\n</g>\n</g>\n<!-- legumes -->\n<g id=\"node6\" class=\"node\">\n<title>legumes</title>\n<g id=\"a_node6\"><a xlink:title=\"(49) legumes\">\n<ellipse fill=\"#404040\" stroke=\"black\" cx=\"646.2\" cy=\"-162\" rx=\"40.09\" ry=\"18\"/>\n<text text-anchor=\"middle\" x=\"646.2\" y=\"-158.3\" font-family=\"Times,serif\" font-size=\"14.00\" fill=\"white\">legumes</text>\n</a>\n</g>\n</g>\n<!-- Lipid_alim -->\n<g id=\"node7\" class=\"node\">\n<title>Lipid_alim</title>\n<g id=\"a_node7\"><a xlink:title=\"(12) Lipid_alim\">\n<ellipse fill=\"#404040\" stroke=\"black\" cx=\"774.2\" cy=\"-90\" rx=\"50.09\" ry=\"18\"/>\n<text text-anchor=\"middle\" x=\"774.2\" y=\"-86.3\" font-family=\"Times,serif\" font-size=\"14.00\" fill=\"white\">Lipid_alim</text>\n</a>\n</g>\n</g>\n<!-- Ph_alim -->\n<g id=\"node8\" class=\"node\">\n<title>Ph_alim</title>\n<g id=\"a_node8\"><a xlink:title=\"(22) Ph_alim\">\n<ellipse fill=\"#404040\" stroke=\"black\" cx=\"902.2\" cy=\"-162\" rx=\"40.09\" ry=\"18\"/>\n<text text-anchor=\"middle\" x=\"902.2\" y=\"-158.3\" font-family=\"Times,serif\" font-size=\"14.00\" fill=\"white\">Ph_alim</text>\n</a>\n</g>\n</g>\n<!-- VitB2_alim -->\n<g id=\"node9\" class=\"node\">\n<title>VitB2_alim</title>\n<g id=\"a_node9\"><a xlink:title=\"(28) VitB2_alim\">\n<ellipse fill=\"#404040\" stroke=\"black\" cx=\"1013.2\" cy=\"-90\" rx=\"52.79\" ry=\"18\"/>\n<text text-anchor=\"middle\" x=\"1013.2\" y=\"-86.3\" font-family=\"Times,serif\" font-size=\"14.00\" fill=\"white\">VitB2_alim</text>\n</a>\n</g>\n</g>\n<!-- boissons_sucrees_sans_alcool -->\n<g id=\"node10\" class=\"node\">\n<title>boissons_sucrees_sans_alcool</title>\n<g id=\"a_node10\"><a xlink:title=\"(40) boissons_sucrees_sans_alcool\">\n<ellipse fill=\"#404040\" stroke=\"black\" cx=\"1200.2\" cy=\"-162\" rx=\"116.18\" ry=\"18\"/>\n<text text-anchor=\"middle\" x=\"1200.2\" y=\"-158.3\" font-family=\"Times,serif\" font-size=\"14.00\" fill=\"white\">boissons_sucrees_sans_alcool</text>\n</a>\n</g>\n</g>\n<!-- viennoiseries_patisseries_biscui -->\n<g id=\"node11\" class=\"node\">\n<title>viennoiseries_patisseries_biscui</title>\n<g id=\"a_node11\"><a xlink:title=\"(61) viennoiseries_patisseries_biscui\">\n<ellipse fill=\"#404040\" stroke=\"black\" cx=\"1458.2\" cy=\"-162\" rx=\"123.48\" ry=\"18\"/>\n<text text-anchor=\"middle\" x=\"1458.2\" y=\"-158.3\" font-family=\"Times,serif\" font-size=\"14.00\" fill=\"white\">viennoiseries_patisseries_biscui</text>\n</a>\n</g>\n</g>\n<!-- SaturedLip_alim -->\n<g id=\"node12\" class=\"node\">\n<title>SaturedLip_alim</title>\n<g id=\"a_node12\"><a xlink:title=\"(14) SaturedLip_alim\">\n<ellipse fill=\"#404040\" stroke=\"black\" cx=\"774.2\" cy=\"-162\" rx=\"70.39\" ry=\"18\"/>\n<text text-anchor=\"middle\" x=\"774.2\" y=\"-158.3\" font-family=\"Times,serif\" font-size=\"14.00\" fill=\"white\">SaturedLip_alim</text>\n</a>\n</g>\n</g>\n<!-- SaturedLip_alim&#45;&gt;Lipid_alim -->\n<g id=\"edge9\" class=\"edge\">\n<title>SaturedLip_alim-&gt;Lipid_alim</title>\n<g id=\"a_edge9\"><a xlink:title=\"(14, 12) : \">\n<path fill=\"none\" stroke=\"#4a4a4a\" d=\"M774.2,-143.7C774.2,-135.98 774.2,-126.71 774.2,-118.11\"/>\n<polygon fill=\"#4a4a4a\" stroke=\"#4a4a4a\" points=\"777.7,-118.1 774.2,-108.1 770.7,-118.1 777.7,-118.1\"/>\n</a>\n</g>\n</g>\n<!-- Noix_graines -->\n<g id=\"node13\" class=\"node\">\n<title>Noix_graines</title>\n<g id=\"a_node13\"><a xlink:title=\"(51) Noix_graines\">\n<ellipse fill=\"#404040\" stroke=\"black\" cx=\"1712.2\" cy=\"-90\" rx=\"57.69\" ry=\"18\"/>\n<text text-anchor=\"middle\" x=\"1712.2\" y=\"-86.3\" font-family=\"Times,serif\" font-size=\"14.00\" fill=\"white\">Noix_graines</text>\n</a>\n</g>\n</g>\n<!-- Sugar_alim -->\n<g id=\"node33\" class=\"node\">\n<title>Sugar_alim</title>\n<g id=\"a_node33\"><a xlink:title=\"(9) Sugar_alim\">\n<ellipse fill=\"#404040\" stroke=\"black\" cx=\"1712.2\" cy=\"-18\" rx=\"51.99\" ry=\"18\"/>\n<text text-anchor=\"middle\" x=\"1712.2\" y=\"-14.3\" font-family=\"Times,serif\" font-size=\"14.00\" fill=\"white\">Sugar_alim</text>\n</a>\n</g>\n</g>\n<!-- Noix_graines&#45;&gt;Sugar_alim -->\n<g id=\"edge1\" class=\"edge\">\n<title>Noix_graines-&gt;Sugar_alim</title>\n<g id=\"a_edge1\"><a xlink:title=\"(51, 9) : \">\n<path fill=\"none\" stroke=\"#4a4a4a\" d=\"M1712.2,-71.7C1712.2,-63.98 1712.2,-54.71 1712.2,-46.11\"/>\n<polygon fill=\"#4a4a4a\" stroke=\"#4a4a4a\" points=\"1715.7,-46.1 1712.2,-36.1 1708.7,-46.1 1715.7,-46.1\"/>\n</a>\n</g>\n</g>\n<!-- boissons_non_sucrees_sans_alcool -->\n<g id=\"node14\" class=\"node\">\n<title>boissons_non_sucrees_sans_alcool</title>\n<g id=\"a_node14\"><a xlink:title=\"(39) boissons_non_sucrees_sans_alcool\">\n<ellipse fill=\"#404040\" stroke=\"black\" cx=\"2130.2\" cy=\"-162\" rx=\"133.78\" ry=\"18\"/>\n<text text-anchor=\"middle\" x=\"2130.2\" y=\"-158.3\" font-family=\"Times,serif\" font-size=\"14.00\" fill=\"white\">boissons_non_sucrees_sans_alcool</text>\n</a>\n</g>\n</g>\n<!-- Soupes -->\n<g id=\"node15\" class=\"node\">\n<title>Soupes</title>\n<g id=\"a_node15\"><a xlink:title=\"(57) Soupes\">\n<ellipse fill=\"#404040\" stroke=\"black\" cx=\"2318.2\" cy=\"-162\" rx=\"36.29\" ry=\"18\"/>\n<text text-anchor=\"middle\" x=\"2318.2\" y=\"-158.3\" font-family=\"Times,serif\" font-size=\"14.00\" fill=\"white\">Soupes</text>\n</a>\n</g>\n</g>\n<!-- cWI_ap -->\n<g id=\"node16\" class=\"node\">\n<title>cWI_ap</title>\n<g id=\"a_node16\"><a xlink:title=\"(0) cWI_ap\">\n<ellipse fill=\"#404040\" stroke=\"black\" cx=\"2411.2\" cy=\"-162\" rx=\"38.99\" ry=\"18\"/>\n<text text-anchor=\"middle\" x=\"2411.2\" y=\"-158.3\" font-family=\"Times,serif\" font-size=\"14.00\" fill=\"white\">cWI_ap</text>\n</a>\n</g>\n</g>\n<!-- PolyinSLip_alim -->\n<g id=\"node17\" class=\"node\">\n<title>PolyinSLip_alim</title>\n<g id=\"a_node17\"><a xlink:title=\"(16) PolyinSLip_alim\">\n<ellipse fill=\"#404040\" stroke=\"black\" cx=\"2539.2\" cy=\"-162\" rx=\"71.49\" ry=\"18\"/>\n<text text-anchor=\"middle\" x=\"2539.2\" y=\"-158.3\" font-family=\"Times,serif\" font-size=\"14.00\" fill=\"white\">PolyinSLip_alim</text>\n</a>\n</g>\n</g>\n<!-- Fiber_alim -->\n<g id=\"node18\" class=\"node\">\n<title>Fiber_alim</title>\n<g id=\"a_node18\"><a xlink:title=\"(11) Fiber_alim\">\n<ellipse fill=\"#404040\" stroke=\"black\" cx=\"1872.2\" cy=\"-90\" rx=\"50.09\" ry=\"18\"/>\n<text text-anchor=\"middle\" x=\"1872.2\" y=\"-86.3\" font-family=\"Times,serif\" font-size=\"14.00\" fill=\"white\">Fiber_alim</text>\n</a>\n</g>\n</g>\n<!-- pain_et_produits_panifies -->\n<g id=\"node19\" class=\"node\">\n<title>pain_et_produits_panifies</title>\n<g id=\"a_node19\"><a xlink:title=\"(53) pain_et_produits_panifies\">\n<ellipse fill=\"#404040\" stroke=\"black\" cx=\"2731.2\" cy=\"-162\" rx=\"102.08\" ry=\"18\"/>\n<text text-anchor=\"middle\" x=\"2731.2\" y=\"-158.3\" font-family=\"Times,serif\" font-size=\"14.00\" fill=\"white\">pain_et_produits_panifies</text>\n</a>\n</g>\n</g>\n<!-- VitB1_alim -->\n<g id=\"node21\" class=\"node\">\n<title>VitB1_alim</title>\n<g id=\"a_node21\"><a xlink:title=\"(27) VitB1_alim\">\n<ellipse fill=\"#404040\" stroke=\"black\" cx=\"2904.2\" cy=\"-162\" rx=\"52.79\" ry=\"18\"/>\n<text text-anchor=\"middle\" x=\"2904.2\" y=\"-158.3\" font-family=\"Times,serif\" font-size=\"14.00\" fill=\"white\">VitB1_alim</text>\n</a>\n</g>\n</g>\n<!-- Water_alim -->\n<g id=\"node22\" class=\"node\">\n<title>Water_alim</title>\n<g id=\"a_node22\"><a xlink:title=\"(4) Water_alim\">\n<ellipse fill=\"#404040\" stroke=\"black\" cx=\"3027.2\" cy=\"-162\" rx=\"52.79\" ry=\"18\"/>\n<text text-anchor=\"middle\" x=\"3027.2\" y=\"-158.3\" font-family=\"Times,serif\" font-size=\"14.00\" fill=\"white\">Water_alim</text>\n</a>\n</g>\n</g>\n<!-- CHO_alim -->\n<g id=\"node23\" class=\"node\">\n<title>CHO_alim</title>\n<g id=\"a_node23\"><a xlink:title=\"(7) CHO_alim\">\n<ellipse fill=\"#404040\" stroke=\"black\" cx=\"3148.2\" cy=\"-162\" rx=\"50.09\" ry=\"18\"/>\n<text text-anchor=\"middle\" x=\"3148.2\" y=\"-158.3\" font-family=\"Times,serif\" font-size=\"14.00\" fill=\"white\">CHO_alim</text>\n</a>\n</g>\n</g>\n<!-- cereales -->\n<g id=\"node24\" class=\"node\">\n<title>cereales</title>\n<g id=\"a_node24\"><a xlink:title=\"(41) cereales\">\n<ellipse fill=\"#404040\" stroke=\"black\" cx=\"3255.2\" cy=\"-162\" rx=\"38.99\" ry=\"18\"/>\n<text text-anchor=\"middle\" x=\"3255.2\" y=\"-158.3\" font-family=\"Times,serif\" font-size=\"14.00\" fill=\"white\">cereales</text>\n</a>\n</g>\n</g>\n<!-- Alcohol_alim -->\n<g id=\"node25\" class=\"node\">\n<title>Alcohol_alim</title>\n<g id=\"a_node25\"><a xlink:title=\"(18) Alcohol_alim\">\n<ellipse fill=\"#404040\" stroke=\"black\" cx=\"3396.2\" cy=\"-90\" rx=\"59.59\" ry=\"18\"/>\n<text text-anchor=\"middle\" x=\"3396.2\" y=\"-86.3\" font-family=\"Times,serif\" font-size=\"14.00\" fill=\"white\">Alcohol_alim</text>\n</a>\n</g>\n</g>\n<!-- sauces_et_condiments -->\n<g id=\"node26\" class=\"node\">\n<title>sauces_et_condiments</title>\n<g id=\"a_node26\"><a xlink:title=\"(56) sauces_et_condiments\">\n<ellipse fill=\"#404040\" stroke=\"black\" cx=\"3588.2\" cy=\"-162\" rx=\"89.88\" ry=\"18\"/>\n<text text-anchor=\"middle\" x=\"3588.2\" y=\"-158.3\" font-family=\"Times,serif\" font-size=\"14.00\" fill=\"white\">sauces_et_condiments</text>\n</a>\n</g>\n</g>\n<!-- cereales_du_petit_dejeuner -->\n<g id=\"node27\" class=\"node\">\n<title>cereales_du_petit_dejeuner</title>\n<g id=\"a_node27\"><a xlink:title=\"(42) cereales_du_petit_dejeuner\">\n<ellipse fill=\"#404040\" stroke=\"black\" cx=\"1872.2\" cy=\"-162\" rx=\"106.68\" ry=\"18\"/>\n<text text-anchor=\"middle\" x=\"1872.2\" y=\"-158.3\" font-family=\"Times,serif\" font-size=\"14.00\" fill=\"white\">cereales_du_petit_dejeuner</text>\n</a>\n</g>\n</g>\n<!-- cereales_du_petit_dejeuner&#45;&gt;Noix_graines -->\n<g id=\"edge3\" class=\"edge\">\n<title>cereales_du_petit_dejeuner-&gt;Noix_graines</title>\n<g id=\"a_edge3\"><a xlink:title=\"(42, 51) : \">\n<path fill=\"none\" stroke=\"#4a4a4a\" d=\"M1835.49,-144.94C1811.11,-134.27 1779.05,-120.25 1753.74,-109.18\"/>\n<polygon fill=\"#4a4a4a\" stroke=\"#4a4a4a\" points=\"1754.96,-105.89 1744.4,-105.09 1752.16,-112.3 1754.96,-105.89\"/>\n</a>\n</g>\n</g>\n<!-- cereales_du_petit_dejeuner&#45;&gt;Fiber_alim -->\n<g id=\"edge6\" class=\"edge\">\n<title>cereales_du_petit_dejeuner-&gt;Fiber_alim</title>\n<g id=\"a_edge6\"><a xlink:title=\"(42, 11) : \">\n<path fill=\"none\" stroke=\"#4a4a4a\" d=\"M1872.2,-143.7C1872.2,-135.98 1872.2,-126.71 1872.2,-118.11\"/>\n<polygon fill=\"#4a4a4a\" stroke=\"#4a4a4a\" points=\"1875.7,-118.1 1872.2,-108.1 1868.7,-118.1 1875.7,-118.1\"/>\n</a>\n</g>\n</g>\n<!-- Betacarotene_alim -->\n<g id=\"node28\" class=\"node\">\n<title>Betacarotene_alim</title>\n<g id=\"a_node28\"><a xlink:title=\"(26) Betacarotene_alim\">\n<ellipse fill=\"#404040\" stroke=\"black\" cx=\"3773.2\" cy=\"-162\" rx=\"77.19\" ry=\"18\"/>\n<text text-anchor=\"middle\" x=\"3773.2\" y=\"-158.3\" font-family=\"Times,serif\" font-size=\"14.00\" fill=\"white\">Betacarotene_alim</text>\n</a>\n</g>\n</g>\n<!-- Prpourc_alim -->\n<g id=\"node29\" class=\"node\">\n<title>Prpourc_alim</title>\n<g id=\"a_node29\"><a xlink:title=\"(6) Prpourc_alim\">\n<ellipse fill=\"#404040\" stroke=\"black\" cx=\"3927.2\" cy=\"-162\" rx=\"59.29\" ry=\"18\"/>\n<text text-anchor=\"middle\" x=\"3927.2\" y=\"-158.3\" font-family=\"Times,serif\" font-size=\"14.00\" fill=\"white\">Prpourc_alim</text>\n</a>\n</g>\n</g>\n<!-- VitE_alim -->\n<g id=\"node30\" class=\"node\">\n<title>VitE_alim</title>\n<g id=\"a_node30\"><a xlink:title=\"(36) VitE_alim\">\n<ellipse fill=\"#404040\" stroke=\"black\" cx=\"4052.2\" cy=\"-162\" rx=\"48.19\" ry=\"18\"/>\n<text text-anchor=\"middle\" x=\"4052.2\" y=\"-158.3\" font-family=\"Times,serif\" font-size=\"14.00\" fill=\"white\">VitE_alim</text>\n</a>\n</g>\n</g>\n<!-- Amidon_alim -->\n<g id=\"node31\" class=\"node\">\n<title>Amidon_alim</title>\n<g id=\"a_node31\"><a xlink:title=\"(10) Amidon_alim\">\n<ellipse fill=\"#404040\" stroke=\"black\" cx=\"4179.2\" cy=\"-162\" rx=\"60.39\" ry=\"18\"/>\n<text text-anchor=\"middle\" x=\"4179.2\" y=\"-158.3\" font-family=\"Times,serif\" font-size=\"14.00\" fill=\"white\">Amidon_alim</text>\n</a>\n</g>\n</g>\n<!-- Sodium_alim -->\n<g id=\"node32\" class=\"node\">\n<title>Sodium_alim</title>\n<g id=\"a_node32\"><a xlink:title=\"(19) Sodium_alim\">\n<ellipse fill=\"#404040\" stroke=\"black\" cx=\"4317.2\" cy=\"-162\" rx=\"59.29\" ry=\"18\"/>\n<text text-anchor=\"middle\" x=\"4317.2\" y=\"-158.3\" font-family=\"Times,serif\" font-size=\"14.00\" fill=\"white\">Sodium_alim</text>\n</a>\n</g>\n</g>\n<!-- CHOpourc_alim -->\n<g id=\"node34\" class=\"node\">\n<title>CHOpourc_alim</title>\n<g id=\"a_node34\"><a xlink:title=\"(8) CHOpourc_alim\">\n<ellipse fill=\"#404040\" stroke=\"black\" cx=\"4464.2\" cy=\"-162\" rx=\"69.59\" ry=\"18\"/>\n<text text-anchor=\"middle\" x=\"4464.2\" y=\"-158.3\" font-family=\"Times,serif\" font-size=\"14.00\" fill=\"white\">CHOpourc_alim</text>\n</a>\n</g>\n</g>\n<!-- VitD_alim -->\n<g id=\"node35\" class=\"node\">\n<title>VitD_alim</title>\n<g id=\"a_node35\"><a xlink:title=\"(35) VitD_alim\">\n<ellipse fill=\"#404040\" stroke=\"black\" cx=\"4600.2\" cy=\"-162\" rx=\"48.99\" ry=\"18\"/>\n<text text-anchor=\"middle\" x=\"4600.2\" y=\"-158.3\" font-family=\"Times,serif\" font-size=\"14.00\" fill=\"white\">VitD_alim</text>\n</a>\n</g>\n</g>\n<!-- boissons_alcoolisees -->\n<g id=\"node36\" class=\"node\">\n<title>boissons_alcoolisees</title>\n<g id=\"a_node36\"><a xlink:title=\"(38) boissons_alcoolisees\">\n<ellipse fill=\"#404040\" stroke=\"black\" cx=\"3396.2\" cy=\"-162\" rx=\"83.69\" ry=\"18\"/>\n<text text-anchor=\"middle\" x=\"3396.2\" y=\"-158.3\" font-family=\"Times,serif\" font-size=\"14.00\" fill=\"white\">boissons_alcoolisees</text>\n</a>\n</g>\n</g>\n<!-- boissons_alcoolisees&#45;&gt;Alcohol_alim -->\n<g id=\"edge5\" class=\"edge\">\n<title>boissons_alcoolisees-&gt;Alcohol_alim</title>\n<g id=\"a_edge5\"><a xlink:title=\"(38, 18) : \">\n<path fill=\"none\" stroke=\"#4a4a4a\" d=\"M3396.2,-143.7C3396.2,-135.98 3396.2,-126.71 3396.2,-118.11\"/>\n<polygon fill=\"#4a4a4a\" stroke=\"#4a4a4a\" points=\"3399.7,-118.1 3396.2,-108.1 3392.7,-118.1 3399.7,-118.1\"/>\n</a>\n</g>\n</g>\n<!-- charcuterie -->\n<g id=\"node37\" class=\"node\">\n<title>charcuterie</title>\n<g id=\"a_node37\"><a xlink:title=\"(43) charcuterie\">\n<ellipse fill=\"#404040\" stroke=\"black\" cx=\"4717.2\" cy=\"-162\" rx=\"50.09\" ry=\"18\"/>\n<text text-anchor=\"middle\" x=\"4717.2\" y=\"-158.3\" font-family=\"Times,serif\" font-size=\"14.00\" fill=\"white\">charcuterie</text>\n</a>\n</g>\n</g>\n<!-- corps_gras -->\n<g id=\"node38\" class=\"node\">\n<title>corps_gras</title>\n<g id=\"a_node38\"><a xlink:title=\"(44) corps_gras\">\n<ellipse fill=\"#404040\" stroke=\"black\" cx=\"4834.2\" cy=\"-162\" rx=\"48.99\" ry=\"18\"/>\n<text text-anchor=\"middle\" x=\"4834.2\" y=\"-158.3\" font-family=\"Times,serif\" font-size=\"14.00\" fill=\"white\">corps_gras</text>\n</a>\n</g>\n</g>\n<!-- legumineuses -->\n<g id=\"node39\" class=\"node\">\n<title>legumineuses</title>\n<g id=\"a_node39\"><a xlink:title=\"(50) legumineuses\">\n<ellipse fill=\"#404040\" stroke=\"black\" cx=\"4960.2\" cy=\"-162\" rx=\"59.29\" ry=\"18\"/>\n<text text-anchor=\"middle\" x=\"4960.2\" y=\"-158.3\" font-family=\"Times,serif\" font-size=\"14.00\" fill=\"white\">legumineuses</text>\n</a>\n</g>\n</g>\n<!-- VitB6_alim -->\n<g id=\"node40\" class=\"node\">\n<title>VitB6_alim</title>\n<g id=\"a_node40\"><a xlink:title=\"(31) VitB6_alim\">\n<ellipse fill=\"#404040\" stroke=\"black\" cx=\"5090.2\" cy=\"-162\" rx=\"52.79\" ry=\"18\"/>\n<text text-anchor=\"middle\" x=\"5090.2\" y=\"-158.3\" font-family=\"Times,serif\" font-size=\"14.00\" fill=\"white\">VitB6_alim</text>\n</a>\n</g>\n</g>\n<!-- viande_blanche -->\n<g id=\"node41\" class=\"node\">\n<title>viande_blanche</title>\n<g id=\"a_node41\"><a xlink:title=\"(59) viande_blanche\">\n<ellipse fill=\"#404040\" stroke=\"black\" cx=\"5226.2\" cy=\"-162\" rx=\"65.79\" ry=\"18\"/>\n<text text-anchor=\"middle\" x=\"5226.2\" y=\"-158.3\" font-family=\"Times,serif\" font-size=\"14.00\" fill=\"white\">viande_blanche</text>\n</a>\n</g>\n</g>\n<!-- Lippourc_alim -->\n<g id=\"node42\" class=\"node\">\n<title>Lippourc_alim</title>\n<g id=\"a_node42\"><a xlink:title=\"(13) Lippourc_alim\">\n<ellipse fill=\"#404040\" stroke=\"black\" cx=\"5373.2\" cy=\"-162\" rx=\"63.89\" ry=\"18\"/>\n<text text-anchor=\"middle\" x=\"5373.2\" y=\"-158.3\" font-family=\"Times,serif\" font-size=\"14.00\" fill=\"white\">Lippourc_alim</text>\n</a>\n</g>\n</g>\n<!-- produits_sucres -->\n<g id=\"node43\" class=\"node\">\n<title>produits_sucres</title>\n<g id=\"a_node43\"><a xlink:title=\"(55) produits_sucres\">\n<ellipse fill=\"#404040\" stroke=\"black\" cx=\"5520.2\" cy=\"-162\" rx=\"65.79\" ry=\"18\"/>\n<text text-anchor=\"middle\" x=\"5520.2\" y=\"-158.3\" font-family=\"Times,serif\" font-size=\"14.00\" fill=\"white\">produits_sucres</text>\n</a>\n</g>\n</g>\n<!-- MonoSLip_alim -->\n<g id=\"node44\" class=\"node\">\n<title>MonoSLip_alim</title>\n<g id=\"a_node44\"><a xlink:title=\"(15) MonoSLip_alim\">\n<ellipse fill=\"#404040\" stroke=\"black\" cx=\"5673.2\" cy=\"-162\" rx=\"69.59\" ry=\"18\"/>\n<text text-anchor=\"middle\" x=\"5673.2\" y=\"-158.3\" font-family=\"Times,serif\" font-size=\"14.00\" fill=\"white\">MonoSLip_alim</text>\n</a>\n</g>\n</g>\n<!-- viande_rouge -->\n<g id=\"node45\" class=\"node\">\n<title>viande_rouge</title>\n<g id=\"a_node45\"><a xlink:title=\"(60) viande_rouge\">\n<ellipse fill=\"#404040\" stroke=\"black\" cx=\"5819.2\" cy=\"-162\" rx=\"58.49\" ry=\"18\"/>\n<text text-anchor=\"middle\" x=\"5819.2\" y=\"-158.3\" font-family=\"Times,serif\" font-size=\"14.00\" fill=\"white\">viande_rouge</text>\n</a>\n</g>\n</g>\n<!-- fruits -->\n<g id=\"node46\" class=\"node\">\n<title>fruits</title>\n<g id=\"a_node46\"><a xlink:title=\"(47) fruits\">\n<ellipse fill=\"#404040\" stroke=\"black\" cx=\"1629.2\" cy=\"-162\" rx=\"29.5\" ry=\"18\"/>\n<text text-anchor=\"middle\" x=\"1629.2\" y=\"-158.3\" font-family=\"Times,serif\" font-size=\"14.00\" fill=\"white\">fruits</text>\n</a>\n</g>\n</g>\n<!-- fruits&#45;&gt;Noix_graines -->\n<g id=\"edge4\" class=\"edge\">\n<title>fruits-&gt;Noix_graines</title>\n<g id=\"a_edge4\"><a xlink:title=\"(47, 51) : \">\n<path fill=\"none\" stroke=\"#4a4a4a\" d=\"M1645.99,-146.83C1657.29,-137.31 1672.43,-124.54 1685.38,-113.62\"/>\n<polygon fill=\"#4a4a4a\" stroke=\"#4a4a4a\" points=\"1687.71,-116.23 1693.1,-107.1 1683.2,-110.87 1687.71,-116.23\"/>\n</a>\n</g>\n</g>\n<!-- tubercules -->\n<g id=\"node47\" class=\"node\">\n<title>tubercules</title>\n<g id=\"a_node47\"><a xlink:title=\"(58) tubercules\">\n<ellipse fill=\"#404040\" stroke=\"black\" cx=\"5942.2\" cy=\"-162\" rx=\"46.59\" ry=\"18\"/>\n<text text-anchor=\"middle\" x=\"5942.2\" y=\"-158.3\" font-family=\"Times,serif\" font-size=\"14.00\" fill=\"white\">tubercules</text>\n</a>\n</g>\n</g>\n<!-- eau -->\n<g id=\"node48\" class=\"node\">\n<title>eau</title>\n<g id=\"a_node48\"><a xlink:title=\"(45) eau\">\n<ellipse fill=\"#404040\" stroke=\"black\" cx=\"6034.2\" cy=\"-162\" rx=\"27\" ry=\"18\"/>\n<text text-anchor=\"middle\" x=\"6034.2\" y=\"-158.3\" font-family=\"Times,serif\" font-size=\"14.00\" fill=\"white\">eau</text>\n</a>\n</g>\n</g>\n<!-- Pr_alim -->\n<g id=\"node49\" class=\"node\">\n<title>Pr_alim</title>\n<g id=\"a_node49\"><a xlink:title=\"(5) Pr_alim\">\n<ellipse fill=\"#404040\" stroke=\"black\" cx=\"6118.2\" cy=\"-162\" rx=\"38.99\" ry=\"18\"/>\n<text text-anchor=\"middle\" x=\"6118.2\" y=\"-158.3\" font-family=\"Times,serif\" font-size=\"14.00\" fill=\"white\">Pr_alim</text>\n</a>\n</g>\n</g>\n<!-- yaourt_fromage_blanc -->\n<g id=\"node50\" class=\"node\">\n<title>yaourt_fromage_blanc</title>\n<g id=\"a_node50\"><a xlink:title=\"(62) yaourt_fromage_blanc\">\n<ellipse fill=\"#404040\" stroke=\"black\" cx=\"6266.2\" cy=\"-162\" rx=\"90.98\" ry=\"18\"/>\n<text text-anchor=\"middle\" x=\"6266.2\" y=\"-158.3\" font-family=\"Times,serif\" font-size=\"14.00\" fill=\"white\">yaourt_fromage_blanc</text>\n</a>\n</g>\n</g>\n<!-- cLI_ap -->\n<g id=\"node51\" class=\"node\">\n<title>cLI_ap</title>\n<g id=\"a_node51\"><a xlink:title=\"(2) cLI_ap\">\n<ellipse fill=\"#404040\" stroke=\"black\" cx=\"1712.2\" cy=\"-162\" rx=\"36\" ry=\"18\"/>\n<text text-anchor=\"middle\" x=\"1712.2\" y=\"-158.3\" font-family=\"Times,serif\" font-size=\"14.00\" fill=\"white\">cLI_ap</text>\n</a>\n</g>\n</g>\n<!-- cLI_ap&#45;&gt;Noix_graines -->\n<g id=\"edge7\" class=\"edge\">\n<title>cLI_ap-&gt;Noix_graines</title>\n<g id=\"a_edge7\"><a xlink:title=\"(2, 51) : \">\n<path fill=\"none\" stroke=\"#4a4a4a\" d=\"M1712.2,-143.7C1712.2,-135.98 1712.2,-126.71 1712.2,-118.11\"/>\n<polygon fill=\"#4a4a4a\" stroke=\"#4a4a4a\" points=\"1715.7,-118.1 1712.2,-108.1 1708.7,-118.1 1715.7,-118.1\"/>\n</a>\n</g>\n</g>\n<!-- Chol_alim -->\n<g id=\"node52\" class=\"node\">\n<title>Chol_alim</title>\n<g id=\"a_node52\"><a xlink:title=\"(17) Chol_alim\">\n<ellipse fill=\"#404040\" stroke=\"black\" cx=\"6423.2\" cy=\"-162\" rx=\"48.19\" ry=\"18\"/>\n<text text-anchor=\"middle\" x=\"6423.2\" y=\"-158.3\" font-family=\"Times,serif\" font-size=\"14.00\" fill=\"white\">Chol_alim</text>\n</a>\n</g>\n</g>\n<!-- Ca_alim -->\n<g id=\"node53\" class=\"node\">\n<title>Ca_alim</title>\n<g id=\"a_node53\"><a xlink:title=\"(23) Ca_alim\">\n<ellipse fill=\"#404040\" stroke=\"black\" cx=\"6530.2\" cy=\"-162\" rx=\"40.89\" ry=\"18\"/>\n<text text-anchor=\"middle\" x=\"6530.2\" y=\"-158.3\" font-family=\"Times,serif\" font-size=\"14.00\" fill=\"white\">Ca_alim</text>\n</a>\n</g>\n</g>\n<!-- VitA_alim -->\n<g id=\"node54\" class=\"node\">\n<title>VitA_alim</title>\n<g id=\"a_node54\"><a xlink:title=\"(25) VitA_alim\">\n<ellipse fill=\"#404040\" stroke=\"black\" cx=\"6638.2\" cy=\"-162\" rx=\"48.99\" ry=\"18\"/>\n<text text-anchor=\"middle\" x=\"6638.2\" y=\"-158.3\" font-family=\"Times,serif\" font-size=\"14.00\" fill=\"white\">VitA_alim</text>\n</a>\n</g>\n</g>\n<!-- VitB5_alim -->\n<g id=\"node55\" class=\"node\">\n<title>VitB5_alim</title>\n<g id=\"a_node55\"><a xlink:title=\"(30) VitB5_alim\">\n<ellipse fill=\"#404040\" stroke=\"black\" cx=\"1013.2\" cy=\"-162\" rx=\"52.79\" ry=\"18\"/>\n<text text-anchor=\"middle\" x=\"1013.2\" y=\"-158.3\" font-family=\"Times,serif\" font-size=\"14.00\" fill=\"white\">VitB5_alim</text>\n</a>\n</g>\n</g>\n<!-- VitB5_alim&#45;&gt;VitB2_alim -->\n<g id=\"edge8\" class=\"edge\">\n<title>VitB5_alim-&gt;VitB2_alim</title>\n<g id=\"a_edge8\"><a xlink:title=\"(30, 28) : \">\n<path fill=\"none\" stroke=\"#4a4a4a\" d=\"M1013.2,-143.7C1013.2,-135.98 1013.2,-126.71 1013.2,-118.11\"/>\n<polygon fill=\"#4a4a4a\" stroke=\"#4a4a4a\" points=\"1016.7,-118.1 1013.2,-108.1 1009.7,-118.1 1016.7,-118.1\"/>\n</a>\n</g>\n</g>\n<!-- VitB9_alim -->\n<g id=\"node56\" class=\"node\">\n<title>VitB9_alim</title>\n<g id=\"a_node56\"><a xlink:title=\"(32) VitB9_alim\">\n<ellipse fill=\"#404040\" stroke=\"black\" cx=\"6757.2\" cy=\"-162\" rx=\"52.79\" ry=\"18\"/>\n<text text-anchor=\"middle\" x=\"6757.2\" y=\"-158.3\" font-family=\"Times,serif\" font-size=\"14.00\" fill=\"white\">VitB9_alim</text>\n</a>\n</g>\n</g>\n<!-- fromage -->\n<g id=\"node57\" class=\"node\">\n<title>fromage</title>\n<g id=\"a_node57\"><a xlink:title=\"(46) fromage\">\n<ellipse fill=\"#404040\" stroke=\"black\" cx=\"6868.2\" cy=\"-162\" rx=\"40.09\" ry=\"18\"/>\n<text text-anchor=\"middle\" x=\"6868.2\" y=\"-158.3\" font-family=\"Times,serif\" font-size=\"14.00\" fill=\"white\">fromage</text>\n</a>\n</g>\n</g>\n<!-- lait -->\n<g id=\"node58\" class=\"node\">\n<title>lait</title>\n<g id=\"a_node58\"><a xlink:title=\"(48) lait\">\n<ellipse fill=\"#404040\" stroke=\"black\" cx=\"6953.2\" cy=\"-162\" rx=\"27\" ry=\"18\"/>\n<text text-anchor=\"middle\" x=\"6953.2\" y=\"-158.3\" font-family=\"Times,serif\" font-size=\"14.00\" fill=\"white\">lait</text>\n</a>\n</g>\n</g>\n<!-- VitC_alim -->\n<g id=\"node59\" class=\"node\">\n<title>VitC_alim</title>\n<g id=\"a_node59\"><a xlink:title=\"(34) VitC_alim\">\n<ellipse fill=\"#404040\" stroke=\"black\" cx=\"7046.2\" cy=\"-162\" rx=\"48.19\" ry=\"18\"/>\n<text text-anchor=\"middle\" x=\"7046.2\" y=\"-158.3\" font-family=\"Times,serif\" font-size=\"14.00\" fill=\"white\">VitC_alim</text>\n</a>\n</g>\n</g>\n<!-- oeufs -->\n<g id=\"node60\" class=\"node\">\n<title>oeufs</title>\n<g id=\"a_node60\"><a xlink:title=\"(52) oeufs\">\n<ellipse fill=\"#404040\" stroke=\"black\" cx=\"7142.2\" cy=\"-162\" rx=\"29.8\" ry=\"18\"/>\n<text text-anchor=\"middle\" x=\"7142.2\" y=\"-158.3\" font-family=\"Times,serif\" font-size=\"14.00\" fill=\"white\">oeufs</text>\n</a>\n</g>\n</g>\n<!-- cSI_ap -->\n<g id=\"node61\" class=\"node\">\n<title>cSI_ap</title>\n<g id=\"a_node61\"><a xlink:title=\"(1) cSI_ap\">\n<ellipse fill=\"#404040\" stroke=\"black\" cx=\"7225.2\" cy=\"-162\" rx=\"35.19\" ry=\"18\"/>\n<text text-anchor=\"middle\" x=\"7225.2\" y=\"-158.3\" font-family=\"Times,serif\" font-size=\"14.00\" fill=\"white\">cSI_ap</text>\n</a>\n</g>\n</g>\n<!-- produits_aquatiques -->\n<g id=\"node62\" class=\"node\">\n<title>produits_aquatiques</title>\n<g id=\"a_node62\"><a xlink:title=\"(54) produits_aquatiques\">\n<ellipse fill=\"#404040\" stroke=\"black\" cx=\"7359.2\" cy=\"-162\" rx=\"81.49\" ry=\"18\"/>\n<text text-anchor=\"middle\" x=\"7359.2\" y=\"-158.3\" font-family=\"Times,serif\" font-size=\"14.00\" fill=\"white\">produits_aquatiques</text>\n</a>\n</g>\n</g>\n<!-- Food_intake_alim -->\n<g id=\"node63\" class=\"node\">\n<title>Food_intake_alim</title>\n<g id=\"a_node63\"><a xlink:title=\"(3) Food_intake_alim\">\n<ellipse fill=\"#404040\" stroke=\"black\" cx=\"7534.2\" cy=\"-162\" rx=\"75.29\" ry=\"18\"/>\n<text text-anchor=\"middle\" x=\"7534.2\" y=\"-158.3\" font-family=\"Times,serif\" font-size=\"14.00\" fill=\"white\">Food_intake_alim</text>\n</a>\n</g>\n</g>\n</g>\n</svg>",
      "text/plain": [
       "<IPython.core.display.SVG object>"
      ]
     },
     "metadata": {},
     "output_type": "display_data"
    }
   ],
   "source": [
    "learner=gum.BNLearner(\"data/discr_data_env.csv\")\n",
    "learner.useLocalSearchWithTabuList()\n",
    "bn_l = learner.learnBN()\n",
    "export(bn_l,\"data/env_Local_search.pdf\")\n",
    "\n",
    "learner=gum.BNLearner(\"data/discr_data_env.csv\")\n",
    "learner.useGreedyHillClimbing()\n",
    "bn_G = learner.learnBN()\n",
    "export(bn_G,\"data/env_Hill_Climbing.pdf\")\n",
    "gnb.showBN(bn_G,size=60000)"
   ]
  },
  {
   "cell_type": "markdown",
   "metadata": {},
   "source": [
    "### Host"
   ]
  },
  {
   "cell_type": "code",
   "execution_count": 25,
   "metadata": {},
   "outputs": [],
   "source": [
    "to_csv(data_host, \"data/discr_data_host.csv\")"
   ]
  },
  {
   "cell_type": "code",
   "execution_count": 109,
   "metadata": {},
   "outputs": [
    {
     "data": {
      "image/svg+xml": "<svg xmlns=\"http://www.w3.org/2000/svg\" xmlns:xlink=\"http://www.w3.org/1999/xlink\" width=\"3818pt\" height=\"404pt\" viewBox=\"0.00 0.00 3818.14 404.00\">\n<g id=\"graph0\" class=\"graph\" transform=\"scale(1 1) rotate(0) translate(4 400)\">\n<title>G</title>\n<!-- cIns_meta -->\n<g id=\"node1\" class=\"node\">\n<title>cIns_meta</title>\n<g id=\"a_node1\"><a xlink:title=\"(13) cIns_meta\">\n<ellipse fill=\"#404040\" stroke=\"black\" cx=\"149.34\" cy=\"-162\" rx=\"47.39\" ry=\"18\"/>\n<text text-anchor=\"middle\" x=\"149.34\" y=\"-158.3\" font-family=\"Times,serif\" font-size=\"14.00\" fill=\"white\">cIns_meta</text>\n</a>\n</g>\n</g>\n<!-- cFIRI_clin -->\n<g id=\"node25\" class=\"node\">\n<title>cFIRI_clin</title>\n<g id=\"a_node25\"><a xlink:title=\"(21) cFIRI_clin\">\n<ellipse fill=\"#404040\" stroke=\"black\" cx=\"221.34\" cy=\"-90\" rx=\"48.99\" ry=\"18\"/>\n<text text-anchor=\"middle\" x=\"221.34\" y=\"-86.3\" font-family=\"Times,serif\" font-size=\"14.00\" fill=\"white\">cFIRI_clin</text>\n</a>\n</g>\n</g>\n<!-- cIns_meta&#45;&gt;cFIRI_clin -->\n<g id=\"edge19\" class=\"edge\">\n<title>cIns_meta-&gt;cFIRI_clin</title>\n<g id=\"a_edge19\"><a xlink:title=\"(13, 21) : \">\n<path fill=\"none\" stroke=\"#4a4a4a\" d=\"M166.04,-144.76C175.4,-135.66 187.23,-124.16 197.55,-114.13\"/>\n<polygon fill=\"#4a4a4a\" stroke=\"#4a4a4a\" points=\"200,-116.63 204.73,-107.15 195.12,-111.61 200,-116.63\"/>\n</a>\n</g>\n</g>\n<!-- cHOMA_IR_meta -->\n<g id=\"node43\" class=\"node\">\n<title>cHOMA_IR_meta</title>\n<g id=\"a_node43\"><a xlink:title=\"(16) cHOMA_IR_meta\">\n<ellipse fill=\"#404040\" stroke=\"black\" cx=\"77.34\" cy=\"-90\" rx=\"77.19\" ry=\"18\"/>\n<text text-anchor=\"middle\" x=\"77.34\" y=\"-86.3\" font-family=\"Times,serif\" font-size=\"14.00\" fill=\"white\">cHOMA_IR_meta</text>\n</a>\n</g>\n</g>\n<!-- cIns_meta&#45;&gt;cHOMA_IR_meta -->\n<g id=\"edge12\" class=\"edge\">\n<title>cIns_meta-&gt;cHOMA_IR_meta</title>\n<g id=\"a_edge12\"><a xlink:title=\"(13, 16) : \">\n<path fill=\"none\" stroke=\"#4a4a4a\" d=\"M132.64,-144.76C123.51,-135.88 112.02,-124.71 101.88,-114.85\"/>\n<polygon fill=\"#4a4a4a\" stroke=\"#4a4a4a\" points=\"104.06,-112.09 94.45,-107.63 99.18,-117.11 104.06,-112.09\"/>\n</a>\n</g>\n</g>\n<!-- cQUICKI_meta -->\n<g id=\"node2\" class=\"node\">\n<title>cQUICKI_meta</title>\n<g id=\"a_node2\"><a xlink:title=\"(18) cQUICKI_meta\">\n<ellipse fill=\"#404040\" stroke=\"black\" cx=\"151.34\" cy=\"-306\" rx=\"67.69\" ry=\"18\"/>\n<text text-anchor=\"middle\" x=\"151.34\" y=\"-302.3\" font-family=\"Times,serif\" font-size=\"14.00\" fill=\"white\">cQUICKI_meta</text>\n</a>\n</g>\n</g>\n<!-- cHOMA_S_meta -->\n<g id=\"node35\" class=\"node\">\n<title>cHOMA_S_meta</title>\n<g id=\"a_node35\"><a xlink:title=\"(15) cHOMA_S_meta\">\n<ellipse fill=\"#404040\" stroke=\"black\" cx=\"149.34\" cy=\"-234\" rx=\"73.39\" ry=\"18\"/>\n<text text-anchor=\"middle\" x=\"149.34\" y=\"-230.3\" font-family=\"Times,serif\" font-size=\"14.00\" fill=\"white\">cHOMA_S_meta</text>\n</a>\n</g>\n</g>\n<!-- cQUICKI_meta&#45;&gt;cHOMA_S_meta -->\n<g id=\"edge17\" class=\"edge\">\n<title>cQUICKI_meta-&gt;cHOMA_S_meta</title>\n<g id=\"a_edge17\"><a xlink:title=\"(18, 15) : \">\n<path fill=\"none\" stroke=\"#4a4a4a\" d=\"M150.85,-287.7C150.63,-279.98 150.36,-270.71 150.12,-262.11\"/>\n<polygon fill=\"#4a4a4a\" stroke=\"#4a4a4a\" points=\"153.62,-262 149.83,-252.1 146.62,-262.2 153.62,-262\"/>\n</a>\n</g>\n</g>\n<!-- cTH_corp -->\n<g id=\"node3\" class=\"node\">\n<title>cTH_corp</title>\n<g id=\"a_node3\"><a xlink:title=\"(4) cTH_corp\">\n<ellipse fill=\"#404040\" stroke=\"black\" cx=\"693.34\" cy=\"-378\" rx=\"46.29\" ry=\"18\"/>\n<text text-anchor=\"middle\" x=\"693.34\" y=\"-374.3\" font-family=\"Times,serif\" font-size=\"14.00\" fill=\"white\">cTH_corp</text>\n</a>\n</g>\n</g>\n<!-- cGly_meta -->\n<g id=\"node4\" class=\"node\">\n<title>cGly_meta</title>\n<g id=\"a_node4\"><a xlink:title=\"(12) cGly_meta\">\n<ellipse fill=\"#404040\" stroke=\"black\" cx=\"807.34\" cy=\"-378\" rx=\"50.09\" ry=\"18\"/>\n<text text-anchor=\"middle\" x=\"807.34\" y=\"-374.3\" font-family=\"Times,serif\" font-size=\"14.00\" fill=\"white\">cGly_meta</text>\n</a>\n</g>\n</g>\n<!-- cDiam_corp -->\n<g id=\"node5\" class=\"node\">\n<title>cDiam_corp</title>\n<g id=\"a_node5\"><a xlink:title=\"(30) cDiam_corp\">\n<ellipse fill=\"#404040\" stroke=\"black\" cx=\"930.34\" cy=\"-378\" rx=\"54.69\" ry=\"18\"/>\n<text text-anchor=\"middle\" x=\"930.34\" y=\"-374.3\" font-family=\"Times,serif\" font-size=\"14.00\" fill=\"white\">cDiam_corp</text>\n</a>\n</g>\n</g>\n<!-- cLDL_meta -->\n<g id=\"node6\" class=\"node\">\n<title>cLDL_meta</title>\n<g id=\"a_node6\"><a xlink:title=\"(25) cLDL_meta\">\n<ellipse fill=\"#404040\" stroke=\"black\" cx=\"1057.34\" cy=\"-234\" rx=\"53.89\" ry=\"18\"/>\n<text text-anchor=\"middle\" x=\"1057.34\" y=\"-230.3\" font-family=\"Times,serif\" font-size=\"14.00\" fill=\"white\">cLDL_meta</text>\n</a>\n</g>\n</g>\n<!-- cHDL_meta -->\n<g id=\"node7\" class=\"node\">\n<title>cHDL_meta</title>\n<g id=\"a_node7\"><a xlink:title=\"(24) cHDL_meta\">\n<ellipse fill=\"#404040\" stroke=\"black\" cx=\"1184.34\" cy=\"-378\" rx=\"54.69\" ry=\"18\"/>\n<text text-anchor=\"middle\" x=\"1184.34\" y=\"-374.3\" font-family=\"Times,serif\" font-size=\"14.00\" fill=\"white\">cHDL_meta</text>\n</a>\n</g>\n</g>\n<!-- cCD14_infl -->\n<g id=\"node8\" class=\"node\">\n<title>cCD14_infl</title>\n<g id=\"a_node8\"><a xlink:title=\"(42) cCD14_infl\">\n<ellipse fill=\"#404040\" stroke=\"black\" cx=\"1309.34\" cy=\"-378\" rx=\"51.99\" ry=\"18\"/>\n<text text-anchor=\"middle\" x=\"1309.34\" y=\"-374.3\" font-family=\"Times,serif\" font-size=\"14.00\" fill=\"white\">cCD14_infl</text>\n</a>\n</g>\n</g>\n<!-- cIGR_meta -->\n<g id=\"node9\" class=\"node\">\n<title>cIGR_meta</title>\n<g id=\"a_node9\"><a xlink:title=\"(20) cIGR_meta\">\n<ellipse fill=\"#404040\" stroke=\"black\" cx=\"1431.34\" cy=\"-378\" rx=\"51.99\" ry=\"18\"/>\n<text text-anchor=\"middle\" x=\"1431.34\" y=\"-374.3\" font-family=\"Times,serif\" font-size=\"14.00\" fill=\"white\">cIGR_meta</text>\n</a>\n</g>\n</g>\n<!-- cMGpourc_corp -->\n<g id=\"node10\" class=\"node\">\n<title>cMGpourc_corp</title>\n<g id=\"a_node10\"><a xlink:title=\"(7) cMGpourc_corp\">\n<ellipse fill=\"#404040\" stroke=\"black\" cx=\"506.34\" cy=\"-162\" rx=\"69.59\" ry=\"18\"/>\n<text text-anchor=\"middle\" x=\"506.34\" y=\"-158.3\" font-family=\"Times,serif\" font-size=\"14.00\" fill=\"white\">cMGpourc_corp</text>\n</a>\n</g>\n</g>\n<!-- cMGkg_corp -->\n<g id=\"node36\" class=\"node\">\n<title>cMGkg_corp</title>\n<g id=\"a_node36\"><a xlink:title=\"(6) cMGkg_corp\">\n<ellipse fill=\"#404040\" stroke=\"black\" cx=\"506.34\" cy=\"-90\" rx=\"57.69\" ry=\"18\"/>\n<text text-anchor=\"middle\" x=\"506.34\" y=\"-86.3\" font-family=\"Times,serif\" font-size=\"14.00\" fill=\"white\">cMGkg_corp</text>\n</a>\n</g>\n</g>\n<!-- cMGpourc_corp&#45;&gt;cMGkg_corp -->\n<g id=\"edge14\" class=\"edge\">\n<title>cMGpourc_corp-&gt;cMGkg_corp</title>\n<g id=\"a_edge14\"><a xlink:title=\"(7, 6) : \">\n<path fill=\"none\" stroke=\"#4a4a4a\" d=\"M506.34,-143.7C506.34,-135.98 506.34,-126.71 506.34,-118.11\"/>\n<polygon fill=\"#4a4a4a\" stroke=\"#4a4a4a\" points=\"509.84,-118.1 506.34,-108.1 502.84,-118.1 509.84,-118.1\"/>\n</a>\n</g>\n</g>\n<!-- cHOMA_B_meta -->\n<g id=\"node11\" class=\"node\">\n<title>cHOMA_B_meta</title>\n<g id=\"a_node11\"><a xlink:title=\"(14) cHOMA_B_meta\">\n<ellipse fill=\"#404040\" stroke=\"black\" cx=\"77.34\" cy=\"-18\" rx=\"74.19\" ry=\"18\"/>\n<text text-anchor=\"middle\" x=\"77.34\" y=\"-14.3\" font-family=\"Times,serif\" font-size=\"14.00\" fill=\"white\">cHOMA_B_meta</text>\n</a>\n</g>\n</g>\n<!-- cLPS_inf -->\n<g id=\"node12\" class=\"node\">\n<title>cLPS_inf</title>\n<g id=\"a_node12\"><a xlink:title=\"(36) cLPS_inf\">\n<ellipse fill=\"#404040\" stroke=\"black\" cx=\"1545.34\" cy=\"-378\" rx=\"44.39\" ry=\"18\"/>\n<text text-anchor=\"middle\" x=\"1545.34\" y=\"-374.3\" font-family=\"Times,serif\" font-size=\"14.00\" fill=\"white\">cLPS_inf</text>\n</a>\n</g>\n</g>\n<!-- ceotaxin_inf -->\n<g id=\"node13\" class=\"node\">\n<title>ceotaxin_inf</title>\n<g id=\"a_node13\"><a xlink:title=\"(38) ceotaxin_inf\">\n<ellipse fill=\"#404040\" stroke=\"black\" cx=\"574.34\" cy=\"-378\" rx=\"54.69\" ry=\"18\"/>\n<text text-anchor=\"middle\" x=\"574.34\" y=\"-374.3\" font-family=\"Times,serif\" font-size=\"14.00\" fill=\"white\">ceotaxin_inf</text>\n</a>\n</g>\n</g>\n<!-- cCRP_inf -->\n<g id=\"node40\" class=\"node\">\n<title>cCRP_inf</title>\n<g id=\"a_node40\"><a xlink:title=\"(34) cCRP_inf\">\n<ellipse fill=\"#404040\" stroke=\"black\" cx=\"574.34\" cy=\"-234\" rx=\"45.49\" ry=\"18\"/>\n<text text-anchor=\"middle\" x=\"574.34\" y=\"-230.3\" font-family=\"Times,serif\" font-size=\"14.00\" fill=\"white\">cCRP_inf</text>\n</a>\n</g>\n</g>\n<!-- ceotaxin_inf&#45;&gt;cCRP_inf -->\n<g id=\"edge6\" class=\"edge\">\n<title>ceotaxin_inf-&gt;cCRP_inf</title>\n<g id=\"a_edge6\"><a xlink:title=\"(38, 34) : \">\n<path fill=\"none\" stroke=\"#4a4a4a\" d=\"M574.34,-359.87C574.34,-335.67 574.34,-291.21 574.34,-262.39\"/>\n<polygon fill=\"#4a4a4a\" stroke=\"#4a4a4a\" points=\"577.84,-262.19 574.34,-252.19 570.84,-262.19 577.84,-262.19\"/>\n</a>\n</g>\n</g>\n<!-- Sexe -->\n<g id=\"node45\" class=\"node\">\n<title>Sexe</title>\n<g id=\"a_node45\"><a xlink:title=\"(0) Sexe\">\n<ellipse fill=\"#404040\" stroke=\"black\" cx=\"486.34\" cy=\"-306\" rx=\"27.9\" ry=\"18\"/>\n<text text-anchor=\"middle\" x=\"486.34\" y=\"-302.3\" font-family=\"Times,serif\" font-size=\"14.00\" fill=\"white\">Sexe</text>\n</a>\n</g>\n</g>\n<!-- ceotaxin_inf&#45;&gt;Sexe -->\n<g id=\"edge11\" class=\"edge\">\n<title>ceotaxin_inf-&gt;Sexe</title>\n<g id=\"a_edge11\"><a xlink:title=\"(38, 0) : \">\n<path fill=\"none\" stroke=\"#4a4a4a\" d=\"M554.37,-361.12C541.61,-350.96 524.95,-337.71 511.31,-326.86\"/>\n<polygon fill=\"#4a4a4a\" stroke=\"#4a4a4a\" points=\"513.28,-323.95 503.27,-320.47 508.92,-329.43 513.28,-323.95\"/>\n</a>\n</g>\n</g>\n<!-- cmip1b_inf -->\n<g id=\"node14\" class=\"node\">\n<title>cmip1b_inf</title>\n<g id=\"a_node14\"><a xlink:title=\"(41) cmip1b_inf\">\n<ellipse fill=\"#404040\" stroke=\"black\" cx=\"1659.34\" cy=\"-378\" rx=\"51.99\" ry=\"18\"/>\n<text text-anchor=\"middle\" x=\"1659.34\" y=\"-374.3\" font-family=\"Times,serif\" font-size=\"14.00\" fill=\"white\">cmip1b_inf</text>\n</a>\n</g>\n</g>\n<!-- cCystatineC_rein -->\n<g id=\"node15\" class=\"node\">\n<title>cCystatineC_rein</title>\n<g id=\"a_node15\"><a xlink:title=\"(29) cCystatineC_rein\">\n<ellipse fill=\"#404040\" stroke=\"black\" cx=\"1800.34\" cy=\"-378\" rx=\"71.49\" ry=\"18\"/>\n<text text-anchor=\"middle\" x=\"1800.34\" y=\"-374.3\" font-family=\"Times,serif\" font-size=\"14.00\" fill=\"white\">cCystatineC_rein</text>\n</a>\n</g>\n</g>\n<!-- cMMpourc_corp -->\n<g id=\"node16\" class=\"node\">\n<title>cMMpourc_corp</title>\n<g id=\"a_node16\"><a xlink:title=\"(9) cMMpourc_corp\">\n<ellipse fill=\"#404040\" stroke=\"black\" cx=\"439.34\" cy=\"-234\" rx=\"71.49\" ry=\"18\"/>\n<text text-anchor=\"middle\" x=\"439.34\" y=\"-230.3\" font-family=\"Times,serif\" font-size=\"14.00\" fill=\"white\">cMMpourc_corp</text>\n</a>\n</g>\n</g>\n<!-- cMMpourc_corp&#45;&gt;cMGpourc_corp -->\n<g id=\"edge8\" class=\"edge\">\n<title>cMMpourc_corp-&gt;cMGpourc_corp</title>\n<g id=\"a_edge8\"><a xlink:title=\"(9, 7) : \">\n<path fill=\"none\" stroke=\"#4a4a4a\" d=\"M455.22,-216.41C463.53,-207.73 473.85,-196.95 483.04,-187.34\"/>\n<polygon fill=\"#4a4a4a\" stroke=\"#4a4a4a\" points=\"485.73,-189.6 490.11,-179.96 480.67,-184.76 485.73,-189.6\"/>\n</a>\n</g>\n</g>\n<!-- cvegf_inf -->\n<g id=\"node17\" class=\"node\">\n<title>cvegf_inf</title>\n<g id=\"a_node17\"><a xlink:title=\"(37) cvegf_inf\">\n<ellipse fill=\"#404040\" stroke=\"black\" cx=\"1934.34\" cy=\"-378\" rx=\"44.39\" ry=\"18\"/>\n<text text-anchor=\"middle\" x=\"1934.34\" y=\"-374.3\" font-family=\"Times,serif\" font-size=\"14.00\" fill=\"white\">cvegf_inf</text>\n</a>\n</g>\n</g>\n<!-- cAdipo_meta -->\n<g id=\"node18\" class=\"node\">\n<title>cAdipo_meta</title>\n<g id=\"a_node18\"><a xlink:title=\"(44) cAdipo_meta\">\n<ellipse fill=\"#404040\" stroke=\"black\" cx=\"2055.34\" cy=\"-378\" rx=\"58.49\" ry=\"18\"/>\n<text text-anchor=\"middle\" x=\"2055.34\" y=\"-374.3\" font-family=\"Times,serif\" font-size=\"14.00\" fill=\"white\">cAdipo_meta</text>\n</a>\n</g>\n</g>\n<!-- cWHR -->\n<g id=\"node19\" class=\"node\">\n<title>cWHR</title>\n<g id=\"a_node19\"><a xlink:title=\"(5) cWHR\">\n<ellipse fill=\"#404040\" stroke=\"black\" cx=\"2167.34\" cy=\"-378\" rx=\"36\" ry=\"18\"/>\n<text text-anchor=\"middle\" x=\"2167.34\" y=\"-374.3\" font-family=\"Times,serif\" font-size=\"14.00\" fill=\"white\">cWHR</text>\n</a>\n</g>\n</g>\n<!-- cTT_corp -->\n<g id=\"node29\" class=\"node\">\n<title>cTT_corp</title>\n<g id=\"a_node29\"><a xlink:title=\"(3) cTT_corp\">\n<ellipse fill=\"#404040\" stroke=\"black\" cx=\"2167.34\" cy=\"-306\" rx=\"45.49\" ry=\"18\"/>\n<text text-anchor=\"middle\" x=\"2167.34\" y=\"-302.3\" font-family=\"Times,serif\" font-size=\"14.00\" fill=\"white\">cTT_corp</text>\n</a>\n</g>\n</g>\n<!-- cWHR&#45;&gt;cTT_corp -->\n<g id=\"edge7\" class=\"edge\">\n<title>cWHR-&gt;cTT_corp</title>\n<g id=\"a_edge7\"><a xlink:title=\"(5, 3) : \">\n<path fill=\"none\" stroke=\"#4a4a4a\" d=\"M2167.34,-359.7C2167.34,-351.98 2167.34,-342.71 2167.34,-334.11\"/>\n<polygon fill=\"#4a4a4a\" stroke=\"#4a4a4a\" points=\"2170.84,-334.1 2167.34,-324.1 2163.84,-334.1 2170.84,-334.1\"/>\n</a>\n</g>\n</g>\n<!-- cAGL_meta -->\n<g id=\"node20\" class=\"node\">\n<title>cAGL_meta</title>\n<g id=\"a_node20\"><a xlink:title=\"(27) cAGL_meta\">\n<ellipse fill=\"#404040\" stroke=\"black\" cx=\"295.34\" cy=\"-234\" rx=\"54.69\" ry=\"18\"/>\n<text text-anchor=\"middle\" x=\"295.34\" y=\"-230.3\" font-family=\"Times,serif\" font-size=\"14.00\" fill=\"white\">cAGL_meta</text>\n</a>\n</g>\n</g>\n<!-- cCreatine_rein -->\n<g id=\"node21\" class=\"node\">\n<title>cCreatine_rein</title>\n<g id=\"a_node21\"><a xlink:title=\"(28) cCreatine_rein\">\n<ellipse fill=\"#404040\" stroke=\"black\" cx=\"2283.34\" cy=\"-378\" rx=\"62.29\" ry=\"18\"/>\n<text text-anchor=\"middle\" x=\"2283.34\" y=\"-374.3\" font-family=\"Times,serif\" font-size=\"14.00\" fill=\"white\">cCreatine_rein</text>\n</a>\n</g>\n</g>\n<!-- cCD163pourc_infl -->\n<g id=\"node22\" class=\"node\">\n<title>cCD163pourc_infl</title>\n<g id=\"a_node22\"><a xlink:title=\"(32) cCD163pourc_infl\">\n<ellipse fill=\"#404040\" stroke=\"black\" cx=\"2440.34\" cy=\"-378\" rx=\"76.89\" ry=\"18\"/>\n<text text-anchor=\"middle\" x=\"2440.34\" y=\"-374.3\" font-family=\"Times,serif\" font-size=\"14.00\" fill=\"white\">cCD163pourc_infl</text>\n</a>\n</g>\n</g>\n<!-- cCD40pourc_infl -->\n<g id=\"node23\" class=\"node\">\n<title>cCD40pourc_infl</title>\n<g id=\"a_node23\"><a xlink:title=\"(33) cCD40pourc_infl\">\n<ellipse fill=\"#404040\" stroke=\"black\" cx=\"2607.34\" cy=\"-378\" rx=\"72.29\" ry=\"18\"/>\n<text text-anchor=\"middle\" x=\"2607.34\" y=\"-374.3\" font-family=\"Times,serif\" font-size=\"14.00\" fill=\"white\">cCD40pourc_infl</text>\n</a>\n</g>\n</g>\n<!-- cmcp1_inf -->\n<g id=\"node24\" class=\"node\">\n<title>cmcp1_inf</title>\n<g id=\"a_node24\"><a xlink:title=\"(40) cmcp1_inf\">\n<ellipse fill=\"#404040\" stroke=\"black\" cx=\"2746.34\" cy=\"-378\" rx=\"48.99\" ry=\"18\"/>\n<text text-anchor=\"middle\" x=\"2746.34\" y=\"-374.3\" font-family=\"Times,serif\" font-size=\"14.00\" fill=\"white\">cmcp1_inf</text>\n</a>\n</g>\n</g>\n<!-- cDisse_meta -->\n<g id=\"node26\" class=\"node\">\n<title>cDisse_meta</title>\n<g id=\"a_node26\"><a xlink:title=\"(17) cDisse_meta\">\n<ellipse fill=\"#404040\" stroke=\"black\" cx=\"294.34\" cy=\"-306\" rx=\"55.79\" ry=\"18\"/>\n<text text-anchor=\"middle\" x=\"294.34\" y=\"-302.3\" font-family=\"Times,serif\" font-size=\"14.00\" fill=\"white\">cDisse_meta</text>\n</a>\n</g>\n</g>\n<!-- cDisse_meta&#45;&gt;cAGL_meta -->\n<g id=\"edge4\" class=\"edge\">\n<title>cDisse_meta-&gt;cAGL_meta</title>\n<g id=\"a_edge4\"><a xlink:title=\"(17, 27) : \">\n<path fill=\"none\" stroke=\"#4a4a4a\" d=\"M294.59,-287.7C294.7,-279.98 294.83,-270.71 294.96,-262.11\"/>\n<polygon fill=\"#4a4a4a\" stroke=\"#4a4a4a\" points=\"298.46,-262.15 295.1,-252.1 291.46,-262.05 298.46,-262.15\"/>\n</a>\n</g>\n</g>\n<!-- cHAM56pourc_infl -->\n<g id=\"node27\" class=\"node\">\n<title>cHAM56pourc_infl</title>\n<g id=\"a_node27\"><a xlink:title=\"(31) cHAM56pourc_infl\">\n<ellipse fill=\"#404040\" stroke=\"black\" cx=\"2894.34\" cy=\"-378\" rx=\"81.49\" ry=\"18\"/>\n<text text-anchor=\"middle\" x=\"2894.34\" y=\"-374.3\" font-family=\"Times,serif\" font-size=\"14.00\" fill=\"white\">cHAM56pourc_infl</text>\n</a>\n</g>\n</g>\n<!-- cip10_inf -->\n<g id=\"node28\" class=\"node\">\n<title>cip10_inf</title>\n<g id=\"a_node28\"><a xlink:title=\"(39) cip10_inf\">\n<ellipse fill=\"#404040\" stroke=\"black\" cx=\"3037.34\" cy=\"-378\" rx=\"44.39\" ry=\"18\"/>\n<text text-anchor=\"middle\" x=\"3037.34\" y=\"-374.3\" font-family=\"Times,serif\" font-size=\"14.00\" fill=\"white\">cip10_inf</text>\n</a>\n</g>\n</g>\n<!-- cTG_meta -->\n<g id=\"node30\" class=\"node\">\n<title>cTG_meta</title>\n<g id=\"a_node30\"><a xlink:title=\"(23) cTG_meta\">\n<ellipse fill=\"#404040\" stroke=\"black\" cx=\"453.34\" cy=\"-378\" rx=\"48.19\" ry=\"18\"/>\n<text text-anchor=\"middle\" x=\"453.34\" y=\"-374.3\" font-family=\"Times,serif\" font-size=\"14.00\" fill=\"white\">cTG_meta</text>\n</a>\n</g>\n</g>\n<!-- cTG_meta&#45;&gt;Sexe -->\n<g id=\"edge5\" class=\"edge\">\n<title>cTG_meta-&gt;Sexe</title>\n<g id=\"a_edge5\"><a xlink:title=\"(23, 0) : \">\n<path fill=\"none\" stroke=\"#4a4a4a\" d=\"M461.33,-360.05C465.24,-351.77 470.02,-341.62 474.36,-332.42\"/>\n<polygon fill=\"#4a4a4a\" stroke=\"#4a4a4a\" points=\"477.56,-333.84 478.66,-323.31 471.23,-330.86 477.56,-333.84\"/>\n</a>\n</g>\n</g>\n<!-- cIL6_inf -->\n<g id=\"node31\" class=\"node\">\n<title>cIL6_inf</title>\n<g id=\"a_node31\"><a xlink:title=\"(35) cIL6_inf\">\n<ellipse fill=\"#404040\" stroke=\"black\" cx=\"3141.34\" cy=\"-378\" rx=\"41.69\" ry=\"18\"/>\n<text text-anchor=\"middle\" x=\"3141.34\" y=\"-374.3\" font-family=\"Times,serif\" font-size=\"14.00\" fill=\"white\">cIL6_inf</text>\n</a>\n</g>\n</g>\n<!-- cChol_meta -->\n<g id=\"node32\" class=\"node\">\n<title>cChol_meta</title>\n<g id=\"a_node32\"><a xlink:title=\"(22) cChol_meta\">\n<ellipse fill=\"#404040\" stroke=\"black\" cx=\"1057.34\" cy=\"-378\" rx=\"53.89\" ry=\"18\"/>\n<text text-anchor=\"middle\" x=\"1057.34\" y=\"-374.3\" font-family=\"Times,serif\" font-size=\"14.00\" fill=\"white\">cChol_meta</text>\n</a>\n</g>\n</g>\n<!-- cNHDL -->\n<g id=\"node38\" class=\"node\">\n<title>cNHDL</title>\n<g id=\"a_node38\"><a xlink:title=\"(26) cNHDL\">\n<ellipse fill=\"#404040\" stroke=\"black\" cx=\"1057.34\" cy=\"-306\" rx=\"38.99\" ry=\"18\"/>\n<text text-anchor=\"middle\" x=\"1057.34\" y=\"-302.3\" font-family=\"Times,serif\" font-size=\"14.00\" fill=\"white\">cNHDL</text>\n</a>\n</g>\n</g>\n<!-- cChol_meta&#45;&gt;cNHDL -->\n<g id=\"edge2\" class=\"edge\">\n<title>cChol_meta-&gt;cNHDL</title>\n<g id=\"a_edge2\"><a xlink:title=\"(22, 26) : \">\n<path fill=\"none\" stroke=\"#4a4a4a\" d=\"M1057.34,-359.7C1057.34,-351.98 1057.34,-342.71 1057.34,-334.11\"/>\n<polygon fill=\"#4a4a4a\" stroke=\"#4a4a4a\" points=\"1060.84,-334.1 1057.34,-324.1 1053.84,-334.1 1060.84,-334.1\"/>\n</a>\n</g>\n</g>\n<!-- cAndpourc_corp -->\n<g id=\"node33\" class=\"node\">\n<title>cAndpourc_corp</title>\n<g id=\"a_node33\"><a xlink:title=\"(10) cAndpourc_corp\">\n<ellipse fill=\"#404040\" stroke=\"black\" cx=\"3270.34\" cy=\"-306\" rx=\"69.59\" ry=\"18\"/>\n<text text-anchor=\"middle\" x=\"3270.34\" y=\"-302.3\" font-family=\"Times,serif\" font-size=\"14.00\" fill=\"white\">cAndpourc_corp</text>\n</a>\n</g>\n</g>\n<!-- cBMI_corp -->\n<g id=\"node34\" class=\"node\">\n<title>cBMI_corp</title>\n<g id=\"a_node34\"><a xlink:title=\"(2) cBMI_corp\">\n<ellipse fill=\"#404040\" stroke=\"black\" cx=\"3410.34\" cy=\"-378\" rx=\"51.99\" ry=\"18\"/>\n<text text-anchor=\"middle\" x=\"3410.34\" y=\"-374.3\" font-family=\"Times,serif\" font-size=\"14.00\" fill=\"white\">cBMI_corp</text>\n</a>\n</g>\n</g>\n<!-- cHOMA_S_meta&#45;&gt;cIns_meta -->\n<g id=\"edge13\" class=\"edge\">\n<title>cHOMA_S_meta-&gt;cIns_meta</title>\n<g id=\"a_edge13\"><a xlink:title=\"(15, 13) : \">\n<path fill=\"none\" stroke=\"#4a4a4a\" d=\"M149.34,-215.7C149.34,-207.98 149.34,-198.71 149.34,-190.11\"/>\n<polygon fill=\"#4a4a4a\" stroke=\"#4a4a4a\" points=\"152.84,-190.1 149.34,-180.1 145.84,-190.1 152.84,-190.1\"/>\n</a>\n</g>\n</g>\n<!-- cLeptin_meta -->\n<g id=\"node37\" class=\"node\">\n<title>cLeptin_meta</title>\n<g id=\"a_node37\"><a xlink:title=\"(43) cLeptin_meta\">\n<ellipse fill=\"#404040\" stroke=\"black\" cx=\"3540.34\" cy=\"-378\" rx=\"59.59\" ry=\"18\"/>\n<text text-anchor=\"middle\" x=\"3540.34\" y=\"-374.3\" font-family=\"Times,serif\" font-size=\"14.00\" fill=\"white\">cLeptin_meta</text>\n</a>\n</g>\n</g>\n<!-- cNHDL&#45;&gt;cLDL_meta -->\n<g id=\"edge15\" class=\"edge\">\n<title>cNHDL-&gt;cLDL_meta</title>\n<g id=\"a_edge15\"><a xlink:title=\"(26, 25) : \">\n<path fill=\"none\" stroke=\"#4a4a4a\" d=\"M1057.34,-287.7C1057.34,-279.98 1057.34,-270.71 1057.34,-262.11\"/>\n<polygon fill=\"#4a4a4a\" stroke=\"#4a4a4a\" points=\"1060.84,-262.1 1057.34,-252.1 1053.84,-262.1 1060.84,-262.1\"/>\n</a>\n</g>\n</g>\n<!-- Age -->\n<g id=\"node39\" class=\"node\">\n<title>Age</title>\n<g id=\"a_node39\"><a xlink:title=\"(1) Age\">\n<ellipse fill=\"#404040\" stroke=\"black\" cx=\"3645.34\" cy=\"-378\" rx=\"27\" ry=\"18\"/>\n<text text-anchor=\"middle\" x=\"3645.34\" y=\"-374.3\" font-family=\"Times,serif\" font-size=\"14.00\" fill=\"white\">Age</text>\n</a>\n</g>\n</g>\n<!-- cCRP_inf&#45;&gt;cMGpourc_corp -->\n<g id=\"edge1\" class=\"edge\">\n<title>cCRP_inf-&gt;cMGpourc_corp</title>\n<g id=\"a_edge1\"><a xlink:title=\"(34, 7) : \">\n<path fill=\"none\" stroke=\"#4a4a4a\" d=\"M558.57,-216.76C549.94,-207.88 539.09,-196.71 529.52,-186.85\"/>\n<polygon fill=\"#4a4a4a\" stroke=\"#4a4a4a\" points=\"531.98,-184.37 522.5,-179.63 526.96,-189.24 531.98,-184.37\"/>\n</a>\n</g>\n</g>\n<!-- cGynpourc_corp -->\n<g id=\"node41\" class=\"node\">\n<title>cGynpourc_corp</title>\n<g id=\"a_node41\"><a xlink:title=\"(11) cGynpourc_corp\">\n<ellipse fill=\"#404040\" stroke=\"black\" cx=\"3270.34\" cy=\"-378\" rx=\"69.59\" ry=\"18\"/>\n<text text-anchor=\"middle\" x=\"3270.34\" y=\"-374.3\" font-family=\"Times,serif\" font-size=\"14.00\" fill=\"white\">cGynpourc_corp</text>\n</a>\n</g>\n</g>\n<!-- cGynpourc_corp&#45;&gt;cAndpourc_corp -->\n<g id=\"edge9\" class=\"edge\">\n<title>cGynpourc_corp-&gt;cAndpourc_corp</title>\n<g id=\"a_edge9\"><a xlink:title=\"(11, 10) : \">\n<path fill=\"none\" stroke=\"#4a4a4a\" d=\"M3270.34,-359.7C3270.34,-351.98 3270.34,-342.71 3270.34,-334.11\"/>\n<polygon fill=\"#4a4a4a\" stroke=\"#4a4a4a\" points=\"3273.84,-334.1 3270.34,-324.1 3266.84,-334.1 3273.84,-334.1\"/>\n</a>\n</g>\n</g>\n<!-- crevised_QUICKI_meta -->\n<g id=\"node42\" class=\"node\">\n<title>crevised_QUICKI_meta</title>\n<g id=\"a_node42\"><a xlink:title=\"(19) crevised_QUICKI_meta\">\n<ellipse fill=\"#404040\" stroke=\"black\" cx=\"221.34\" cy=\"-378\" rx=\"96.68\" ry=\"18\"/>\n<text text-anchor=\"middle\" x=\"221.34\" y=\"-374.3\" font-family=\"Times,serif\" font-size=\"14.00\" fill=\"white\">crevised_QUICKI_meta</text>\n</a>\n</g>\n</g>\n<!-- crevised_QUICKI_meta&#45;&gt;cQUICKI_meta -->\n<g id=\"edge3\" class=\"edge\">\n<title>crevised_QUICKI_meta-&gt;cQUICKI_meta</title>\n<g id=\"a_edge3\"><a xlink:title=\"(19, 18) : \">\n<path fill=\"none\" stroke=\"#4a4a4a\" d=\"M204.4,-360.05C195.71,-351.37 184.99,-340.64 175.46,-331.11\"/>\n<polygon fill=\"#4a4a4a\" stroke=\"#4a4a4a\" points=\"177.68,-328.39 168.13,-323.79 172.73,-333.33 177.68,-328.39\"/>\n</a>\n</g>\n</g>\n<!-- crevised_QUICKI_meta&#45;&gt;cDisse_meta -->\n<g id=\"edge10\" class=\"edge\">\n<title>crevised_QUICKI_meta-&gt;cDisse_meta</title>\n<g id=\"a_edge10\"><a xlink:title=\"(19, 17) : \">\n<path fill=\"none\" stroke=\"#4a4a4a\" d=\"M239.01,-360.05C248.29,-351.16 259.81,-340.11 269.93,-330.41\"/>\n<polygon fill=\"#4a4a4a\" stroke=\"#4a4a4a\" points=\"272.54,-332.75 277.34,-323.31 267.7,-327.7 272.54,-332.75\"/>\n</a>\n</g>\n</g>\n<!-- cHOMA_IR_meta&#45;&gt;cHOMA_B_meta -->\n<g id=\"edge18\" class=\"edge\">\n<title>cHOMA_IR_meta-&gt;cHOMA_B_meta</title>\n<g id=\"a_edge18\"><a xlink:title=\"(16, 14) : \">\n<path fill=\"none\" stroke=\"#4a4a4a\" d=\"M77.34,-71.7C77.34,-63.98 77.34,-54.71 77.34,-46.11\"/>\n<polygon fill=\"#4a4a4a\" stroke=\"#4a4a4a\" points=\"80.84,-46.1 77.34,-36.1 73.84,-46.1 80.84,-46.1\"/>\n</a>\n</g>\n</g>\n<!-- cMMkg_corp -->\n<g id=\"node44\" class=\"node\">\n<title>cMMkg_corp</title>\n<g id=\"a_node44\"><a xlink:title=\"(8) cMMkg_corp\">\n<ellipse fill=\"#404040\" stroke=\"black\" cx=\"3750.34\" cy=\"-378\" rx=\"59.59\" ry=\"18\"/>\n<text text-anchor=\"middle\" x=\"3750.34\" y=\"-374.3\" font-family=\"Times,serif\" font-size=\"14.00\" fill=\"white\">cMMkg_corp</text>\n</a>\n</g>\n</g>\n<!-- Sexe&#45;&gt;cAGL_meta -->\n<g id=\"edge20\" class=\"edge\">\n<title>Sexe-&gt;cAGL_meta</title>\n<g id=\"a_edge20\"><a xlink:title=\"(0, 27) : \">\n<path fill=\"none\" stroke=\"#4a4a4a\" d=\"M462.54,-296.28C432.06,-285.11 378.63,-265.52 340.36,-251.5\"/>\n<polygon fill=\"#4a4a4a\" stroke=\"#4a4a4a\" points=\"341.09,-248.04 330.5,-247.88 338.68,-254.61 341.09,-248.04\"/>\n</a>\n</g>\n</g>\n<!-- Sexe&#45;&gt;cCRP_inf -->\n<g id=\"edge16\" class=\"edge\">\n<title>Sexe-&gt;cCRP_inf</title>\n<g id=\"a_edge16\"><a xlink:title=\"(0, 34) : \">\n<path fill=\"none\" stroke=\"#4a4a4a\" d=\"M503.31,-291.5C515.67,-281.67 532.67,-268.15 546.94,-256.79\"/>\n<polygon fill=\"#4a4a4a\" stroke=\"#4a4a4a\" points=\"549.33,-259.37 554.98,-250.41 544.97,-253.89 549.33,-259.37\"/>\n</a>\n</g>\n</g>\n</g>\n</svg>",
      "text/plain": [
       "<IPython.core.display.SVG object>"
      ]
     },
     "metadata": {},
     "output_type": "display_data"
    }
   ],
   "source": [
    "learner=gum.BNLearner(\"data/discr_data_host.csv\")\n",
    "learner.useLocalSearchWithTabuList()\n",
    "bn_l = learner.learnBN()\n",
    "export(bn_l,\"data/host_Local_search.pdf\")\n",
    "\n",
    "learner=gum.BNLearner(\"data/discr_data_host.csv\")\n",
    "learner.useGreedyHillClimbing()\n",
    "bn_G = learner.learnBN()\n",
    "export(bn_G,\"data/host_Hill_Climbing.pdf\")\n",
    "gnb.showBN(bn_G,size=60000)"
   ]
  },
  {
   "cell_type": "markdown",
   "metadata": {},
   "source": [
    "### Joint"
   ]
  },
  {
   "cell_type": "code",
   "execution_count": 27,
   "metadata": {},
   "outputs": [],
   "source": [
    "to_csv(data_host, \"data/discr_data_joint.csv\")"
   ]
  },
  {
   "cell_type": "code",
   "execution_count": 110,
   "metadata": {},
   "outputs": [
    {
     "data": {
      "image/svg+xml": "<svg xmlns=\"http://www.w3.org/2000/svg\" xmlns:xlink=\"http://www.w3.org/1999/xlink\" width=\"3818pt\" height=\"404pt\" viewBox=\"0.00 0.00 3818.14 404.00\">\n<g id=\"graph0\" class=\"graph\" transform=\"scale(1 1) rotate(0) translate(4 400)\">\n<title>G</title>\n<!-- cIns_meta -->\n<g id=\"node1\" class=\"node\">\n<title>cIns_meta</title>\n<g id=\"a_node1\"><a xlink:title=\"(13) cIns_meta\">\n<ellipse fill=\"#404040\" stroke=\"black\" cx=\"149.34\" cy=\"-162\" rx=\"47.39\" ry=\"18\"/>\n<text text-anchor=\"middle\" x=\"149.34\" y=\"-158.3\" font-family=\"Times,serif\" font-size=\"14.00\" fill=\"white\">cIns_meta</text>\n</a>\n</g>\n</g>\n<!-- cFIRI_clin -->\n<g id=\"node25\" class=\"node\">\n<title>cFIRI_clin</title>\n<g id=\"a_node25\"><a xlink:title=\"(21) cFIRI_clin\">\n<ellipse fill=\"#404040\" stroke=\"black\" cx=\"221.34\" cy=\"-90\" rx=\"48.99\" ry=\"18\"/>\n<text text-anchor=\"middle\" x=\"221.34\" y=\"-86.3\" font-family=\"Times,serif\" font-size=\"14.00\" fill=\"white\">cFIRI_clin</text>\n</a>\n</g>\n</g>\n<!-- cIns_meta&#45;&gt;cFIRI_clin -->\n<g id=\"edge19\" class=\"edge\">\n<title>cIns_meta-&gt;cFIRI_clin</title>\n<g id=\"a_edge19\"><a xlink:title=\"(13, 21) : \">\n<path fill=\"none\" stroke=\"#4a4a4a\" d=\"M166.04,-144.76C175.4,-135.66 187.23,-124.16 197.55,-114.13\"/>\n<polygon fill=\"#4a4a4a\" stroke=\"#4a4a4a\" points=\"200,-116.63 204.73,-107.15 195.12,-111.61 200,-116.63\"/>\n</a>\n</g>\n</g>\n<!-- cHOMA_IR_meta -->\n<g id=\"node43\" class=\"node\">\n<title>cHOMA_IR_meta</title>\n<g id=\"a_node43\"><a xlink:title=\"(16) cHOMA_IR_meta\">\n<ellipse fill=\"#404040\" stroke=\"black\" cx=\"77.34\" cy=\"-90\" rx=\"77.19\" ry=\"18\"/>\n<text text-anchor=\"middle\" x=\"77.34\" y=\"-86.3\" font-family=\"Times,serif\" font-size=\"14.00\" fill=\"white\">cHOMA_IR_meta</text>\n</a>\n</g>\n</g>\n<!-- cIns_meta&#45;&gt;cHOMA_IR_meta -->\n<g id=\"edge12\" class=\"edge\">\n<title>cIns_meta-&gt;cHOMA_IR_meta</title>\n<g id=\"a_edge12\"><a xlink:title=\"(13, 16) : \">\n<path fill=\"none\" stroke=\"#4a4a4a\" d=\"M132.64,-144.76C123.51,-135.88 112.02,-124.71 101.88,-114.85\"/>\n<polygon fill=\"#4a4a4a\" stroke=\"#4a4a4a\" points=\"104.06,-112.09 94.45,-107.63 99.18,-117.11 104.06,-112.09\"/>\n</a>\n</g>\n</g>\n<!-- cQUICKI_meta -->\n<g id=\"node2\" class=\"node\">\n<title>cQUICKI_meta</title>\n<g id=\"a_node2\"><a xlink:title=\"(18) cQUICKI_meta\">\n<ellipse fill=\"#404040\" stroke=\"black\" cx=\"151.34\" cy=\"-306\" rx=\"67.69\" ry=\"18\"/>\n<text text-anchor=\"middle\" x=\"151.34\" y=\"-302.3\" font-family=\"Times,serif\" font-size=\"14.00\" fill=\"white\">cQUICKI_meta</text>\n</a>\n</g>\n</g>\n<!-- cHOMA_S_meta -->\n<g id=\"node35\" class=\"node\">\n<title>cHOMA_S_meta</title>\n<g id=\"a_node35\"><a xlink:title=\"(15) cHOMA_S_meta\">\n<ellipse fill=\"#404040\" stroke=\"black\" cx=\"149.34\" cy=\"-234\" rx=\"73.39\" ry=\"18\"/>\n<text text-anchor=\"middle\" x=\"149.34\" y=\"-230.3\" font-family=\"Times,serif\" font-size=\"14.00\" fill=\"white\">cHOMA_S_meta</text>\n</a>\n</g>\n</g>\n<!-- cQUICKI_meta&#45;&gt;cHOMA_S_meta -->\n<g id=\"edge17\" class=\"edge\">\n<title>cQUICKI_meta-&gt;cHOMA_S_meta</title>\n<g id=\"a_edge17\"><a xlink:title=\"(18, 15) : \">\n<path fill=\"none\" stroke=\"#4a4a4a\" d=\"M150.85,-287.7C150.63,-279.98 150.36,-270.71 150.12,-262.11\"/>\n<polygon fill=\"#4a4a4a\" stroke=\"#4a4a4a\" points=\"153.62,-262 149.83,-252.1 146.62,-262.2 153.62,-262\"/>\n</a>\n</g>\n</g>\n<!-- cTH_corp -->\n<g id=\"node3\" class=\"node\">\n<title>cTH_corp</title>\n<g id=\"a_node3\"><a xlink:title=\"(4) cTH_corp\">\n<ellipse fill=\"#404040\" stroke=\"black\" cx=\"693.34\" cy=\"-378\" rx=\"46.29\" ry=\"18\"/>\n<text text-anchor=\"middle\" x=\"693.34\" y=\"-374.3\" font-family=\"Times,serif\" font-size=\"14.00\" fill=\"white\">cTH_corp</text>\n</a>\n</g>\n</g>\n<!-- cGly_meta -->\n<g id=\"node4\" class=\"node\">\n<title>cGly_meta</title>\n<g id=\"a_node4\"><a xlink:title=\"(12) cGly_meta\">\n<ellipse fill=\"#404040\" stroke=\"black\" cx=\"807.34\" cy=\"-378\" rx=\"50.09\" ry=\"18\"/>\n<text text-anchor=\"middle\" x=\"807.34\" y=\"-374.3\" font-family=\"Times,serif\" font-size=\"14.00\" fill=\"white\">cGly_meta</text>\n</a>\n</g>\n</g>\n<!-- cDiam_corp -->\n<g id=\"node5\" class=\"node\">\n<title>cDiam_corp</title>\n<g id=\"a_node5\"><a xlink:title=\"(30) cDiam_corp\">\n<ellipse fill=\"#404040\" stroke=\"black\" cx=\"930.34\" cy=\"-378\" rx=\"54.69\" ry=\"18\"/>\n<text text-anchor=\"middle\" x=\"930.34\" y=\"-374.3\" font-family=\"Times,serif\" font-size=\"14.00\" fill=\"white\">cDiam_corp</text>\n</a>\n</g>\n</g>\n<!-- cLDL_meta -->\n<g id=\"node6\" class=\"node\">\n<title>cLDL_meta</title>\n<g id=\"a_node6\"><a xlink:title=\"(25) cLDL_meta\">\n<ellipse fill=\"#404040\" stroke=\"black\" cx=\"1057.34\" cy=\"-234\" rx=\"53.89\" ry=\"18\"/>\n<text text-anchor=\"middle\" x=\"1057.34\" y=\"-230.3\" font-family=\"Times,serif\" font-size=\"14.00\" fill=\"white\">cLDL_meta</text>\n</a>\n</g>\n</g>\n<!-- cHDL_meta -->\n<g id=\"node7\" class=\"node\">\n<title>cHDL_meta</title>\n<g id=\"a_node7\"><a xlink:title=\"(24) cHDL_meta\">\n<ellipse fill=\"#404040\" stroke=\"black\" cx=\"1184.34\" cy=\"-378\" rx=\"54.69\" ry=\"18\"/>\n<text text-anchor=\"middle\" x=\"1184.34\" y=\"-374.3\" font-family=\"Times,serif\" font-size=\"14.00\" fill=\"white\">cHDL_meta</text>\n</a>\n</g>\n</g>\n<!-- cCD14_infl -->\n<g id=\"node8\" class=\"node\">\n<title>cCD14_infl</title>\n<g id=\"a_node8\"><a xlink:title=\"(42) cCD14_infl\">\n<ellipse fill=\"#404040\" stroke=\"black\" cx=\"1309.34\" cy=\"-378\" rx=\"51.99\" ry=\"18\"/>\n<text text-anchor=\"middle\" x=\"1309.34\" y=\"-374.3\" font-family=\"Times,serif\" font-size=\"14.00\" fill=\"white\">cCD14_infl</text>\n</a>\n</g>\n</g>\n<!-- cIGR_meta -->\n<g id=\"node9\" class=\"node\">\n<title>cIGR_meta</title>\n<g id=\"a_node9\"><a xlink:title=\"(20) cIGR_meta\">\n<ellipse fill=\"#404040\" stroke=\"black\" cx=\"1431.34\" cy=\"-378\" rx=\"51.99\" ry=\"18\"/>\n<text text-anchor=\"middle\" x=\"1431.34\" y=\"-374.3\" font-family=\"Times,serif\" font-size=\"14.00\" fill=\"white\">cIGR_meta</text>\n</a>\n</g>\n</g>\n<!-- cMGpourc_corp -->\n<g id=\"node10\" class=\"node\">\n<title>cMGpourc_corp</title>\n<g id=\"a_node10\"><a xlink:title=\"(7) cMGpourc_corp\">\n<ellipse fill=\"#404040\" stroke=\"black\" cx=\"506.34\" cy=\"-162\" rx=\"69.59\" ry=\"18\"/>\n<text text-anchor=\"middle\" x=\"506.34\" y=\"-158.3\" font-family=\"Times,serif\" font-size=\"14.00\" fill=\"white\">cMGpourc_corp</text>\n</a>\n</g>\n</g>\n<!-- cMGkg_corp -->\n<g id=\"node36\" class=\"node\">\n<title>cMGkg_corp</title>\n<g id=\"a_node36\"><a xlink:title=\"(6) cMGkg_corp\">\n<ellipse fill=\"#404040\" stroke=\"black\" cx=\"506.34\" cy=\"-90\" rx=\"57.69\" ry=\"18\"/>\n<text text-anchor=\"middle\" x=\"506.34\" y=\"-86.3\" font-family=\"Times,serif\" font-size=\"14.00\" fill=\"white\">cMGkg_corp</text>\n</a>\n</g>\n</g>\n<!-- cMGpourc_corp&#45;&gt;cMGkg_corp -->\n<g id=\"edge14\" class=\"edge\">\n<title>cMGpourc_corp-&gt;cMGkg_corp</title>\n<g id=\"a_edge14\"><a xlink:title=\"(7, 6) : \">\n<path fill=\"none\" stroke=\"#4a4a4a\" d=\"M506.34,-143.7C506.34,-135.98 506.34,-126.71 506.34,-118.11\"/>\n<polygon fill=\"#4a4a4a\" stroke=\"#4a4a4a\" points=\"509.84,-118.1 506.34,-108.1 502.84,-118.1 509.84,-118.1\"/>\n</a>\n</g>\n</g>\n<!-- cHOMA_B_meta -->\n<g id=\"node11\" class=\"node\">\n<title>cHOMA_B_meta</title>\n<g id=\"a_node11\"><a xlink:title=\"(14) cHOMA_B_meta\">\n<ellipse fill=\"#404040\" stroke=\"black\" cx=\"77.34\" cy=\"-18\" rx=\"74.19\" ry=\"18\"/>\n<text text-anchor=\"middle\" x=\"77.34\" y=\"-14.3\" font-family=\"Times,serif\" font-size=\"14.00\" fill=\"white\">cHOMA_B_meta</text>\n</a>\n</g>\n</g>\n<!-- cLPS_inf -->\n<g id=\"node12\" class=\"node\">\n<title>cLPS_inf</title>\n<g id=\"a_node12\"><a xlink:title=\"(36) cLPS_inf\">\n<ellipse fill=\"#404040\" stroke=\"black\" cx=\"1545.34\" cy=\"-378\" rx=\"44.39\" ry=\"18\"/>\n<text text-anchor=\"middle\" x=\"1545.34\" y=\"-374.3\" font-family=\"Times,serif\" font-size=\"14.00\" fill=\"white\">cLPS_inf</text>\n</a>\n</g>\n</g>\n<!-- ceotaxin_inf -->\n<g id=\"node13\" class=\"node\">\n<title>ceotaxin_inf</title>\n<g id=\"a_node13\"><a xlink:title=\"(38) ceotaxin_inf\">\n<ellipse fill=\"#404040\" stroke=\"black\" cx=\"574.34\" cy=\"-378\" rx=\"54.69\" ry=\"18\"/>\n<text text-anchor=\"middle\" x=\"574.34\" y=\"-374.3\" font-family=\"Times,serif\" font-size=\"14.00\" fill=\"white\">ceotaxin_inf</text>\n</a>\n</g>\n</g>\n<!-- cCRP_inf -->\n<g id=\"node40\" class=\"node\">\n<title>cCRP_inf</title>\n<g id=\"a_node40\"><a xlink:title=\"(34) cCRP_inf\">\n<ellipse fill=\"#404040\" stroke=\"black\" cx=\"574.34\" cy=\"-234\" rx=\"45.49\" ry=\"18\"/>\n<text text-anchor=\"middle\" x=\"574.34\" y=\"-230.3\" font-family=\"Times,serif\" font-size=\"14.00\" fill=\"white\">cCRP_inf</text>\n</a>\n</g>\n</g>\n<!-- ceotaxin_inf&#45;&gt;cCRP_inf -->\n<g id=\"edge6\" class=\"edge\">\n<title>ceotaxin_inf-&gt;cCRP_inf</title>\n<g id=\"a_edge6\"><a xlink:title=\"(38, 34) : \">\n<path fill=\"none\" stroke=\"#4a4a4a\" d=\"M574.34,-359.87C574.34,-335.67 574.34,-291.21 574.34,-262.39\"/>\n<polygon fill=\"#4a4a4a\" stroke=\"#4a4a4a\" points=\"577.84,-262.19 574.34,-252.19 570.84,-262.19 577.84,-262.19\"/>\n</a>\n</g>\n</g>\n<!-- Sexe -->\n<g id=\"node45\" class=\"node\">\n<title>Sexe</title>\n<g id=\"a_node45\"><a xlink:title=\"(0) Sexe\">\n<ellipse fill=\"#404040\" stroke=\"black\" cx=\"486.34\" cy=\"-306\" rx=\"27.9\" ry=\"18\"/>\n<text text-anchor=\"middle\" x=\"486.34\" y=\"-302.3\" font-family=\"Times,serif\" font-size=\"14.00\" fill=\"white\">Sexe</text>\n</a>\n</g>\n</g>\n<!-- ceotaxin_inf&#45;&gt;Sexe -->\n<g id=\"edge11\" class=\"edge\">\n<title>ceotaxin_inf-&gt;Sexe</title>\n<g id=\"a_edge11\"><a xlink:title=\"(38, 0) : \">\n<path fill=\"none\" stroke=\"#4a4a4a\" d=\"M554.37,-361.12C541.61,-350.96 524.95,-337.71 511.31,-326.86\"/>\n<polygon fill=\"#4a4a4a\" stroke=\"#4a4a4a\" points=\"513.28,-323.95 503.27,-320.47 508.92,-329.43 513.28,-323.95\"/>\n</a>\n</g>\n</g>\n<!-- cmip1b_inf -->\n<g id=\"node14\" class=\"node\">\n<title>cmip1b_inf</title>\n<g id=\"a_node14\"><a xlink:title=\"(41) cmip1b_inf\">\n<ellipse fill=\"#404040\" stroke=\"black\" cx=\"1659.34\" cy=\"-378\" rx=\"51.99\" ry=\"18\"/>\n<text text-anchor=\"middle\" x=\"1659.34\" y=\"-374.3\" font-family=\"Times,serif\" font-size=\"14.00\" fill=\"white\">cmip1b_inf</text>\n</a>\n</g>\n</g>\n<!-- cCystatineC_rein -->\n<g id=\"node15\" class=\"node\">\n<title>cCystatineC_rein</title>\n<g id=\"a_node15\"><a xlink:title=\"(29) cCystatineC_rein\">\n<ellipse fill=\"#404040\" stroke=\"black\" cx=\"1800.34\" cy=\"-378\" rx=\"71.49\" ry=\"18\"/>\n<text text-anchor=\"middle\" x=\"1800.34\" y=\"-374.3\" font-family=\"Times,serif\" font-size=\"14.00\" fill=\"white\">cCystatineC_rein</text>\n</a>\n</g>\n</g>\n<!-- cMMpourc_corp -->\n<g id=\"node16\" class=\"node\">\n<title>cMMpourc_corp</title>\n<g id=\"a_node16\"><a xlink:title=\"(9) cMMpourc_corp\">\n<ellipse fill=\"#404040\" stroke=\"black\" cx=\"439.34\" cy=\"-234\" rx=\"71.49\" ry=\"18\"/>\n<text text-anchor=\"middle\" x=\"439.34\" y=\"-230.3\" font-family=\"Times,serif\" font-size=\"14.00\" fill=\"white\">cMMpourc_corp</text>\n</a>\n</g>\n</g>\n<!-- cMMpourc_corp&#45;&gt;cMGpourc_corp -->\n<g id=\"edge8\" class=\"edge\">\n<title>cMMpourc_corp-&gt;cMGpourc_corp</title>\n<g id=\"a_edge8\"><a xlink:title=\"(9, 7) : \">\n<path fill=\"none\" stroke=\"#4a4a4a\" d=\"M455.22,-216.41C463.53,-207.73 473.85,-196.95 483.04,-187.34\"/>\n<polygon fill=\"#4a4a4a\" stroke=\"#4a4a4a\" points=\"485.73,-189.6 490.11,-179.96 480.67,-184.76 485.73,-189.6\"/>\n</a>\n</g>\n</g>\n<!-- cvegf_inf -->\n<g id=\"node17\" class=\"node\">\n<title>cvegf_inf</title>\n<g id=\"a_node17\"><a xlink:title=\"(37) cvegf_inf\">\n<ellipse fill=\"#404040\" stroke=\"black\" cx=\"1934.34\" cy=\"-378\" rx=\"44.39\" ry=\"18\"/>\n<text text-anchor=\"middle\" x=\"1934.34\" y=\"-374.3\" font-family=\"Times,serif\" font-size=\"14.00\" fill=\"white\">cvegf_inf</text>\n</a>\n</g>\n</g>\n<!-- cAdipo_meta -->\n<g id=\"node18\" class=\"node\">\n<title>cAdipo_meta</title>\n<g id=\"a_node18\"><a xlink:title=\"(44) cAdipo_meta\">\n<ellipse fill=\"#404040\" stroke=\"black\" cx=\"2055.34\" cy=\"-378\" rx=\"58.49\" ry=\"18\"/>\n<text text-anchor=\"middle\" x=\"2055.34\" y=\"-374.3\" font-family=\"Times,serif\" font-size=\"14.00\" fill=\"white\">cAdipo_meta</text>\n</a>\n</g>\n</g>\n<!-- cWHR -->\n<g id=\"node19\" class=\"node\">\n<title>cWHR</title>\n<g id=\"a_node19\"><a xlink:title=\"(5) cWHR\">\n<ellipse fill=\"#404040\" stroke=\"black\" cx=\"2167.34\" cy=\"-378\" rx=\"36\" ry=\"18\"/>\n<text text-anchor=\"middle\" x=\"2167.34\" y=\"-374.3\" font-family=\"Times,serif\" font-size=\"14.00\" fill=\"white\">cWHR</text>\n</a>\n</g>\n</g>\n<!-- cTT_corp -->\n<g id=\"node29\" class=\"node\">\n<title>cTT_corp</title>\n<g id=\"a_node29\"><a xlink:title=\"(3) cTT_corp\">\n<ellipse fill=\"#404040\" stroke=\"black\" cx=\"2167.34\" cy=\"-306\" rx=\"45.49\" ry=\"18\"/>\n<text text-anchor=\"middle\" x=\"2167.34\" y=\"-302.3\" font-family=\"Times,serif\" font-size=\"14.00\" fill=\"white\">cTT_corp</text>\n</a>\n</g>\n</g>\n<!-- cWHR&#45;&gt;cTT_corp -->\n<g id=\"edge7\" class=\"edge\">\n<title>cWHR-&gt;cTT_corp</title>\n<g id=\"a_edge7\"><a xlink:title=\"(5, 3) : \">\n<path fill=\"none\" stroke=\"#4a4a4a\" d=\"M2167.34,-359.7C2167.34,-351.98 2167.34,-342.71 2167.34,-334.11\"/>\n<polygon fill=\"#4a4a4a\" stroke=\"#4a4a4a\" points=\"2170.84,-334.1 2167.34,-324.1 2163.84,-334.1 2170.84,-334.1\"/>\n</a>\n</g>\n</g>\n<!-- cAGL_meta -->\n<g id=\"node20\" class=\"node\">\n<title>cAGL_meta</title>\n<g id=\"a_node20\"><a xlink:title=\"(27) cAGL_meta\">\n<ellipse fill=\"#404040\" stroke=\"black\" cx=\"295.34\" cy=\"-234\" rx=\"54.69\" ry=\"18\"/>\n<text text-anchor=\"middle\" x=\"295.34\" y=\"-230.3\" font-family=\"Times,serif\" font-size=\"14.00\" fill=\"white\">cAGL_meta</text>\n</a>\n</g>\n</g>\n<!-- cCreatine_rein -->\n<g id=\"node21\" class=\"node\">\n<title>cCreatine_rein</title>\n<g id=\"a_node21\"><a xlink:title=\"(28) cCreatine_rein\">\n<ellipse fill=\"#404040\" stroke=\"black\" cx=\"2283.34\" cy=\"-378\" rx=\"62.29\" ry=\"18\"/>\n<text text-anchor=\"middle\" x=\"2283.34\" y=\"-374.3\" font-family=\"Times,serif\" font-size=\"14.00\" fill=\"white\">cCreatine_rein</text>\n</a>\n</g>\n</g>\n<!-- cCD163pourc_infl -->\n<g id=\"node22\" class=\"node\">\n<title>cCD163pourc_infl</title>\n<g id=\"a_node22\"><a xlink:title=\"(32) cCD163pourc_infl\">\n<ellipse fill=\"#404040\" stroke=\"black\" cx=\"2440.34\" cy=\"-378\" rx=\"76.89\" ry=\"18\"/>\n<text text-anchor=\"middle\" x=\"2440.34\" y=\"-374.3\" font-family=\"Times,serif\" font-size=\"14.00\" fill=\"white\">cCD163pourc_infl</text>\n</a>\n</g>\n</g>\n<!-- cCD40pourc_infl -->\n<g id=\"node23\" class=\"node\">\n<title>cCD40pourc_infl</title>\n<g id=\"a_node23\"><a xlink:title=\"(33) cCD40pourc_infl\">\n<ellipse fill=\"#404040\" stroke=\"black\" cx=\"2607.34\" cy=\"-378\" rx=\"72.29\" ry=\"18\"/>\n<text text-anchor=\"middle\" x=\"2607.34\" y=\"-374.3\" font-family=\"Times,serif\" font-size=\"14.00\" fill=\"white\">cCD40pourc_infl</text>\n</a>\n</g>\n</g>\n<!-- cmcp1_inf -->\n<g id=\"node24\" class=\"node\">\n<title>cmcp1_inf</title>\n<g id=\"a_node24\"><a xlink:title=\"(40) cmcp1_inf\">\n<ellipse fill=\"#404040\" stroke=\"black\" cx=\"2746.34\" cy=\"-378\" rx=\"48.99\" ry=\"18\"/>\n<text text-anchor=\"middle\" x=\"2746.34\" y=\"-374.3\" font-family=\"Times,serif\" font-size=\"14.00\" fill=\"white\">cmcp1_inf</text>\n</a>\n</g>\n</g>\n<!-- cDisse_meta -->\n<g id=\"node26\" class=\"node\">\n<title>cDisse_meta</title>\n<g id=\"a_node26\"><a xlink:title=\"(17) cDisse_meta\">\n<ellipse fill=\"#404040\" stroke=\"black\" cx=\"294.34\" cy=\"-306\" rx=\"55.79\" ry=\"18\"/>\n<text text-anchor=\"middle\" x=\"294.34\" y=\"-302.3\" font-family=\"Times,serif\" font-size=\"14.00\" fill=\"white\">cDisse_meta</text>\n</a>\n</g>\n</g>\n<!-- cDisse_meta&#45;&gt;cAGL_meta -->\n<g id=\"edge4\" class=\"edge\">\n<title>cDisse_meta-&gt;cAGL_meta</title>\n<g id=\"a_edge4\"><a xlink:title=\"(17, 27) : \">\n<path fill=\"none\" stroke=\"#4a4a4a\" d=\"M294.59,-287.7C294.7,-279.98 294.83,-270.71 294.96,-262.11\"/>\n<polygon fill=\"#4a4a4a\" stroke=\"#4a4a4a\" points=\"298.46,-262.15 295.1,-252.1 291.46,-262.05 298.46,-262.15\"/>\n</a>\n</g>\n</g>\n<!-- cHAM56pourc_infl -->\n<g id=\"node27\" class=\"node\">\n<title>cHAM56pourc_infl</title>\n<g id=\"a_node27\"><a xlink:title=\"(31) cHAM56pourc_infl\">\n<ellipse fill=\"#404040\" stroke=\"black\" cx=\"2894.34\" cy=\"-378\" rx=\"81.49\" ry=\"18\"/>\n<text text-anchor=\"middle\" x=\"2894.34\" y=\"-374.3\" font-family=\"Times,serif\" font-size=\"14.00\" fill=\"white\">cHAM56pourc_infl</text>\n</a>\n</g>\n</g>\n<!-- cip10_inf -->\n<g id=\"node28\" class=\"node\">\n<title>cip10_inf</title>\n<g id=\"a_node28\"><a xlink:title=\"(39) cip10_inf\">\n<ellipse fill=\"#404040\" stroke=\"black\" cx=\"3037.34\" cy=\"-378\" rx=\"44.39\" ry=\"18\"/>\n<text text-anchor=\"middle\" x=\"3037.34\" y=\"-374.3\" font-family=\"Times,serif\" font-size=\"14.00\" fill=\"white\">cip10_inf</text>\n</a>\n</g>\n</g>\n<!-- cTG_meta -->\n<g id=\"node30\" class=\"node\">\n<title>cTG_meta</title>\n<g id=\"a_node30\"><a xlink:title=\"(23) cTG_meta\">\n<ellipse fill=\"#404040\" stroke=\"black\" cx=\"453.34\" cy=\"-378\" rx=\"48.19\" ry=\"18\"/>\n<text text-anchor=\"middle\" x=\"453.34\" y=\"-374.3\" font-family=\"Times,serif\" font-size=\"14.00\" fill=\"white\">cTG_meta</text>\n</a>\n</g>\n</g>\n<!-- cTG_meta&#45;&gt;Sexe -->\n<g id=\"edge5\" class=\"edge\">\n<title>cTG_meta-&gt;Sexe</title>\n<g id=\"a_edge5\"><a xlink:title=\"(23, 0) : \">\n<path fill=\"none\" stroke=\"#4a4a4a\" d=\"M461.33,-360.05C465.24,-351.77 470.02,-341.62 474.36,-332.42\"/>\n<polygon fill=\"#4a4a4a\" stroke=\"#4a4a4a\" points=\"477.56,-333.84 478.66,-323.31 471.23,-330.86 477.56,-333.84\"/>\n</a>\n</g>\n</g>\n<!-- cIL6_inf -->\n<g id=\"node31\" class=\"node\">\n<title>cIL6_inf</title>\n<g id=\"a_node31\"><a xlink:title=\"(35) cIL6_inf\">\n<ellipse fill=\"#404040\" stroke=\"black\" cx=\"3141.34\" cy=\"-378\" rx=\"41.69\" ry=\"18\"/>\n<text text-anchor=\"middle\" x=\"3141.34\" y=\"-374.3\" font-family=\"Times,serif\" font-size=\"14.00\" fill=\"white\">cIL6_inf</text>\n</a>\n</g>\n</g>\n<!-- cChol_meta -->\n<g id=\"node32\" class=\"node\">\n<title>cChol_meta</title>\n<g id=\"a_node32\"><a xlink:title=\"(22) cChol_meta\">\n<ellipse fill=\"#404040\" stroke=\"black\" cx=\"1057.34\" cy=\"-378\" rx=\"53.89\" ry=\"18\"/>\n<text text-anchor=\"middle\" x=\"1057.34\" y=\"-374.3\" font-family=\"Times,serif\" font-size=\"14.00\" fill=\"white\">cChol_meta</text>\n</a>\n</g>\n</g>\n<!-- cNHDL -->\n<g id=\"node38\" class=\"node\">\n<title>cNHDL</title>\n<g id=\"a_node38\"><a xlink:title=\"(26) cNHDL\">\n<ellipse fill=\"#404040\" stroke=\"black\" cx=\"1057.34\" cy=\"-306\" rx=\"38.99\" ry=\"18\"/>\n<text text-anchor=\"middle\" x=\"1057.34\" y=\"-302.3\" font-family=\"Times,serif\" font-size=\"14.00\" fill=\"white\">cNHDL</text>\n</a>\n</g>\n</g>\n<!-- cChol_meta&#45;&gt;cNHDL -->\n<g id=\"edge2\" class=\"edge\">\n<title>cChol_meta-&gt;cNHDL</title>\n<g id=\"a_edge2\"><a xlink:title=\"(22, 26) : \">\n<path fill=\"none\" stroke=\"#4a4a4a\" d=\"M1057.34,-359.7C1057.34,-351.98 1057.34,-342.71 1057.34,-334.11\"/>\n<polygon fill=\"#4a4a4a\" stroke=\"#4a4a4a\" points=\"1060.84,-334.1 1057.34,-324.1 1053.84,-334.1 1060.84,-334.1\"/>\n</a>\n</g>\n</g>\n<!-- cAndpourc_corp -->\n<g id=\"node33\" class=\"node\">\n<title>cAndpourc_corp</title>\n<g id=\"a_node33\"><a xlink:title=\"(10) cAndpourc_corp\">\n<ellipse fill=\"#404040\" stroke=\"black\" cx=\"3270.34\" cy=\"-306\" rx=\"69.59\" ry=\"18\"/>\n<text text-anchor=\"middle\" x=\"3270.34\" y=\"-302.3\" font-family=\"Times,serif\" font-size=\"14.00\" fill=\"white\">cAndpourc_corp</text>\n</a>\n</g>\n</g>\n<!-- cBMI_corp -->\n<g id=\"node34\" class=\"node\">\n<title>cBMI_corp</title>\n<g id=\"a_node34\"><a xlink:title=\"(2) cBMI_corp\">\n<ellipse fill=\"#404040\" stroke=\"black\" cx=\"3410.34\" cy=\"-378\" rx=\"51.99\" ry=\"18\"/>\n<text text-anchor=\"middle\" x=\"3410.34\" y=\"-374.3\" font-family=\"Times,serif\" font-size=\"14.00\" fill=\"white\">cBMI_corp</text>\n</a>\n</g>\n</g>\n<!-- cHOMA_S_meta&#45;&gt;cIns_meta -->\n<g id=\"edge13\" class=\"edge\">\n<title>cHOMA_S_meta-&gt;cIns_meta</title>\n<g id=\"a_edge13\"><a xlink:title=\"(15, 13) : \">\n<path fill=\"none\" stroke=\"#4a4a4a\" d=\"M149.34,-215.7C149.34,-207.98 149.34,-198.71 149.34,-190.11\"/>\n<polygon fill=\"#4a4a4a\" stroke=\"#4a4a4a\" points=\"152.84,-190.1 149.34,-180.1 145.84,-190.1 152.84,-190.1\"/>\n</a>\n</g>\n</g>\n<!-- cLeptin_meta -->\n<g id=\"node37\" class=\"node\">\n<title>cLeptin_meta</title>\n<g id=\"a_node37\"><a xlink:title=\"(43) cLeptin_meta\">\n<ellipse fill=\"#404040\" stroke=\"black\" cx=\"3540.34\" cy=\"-378\" rx=\"59.59\" ry=\"18\"/>\n<text text-anchor=\"middle\" x=\"3540.34\" y=\"-374.3\" font-family=\"Times,serif\" font-size=\"14.00\" fill=\"white\">cLeptin_meta</text>\n</a>\n</g>\n</g>\n<!-- cNHDL&#45;&gt;cLDL_meta -->\n<g id=\"edge15\" class=\"edge\">\n<title>cNHDL-&gt;cLDL_meta</title>\n<g id=\"a_edge15\"><a xlink:title=\"(26, 25) : \">\n<path fill=\"none\" stroke=\"#4a4a4a\" d=\"M1057.34,-287.7C1057.34,-279.98 1057.34,-270.71 1057.34,-262.11\"/>\n<polygon fill=\"#4a4a4a\" stroke=\"#4a4a4a\" points=\"1060.84,-262.1 1057.34,-252.1 1053.84,-262.1 1060.84,-262.1\"/>\n</a>\n</g>\n</g>\n<!-- Age -->\n<g id=\"node39\" class=\"node\">\n<title>Age</title>\n<g id=\"a_node39\"><a xlink:title=\"(1) Age\">\n<ellipse fill=\"#404040\" stroke=\"black\" cx=\"3645.34\" cy=\"-378\" rx=\"27\" ry=\"18\"/>\n<text text-anchor=\"middle\" x=\"3645.34\" y=\"-374.3\" font-family=\"Times,serif\" font-size=\"14.00\" fill=\"white\">Age</text>\n</a>\n</g>\n</g>\n<!-- cCRP_inf&#45;&gt;cMGpourc_corp -->\n<g id=\"edge1\" class=\"edge\">\n<title>cCRP_inf-&gt;cMGpourc_corp</title>\n<g id=\"a_edge1\"><a xlink:title=\"(34, 7) : \">\n<path fill=\"none\" stroke=\"#4a4a4a\" d=\"M558.57,-216.76C549.94,-207.88 539.09,-196.71 529.52,-186.85\"/>\n<polygon fill=\"#4a4a4a\" stroke=\"#4a4a4a\" points=\"531.98,-184.37 522.5,-179.63 526.96,-189.24 531.98,-184.37\"/>\n</a>\n</g>\n</g>\n<!-- cGynpourc_corp -->\n<g id=\"node41\" class=\"node\">\n<title>cGynpourc_corp</title>\n<g id=\"a_node41\"><a xlink:title=\"(11) cGynpourc_corp\">\n<ellipse fill=\"#404040\" stroke=\"black\" cx=\"3270.34\" cy=\"-378\" rx=\"69.59\" ry=\"18\"/>\n<text text-anchor=\"middle\" x=\"3270.34\" y=\"-374.3\" font-family=\"Times,serif\" font-size=\"14.00\" fill=\"white\">cGynpourc_corp</text>\n</a>\n</g>\n</g>\n<!-- cGynpourc_corp&#45;&gt;cAndpourc_corp -->\n<g id=\"edge9\" class=\"edge\">\n<title>cGynpourc_corp-&gt;cAndpourc_corp</title>\n<g id=\"a_edge9\"><a xlink:title=\"(11, 10) : \">\n<path fill=\"none\" stroke=\"#4a4a4a\" d=\"M3270.34,-359.7C3270.34,-351.98 3270.34,-342.71 3270.34,-334.11\"/>\n<polygon fill=\"#4a4a4a\" stroke=\"#4a4a4a\" points=\"3273.84,-334.1 3270.34,-324.1 3266.84,-334.1 3273.84,-334.1\"/>\n</a>\n</g>\n</g>\n<!-- crevised_QUICKI_meta -->\n<g id=\"node42\" class=\"node\">\n<title>crevised_QUICKI_meta</title>\n<g id=\"a_node42\"><a xlink:title=\"(19) crevised_QUICKI_meta\">\n<ellipse fill=\"#404040\" stroke=\"black\" cx=\"221.34\" cy=\"-378\" rx=\"96.68\" ry=\"18\"/>\n<text text-anchor=\"middle\" x=\"221.34\" y=\"-374.3\" font-family=\"Times,serif\" font-size=\"14.00\" fill=\"white\">crevised_QUICKI_meta</text>\n</a>\n</g>\n</g>\n<!-- crevised_QUICKI_meta&#45;&gt;cQUICKI_meta -->\n<g id=\"edge3\" class=\"edge\">\n<title>crevised_QUICKI_meta-&gt;cQUICKI_meta</title>\n<g id=\"a_edge3\"><a xlink:title=\"(19, 18) : \">\n<path fill=\"none\" stroke=\"#4a4a4a\" d=\"M204.4,-360.05C195.71,-351.37 184.99,-340.64 175.46,-331.11\"/>\n<polygon fill=\"#4a4a4a\" stroke=\"#4a4a4a\" points=\"177.68,-328.39 168.13,-323.79 172.73,-333.33 177.68,-328.39\"/>\n</a>\n</g>\n</g>\n<!-- crevised_QUICKI_meta&#45;&gt;cDisse_meta -->\n<g id=\"edge10\" class=\"edge\">\n<title>crevised_QUICKI_meta-&gt;cDisse_meta</title>\n<g id=\"a_edge10\"><a xlink:title=\"(19, 17) : \">\n<path fill=\"none\" stroke=\"#4a4a4a\" d=\"M239.01,-360.05C248.29,-351.16 259.81,-340.11 269.93,-330.41\"/>\n<polygon fill=\"#4a4a4a\" stroke=\"#4a4a4a\" points=\"272.54,-332.75 277.34,-323.31 267.7,-327.7 272.54,-332.75\"/>\n</a>\n</g>\n</g>\n<!-- cHOMA_IR_meta&#45;&gt;cHOMA_B_meta -->\n<g id=\"edge18\" class=\"edge\">\n<title>cHOMA_IR_meta-&gt;cHOMA_B_meta</title>\n<g id=\"a_edge18\"><a xlink:title=\"(16, 14) : \">\n<path fill=\"none\" stroke=\"#4a4a4a\" d=\"M77.34,-71.7C77.34,-63.98 77.34,-54.71 77.34,-46.11\"/>\n<polygon fill=\"#4a4a4a\" stroke=\"#4a4a4a\" points=\"80.84,-46.1 77.34,-36.1 73.84,-46.1 80.84,-46.1\"/>\n</a>\n</g>\n</g>\n<!-- cMMkg_corp -->\n<g id=\"node44\" class=\"node\">\n<title>cMMkg_corp</title>\n<g id=\"a_node44\"><a xlink:title=\"(8) cMMkg_corp\">\n<ellipse fill=\"#404040\" stroke=\"black\" cx=\"3750.34\" cy=\"-378\" rx=\"59.59\" ry=\"18\"/>\n<text text-anchor=\"middle\" x=\"3750.34\" y=\"-374.3\" font-family=\"Times,serif\" font-size=\"14.00\" fill=\"white\">cMMkg_corp</text>\n</a>\n</g>\n</g>\n<!-- Sexe&#45;&gt;cAGL_meta -->\n<g id=\"edge20\" class=\"edge\">\n<title>Sexe-&gt;cAGL_meta</title>\n<g id=\"a_edge20\"><a xlink:title=\"(0, 27) : \">\n<path fill=\"none\" stroke=\"#4a4a4a\" d=\"M462.54,-296.28C432.06,-285.11 378.63,-265.52 340.36,-251.5\"/>\n<polygon fill=\"#4a4a4a\" stroke=\"#4a4a4a\" points=\"341.09,-248.04 330.5,-247.88 338.68,-254.61 341.09,-248.04\"/>\n</a>\n</g>\n</g>\n<!-- Sexe&#45;&gt;cCRP_inf -->\n<g id=\"edge16\" class=\"edge\">\n<title>Sexe-&gt;cCRP_inf</title>\n<g id=\"a_edge16\"><a xlink:title=\"(0, 34) : \">\n<path fill=\"none\" stroke=\"#4a4a4a\" d=\"M503.31,-291.5C515.67,-281.67 532.67,-268.15 546.94,-256.79\"/>\n<polygon fill=\"#4a4a4a\" stroke=\"#4a4a4a\" points=\"549.33,-259.37 554.98,-250.41 544.97,-253.89 549.33,-259.37\"/>\n</a>\n</g>\n</g>\n</g>\n</svg>",
      "text/plain": [
       "<IPython.core.display.SVG object>"
      ]
     },
     "metadata": {},
     "output_type": "display_data"
    }
   ],
   "source": [
    "learner=gum.BNLearner(\"data/discr_data_joint.csv\")\n",
    "learner.useLocalSearchWithTabuList()\n",
    "bn_l = learner.learnBN()\n",
    "export(bn_l,\"data/joint_Local_search.pdf\")\n",
    "\n",
    "learner=gum.BNLearner(\"data/discr_data_joint.csv\")\n",
    "learner.useGreedyHillClimbing()\n",
    "bn_G = learner.learnBN()\n",
    "export(bn_G,\"data/joint_Hill_Climbing.pdf\")\n",
    "gnb.showBN(bn_G,size=60000)"
   ]
  },
  {
   "cell_type": "markdown",
   "metadata": {},
   "source": [
    "# Dynamic Bayesian networks"
   ]
  },
  {
   "cell_type": "code",
   "execution_count": 29,
   "metadata": {},
   "outputs": [],
   "source": [
    "import pyAgrum as gum\n",
    "import pyAgrum.lib.notebook as gnb\n",
    "import pyAgrum.lib.dynamicBN as gdyn"
   ]
  },
  {
   "cell_type": "code",
   "execution_count": null,
   "metadata": {},
   "outputs": [],
   "source": [
    "def to_csv(data, file):\n",
    "    l=[]\n",
    "    for col in data.columns.values:\n",
    "        bins = np.linspace(min(data[col]), max(data[col]), 5)\n",
    "        l.append(pd.DataFrame(np.digitize(data[col], bins),columns=[col]))\n",
    "        \n",
    "    discr_data = pd.concat(l, join='outer', axis=1)\n",
    "    discr_data.to_csv(file,index=False)"
   ]
  },
  {
   "cell_type": "code",
   "execution_count": 30,
   "metadata": {},
   "outputs": [],
   "source": [
    "data_dynamic = pd.read_csv('data/dynamic.txt' , sep=' ')"
   ]
  },
  {
   "cell_type": "code",
   "execution_count": 65,
   "metadata": {},
   "outputs": [],
   "source": [
    "discr_data = []\n",
    "for data in ['HbA1C', 'Gly', 'Poids', 'Status']:\n",
    "    t = 3\n",
    "    heads = [data + str(i) for i in range(t)]\n",
    "    df = data_dynamic[heads]\n",
    "    df_min = df.min().min()\n",
    "    df_max = df.max().max()\n",
    "    bins = np.linspace(df_min, df_max, 5)\n",
    "    discr_df = pd.DataFrame(np.digitize(df, bins),columns=heads)\n",
    "    discr_data.append(discr_df)\n",
    "discr_data = pd.concat(discr_data, join='outer', axis=1)\n",
    "discr_data.to_csv('data/discr_dynamic.csv',index=False)"
   ]
  },
  {
   "cell_type": "code",
   "execution_count": 51,
   "metadata": {},
   "outputs": [
    {
     "data": {
      "text/html": [
       "<div>\n",
       "<style scoped>\n",
       "    .dataframe tbody tr th:only-of-type {\n",
       "        vertical-align: middle;\n",
       "    }\n",
       "\n",
       "    .dataframe tbody tr th {\n",
       "        vertical-align: top;\n",
       "    }\n",
       "\n",
       "    .dataframe thead th {\n",
       "        text-align: right;\n",
       "    }\n",
       "</style>\n",
       "<table border=\"1\" class=\"dataframe\">\n",
       "  <thead>\n",
       "    <tr style=\"text-align: right;\">\n",
       "      <th></th>\n",
       "      <th>HbA1C0</th>\n",
       "      <th>HbA1C1</th>\n",
       "      <th>HbA1C2</th>\n",
       "      <th>Gly0</th>\n",
       "      <th>Gly1</th>\n",
       "      <th>Gly2</th>\n",
       "      <th>Poids0</th>\n",
       "      <th>Poids1</th>\n",
       "      <th>Poids2</th>\n",
       "      <th>Status0</th>\n",
       "      <th>Status1</th>\n",
       "      <th>Status2</th>\n",
       "    </tr>\n",
       "  </thead>\n",
       "  <tbody>\n",
       "    <tr>\n",
       "      <th>0</th>\n",
       "      <td>6.7</td>\n",
       "      <td>5.9</td>\n",
       "      <td>6.1</td>\n",
       "      <td>6.105</td>\n",
       "      <td>4.7</td>\n",
       "      <td>5.0</td>\n",
       "      <td>110.7</td>\n",
       "      <td>67.0</td>\n",
       "      <td>72.0</td>\n",
       "      <td>1</td>\n",
       "      <td>1</td>\n",
       "      <td>3</td>\n",
       "    </tr>\n",
       "    <tr>\n",
       "      <th>1</th>\n",
       "      <td>6.0</td>\n",
       "      <td>5.2</td>\n",
       "      <td>5.2</td>\n",
       "      <td>6.327</td>\n",
       "      <td>4.0</td>\n",
       "      <td>4.9</td>\n",
       "      <td>177.0</td>\n",
       "      <td>127.0</td>\n",
       "      <td>143.6</td>\n",
       "      <td>1</td>\n",
       "      <td>1</td>\n",
       "      <td>1</td>\n",
       "    </tr>\n",
       "    <tr>\n",
       "      <th>2</th>\n",
       "      <td>6.8</td>\n",
       "      <td>5.9</td>\n",
       "      <td>6.6</td>\n",
       "      <td>7.881</td>\n",
       "      <td>6.0</td>\n",
       "      <td>6.4</td>\n",
       "      <td>133.4</td>\n",
       "      <td>110.0</td>\n",
       "      <td>115.0</td>\n",
       "      <td>1</td>\n",
       "      <td>3</td>\n",
       "      <td>2</td>\n",
       "    </tr>\n",
       "    <tr>\n",
       "      <th>3</th>\n",
       "      <td>9.4</td>\n",
       "      <td>7.7</td>\n",
       "      <td>8.4</td>\n",
       "      <td>11.700</td>\n",
       "      <td>9.1</td>\n",
       "      <td>7.9</td>\n",
       "      <td>95.2</td>\n",
       "      <td>80.0</td>\n",
       "      <td>85.1</td>\n",
       "      <td>1</td>\n",
       "      <td>2</td>\n",
       "      <td>2</td>\n",
       "    </tr>\n",
       "    <tr>\n",
       "      <th>4</th>\n",
       "      <td>8.0</td>\n",
       "      <td>5.7</td>\n",
       "      <td>5.9</td>\n",
       "      <td>10.700</td>\n",
       "      <td>5.4</td>\n",
       "      <td>5.6</td>\n",
       "      <td>120.0</td>\n",
       "      <td>92.1</td>\n",
       "      <td>84.7</td>\n",
       "      <td>1</td>\n",
       "      <td>1</td>\n",
       "      <td>3</td>\n",
       "    </tr>\n",
       "    <tr>\n",
       "      <th>...</th>\n",
       "      <td>...</td>\n",
       "      <td>...</td>\n",
       "      <td>...</td>\n",
       "      <td>...</td>\n",
       "      <td>...</td>\n",
       "      <td>...</td>\n",
       "      <td>...</td>\n",
       "      <td>...</td>\n",
       "      <td>...</td>\n",
       "      <td>...</td>\n",
       "      <td>...</td>\n",
       "      <td>...</td>\n",
       "    </tr>\n",
       "    <tr>\n",
       "      <th>170</th>\n",
       "      <td>6.8</td>\n",
       "      <td>5.3</td>\n",
       "      <td>6.1</td>\n",
       "      <td>5.300</td>\n",
       "      <td>6.0</td>\n",
       "      <td>5.3</td>\n",
       "      <td>105.6</td>\n",
       "      <td>73.3</td>\n",
       "      <td>75.0</td>\n",
       "      <td>1</td>\n",
       "      <td>2</td>\n",
       "      <td>3</td>\n",
       "    </tr>\n",
       "    <tr>\n",
       "      <th>171</th>\n",
       "      <td>7.6</td>\n",
       "      <td>5.5</td>\n",
       "      <td>7.9</td>\n",
       "      <td>4.500</td>\n",
       "      <td>4.7</td>\n",
       "      <td>10.6</td>\n",
       "      <td>146.7</td>\n",
       "      <td>96.4</td>\n",
       "      <td>88.8</td>\n",
       "      <td>1</td>\n",
       "      <td>2</td>\n",
       "      <td>2</td>\n",
       "    </tr>\n",
       "    <tr>\n",
       "      <th>172</th>\n",
       "      <td>6.3</td>\n",
       "      <td>6.1</td>\n",
       "      <td>5.9</td>\n",
       "      <td>5.600</td>\n",
       "      <td>5.4</td>\n",
       "      <td>5.0</td>\n",
       "      <td>102.0</td>\n",
       "      <td>81.4</td>\n",
       "      <td>89.6</td>\n",
       "      <td>1</td>\n",
       "      <td>3</td>\n",
       "      <td>1</td>\n",
       "    </tr>\n",
       "    <tr>\n",
       "      <th>173</th>\n",
       "      <td>5.9</td>\n",
       "      <td>6.3</td>\n",
       "      <td>6.3</td>\n",
       "      <td>5.500</td>\n",
       "      <td>5.4</td>\n",
       "      <td>7.7</td>\n",
       "      <td>90.5</td>\n",
       "      <td>73.0</td>\n",
       "      <td>78.0</td>\n",
       "      <td>1</td>\n",
       "      <td>2</td>\n",
       "      <td>2</td>\n",
       "    </tr>\n",
       "    <tr>\n",
       "      <th>174</th>\n",
       "      <td>6.8</td>\n",
       "      <td>7.7</td>\n",
       "      <td>5.3</td>\n",
       "      <td>6.100</td>\n",
       "      <td>8.8</td>\n",
       "      <td>4.4</td>\n",
       "      <td>141.4</td>\n",
       "      <td>96.1</td>\n",
       "      <td>86.0</td>\n",
       "      <td>1</td>\n",
       "      <td>2</td>\n",
       "      <td>1</td>\n",
       "    </tr>\n",
       "  </tbody>\n",
       "</table>\n",
       "<p>175 rows × 12 columns</p>\n",
       "</div>"
      ],
      "text/plain": [
       "     HbA1C0  HbA1C1  HbA1C2    Gly0  Gly1  Gly2  Poids0  Poids1  Poids2  \\\n",
       "0       6.7     5.9     6.1   6.105   4.7   5.0   110.7    67.0    72.0   \n",
       "1       6.0     5.2     5.2   6.327   4.0   4.9   177.0   127.0   143.6   \n",
       "2       6.8     5.9     6.6   7.881   6.0   6.4   133.4   110.0   115.0   \n",
       "3       9.4     7.7     8.4  11.700   9.1   7.9    95.2    80.0    85.1   \n",
       "4       8.0     5.7     5.9  10.700   5.4   5.6   120.0    92.1    84.7   \n",
       "..      ...     ...     ...     ...   ...   ...     ...     ...     ...   \n",
       "170     6.8     5.3     6.1   5.300   6.0   5.3   105.6    73.3    75.0   \n",
       "171     7.6     5.5     7.9   4.500   4.7  10.6   146.7    96.4    88.8   \n",
       "172     6.3     6.1     5.9   5.600   5.4   5.0   102.0    81.4    89.6   \n",
       "173     5.9     6.3     6.3   5.500   5.4   7.7    90.5    73.0    78.0   \n",
       "174     6.8     7.7     5.3   6.100   8.8   4.4   141.4    96.1    86.0   \n",
       "\n",
       "     Status0  Status1  Status2  \n",
       "0          1        1        3  \n",
       "1          1        1        1  \n",
       "2          1        3        2  \n",
       "3          1        2        2  \n",
       "4          1        1        3  \n",
       "..       ...      ...      ...  \n",
       "170        1        2        3  \n",
       "171        1        2        2  \n",
       "172        1        3        1  \n",
       "173        1        2        2  \n",
       "174        1        2        1  \n",
       "\n",
       "[175 rows x 12 columns]"
      ]
     },
     "execution_count": 51,
     "metadata": {},
     "output_type": "execute_result"
    }
   ],
   "source": [
    "data_dynamic"
   ]
  },
  {
   "cell_type": "code",
   "execution_count": 63,
   "metadata": {},
   "outputs": [
    {
     "data": {
      "text/html": [
       "<div>\n",
       "<style scoped>\n",
       "    .dataframe tbody tr th:only-of-type {\n",
       "        vertical-align: middle;\n",
       "    }\n",
       "\n",
       "    .dataframe tbody tr th {\n",
       "        vertical-align: top;\n",
       "    }\n",
       "\n",
       "    .dataframe thead th {\n",
       "        text-align: right;\n",
       "    }\n",
       "</style>\n",
       "<table border=\"1\" class=\"dataframe\">\n",
       "  <thead>\n",
       "    <tr style=\"text-align: right;\">\n",
       "      <th></th>\n",
       "      <th>HbA1C0</th>\n",
       "      <th>HbA1C1</th>\n",
       "      <th>HbA1C2</th>\n",
       "      <th>Gly0</th>\n",
       "      <th>Gly1</th>\n",
       "      <th>Gly2</th>\n",
       "      <th>Poids0</th>\n",
       "      <th>Poids1</th>\n",
       "      <th>Poids2</th>\n",
       "      <th>Status0</th>\n",
       "      <th>Status1</th>\n",
       "      <th>Status2</th>\n",
       "    </tr>\n",
       "  </thead>\n",
       "  <tbody>\n",
       "    <tr>\n",
       "      <th>0</th>\n",
       "      <td>1</td>\n",
       "      <td>1</td>\n",
       "      <td>1</td>\n",
       "      <td>1</td>\n",
       "      <td>1</td>\n",
       "      <td>1</td>\n",
       "      <td>2</td>\n",
       "      <td>1</td>\n",
       "      <td>1</td>\n",
       "      <td>1</td>\n",
       "      <td>1</td>\n",
       "      <td>5</td>\n",
       "    </tr>\n",
       "    <tr>\n",
       "      <th>1</th>\n",
       "      <td>1</td>\n",
       "      <td>1</td>\n",
       "      <td>1</td>\n",
       "      <td>1</td>\n",
       "      <td>1</td>\n",
       "      <td>1</td>\n",
       "      <td>4</td>\n",
       "      <td>2</td>\n",
       "      <td>3</td>\n",
       "      <td>1</td>\n",
       "      <td>1</td>\n",
       "      <td>1</td>\n",
       "    </tr>\n",
       "    <tr>\n",
       "      <th>2</th>\n",
       "      <td>1</td>\n",
       "      <td>1</td>\n",
       "      <td>1</td>\n",
       "      <td>2</td>\n",
       "      <td>1</td>\n",
       "      <td>1</td>\n",
       "      <td>3</td>\n",
       "      <td>2</td>\n",
       "      <td>2</td>\n",
       "      <td>1</td>\n",
       "      <td>5</td>\n",
       "      <td>3</td>\n",
       "    </tr>\n",
       "    <tr>\n",
       "      <th>3</th>\n",
       "      <td>2</td>\n",
       "      <td>2</td>\n",
       "      <td>2</td>\n",
       "      <td>3</td>\n",
       "      <td>2</td>\n",
       "      <td>2</td>\n",
       "      <td>2</td>\n",
       "      <td>1</td>\n",
       "      <td>1</td>\n",
       "      <td>1</td>\n",
       "      <td>3</td>\n",
       "      <td>3</td>\n",
       "    </tr>\n",
       "    <tr>\n",
       "      <th>4</th>\n",
       "      <td>2</td>\n",
       "      <td>1</td>\n",
       "      <td>1</td>\n",
       "      <td>2</td>\n",
       "      <td>1</td>\n",
       "      <td>1</td>\n",
       "      <td>2</td>\n",
       "      <td>1</td>\n",
       "      <td>1</td>\n",
       "      <td>1</td>\n",
       "      <td>1</td>\n",
       "      <td>5</td>\n",
       "    </tr>\n",
       "    <tr>\n",
       "      <th>...</th>\n",
       "      <td>...</td>\n",
       "      <td>...</td>\n",
       "      <td>...</td>\n",
       "      <td>...</td>\n",
       "      <td>...</td>\n",
       "      <td>...</td>\n",
       "      <td>...</td>\n",
       "      <td>...</td>\n",
       "      <td>...</td>\n",
       "      <td>...</td>\n",
       "      <td>...</td>\n",
       "      <td>...</td>\n",
       "    </tr>\n",
       "    <tr>\n",
       "      <th>170</th>\n",
       "      <td>1</td>\n",
       "      <td>1</td>\n",
       "      <td>1</td>\n",
       "      <td>1</td>\n",
       "      <td>1</td>\n",
       "      <td>1</td>\n",
       "      <td>2</td>\n",
       "      <td>1</td>\n",
       "      <td>1</td>\n",
       "      <td>1</td>\n",
       "      <td>3</td>\n",
       "      <td>5</td>\n",
       "    </tr>\n",
       "    <tr>\n",
       "      <th>171</th>\n",
       "      <td>2</td>\n",
       "      <td>1</td>\n",
       "      <td>2</td>\n",
       "      <td>1</td>\n",
       "      <td>1</td>\n",
       "      <td>2</td>\n",
       "      <td>3</td>\n",
       "      <td>2</td>\n",
       "      <td>1</td>\n",
       "      <td>1</td>\n",
       "      <td>3</td>\n",
       "      <td>3</td>\n",
       "    </tr>\n",
       "    <tr>\n",
       "      <th>172</th>\n",
       "      <td>1</td>\n",
       "      <td>1</td>\n",
       "      <td>1</td>\n",
       "      <td>1</td>\n",
       "      <td>1</td>\n",
       "      <td>1</td>\n",
       "      <td>2</td>\n",
       "      <td>1</td>\n",
       "      <td>1</td>\n",
       "      <td>1</td>\n",
       "      <td>5</td>\n",
       "      <td>1</td>\n",
       "    </tr>\n",
       "    <tr>\n",
       "      <th>173</th>\n",
       "      <td>1</td>\n",
       "      <td>1</td>\n",
       "      <td>1</td>\n",
       "      <td>1</td>\n",
       "      <td>1</td>\n",
       "      <td>2</td>\n",
       "      <td>1</td>\n",
       "      <td>1</td>\n",
       "      <td>1</td>\n",
       "      <td>1</td>\n",
       "      <td>3</td>\n",
       "      <td>3</td>\n",
       "    </tr>\n",
       "    <tr>\n",
       "      <th>174</th>\n",
       "      <td>1</td>\n",
       "      <td>2</td>\n",
       "      <td>1</td>\n",
       "      <td>1</td>\n",
       "      <td>2</td>\n",
       "      <td>1</td>\n",
       "      <td>3</td>\n",
       "      <td>2</td>\n",
       "      <td>1</td>\n",
       "      <td>1</td>\n",
       "      <td>3</td>\n",
       "      <td>1</td>\n",
       "    </tr>\n",
       "  </tbody>\n",
       "</table>\n",
       "<p>175 rows × 12 columns</p>\n",
       "</div>"
      ],
      "text/plain": [
       "     HbA1C0  HbA1C1  HbA1C2  Gly0  Gly1  Gly2  Poids0  Poids1  Poids2  \\\n",
       "0         1       1       1     1     1     1       2       1       1   \n",
       "1         1       1       1     1     1     1       4       2       3   \n",
       "2         1       1       1     2     1     1       3       2       2   \n",
       "3         2       2       2     3     2     2       2       1       1   \n",
       "4         2       1       1     2     1     1       2       1       1   \n",
       "..      ...     ...     ...   ...   ...   ...     ...     ...     ...   \n",
       "170       1       1       1     1     1     1       2       1       1   \n",
       "171       2       1       2     1     1     2       3       2       1   \n",
       "172       1       1       1     1     1     1       2       1       1   \n",
       "173       1       1       1     1     1     2       1       1       1   \n",
       "174       1       2       1     1     2     1       3       2       1   \n",
       "\n",
       "     Status0  Status1  Status2  \n",
       "0          1        1        5  \n",
       "1          1        1        1  \n",
       "2          1        5        3  \n",
       "3          1        3        3  \n",
       "4          1        1        5  \n",
       "..       ...      ...      ...  \n",
       "170        1        3        5  \n",
       "171        1        3        3  \n",
       "172        1        5        1  \n",
       "173        1        3        3  \n",
       "174        1        3        1  \n",
       "\n",
       "[175 rows x 12 columns]"
      ]
     },
     "execution_count": 63,
     "metadata": {},
     "output_type": "execute_result"
    }
   ],
   "source": [
    "discr_data"
   ]
  },
  {
   "cell_type": "code",
   "execution_count": 95,
   "metadata": {},
   "outputs": [
    {
     "data": {
      "text/plain": [
       "['HbA1C0',\n",
       " 'HbA1C1',\n",
       " 'HbA1C2',\n",
       " 'Gly0',\n",
       " 'Gly1',\n",
       " 'Gly2',\n",
       " 'Poids0',\n",
       " 'Poids1',\n",
       " 'Poids2',\n",
       " 'Status0',\n",
       " 'Status1',\n",
       " 'Status2']"
      ]
     },
     "execution_count": 95,
     "metadata": {},
     "output_type": "execute_result"
    }
   ],
   "source": [
    "variables_names = []\n",
    "for data in [\"HbA1C\", \"Gly\", \"Poids\", \"Status\"]:\n",
    "    t = 3\n",
    "    variables_names += [data + str(i) for i in range(t)]\n",
    "variables_names"
   ]
  },
  {
   "cell_type": "code",
   "execution_count": 96,
   "metadata": {},
   "outputs": [
    {
     "data": {
      "image/svg+xml": "<svg xmlns=\"http://www.w3.org/2000/svg\" xmlns:xlink=\"http://www.w3.org/1999/xlink\" width=\"346pt\" height=\"188pt\" viewBox=\"0.00 0.00 346.04 188.00\">\n<g id=\"graph0\" class=\"graph\" transform=\"scale(1 1) rotate(0) translate(4 184)\">\n<title>G</title>\n<!-- Poids2 -->\n<g id=\"node1\" class=\"node\">\n<title>Poids2</title>\n<g id=\"a_node1\"><a xlink:title=\"(8) Poids2\">\n<ellipse fill=\"#404040\" stroke=\"black\" cx=\"34.45\" cy=\"-18\" rx=\"34.39\" ry=\"18\"/>\n<text text-anchor=\"middle\" x=\"34.45\" y=\"-14.3\" font-family=\"Times,serif\" font-size=\"14.00\" fill=\"white\">Poids2</text>\n</a>\n</g>\n</g>\n<!-- Status2 -->\n<g id=\"node2\" class=\"node\">\n<title>Status2</title>\n<g id=\"a_node2\"><a xlink:title=\"(11) Status2\">\n<ellipse fill=\"#404040\" stroke=\"black\" cx=\"123.45\" cy=\"-18\" rx=\"36.29\" ry=\"18\"/>\n<text text-anchor=\"middle\" x=\"123.45\" y=\"-14.3\" font-family=\"Times,serif\" font-size=\"14.00\" fill=\"white\">Status2</text>\n</a>\n</g>\n</g>\n<!-- Poids1 -->\n<g id=\"node3\" class=\"node\">\n<title>Poids1</title>\n<g id=\"a_node3\"><a xlink:title=\"(7) Poids1\">\n<ellipse fill=\"#404040\" stroke=\"black\" cx=\"34.45\" cy=\"-90\" rx=\"34.39\" ry=\"18\"/>\n<text text-anchor=\"middle\" x=\"34.45\" y=\"-86.3\" font-family=\"Times,serif\" font-size=\"14.00\" fill=\"white\">Poids1</text>\n</a>\n</g>\n</g>\n<!-- Poids1&#45;&gt;Poids2 -->\n<g id=\"edge8\" class=\"edge\">\n<title>Poids1-&gt;Poids2</title>\n<g id=\"a_edge8\"><a xlink:title=\"(7, 8) : \">\n<path fill=\"none\" stroke=\"#4a4a4a\" d=\"M34.45,-71.7C34.45,-63.98 34.45,-54.71 34.45,-46.11\"/>\n<polygon fill=\"#4a4a4a\" stroke=\"#4a4a4a\" points=\"37.95,-46.1 34.45,-36.1 30.95,-46.1 37.95,-46.1\"/>\n</a>\n</g>\n</g>\n<!-- HbA1C1 -->\n<g id=\"node4\" class=\"node\">\n<title>HbA1C1</title>\n<g id=\"a_node4\"><a xlink:title=\"(1) HbA1C1\">\n<ellipse fill=\"#404040\" stroke=\"black\" cx=\"220.45\" cy=\"-90\" rx=\"42.49\" ry=\"18\"/>\n<text text-anchor=\"middle\" x=\"220.45\" y=\"-86.3\" font-family=\"Times,serif\" font-size=\"14.00\" fill=\"white\">HbA1C1</text>\n</a>\n</g>\n</g>\n<!-- HbA1C2 -->\n<g id=\"node12\" class=\"node\">\n<title>HbA1C2</title>\n<g id=\"a_node12\"><a xlink:title=\"(2) HbA1C2\">\n<ellipse fill=\"#404040\" stroke=\"black\" cx=\"220.45\" cy=\"-18\" rx=\"42.49\" ry=\"18\"/>\n<text text-anchor=\"middle\" x=\"220.45\" y=\"-14.3\" font-family=\"Times,serif\" font-size=\"14.00\" fill=\"white\">HbA1C2</text>\n</a>\n</g>\n</g>\n<!-- HbA1C1&#45;&gt;HbA1C2 -->\n<g id=\"edge4\" class=\"edge\">\n<title>HbA1C1-&gt;HbA1C2</title>\n<g id=\"a_edge4\"><a xlink:title=\"(1, 2) : \">\n<path fill=\"none\" stroke=\"#4a4a4a\" d=\"M220.45,-71.7C220.45,-63.98 220.45,-54.71 220.45,-46.11\"/>\n<polygon fill=\"#4a4a4a\" stroke=\"#4a4a4a\" points=\"223.95,-46.1 220.45,-36.1 216.95,-46.1 223.95,-46.1\"/>\n</a>\n</g>\n</g>\n<!-- HbA1C0 -->\n<g id=\"node5\" class=\"node\">\n<title>HbA1C0</title>\n<g id=\"a_node5\"><a xlink:title=\"(0) HbA1C0\">\n<ellipse fill=\"#404040\" stroke=\"black\" cx=\"220.45\" cy=\"-162\" rx=\"42.49\" ry=\"18\"/>\n<text text-anchor=\"middle\" x=\"220.45\" y=\"-158.3\" font-family=\"Times,serif\" font-size=\"14.00\" fill=\"white\">HbA1C0</text>\n</a>\n</g>\n</g>\n<!-- HbA1C0&#45;&gt;HbA1C1 -->\n<g id=\"edge1\" class=\"edge\">\n<title>HbA1C0-&gt;HbA1C1</title>\n<g id=\"a_edge1\"><a xlink:title=\"(0, 1) : \">\n<path fill=\"none\" stroke=\"#4a4a4a\" d=\"M220.45,-143.7C220.45,-135.98 220.45,-126.71 220.45,-118.11\"/>\n<polygon fill=\"#4a4a4a\" stroke=\"#4a4a4a\" points=\"223.95,-118.1 220.45,-108.1 216.95,-118.1 223.95,-118.1\"/>\n</a>\n</g>\n</g>\n<!-- Gly2 -->\n<g id=\"node6\" class=\"node\">\n<title>Gly2</title>\n<g id=\"a_node6\"><a xlink:title=\"(5) Gly2\">\n<ellipse fill=\"#404040\" stroke=\"black\" cx=\"309.45\" cy=\"-18\" rx=\"28.7\" ry=\"18\"/>\n<text text-anchor=\"middle\" x=\"309.45\" y=\"-14.3\" font-family=\"Times,serif\" font-size=\"14.00\" fill=\"white\">Gly2</text>\n</a>\n</g>\n</g>\n<!-- Gly1 -->\n<g id=\"node7\" class=\"node\">\n<title>Gly1</title>\n<g id=\"a_node7\"><a xlink:title=\"(4) Gly1\">\n<ellipse fill=\"#404040\" stroke=\"black\" cx=\"309.45\" cy=\"-90\" rx=\"28.7\" ry=\"18\"/>\n<text text-anchor=\"middle\" x=\"309.45\" y=\"-86.3\" font-family=\"Times,serif\" font-size=\"14.00\" fill=\"white\">Gly1</text>\n</a>\n</g>\n</g>\n<!-- Gly1&#45;&gt;Gly2 -->\n<g id=\"edge7\" class=\"edge\">\n<title>Gly1-&gt;Gly2</title>\n<g id=\"a_edge7\"><a xlink:title=\"(4, 5) : \">\n<path fill=\"none\" stroke=\"#4a4a4a\" d=\"M309.45,-71.7C309.45,-63.98 309.45,-54.71 309.45,-46.11\"/>\n<polygon fill=\"#4a4a4a\" stroke=\"#4a4a4a\" points=\"312.95,-46.1 309.45,-36.1 305.95,-46.1 312.95,-46.1\"/>\n</a>\n</g>\n</g>\n<!-- Gly0 -->\n<g id=\"node8\" class=\"node\">\n<title>Gly0</title>\n<g id=\"a_node8\"><a xlink:title=\"(3) Gly0\">\n<ellipse fill=\"#404040\" stroke=\"black\" cx=\"309.45\" cy=\"-162\" rx=\"28.7\" ry=\"18\"/>\n<text text-anchor=\"middle\" x=\"309.45\" y=\"-158.3\" font-family=\"Times,serif\" font-size=\"14.00\" fill=\"white\">Gly0</text>\n</a>\n</g>\n</g>\n<!-- Gly0&#45;&gt;Gly1 -->\n<g id=\"edge5\" class=\"edge\">\n<title>Gly0-&gt;Gly1</title>\n<g id=\"a_edge5\"><a xlink:title=\"(3, 4) : \">\n<path fill=\"none\" stroke=\"#4a4a4a\" d=\"M309.45,-143.7C309.45,-135.98 309.45,-126.71 309.45,-118.11\"/>\n<polygon fill=\"#4a4a4a\" stroke=\"#4a4a4a\" points=\"312.95,-118.1 309.45,-108.1 305.95,-118.1 312.95,-118.1\"/>\n</a>\n</g>\n</g>\n<!-- Status0 -->\n<g id=\"node9\" class=\"node\">\n<title>Status0</title>\n<g id=\"a_node9\"><a xlink:title=\"(9) Status0\">\n<ellipse fill=\"#404040\" stroke=\"black\" cx=\"123.45\" cy=\"-162\" rx=\"36.29\" ry=\"18\"/>\n<text text-anchor=\"middle\" x=\"123.45\" y=\"-158.3\" font-family=\"Times,serif\" font-size=\"14.00\" fill=\"white\">Status0</text>\n</a>\n</g>\n</g>\n<!-- Status1 -->\n<g id=\"node11\" class=\"node\">\n<title>Status1</title>\n<g id=\"a_node11\"><a xlink:title=\"(10) Status1\">\n<ellipse fill=\"#404040\" stroke=\"black\" cx=\"123.45\" cy=\"-90\" rx=\"36.29\" ry=\"18\"/>\n<text text-anchor=\"middle\" x=\"123.45\" y=\"-86.3\" font-family=\"Times,serif\" font-size=\"14.00\" fill=\"white\">Status1</text>\n</a>\n</g>\n</g>\n<!-- Status0&#45;&gt;Status1 -->\n<g id=\"edge2\" class=\"edge\">\n<title>Status0-&gt;Status1</title>\n<g id=\"a_edge2\"><a xlink:title=\"(9, 10) : \">\n<path fill=\"none\" stroke=\"#4a4a4a\" d=\"M123.45,-143.7C123.45,-135.98 123.45,-126.71 123.45,-118.11\"/>\n<polygon fill=\"#4a4a4a\" stroke=\"#4a4a4a\" points=\"126.95,-118.1 123.45,-108.1 119.95,-118.1 126.95,-118.1\"/>\n</a>\n</g>\n</g>\n<!-- Poids0 -->\n<g id=\"node10\" class=\"node\">\n<title>Poids0</title>\n<g id=\"a_node10\"><a xlink:title=\"(6) Poids0\">\n<ellipse fill=\"#404040\" stroke=\"black\" cx=\"34.45\" cy=\"-162\" rx=\"34.39\" ry=\"18\"/>\n<text text-anchor=\"middle\" x=\"34.45\" y=\"-158.3\" font-family=\"Times,serif\" font-size=\"14.00\" fill=\"white\">Poids0</text>\n</a>\n</g>\n</g>\n<!-- Poids0&#45;&gt;Poids1 -->\n<g id=\"edge6\" class=\"edge\">\n<title>Poids0-&gt;Poids1</title>\n<g id=\"a_edge6\"><a xlink:title=\"(6, 7) : \">\n<path fill=\"none\" stroke=\"#4a4a4a\" d=\"M34.45,-143.7C34.45,-135.98 34.45,-126.71 34.45,-118.11\"/>\n<polygon fill=\"#4a4a4a\" stroke=\"#4a4a4a\" points=\"37.95,-118.1 34.45,-108.1 30.95,-118.1 37.95,-118.1\"/>\n</a>\n</g>\n</g>\n<!-- Status1&#45;&gt;Status2 -->\n<g id=\"edge3\" class=\"edge\">\n<title>Status1-&gt;Status2</title>\n<g id=\"a_edge3\"><a xlink:title=\"(10, 11) : \">\n<path fill=\"none\" stroke=\"#4a4a4a\" d=\"M123.45,-71.7C123.45,-63.98 123.45,-54.71 123.45,-46.11\"/>\n<polygon fill=\"#4a4a4a\" stroke=\"#4a4a4a\" points=\"126.95,-46.1 123.45,-36.1 119.95,-46.1 126.95,-46.1\"/>\n</a>\n</g>\n</g>\n</g>\n</svg>",
      "text/plain": [
       "<IPython.core.display.SVG object>"
      ]
     },
     "metadata": {},
     "output_type": "display_data"
    }
   ],
   "source": [
    "tbn=gum.BayesNet()\n",
    "variables = [tbn.add(gum.LabelizedVariable(s,s,6)) for s in variables_names]\n",
    "\n",
    "for link in [(0, 1),(1, 2),(3, 4),(4, 5), (6, 7), (7, 8), (9, 10), (10, 11)]:\n",
    "    tbn.addArc(*link)\n",
    "tbn.generateCPTs()\n",
    "export(tbn,\"data/tbn.pdf\")\n",
    "gnb.showBN(tbn)"
   ]
  },
  {
   "cell_type": "code",
   "execution_count": 102,
   "metadata": {},
   "outputs": [
    {
     "data": {
      "image/svg+xml": "<svg xmlns=\"http://www.w3.org/2000/svg\" xmlns:xlink=\"http://www.w3.org/1999/xlink\" width=\"271pt\" height=\"404pt\" viewBox=\"0.00 0.00 270.69 404.00\">\n<g id=\"graph0\" class=\"graph\" transform=\"scale(1 1) rotate(0) translate(4 400)\">\n<title>G</title>\n<!-- Poids2 -->\n<g id=\"node1\" class=\"node\">\n<title>Poids2</title>\n<g id=\"a_node1\"><a xlink:title=\"(8) Poids2\">\n<ellipse fill=\"#404040\" stroke=\"black\" cx=\"34.45\" cy=\"-234\" rx=\"34.39\" ry=\"18\"/>\n<text text-anchor=\"middle\" x=\"34.45\" y=\"-230.3\" font-family=\"Times,serif\" font-size=\"14.00\" fill=\"white\">Poids2</text>\n</a>\n</g>\n</g>\n<!-- Status2 -->\n<g id=\"node2\" class=\"node\">\n<title>Status2</title>\n<g id=\"a_node2\"><a xlink:title=\"(11) Status2\">\n<ellipse fill=\"#404040\" stroke=\"black\" cx=\"123.45\" cy=\"-306\" rx=\"36.29\" ry=\"18\"/>\n<text text-anchor=\"middle\" x=\"123.45\" y=\"-302.3\" font-family=\"Times,serif\" font-size=\"14.00\" fill=\"white\">Status2</text>\n</a>\n</g>\n</g>\n<!-- Status1 -->\n<g id=\"node11\" class=\"node\">\n<title>Status1</title>\n<g id=\"a_node11\"><a xlink:title=\"(10) Status1\">\n<ellipse fill=\"#404040\" stroke=\"black\" cx=\"123.45\" cy=\"-234\" rx=\"36.29\" ry=\"18\"/>\n<text text-anchor=\"middle\" x=\"123.45\" y=\"-230.3\" font-family=\"Times,serif\" font-size=\"14.00\" fill=\"white\">Status1</text>\n</a>\n</g>\n</g>\n<!-- Status2&#45;&gt;Status1 -->\n<g id=\"edge2\" class=\"edge\">\n<title>Status2-&gt;Status1</title>\n<g id=\"a_edge2\"><a xlink:title=\"(11, 10) : \">\n<path fill=\"none\" stroke=\"#4a4a4a\" d=\"M123.45,-287.7C123.45,-279.98 123.45,-270.71 123.45,-262.11\"/>\n<polygon fill=\"#4a4a4a\" stroke=\"#4a4a4a\" points=\"126.95,-262.1 123.45,-252.1 119.95,-262.1 126.95,-262.1\"/>\n</a>\n</g>\n</g>\n<!-- Poids1 -->\n<g id=\"node3\" class=\"node\">\n<title>Poids1</title>\n<g id=\"a_node3\"><a xlink:title=\"(7) Poids1\">\n<ellipse fill=\"#404040\" stroke=\"black\" cx=\"34.45\" cy=\"-306\" rx=\"34.39\" ry=\"18\"/>\n<text text-anchor=\"middle\" x=\"34.45\" y=\"-302.3\" font-family=\"Times,serif\" font-size=\"14.00\" fill=\"white\">Poids1</text>\n</a>\n</g>\n</g>\n<!-- Poids1&#45;&gt;Poids2 -->\n<g id=\"edge9\" class=\"edge\">\n<title>Poids1-&gt;Poids2</title>\n<g id=\"a_edge9\"><a xlink:title=\"(7, 8) : \">\n<path fill=\"none\" stroke=\"#4a4a4a\" d=\"M34.45,-287.7C34.45,-279.98 34.45,-270.71 34.45,-262.11\"/>\n<polygon fill=\"#4a4a4a\" stroke=\"#4a4a4a\" points=\"37.95,-262.1 34.45,-252.1 30.95,-262.1 37.95,-262.1\"/>\n</a>\n</g>\n</g>\n<!-- HbA1C1 -->\n<g id=\"node4\" class=\"node\">\n<title>HbA1C1</title>\n<g id=\"a_node4\"><a xlink:title=\"(1) HbA1C1\">\n<ellipse fill=\"#404040\" stroke=\"black\" cx=\"168.45\" cy=\"-90\" rx=\"42.49\" ry=\"18\"/>\n<text text-anchor=\"middle\" x=\"168.45\" y=\"-86.3\" font-family=\"Times,serif\" font-size=\"14.00\" fill=\"white\">HbA1C1</text>\n</a>\n</g>\n</g>\n<!-- Status0 -->\n<g id=\"node9\" class=\"node\">\n<title>Status0</title>\n<g id=\"a_node9\"><a xlink:title=\"(9) Status0\">\n<ellipse fill=\"#404040\" stroke=\"black\" cx=\"168.45\" cy=\"-18\" rx=\"36.29\" ry=\"18\"/>\n<text text-anchor=\"middle\" x=\"168.45\" y=\"-14.3\" font-family=\"Times,serif\" font-size=\"14.00\" fill=\"white\">Status0</text>\n</a>\n</g>\n</g>\n<!-- HbA1C1&#45;&gt;Status0 -->\n<g id=\"edge8\" class=\"edge\">\n<title>HbA1C1-&gt;Status0</title>\n<g id=\"a_edge8\"><a xlink:title=\"(1, 9) : \">\n<path fill=\"none\" stroke=\"#4a4a4a\" d=\"M168.45,-71.7C168.45,-63.98 168.45,-54.71 168.45,-46.11\"/>\n<polygon fill=\"#4a4a4a\" stroke=\"#4a4a4a\" points=\"171.95,-46.1 168.45,-36.1 164.95,-46.1 171.95,-46.1\"/>\n</a>\n</g>\n</g>\n<!-- HbA1C0 -->\n<g id=\"node5\" class=\"node\">\n<title>HbA1C0</title>\n<g id=\"a_node5\"><a xlink:title=\"(0) HbA1C0\">\n<ellipse fill=\"#404040\" stroke=\"black\" cx=\"79.45\" cy=\"-162\" rx=\"42.49\" ry=\"18\"/>\n<text text-anchor=\"middle\" x=\"79.45\" y=\"-158.3\" font-family=\"Times,serif\" font-size=\"14.00\" fill=\"white\">HbA1C0</text>\n</a>\n</g>\n</g>\n<!-- Gly0 -->\n<g id=\"node8\" class=\"node\">\n<title>Gly0</title>\n<g id=\"a_node8\"><a xlink:title=\"(3) Gly0\">\n<ellipse fill=\"#404040\" stroke=\"black\" cx=\"79.45\" cy=\"-90\" rx=\"28.7\" ry=\"18\"/>\n<text text-anchor=\"middle\" x=\"79.45\" y=\"-86.3\" font-family=\"Times,serif\" font-size=\"14.00\" fill=\"white\">Gly0</text>\n</a>\n</g>\n</g>\n<!-- HbA1C0&#45;&gt;Gly0 -->\n<g id=\"edge4\" class=\"edge\">\n<title>HbA1C0-&gt;Gly0</title>\n<g id=\"a_edge4\"><a xlink:title=\"(0, 3) : \">\n<path fill=\"none\" stroke=\"#4a4a4a\" d=\"M79.45,-143.7C79.45,-135.98 79.45,-126.71 79.45,-118.11\"/>\n<polygon fill=\"#4a4a4a\" stroke=\"#4a4a4a\" points=\"82.95,-118.1 79.45,-108.1 75.95,-118.1 82.95,-118.1\"/>\n</a>\n</g>\n</g>\n<!-- Gly2 -->\n<g id=\"node6\" class=\"node\">\n<title>Gly2</title>\n<g id=\"a_node6\"><a xlink:title=\"(5) Gly2\">\n<ellipse fill=\"#404040\" stroke=\"black\" cx=\"171.45\" cy=\"-378\" rx=\"28.7\" ry=\"18\"/>\n<text text-anchor=\"middle\" x=\"171.45\" y=\"-374.3\" font-family=\"Times,serif\" font-size=\"14.00\" fill=\"white\">Gly2</text>\n</a>\n</g>\n</g>\n<!-- Gly2&#45;&gt;Status2 -->\n<g id=\"edge1\" class=\"edge\">\n<title>Gly2-&gt;Status2</title>\n<g id=\"a_edge1\"><a xlink:title=\"(5, 11) : \">\n<path fill=\"none\" stroke=\"#4a4a4a\" d=\"M160.56,-361.12C154.63,-352.47 147.16,-341.58 140.48,-331.83\"/>\n<polygon fill=\"#4a4a4a\" stroke=\"#4a4a4a\" points=\"143.17,-329.57 134.63,-323.31 137.4,-333.53 143.17,-329.57\"/>\n</a>\n</g>\n</g>\n<!-- HbA1C2 -->\n<g id=\"node12\" class=\"node\">\n<title>HbA1C2</title>\n<g id=\"a_node12\"><a xlink:title=\"(2) HbA1C2\">\n<ellipse fill=\"#404040\" stroke=\"black\" cx=\"220.45\" cy=\"-306\" rx=\"42.49\" ry=\"18\"/>\n<text text-anchor=\"middle\" x=\"220.45\" y=\"-302.3\" font-family=\"Times,serif\" font-size=\"14.00\" fill=\"white\">HbA1C2</text>\n</a>\n</g>\n</g>\n<!-- Gly2&#45;&gt;HbA1C2 -->\n<g id=\"edge10\" class=\"edge\">\n<title>Gly2-&gt;HbA1C2</title>\n<g id=\"a_edge10\"><a xlink:title=\"(5, 2) : \">\n<path fill=\"none\" stroke=\"#4a4a4a\" d=\"M182.57,-361.12C188.53,-352.59 196.03,-341.89 202.77,-332.25\"/>\n<polygon fill=\"#4a4a4a\" stroke=\"#4a4a4a\" points=\"205.82,-334 208.69,-323.8 200.09,-329.98 205.82,-334\"/>\n</a>\n</g>\n</g>\n<!-- Gly1 -->\n<g id=\"node7\" class=\"node\">\n<title>Gly1</title>\n<g id=\"a_node7\"><a xlink:title=\"(4) Gly1\">\n<ellipse fill=\"#404040\" stroke=\"black\" cx=\"168.45\" cy=\"-162\" rx=\"28.7\" ry=\"18\"/>\n<text text-anchor=\"middle\" x=\"168.45\" y=\"-158.3\" font-family=\"Times,serif\" font-size=\"14.00\" fill=\"white\">Gly1</text>\n</a>\n</g>\n</g>\n<!-- Gly1&#45;&gt;HbA1C1 -->\n<g id=\"edge7\" class=\"edge\">\n<title>Gly1-&gt;HbA1C1</title>\n<g id=\"a_edge7\"><a xlink:title=\"(4, 1) : \">\n<path fill=\"none\" stroke=\"#4a4a4a\" d=\"M168.45,-143.7C168.45,-135.98 168.45,-126.71 168.45,-118.11\"/>\n<polygon fill=\"#4a4a4a\" stroke=\"#4a4a4a\" points=\"171.95,-118.1 168.45,-108.1 164.95,-118.1 171.95,-118.1\"/>\n</a>\n</g>\n</g>\n<!-- Poids0 -->\n<g id=\"node10\" class=\"node\">\n<title>Poids0</title>\n<g id=\"a_node10\"><a xlink:title=\"(6) Poids0\">\n<ellipse fill=\"#404040\" stroke=\"black\" cx=\"34.45\" cy=\"-378\" rx=\"34.39\" ry=\"18\"/>\n<text text-anchor=\"middle\" x=\"34.45\" y=\"-374.3\" font-family=\"Times,serif\" font-size=\"14.00\" fill=\"white\">Poids0</text>\n</a>\n</g>\n</g>\n<!-- Poids0&#45;&gt;Poids1 -->\n<g id=\"edge5\" class=\"edge\">\n<title>Poids0-&gt;Poids1</title>\n<g id=\"a_edge5\"><a xlink:title=\"(6, 7) : \">\n<path fill=\"none\" stroke=\"#4a4a4a\" d=\"M34.45,-359.7C34.45,-351.98 34.45,-342.71 34.45,-334.11\"/>\n<polygon fill=\"#4a4a4a\" stroke=\"#4a4a4a\" points=\"37.95,-334.1 34.45,-324.1 30.95,-334.1 37.95,-334.1\"/>\n</a>\n</g>\n</g>\n<!-- Status1&#45;&gt;HbA1C0 -->\n<g id=\"edge6\" class=\"edge\">\n<title>Status1-&gt;HbA1C0</title>\n<g id=\"a_edge6\"><a xlink:title=\"(10, 0) : \">\n<path fill=\"none\" stroke=\"#4a4a4a\" d=\"M113.02,-216.41C107.7,-207.95 101.13,-197.49 95.21,-188.08\"/>\n<polygon fill=\"#4a4a4a\" stroke=\"#4a4a4a\" points=\"98.08,-186.07 89.8,-179.47 92.16,-189.8 98.08,-186.07\"/>\n</a>\n</g>\n</g>\n<!-- Status1&#45;&gt;Gly1 -->\n<g id=\"edge3\" class=\"edge\">\n<title>Status1-&gt;Gly1</title>\n<g id=\"a_edge3\"><a xlink:title=\"(10, 4) : \">\n<path fill=\"none\" stroke=\"#4a4a4a\" d=\"M134.11,-216.41C139.63,-207.83 146.47,-197.19 152.59,-187.67\"/>\n<polygon fill=\"#4a4a4a\" stroke=\"#4a4a4a\" points=\"155.71,-189.29 158.17,-178.99 149.82,-185.51 155.71,-189.29\"/>\n</a>\n</g>\n</g>\n</g>\n</svg>",
      "text/plain": [
       "<IPython.core.display.SVG object>"
      ]
     },
     "metadata": {},
     "output_type": "display_data"
    }
   ],
   "source": [
    "learner=gum.BNLearner(\"data/discr_dynamic.csv\", tbn)\n",
    "learner.useGreedyHillClimbing()\n",
    "tbn = learner.learnBN()\n",
    "export(tbn,\"data/tbn.pdf\")\n",
    "gnb.showBN(tbn, size=30)"
   ]
  },
  {
   "cell_type": "code",
   "execution_count": 100,
   "metadata": {},
   "outputs": [
    {
     "data": {
      "image/svg+xml": "<svg xmlns=\"http://www.w3.org/2000/svg\" xmlns:xlink=\"http://www.w3.org/1999/xlink\" width=\"404pt\" height=\"315pt\" viewBox=\"0.00 0.00 404.00 315.00\">\n<g id=\"graph0\" class=\"graph\" transform=\"scale(1 1) rotate(0) translate(4 311)\">\n<title>G</title>\n<polygon fill=\"white\" stroke=\"transparent\" points=\"-4,4 -4,-311 400,-311 400,4 -4,4\"/>\n<g id=\"clust1\" class=\"cluster\">\n<title>cluster_0</title>\n<polygon fill=\"#dddddd\" stroke=\"black\" points=\"8,-8 8,-299 100,-299 100,-8 8,-8\"/>\n<text text-anchor=\"middle\" x=\"54\" y=\"-283.8\" font-family=\"Times,serif\" font-size=\"14.00\">Time slice 0</text>\n</g>\n<g id=\"clust2\" class=\"cluster\">\n<title>cluster_1</title>\n<polygon fill=\"#dddddd\" stroke=\"black\" points=\"126,-8 126,-299 238,-299 238,-8 126,-8\"/>\n<text text-anchor=\"middle\" x=\"182\" y=\"-283.8\" font-family=\"Times,serif\" font-size=\"14.00\">Time slice 1</text>\n</g>\n<g id=\"clust3\" class=\"cluster\">\n<title>cluster_2</title>\n<polygon fill=\"#dddddd\" stroke=\"black\" points=\"276,-8 276,-299 388,-299 388,-8 276,-8\"/>\n<text text-anchor=\"middle\" x=\"332\" y=\"-283.8\" font-family=\"Times,serif\" font-size=\"14.00\">Time slice 2</text>\n</g>\n<!-- Gly0 -->\n<g id=\"node1\" class=\"node\">\n<title>Gly0</title>\n<ellipse fill=\"white\" stroke=\"#000000\" cx=\"54\" cy=\"-250\" rx=\"27\" ry=\"18\"/>\n<text text-anchor=\"middle\" x=\"54\" y=\"-246.3\" font-family=\"Times,serif\" font-size=\"14.00\">Gly</text>\n</g>\n<!-- HbA1C0 -->\n<g id=\"node2\" class=\"node\">\n<title>HbA1C0</title>\n<ellipse fill=\"white\" stroke=\"#000000\" cx=\"54\" cy=\"-178\" rx=\"38.19\" ry=\"18\"/>\n<text text-anchor=\"middle\" x=\"54\" y=\"-174.3\" font-family=\"Times,serif\" font-size=\"14.00\">HbA1C</text>\n</g>\n<!-- Gly0&#45;&gt;HbA1C0 -->\n<!-- HbA1C0&#45;&gt;Gly0 -->\n<g id=\"edge4\" class=\"edge\">\n<title>HbA1C0-&gt;Gly0</title>\n<path fill=\"none\" stroke=\"blue\" d=\"M63,-195.8C63,-195.8 63,-222.9 63,-222.9\"/>\n<polygon fill=\"blue\" stroke=\"blue\" points=\"59.5,-222.9 63,-232.9 66.5,-222.9 59.5,-222.9\"/>\n</g>\n<!-- Poids0 -->\n<g id=\"node3\" class=\"node\">\n<title>Poids0</title>\n<ellipse fill=\"white\" stroke=\"#000000\" cx=\"54\" cy=\"-106\" rx=\"30.59\" ry=\"18\"/>\n<text text-anchor=\"middle\" x=\"54\" y=\"-102.3\" font-family=\"Times,serif\" font-size=\"14.00\">Poids</text>\n</g>\n<!-- HbA1C0&#45;&gt;Poids0 -->\n<!-- Status0 -->\n<g id=\"node4\" class=\"node\">\n<title>Status0</title>\n<ellipse fill=\"white\" stroke=\"#000000\" cx=\"54\" cy=\"-34\" rx=\"32.49\" ry=\"18\"/>\n<text text-anchor=\"middle\" x=\"54\" y=\"-30.3\" font-family=\"Times,serif\" font-size=\"14.00\">Status</text>\n</g>\n<!-- Poids0&#45;&gt;Status0 -->\n<!-- Poids1 -->\n<g id=\"node7\" class=\"node\">\n<title>Poids1</title>\n<ellipse fill=\"white\" stroke=\"#000000\" cx=\"172\" cy=\"-106\" rx=\"30.59\" ry=\"18\"/>\n<text text-anchor=\"middle\" x=\"172\" y=\"-102.3\" font-family=\"Times,serif\" font-size=\"14.00\">Poids</text>\n</g>\n<!-- Poids0&#45;&gt;Poids1 -->\n<g id=\"edge5\" class=\"edge\">\n<title>Poids0-&gt;Poids1</title>\n<path fill=\"none\" stroke=\"blue\" d=\"M84.7,-106C84.7,-106 131.05,-106 131.05,-106\"/>\n<polygon fill=\"blue\" stroke=\"blue\" points=\"131.05,-109.5 141.05,-106 131.05,-102.5 131.05,-109.5\"/>\n</g>\n<!-- Gly1 -->\n<g id=\"node5\" class=\"node\">\n<title>Gly1</title>\n<ellipse fill=\"white\" stroke=\"#000000\" cx=\"172\" cy=\"-250\" rx=\"27\" ry=\"18\"/>\n<text text-anchor=\"middle\" x=\"172\" y=\"-246.3\" font-family=\"Times,serif\" font-size=\"14.00\">Gly</text>\n</g>\n<!-- HbA1C1 -->\n<g id=\"node6\" class=\"node\">\n<title>HbA1C1</title>\n<ellipse fill=\"white\" stroke=\"#000000\" cx=\"172\" cy=\"-178\" rx=\"38.19\" ry=\"18\"/>\n<text text-anchor=\"middle\" x=\"172\" y=\"-174.3\" font-family=\"Times,serif\" font-size=\"14.00\">HbA1C</text>\n</g>\n<!-- Gly1&#45;&gt;HbA1C1 -->\n<g id=\"edge7\" class=\"edge\">\n<title>Gly1-&gt;HbA1C1</title>\n<path fill=\"none\" stroke=\"blue\" d=\"M163,-232.94C163,-232.94 163,-205.69 163,-205.69\"/>\n<polygon fill=\"blue\" stroke=\"blue\" points=\"166.5,-205.69 163,-195.69 159.5,-205.69 166.5,-205.69\"/>\n</g>\n<!-- Gly1&#45;&gt;HbA1C1 -->\n<!-- HbA1C1&#45;&gt;Status0 -->\n<g id=\"edge8\" class=\"edge\">\n<title>HbA1C1-&gt;Status0</title>\n<path fill=\"none\" stroke=\"blue\" d=\"M135.61,-172C128.57,-172 123.33,-172 123.33,-172 123.33,-172 123.33,-25 123.33,-25 123.33,-25 92.2,-25 92.2,-25\"/>\n<polygon fill=\"blue\" stroke=\"blue\" points=\"92.2,-21.5 82.2,-25 92.2,-28.5 92.2,-21.5\"/>\n</g>\n<!-- HbA1C1&#45;&gt;Poids1 -->\n<!-- Status1 -->\n<g id=\"node8\" class=\"node\">\n<title>Status1</title>\n<ellipse fill=\"white\" stroke=\"#000000\" cx=\"172\" cy=\"-34\" rx=\"32.49\" ry=\"18\"/>\n<text text-anchor=\"middle\" x=\"172\" y=\"-30.3\" font-family=\"Times,serif\" font-size=\"14.00\">Status</text>\n</g>\n<!-- Poids1&#45;&gt;Status1 -->\n<!-- Poids2 -->\n<g id=\"node11\" class=\"node\">\n<title>Poids2</title>\n<ellipse fill=\"white\" stroke=\"#000000\" cx=\"322\" cy=\"-106\" rx=\"30.59\" ry=\"18\"/>\n<text text-anchor=\"middle\" x=\"322\" y=\"-102.3\" font-family=\"Times,serif\" font-size=\"14.00\">Poids</text>\n</g>\n<!-- Poids1&#45;&gt;Poids2 -->\n<g id=\"edge9\" class=\"edge\">\n<title>Poids1-&gt;Poids2</title>\n<path fill=\"none\" stroke=\"blue\" d=\"M202.72,-106C202.72,-106 281.32,-106 281.32,-106\"/>\n<polygon fill=\"blue\" stroke=\"blue\" points=\"281.32,-109.5 291.32,-106 281.32,-102.5 281.32,-109.5\"/>\n</g>\n<!-- Status1&#45;&gt;HbA1C0 -->\n<g id=\"edge6\" class=\"edge\">\n<title>Status1-&gt;HbA1C0</title>\n<path fill=\"none\" stroke=\"blue\" d=\"M139.37,-34C121.39,-34 102.67,-34 102.67,-34 102.67,-34 102.67,-184 102.67,-184 102.67,-184 100.39,-184 100.39,-184\"/>\n<polygon fill=\"blue\" stroke=\"blue\" points=\"100.39,-180.5 90.39,-184 100.39,-187.5 100.39,-180.5\"/>\n</g>\n<!-- Status1&#45;&gt;Gly1 -->\n<g id=\"edge3\" class=\"edge\">\n<title>Status1-&gt;Gly1</title>\n<path fill=\"none\" stroke=\"blue\" d=\"M143.54,-43C128.45,-43 113,-43 113,-43 113,-43 113,-250 113,-250 113,-250 134.92,-250 134.92,-250\"/>\n<polygon fill=\"blue\" stroke=\"blue\" points=\"134.92,-253.5 144.92,-250 134.92,-246.5 134.92,-253.5\"/>\n</g>\n<!-- Gly2 -->\n<g id=\"node9\" class=\"node\">\n<title>Gly2</title>\n<ellipse fill=\"white\" stroke=\"#000000\" cx=\"322\" cy=\"-250\" rx=\"27\" ry=\"18\"/>\n<text text-anchor=\"middle\" x=\"322\" y=\"-246.3\" font-family=\"Times,serif\" font-size=\"14.00\">Gly</text>\n</g>\n<!-- HbA1C2 -->\n<g id=\"node10\" class=\"node\">\n<title>HbA1C2</title>\n<ellipse fill=\"white\" stroke=\"#000000\" cx=\"322\" cy=\"-178\" rx=\"38.19\" ry=\"18\"/>\n<text text-anchor=\"middle\" x=\"322\" y=\"-174.3\" font-family=\"Times,serif\" font-size=\"14.00\">HbA1C</text>\n</g>\n<!-- Gly2&#45;&gt;HbA1C2 -->\n<g id=\"edge10\" class=\"edge\">\n<title>Gly2-&gt;HbA1C2</title>\n<path fill=\"none\" stroke=\"blue\" d=\"M313,-232.94C313,-232.94 313,-205.69 313,-205.69\"/>\n<polygon fill=\"blue\" stroke=\"blue\" points=\"316.5,-205.69 313,-195.69 309.5,-205.69 316.5,-205.69\"/>\n</g>\n<!-- Gly2&#45;&gt;HbA1C2 -->\n<!-- Status2 -->\n<g id=\"node12\" class=\"node\">\n<title>Status2</title>\n<ellipse fill=\"white\" stroke=\"#000000\" cx=\"322\" cy=\"-34\" rx=\"32.49\" ry=\"18\"/>\n<text text-anchor=\"middle\" x=\"322\" y=\"-30.3\" font-family=\"Times,serif\" font-size=\"14.00\">Status</text>\n</g>\n<!-- Gly2&#45;&gt;Status2 -->\n<g id=\"edge1\" class=\"edge\">\n<title>Gly2-&gt;Status2</title>\n<path fill=\"none\" stroke=\"blue\" d=\"M349.18,-250C363.59,-250 378.35,-250 378.35,-250 378.35,-250 378.35,-34 378.35,-34 378.35,-34 364.78,-34 364.78,-34\"/>\n<polygon fill=\"blue\" stroke=\"blue\" points=\"364.78,-30.5 354.78,-34 364.78,-37.5 364.78,-30.5\"/>\n</g>\n<!-- HbA1C2&#45;&gt;Poids2 -->\n<!-- Poids2&#45;&gt;Status2 -->\n<!-- Status2&#45;&gt;Status1 -->\n<g id=\"edge2\" class=\"edge\">\n<title>Status2-&gt;Status1</title>\n<path fill=\"none\" stroke=\"blue\" d=\"M289.45,-34C289.45,-34 214.74,-34 214.74,-34\"/>\n<polygon fill=\"blue\" stroke=\"blue\" points=\"214.74,-30.5 204.74,-34 214.74,-37.5 214.74,-30.5\"/>\n</g>\n</g>\n</svg>",
      "text/plain": [
       "<IPython.core.display.SVG object>"
      ]
     },
     "metadata": {},
     "output_type": "display_data"
    }
   ],
   "source": [
    "gdyn.showTimeSlices(tbn)"
   ]
  },
  {
   "cell_type": "markdown",
   "metadata": {},
   "source": [
    "# Reference\n",
    "http://www-desir.lip6.fr/~phw/aGrUM/docs/last/notebooks/01-tutorial.ipynb.html"
   ]
  }
 ],
 "metadata": {
  "interpreter": {
   "hash": "807f53ec2c3eabe2dea5e74499e431519b82f739006da17a0c4c6f370ad2ade0"
  },
  "kernelspec": {
   "display_name": "Python 3.8.12 64-bit ('3.8': conda)",
   "name": "python3"
  },
  "language_info": {
   "codemirror_mode": {
    "name": "ipython",
    "version": 3
   },
   "file_extension": ".py",
   "mimetype": "text/x-python",
   "name": "python",
   "nbconvert_exporter": "python",
   "pygments_lexer": "ipython3",
   "version": "3.8.11"
  },
  "orig_nbformat": 4
 },
 "nbformat": 4,
 "nbformat_minor": 2
}
