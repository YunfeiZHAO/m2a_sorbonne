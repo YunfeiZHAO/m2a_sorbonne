{
 "cells": [
  {
   "cell_type": "markdown",
   "id": "bce5dcb5-3bbf-46cb-b73b-390d3265d3dc",
   "metadata": {},
   "source": [
    "# TME4: The goal of the TME is to learn various techniques of feature selection."
   ]
  },
  {
   "cell_type": "code",
   "execution_count": 1,
   "id": "1195eb80-f33f-4f46-84dc-3c92ab68bc7e",
   "metadata": {},
   "outputs": [],
   "source": [
    "import numpy as np\n",
    "import pandas as pd\n",
    "import matplotlib.pyplot as plt\n",
    "from sklearn.linear_model import ElasticNet\n",
    "from sklearn.svm import LinearSVC\n",
    "from sklearn.feature_selection import SelectFromModel\n",
    "from sklearn import linear_model\n",
    "from sklearn.model_selection import train_test_split\n",
    "\n",
    "from sklearn.feature_selection import VarianceThreshold\n",
    "from sklearn.feature_selection import SelectFdr, chi2"
   ]
  },
  {
   "cell_type": "code",
   "execution_count": 2,
   "id": "3e4875ec-e5f0-42aa-8892-0e2ffa4dc418",
   "metadata": {},
   "outputs": [],
   "source": [
    "# Golub dataset\n",
    "X_golub = pd.read_csv('data/Golub_X',sep=' ', header=None).to_numpy() # Observations\n",
    "y_golub = pd.read_csv('data/Golub_y',sep=' ', header=None).to_numpy()  # Classes\n",
    "y_golub = np.squeeze(y_golub, axis=1)\n",
    "X_train_golub, X_test_golub, y_train_golub, y_test_golub = train_test_split(X_golub, y_golub, test_size=0.2, random_state=42, shuffle=True)"
   ]
  },
  {
   "cell_type": "code",
   "execution_count": 3,
   "id": "976b345e-a5b3-41e3-8c4d-034fbcf1ce29",
   "metadata": {
    "tags": []
   },
   "outputs": [],
   "source": [
    "# Breast Cancer dataset\n",
    "data_breast_cancer = pd.read_table('data/BreastDiagnostic.txt',sep=',',header=None)\n",
    "breast_cancer_X = data_breast_cancer.iloc[:, 2:].to_numpy()\n",
    "breast_cancer_y = data_breast_cancer.iloc[:, 1].to_numpy()\n",
    "X_train_cancer, X_test_cancer, y_train_cancer, y_test_cancer = train_test_split(breast_cancer_X, breast_cancer_y, test_size=0.2, random_state=42, shuffle=True)"
   ]
  },
  {
   "cell_type": "markdown",
   "id": "9838c2bb-326c-4e7e-a3c7-f360f8b2ae60",
   "metadata": {},
   "source": [
    "## A class with different kinds of feature selection methods"
   ]
  },
  {
   "cell_type": "code",
   "execution_count": 4,
   "id": "347273b0-60b8-4918-b2a0-75997922f5b1",
   "metadata": {},
   "outputs": [],
   "source": [
    "class FS():\n",
    "    def __init__(self, X_train, X_test, y_train, y_test):\n",
    "        # dataset initialisation\n",
    "        self.X_train = X_train\n",
    "        self.X_test = X_test\n",
    "        self.y_train = y_train\n",
    "        self.y_test = y_test\n",
    "        self.new_X_train = None\n",
    "        self.new_X_test = None\n",
    "        self.model = None\n",
    "        \n",
    "    def feature_selection(self, method, param=0):\n",
    "        if method == None:\n",
    "            print(\"No feature selection\")\n",
    "            self.new_X_train = self.X_train\n",
    "            self.new_X_test = self.X_test\n",
    "            \n",
    "        if method == \"VT\":\n",
    "            print(f\"TV feature selection with threshold {param['VT_threshold']}\")\n",
    "            sel = VarianceThreshold(threshold=(param[\"VT_threshold\"]))\n",
    "            self.new_X_train = sel.fit_transform(self.X_train)\n",
    "            self.new_X_test = sel.transform(self.X_test)\n",
    "        if method == \"univariate\":\n",
    "            sel = SelectFdr(chi2, alpha=param[\"alpha\"])\n",
    "            self.new_X_train = sel.fit_transform(self.X_train, self.y_train)\n",
    "            self.new_X_test = sel.transform(self.X_test)\n",
    "\n",
    "    \n",
    "    def fit(self, model):\n",
    "        self.model = model\n",
    "        self.model.fit(self.new_X_train, self.y_train)\n",
    "        print(f\"Train score: {self.model.score(self.new_X_train, self.y_train)}\")\n",
    "    \n",
    "    def test(self):\n",
    "        print(f\"Test score: {self.model.score(self.new_X_test, self.y_test)}\")\n",
    "        \n",
    "    def get_original_feature_number(self):\n",
    "        print(f\"Original feature number: {self.X_train.shape[1]}\")\n",
    "    \n",
    "    def get_selected_feature_number(self):\n",
    "        print(f\"Selected feature number: {self.new_X_train.shape[1]}\")\n",
    "        \n",
    "        "
   ]
  },
  {
   "cell_type": "code",
   "execution_count": 5,
   "id": "f0055e0f-9bc9-4744-b0f2-0b2f39485423",
   "metadata": {},
   "outputs": [],
   "source": [
    "golub_fs = FS(X_train_golub, X_test_golub, y_train_golub, y_test_golub)\n",
    "cancer_fs = FS(X_train_cancer, X_test_cancer, y_train_cancer, y_test_cancer)"
   ]
  },
  {
   "cell_type": "markdown",
   "id": "7c93a69e-cb36-4c97-9d17-24e41bf5fa79",
   "metadata": {},
   "source": [
    "# 1. A simple heuristic approach is to delete features whose variance is less then a threshold."
   ]
  },
  {
   "cell_type": "markdown",
   "id": "17249363-afb7-41cc-ae9b-0319d0120829",
   "metadata": {},
   "source": [
    "## Golub dataset"
   ]
  },
  {
   "cell_type": "code",
   "execution_count": 71,
   "id": "5cdc4632-c2b0-45a7-8774-e9785d1e2c7e",
   "metadata": {},
   "outputs": [],
   "source": [
    "cls = linear_model.LogisticRegression(random_state=0, penalty=None)"
   ]
  },
  {
   "cell_type": "code",
   "execution_count": 43,
   "id": "6faeae19-d956-42b6-8ed2-5a52bf83c53a",
   "metadata": {},
   "outputs": [
    {
     "name": "stdout",
     "output_type": "stream",
     "text": [
      "No feature selection\n",
      "Train score: 1.0\n",
      "Test score: 1.0\n"
     ]
    }
   ],
   "source": [
    "# With no threshold\n",
    "golub_fs.feature_selection(method=None)\n",
    "golub_fs.fit(cls)\n",
    "golub_fs.test()"
   ]
  },
  {
   "cell_type": "code",
   "execution_count": 44,
   "id": "628472ab-7de4-4341-b9bd-773294f418df",
   "metadata": {},
   "outputs": [
    {
     "name": "stdout",
     "output_type": "stream",
     "text": [
      "TV feature selection with threshold 0.03\n",
      "Train score: 1.0\n",
      "Test score: 1.0\n"
     ]
    }
   ],
   "source": [
    "# With threshold 0.03\n",
    "golub_fs.feature_selection(method=\"VT\", param={\"VT_threshold\":0.03})\n",
    "golub_fs.fit(cls)\n",
    "golub_fs.test()"
   ]
  },
  {
   "cell_type": "code",
   "execution_count": 45,
   "id": "10f24168-7c3c-4273-b3b6-f5b7cd32b389",
   "metadata": {},
   "outputs": [
    {
     "name": "stdout",
     "output_type": "stream",
     "text": [
      "TV feature selection with threshold 0.05\n",
      "Train score: 1.0\n",
      "Test score: 1.0\n"
     ]
    }
   ],
   "source": [
    "# With threshold 0.05\n",
    "golub_fs.feature_selection(method=\"VT\", param={\"VT_threshold\":0.05})\n",
    "golub_fs.fit(cls)\n",
    "golub_fs.test()"
   ]
  },
  {
   "cell_type": "code",
   "execution_count": 78,
   "id": "5bf442ac-f300-4fc9-b445-2aea3cd33fb4",
   "metadata": {},
   "outputs": [
    {
     "name": "stdout",
     "output_type": "stream",
     "text": [
      "TV feature selection with threshold 0.06\n",
      "Train score: 1.0\n",
      "Test score: 0.8666666666666667\n"
     ]
    }
   ],
   "source": [
    "# With threshold 0.06\n",
    "golub_fs.feature_selection(method=\"VT\", param={\"VT_threshold\":0.06})\n",
    "golub_fs.fit(cls)\n",
    "golub_fs.test()"
   ]
  },
  {
   "cell_type": "code",
   "execution_count": 79,
   "id": "7dbfe1d2-09be-456f-8924-df661fcdcff9",
   "metadata": {},
   "outputs": [
    {
     "name": "stdout",
     "output_type": "stream",
     "text": [
      "Original feature number: 3562\n"
     ]
    }
   ],
   "source": [
    "golub_fs.get_original_feature_number()"
   ]
  },
  {
   "cell_type": "code",
   "execution_count": 80,
   "id": "e6b0a19a-2c55-4325-a899-b099977be788",
   "metadata": {},
   "outputs": [
    {
     "name": "stdout",
     "output_type": "stream",
     "text": [
      "Selected feature number: 120\n"
     ]
    }
   ],
   "source": [
    "golub_fs.get_selected_feature_number()"
   ]
  },
  {
   "cell_type": "markdown",
   "id": "b1bc0170-3cad-4bfd-81bc-5c9271aa013b",
   "metadata": {},
   "source": [
    "## Breast Cancer dataset"
   ]
  },
  {
   "cell_type": "code",
   "execution_count": 72,
   "id": "d9d5527c-d8ba-43a9-9bdf-201c18242774",
   "metadata": {},
   "outputs": [
    {
     "name": "stdout",
     "output_type": "stream",
     "text": [
      "No feature selection\n",
      "Train score: 0.9516483516483516\n",
      "Test score: 0.956140350877193\n"
     ]
    },
    {
     "name": "stderr",
     "output_type": "stream",
     "text": [
      "/home/yunfei/anaconda3/envs/AMAL/lib/python3.8/site-packages/sklearn/linear_model/_logistic.py:814: ConvergenceWarning: lbfgs failed to converge (status=1):\n",
      "STOP: TOTAL NO. of ITERATIONS REACHED LIMIT.\n",
      "\n",
      "Increase the number of iterations (max_iter) or scale the data as shown in:\n",
      "    https://scikit-learn.org/stable/modules/preprocessing.html\n",
      "Please also refer to the documentation for alternative solver options:\n",
      "    https://scikit-learn.org/stable/modules/linear_model.html#logistic-regression\n",
      "  n_iter_i = _check_optimize_result(\n"
     ]
    }
   ],
   "source": [
    "cancer_fs.feature_selection(method=None)\n",
    "cancer_fs.fit(cls)\n",
    "cancer_fs.test()"
   ]
  },
  {
   "cell_type": "code",
   "execution_count": 73,
   "id": "aadbe734-0d7b-49ad-9503-d09c7af3e4e9",
   "metadata": {},
   "outputs": [
    {
     "name": "stdout",
     "output_type": "stream",
     "text": [
      "TV feature selection with threshold 0.03\n",
      "Train score: 0.9538461538461539\n",
      "Test score: 0.956140350877193\n"
     ]
    },
    {
     "name": "stderr",
     "output_type": "stream",
     "text": [
      "/home/yunfei/anaconda3/envs/AMAL/lib/python3.8/site-packages/sklearn/linear_model/_logistic.py:814: ConvergenceWarning: lbfgs failed to converge (status=1):\n",
      "STOP: TOTAL NO. of ITERATIONS REACHED LIMIT.\n",
      "\n",
      "Increase the number of iterations (max_iter) or scale the data as shown in:\n",
      "    https://scikit-learn.org/stable/modules/preprocessing.html\n",
      "Please also refer to the documentation for alternative solver options:\n",
      "    https://scikit-learn.org/stable/modules/linear_model.html#logistic-regression\n",
      "  n_iter_i = _check_optimize_result(\n"
     ]
    }
   ],
   "source": [
    "cancer_fs.feature_selection(method=\"VT\", param={\"VT_threshold\":0.03})\n",
    "cancer_fs.fit(cls)\n",
    "cancer_fs.test()"
   ]
  },
  {
   "cell_type": "code",
   "execution_count": 81,
   "id": "fa02ac03-c897-4a15-be67-4a7f36309bf5",
   "metadata": {},
   "outputs": [
    {
     "name": "stdout",
     "output_type": "stream",
     "text": [
      "TV feature selection with threshold 0.05\n",
      "Train score: 0.9384615384615385\n",
      "Test score: 0.956140350877193\n"
     ]
    },
    {
     "name": "stderr",
     "output_type": "stream",
     "text": [
      "/home/yunfei/anaconda3/envs/AMAL/lib/python3.8/site-packages/sklearn/linear_model/_logistic.py:814: ConvergenceWarning: lbfgs failed to converge (status=1):\n",
      "STOP: TOTAL NO. of ITERATIONS REACHED LIMIT.\n",
      "\n",
      "Increase the number of iterations (max_iter) or scale the data as shown in:\n",
      "    https://scikit-learn.org/stable/modules/preprocessing.html\n",
      "Please also refer to the documentation for alternative solver options:\n",
      "    https://scikit-learn.org/stable/modules/linear_model.html#logistic-regression\n",
      "  n_iter_i = _check_optimize_result(\n"
     ]
    }
   ],
   "source": [
    "cancer_fs.feature_selection(method=\"VT\", param={\"VT_threshold\":0.05})\n",
    "cancer_fs.fit(cls)\n",
    "cancer_fs.test()"
   ]
  },
  {
   "cell_type": "code",
   "execution_count": 82,
   "id": "1befe7c1-e69f-4053-9eba-298c8d465c06",
   "metadata": {},
   "outputs": [
    {
     "name": "stdout",
     "output_type": "stream",
     "text": [
      "Original feature number: 30\n"
     ]
    }
   ],
   "source": [
    "cancer_fs.get_original_feature_number()"
   ]
  },
  {
   "cell_type": "code",
   "execution_count": 83,
   "id": "09294b9e-a10b-40de-a1ee-c0189ea2808b",
   "metadata": {},
   "outputs": [
    {
     "name": "stdout",
     "output_type": "stream",
     "text": [
      "Selected feature number: 12\n"
     ]
    }
   ],
   "source": [
    "cancer_fs.get_selected_feature_number()"
   ]
  },
  {
   "cell_type": "markdown",
   "id": "d9ba5ac6-b87b-4ec2-805e-9454a18d4ce8",
   "metadata": {},
   "source": [
    "## Analyse:\n",
    "By using this method based on variable variance, we can significantly reduce the parameters number without having a great degradation of the performance."
   ]
  },
  {
   "cell_type": "markdown",
   "id": "79cd21f8-dd0c-4a53-8a93-91e77f83806a",
   "metadata": {},
   "source": [
    "# 2. Univariate feature selection \n",
    "Use statistical tests to get rid of features which are not statistically significant with respect to the vector of class.\n",
    "\n",
    "Try the SelectFdr function that computes p-values for an estimated false discovery rate."
   ]
  },
  {
   "cell_type": "markdown",
   "id": "0d321369-bc4d-4266-a0a5-3e38b7e52220",
   "metadata": {},
   "source": [
    "### For dataset golub, when we increase alpha it is easily that all features are not selected\n",
    "Maybe it is due to the fact that information on genes are too noise."
   ]
  },
  {
   "cell_type": "code",
   "execution_count": 123,
   "id": "ba77608e-adf4-467e-ba4b-75f0fe3c139e",
   "metadata": {},
   "outputs": [
    {
     "name": "stdout",
     "output_type": "stream",
     "text": [
      "Train score: 1.0\n",
      "Test score: 1.0\n",
      "Original feature number: 3562\n",
      "Selected feature number: 3562\n"
     ]
    }
   ],
   "source": [
    "golub_fs.feature_selection(method=\"univariate\", param={\"alpha\":1})\n",
    "golub_fs.fit(cls)\n",
    "golub_fs.test()\n",
    "golub_fs.get_original_feature_number()\n",
    "golub_fs.get_selected_feature_number()"
   ]
  },
  {
   "cell_type": "code",
   "execution_count": 125,
   "id": "459158f0-0c47-48af-95ae-e147e931bc81",
   "metadata": {},
   "outputs": [
    {
     "name": "stdout",
     "output_type": "stream",
     "text": [
      "Train score: 1.0\n",
      "Test score: 1.0\n",
      "Original feature number: 3562\n",
      "Selected feature number: 3560\n"
     ]
    }
   ],
   "source": [
    "golub_fs.feature_selection(method=\"univariate\", param={\"alpha\":0.9999})\n",
    "golub_fs.fit(cls)\n",
    "golub_fs.test()\n",
    "golub_fs.get_original_feature_number() \n",
    "golub_fs.get_selected_feature_number()"
   ]
  },
  {
   "cell_type": "markdown",
   "id": "682d215b-22e6-44b5-a055-9357979f7e2d",
   "metadata": {},
   "source": [
    "### For cancer dataset, we can do a feature selection with this method."
   ]
  },
  {
   "cell_type": "code",
   "execution_count": 127,
   "id": "f9e36590-97e2-473f-b27a-03784729fbd4",
   "metadata": {},
   "outputs": [
    {
     "name": "stdout",
     "output_type": "stream",
     "text": [
      "Train score: 0.9516483516483516\n",
      "Test score: 0.956140350877193\n",
      "Original feature number: 30\n",
      "Selected feature number: 30\n"
     ]
    },
    {
     "name": "stderr",
     "output_type": "stream",
     "text": [
      "/home/yunfei/anaconda3/envs/AMAL/lib/python3.8/site-packages/sklearn/linear_model/_logistic.py:814: ConvergenceWarning: lbfgs failed to converge (status=1):\n",
      "STOP: TOTAL NO. of ITERATIONS REACHED LIMIT.\n",
      "\n",
      "Increase the number of iterations (max_iter) or scale the data as shown in:\n",
      "    https://scikit-learn.org/stable/modules/preprocessing.html\n",
      "Please also refer to the documentation for alternative solver options:\n",
      "    https://scikit-learn.org/stable/modules/linear_model.html#logistic-regression\n",
      "  n_iter_i = _check_optimize_result(\n"
     ]
    }
   ],
   "source": [
    "cancer_fs.feature_selection(method=\"univariate\", param={\"alpha\":1})\n",
    "cancer_fs.fit(cls)\n",
    "cancer_fs.test()\n",
    "cancer_fs.get_original_feature_number() \n",
    "cancer_fs.get_selected_feature_number()"
   ]
  },
  {
   "cell_type": "code",
   "execution_count": 128,
   "id": "c6ede9f2-90aa-4615-a000-30ca4c661de7",
   "metadata": {},
   "outputs": [
    {
     "name": "stdout",
     "output_type": "stream",
     "text": [
      "Train score: 0.9428571428571428\n",
      "Test score: 0.9649122807017544\n",
      "Original feature number: 30\n",
      "Selected feature number: 18\n"
     ]
    },
    {
     "name": "stderr",
     "output_type": "stream",
     "text": [
      "/home/yunfei/anaconda3/envs/AMAL/lib/python3.8/site-packages/sklearn/linear_model/_logistic.py:814: ConvergenceWarning: lbfgs failed to converge (status=1):\n",
      "STOP: TOTAL NO. of ITERATIONS REACHED LIMIT.\n",
      "\n",
      "Increase the number of iterations (max_iter) or scale the data as shown in:\n",
      "    https://scikit-learn.org/stable/modules/preprocessing.html\n",
      "Please also refer to the documentation for alternative solver options:\n",
      "    https://scikit-learn.org/stable/modules/linear_model.html#logistic-regression\n",
      "  n_iter_i = _check_optimize_result(\n"
     ]
    }
   ],
   "source": [
    "cancer_fs.feature_selection(method=\"univariate\", param={\"alpha\":0.5})\n",
    "cancer_fs.fit(cls)\n",
    "cancer_fs.test()\n",
    "cancer_fs.get_original_feature_number() \n",
    "cancer_fs.get_selected_feature_number()"
   ]
  },
  {
   "cell_type": "markdown",
   "id": "52b6ecf6-e8df-4253-b15a-3c1202736d4d",
   "metadata": {},
   "source": [
    "# 3. L1 -based feature selection is designed to find an optimal solution.\n",
    "The sparsity parameter is important (since it controls the number of non-zero parameters: if too many parameters\n",
    "are kept, no really feature selection; if too few parameters are chosen, it is possible that the\n",
    "accuracy is very poor)."
   ]
  },
  {
   "cell_type": "markdown",
   "id": "38a51e93-3fa3-43e3-abdf-b3942ed90c16",
   "metadata": {},
   "source": [
    "## Lasso"
   ]
  },
  {
   "cell_type": "code",
   "execution_count": 28,
   "id": "78bfb4c6-49c3-4a30-ae0e-077d5d518754",
   "metadata": {},
   "outputs": [
    {
     "name": "stdout",
     "output_type": "stream",
     "text": [
      "linear logistic regression lasso train score:0.9824561403508771\n",
      "linear logistic regression lasso test score:1.0\n"
     ]
    },
    {
     "name": "stderr",
     "output_type": "stream",
     "text": [
      "/home/yunfei/anaconda3/envs/AMAL/lib/python3.8/site-packages/sklearn/linear_model/_sag.py:352: ConvergenceWarning: The max_iter was reached which means the coef_ did not converge\n",
      "  warnings.warn(\n"
     ]
    }
   ],
   "source": [
    "# golub\n",
    "linear_regression_lasso = linear_model.LogisticRegression(random_state=0, penalty='l1', solver='saga', C=1)\n",
    "linear_regression_lasso.fit(X_train_golub, y_train_golub)\n",
    "print(f\"linear logistic regression lasso train score:{linear_regression_lasso.score(X_train_golub, y_train_golub)}\")\n",
    "print(f\"linear logistic regression lasso test score:{linear_regression_lasso.score(X_test_golub, y_test_golub)}\")"
   ]
  },
  {
   "cell_type": "code",
   "execution_count": 29,
   "id": "cc7cb2fe-29cb-4673-913e-95c9aa283745",
   "metadata": {},
   "outputs": [
    {
     "data": {
      "text/plain": [
       "-0.7110541602046173"
      ]
     },
     "execution_count": 29,
     "metadata": {},
     "output_type": "execute_result"
    }
   ],
   "source": [
    "linear_regression_lasso.coef_.sum()"
   ]
  },
  {
   "cell_type": "code",
   "execution_count": 23,
   "id": "278d4e17-8d8e-44aa-93fb-343a2efc0014",
   "metadata": {},
   "outputs": [
    {
     "name": "stdout",
     "output_type": "stream",
     "text": [
      "linear logistic regression lasso train score:0.631578947368421\n",
      "linear logistic regression lasso test score:0.7333333333333333\n"
     ]
    }
   ],
   "source": [
    "# with stronger regularization, C Like in support vector machines, smaller values specify stronger regularization.\n",
    "linear_regression_lasso = linear_model.LogisticRegression(random_state=0, penalty='l1', solver='saga', C=0.1)\n",
    "linear_regression_lasso.fit(X_train_golub, y_train_golub)\n",
    "print(f\"linear logistic regression lasso train score:{linear_regression_lasso.score(X_train_golub, y_train_golub)}\")\n",
    "print(f\"linear logistic regression lasso test score:{linear_regression_lasso.score(X_test_golub, y_test_golub)}\")"
   ]
  },
  {
   "cell_type": "code",
   "execution_count": 26,
   "id": "b5679bda-158f-4ec5-9ac7-a8fe0de79ce8",
   "metadata": {},
   "outputs": [
    {
     "data": {
      "text/plain": [
       "0.0"
      ]
     },
     "execution_count": 26,
     "metadata": {},
     "output_type": "execute_result"
    }
   ],
   "source": [
    "linear_regression_lasso.coef_.sum()"
   ]
  },
  {
   "cell_type": "code",
   "execution_count": 8,
   "id": "3e8a6fe5-0179-44cb-b5ae-dc984eab24b4",
   "metadata": {},
   "outputs": [
    {
     "name": "stdout",
     "output_type": "stream",
     "text": [
      "linear logistic regression lasso train score:0.8989010989010989\n",
      "linear logistic regression lasso test score:0.9473684210526315\n"
     ]
    },
    {
     "name": "stderr",
     "output_type": "stream",
     "text": [
      "/home/yunfei/anaconda3/envs/AMAL/lib/python3.8/site-packages/sklearn/linear_model/_sag.py:352: ConvergenceWarning: The max_iter was reached which means the coef_ did not converge\n",
      "  warnings.warn(\n"
     ]
    }
   ],
   "source": [
    "# cancer\n",
    "linear_regression_lasso = linear_model.LogisticRegression(random_state=0, penalty='l1', solver='saga', C=1)\n",
    "linear_regression_lasso.fit(X_train_cancer, y_train_cancer)\n",
    "print(f\"linear logistic regression lasso train score:{linear_regression_lasso.score(X_train_cancer, y_train_cancer)}\")\n",
    "print(f\"linear logistic regression lasso test score:{linear_regression_lasso.score(X_test_cancer, y_test_cancer)}\")"
   ]
  },
  {
   "cell_type": "code",
   "execution_count": 9,
   "id": "6a2ca73a-7521-4fd1-a5ad-d6e19a8534fc",
   "metadata": {},
   "outputs": [
    {
     "name": "stdout",
     "output_type": "stream",
     "text": [
      "linear logistic regression lasso train score:0.8989010989010989\n",
      "linear logistic regression lasso test score:0.9473684210526315\n"
     ]
    },
    {
     "name": "stderr",
     "output_type": "stream",
     "text": [
      "/home/yunfei/anaconda3/envs/AMAL/lib/python3.8/site-packages/sklearn/linear_model/_sag.py:352: ConvergenceWarning: The max_iter was reached which means the coef_ did not converge\n",
      "  warnings.warn(\n"
     ]
    }
   ],
   "source": [
    "linear_regression_lasso = linear_model.LogisticRegression(random_state=0, penalty='l1', solver='saga', C=0.1)\n",
    "linear_regression_lasso.fit(X_train_cancer, y_train_cancer)\n",
    "print(f\"linear logistic regression lasso train score:{linear_regression_lasso.score(X_train_cancer, y_train_cancer)}\")\n",
    "print(f\"linear logistic regression lasso test score:{linear_regression_lasso.score(X_test_cancer, y_test_cancer)}\")"
   ]
  },
  {
   "cell_type": "code",
   "execution_count": 43,
   "id": "3112a5a9-12f6-4be3-9020-8b6eb70413ea",
   "metadata": {},
   "outputs": [
    {
     "data": {
      "text/plain": [
       "273"
      ]
     },
     "execution_count": 43,
     "metadata": {},
     "output_type": "execute_result"
    }
   ],
   "source": [
    "(linear_regression_lasso.coef_ != 0).sum()"
   ]
  },
  {
   "cell_type": "markdown",
   "id": "4ea9bab3-c590-40a1-9f97-764b3223e3bc",
   "metadata": {},
   "source": [
    "# SVM"
   ]
  },
  {
   "cell_type": "code",
   "execution_count": 36,
   "id": "98ef77b0-dbe6-4e2b-9ba5-f861218eae30",
   "metadata": {},
   "outputs": [
    {
     "name": "stdout",
     "output_type": "stream",
     "text": [
      "train score:1.0\n",
      "test score:0.9333333333333333\n"
     ]
    }
   ],
   "source": [
    "# golub\n",
    "model = LinearSVC(C=0.5, penalty=\"l1\", dual=False)\n",
    "model.fit(X_train_golub, y_train_golub)\n",
    "print(f\"train score:{model.score(X_train_golub, y_train_golub)}\")\n",
    "print(f\"test score:{model.score(X_test_golub, y_test_golub)}\")"
   ]
  },
  {
   "cell_type": "code",
   "execution_count": 37,
   "id": "4e5f38e4-afcc-4607-83c0-4c41c6fc664b",
   "metadata": {},
   "outputs": [
    {
     "name": "stdout",
     "output_type": "stream",
     "text": [
      "train score:0.9824561403508771\n",
      "test score:0.8666666666666667\n"
     ]
    }
   ],
   "source": [
    "model = LinearSVC(C=0.1, penalty=\"l1\", dual=False)\n",
    "model.fit(X_train_golub, y_train_golub)\n",
    "print(f\"train score:{model.score(X_train_golub, y_train_golub)}\")\n",
    "print(f\"test score:{model.score(X_test_golub, y_test_golub)}\")"
   ]
  },
  {
   "cell_type": "code",
   "execution_count": 41,
   "id": "c7210f6b-1cac-4c0c-88b7-ae1d30ffb871",
   "metadata": {},
   "outputs": [
    {
     "data": {
      "text/plain": [
       "7"
      ]
     },
     "execution_count": 41,
     "metadata": {},
     "output_type": "execute_result"
    }
   ],
   "source": [
    "(model.coef_ != 0).sum()"
   ]
  },
  {
   "cell_type": "code",
   "execution_count": 12,
   "id": "a479cf14-31a9-4e8c-868a-48251dfb3e6b",
   "metadata": {},
   "outputs": [
    {
     "name": "stdout",
     "output_type": "stream",
     "text": [
      "train score:0.9604395604395605\n",
      "test score:0.956140350877193\n"
     ]
    },
    {
     "name": "stderr",
     "output_type": "stream",
     "text": [
      "/home/yunfei/anaconda3/envs/AMAL/lib/python3.8/site-packages/sklearn/svm/_base.py:1199: ConvergenceWarning: Liblinear failed to converge, increase the number of iterations.\n",
      "  warnings.warn(\n"
     ]
    }
   ],
   "source": [
    "# cancer\n",
    "model = LinearSVC(C=0.5, penalty=\"l1\", dual=False)\n",
    "model.fit(X_train_cancer, y_train_cancer)\n",
    "print(f\"train score:{model.score(X_train_cancer, y_train_cancer)}\")\n",
    "print(f\"test score:{model.score(X_test_cancer, y_test_cancer)}\")"
   ]
  },
  {
   "cell_type": "code",
   "execution_count": 49,
   "id": "6c5b4881-6331-425b-ae20-5416b7b97e06",
   "metadata": {},
   "outputs": [
    {
     "data": {
      "text/plain": [
       "11"
      ]
     },
     "execution_count": 49,
     "metadata": {},
     "output_type": "execute_result"
    }
   ],
   "source": [
    "(model.coef_ != 0).sum()"
   ]
  },
  {
   "cell_type": "code",
   "execution_count": 50,
   "id": "abf92067-768a-44e9-8701-c01a6fe80d1a",
   "metadata": {},
   "outputs": [
    {
     "name": "stdout",
     "output_type": "stream",
     "text": [
      "train score:0.9516483516483516\n",
      "test score:0.956140350877193\n"
     ]
    },
    {
     "name": "stderr",
     "output_type": "stream",
     "text": [
      "/home/yunfei/anaconda3/envs/AMAL/lib/python3.8/site-packages/sklearn/svm/_base.py:1199: ConvergenceWarning: Liblinear failed to converge, increase the number of iterations.\n",
      "  warnings.warn(\n"
     ]
    }
   ],
   "source": [
    "model = LinearSVC(C=0.1, penalty=\"l1\", dual=False)\n",
    "model.fit(X_train_cancer, y_train_cancer)\n",
    "print(f\"train score:{model.score(X_train_cancer, y_train_cancer)}\")\n",
    "print(f\"test score:{model.score(X_test_cancer, y_test_cancer)}\")"
   ]
  },
  {
   "cell_type": "code",
   "execution_count": 51,
   "id": "2ea30ae2-ba99-4a26-8644-1e74d363ab2a",
   "metadata": {},
   "outputs": [
    {
     "data": {
      "text/plain": [
       "11"
      ]
     },
     "execution_count": 51,
     "metadata": {},
     "output_type": "execute_result"
    }
   ],
   "source": [
    "(model.coef_ != 0).sum()"
   ]
  },
  {
   "cell_type": "markdown",
   "id": "64dc69de-8160-4749-861f-e3088e767bcb",
   "metadata": {},
   "source": [
    "# Elastic Net"
   ]
  },
  {
   "cell_type": "code",
   "execution_count": 44,
   "id": "4f0de61f-db9c-4597-99ae-cfece4a516b7",
   "metadata": {},
   "outputs": [
    {
     "name": "stdout",
     "output_type": "stream",
     "text": [
      "train score:0.9824561403508771\n",
      "test score:1.0\n"
     ]
    },
    {
     "name": "stderr",
     "output_type": "stream",
     "text": [
      "/home/yunfei/anaconda3/envs/AMAL/lib/python3.8/site-packages/sklearn/linear_model/_sag.py:352: ConvergenceWarning: The max_iter was reached which means the coef_ did not converge\n",
      "  warnings.warn(\n"
     ]
    }
   ],
   "source": [
    "# golub\n",
    "model = linear_model.LogisticRegression(random_state=0, penalty='elasticnet', C=1, l1_ratio=0.7,  solver='saga')\n",
    "model.fit(X_train_golub, y_train_golub)\n",
    "print(f\"train score:{model.score(X_train_golub, y_train_golub)}\")\n",
    "print(f\"test score:{model.score(X_test_golub, y_test_golub)}\")"
   ]
  },
  {
   "cell_type": "code",
   "execution_count": 45,
   "id": "d52fc0d2-8326-4d4f-833d-ae98bd4e8ddf",
   "metadata": {},
   "outputs": [
    {
     "data": {
      "text/plain": [
       "431"
      ]
     },
     "execution_count": 45,
     "metadata": {},
     "output_type": "execute_result"
    }
   ],
   "source": [
    "(model.coef_!=0).sum()"
   ]
  },
  {
   "cell_type": "code",
   "execution_count": 46,
   "id": "ef9e8e03-8942-4dcc-a67a-6cbb6b6c0f22",
   "metadata": {},
   "outputs": [
    {
     "name": "stdout",
     "output_type": "stream",
     "text": [
      "train score:0.8989010989010989\n",
      "test score:0.9473684210526315\n"
     ]
    },
    {
     "name": "stderr",
     "output_type": "stream",
     "text": [
      "/home/yunfei/anaconda3/envs/AMAL/lib/python3.8/site-packages/sklearn/linear_model/_sag.py:352: ConvergenceWarning: The max_iter was reached which means the coef_ did not converge\n",
      "  warnings.warn(\n"
     ]
    }
   ],
   "source": [
    "# cancet\n",
    "model = linear_model.LogisticRegression(random_state=0, penalty='elasticnet', C=1, l1_ratio=0.7,  solver='saga')\n",
    "model.fit(X_train_cancer, y_train_cancer)\n",
    "print(f\"train score:{model.score(X_train_cancer, y_train_cancer)}\")\n",
    "print(f\"test score:{model.score(X_test_cancer, y_test_cancer)}\")"
   ]
  },
  {
   "cell_type": "code",
   "execution_count": 47,
   "id": "b34b8f83-1ce0-4260-8046-fb6950356587",
   "metadata": {},
   "outputs": [
    {
     "data": {
      "text/plain": [
       "24"
      ]
     },
     "execution_count": 47,
     "metadata": {},
     "output_type": "execute_result"
    }
   ],
   "source": [
    "(model.coef_!=0).sum()"
   ]
  },
  {
   "cell_type": "markdown",
   "id": "635c8b50-0a62-4b68-a855-c048ada66d5a",
   "metadata": {},
   "source": [
    "# Conclusion\n",
    "I find the SVM has relatively better performance on the breast cancer dataset.\n",
    "\n",
    "two types of elastic Net has a better performance on golub dataset.\n",
    "\n",
    "I use (model.coef_ != 0).sum() to show the final selected number"
   ]
  },
  {
   "cell_type": "code",
   "execution_count": null,
   "id": "62eb681f-b0cd-4da3-994f-83507361ae00",
   "metadata": {},
   "outputs": [],
   "source": [
    " "
   ]
  }
 ],
 "metadata": {
  "kernelspec": {
   "display_name": "AMAL",
   "language": "python",
   "name": "amal"
  },
  "language_info": {
   "codemirror_mode": {
    "name": "ipython",
    "version": 3
   },
   "file_extension": ".py",
   "mimetype": "text/x-python",
   "name": "python",
   "nbconvert_exporter": "python",
   "pygments_lexer": "ipython3",
   "version": "3.8.11"
  }
 },
 "nbformat": 4,
 "nbformat_minor": 5
}
