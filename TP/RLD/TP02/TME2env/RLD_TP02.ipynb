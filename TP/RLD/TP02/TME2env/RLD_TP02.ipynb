{
 "cells": [
  {
   "cell_type": "code",
   "execution_count": 76,
   "id": "44160341-710c-42de-9209-c57939b6fb5f",
   "metadata": {},
   "outputs": [],
   "source": [
    "import matplotlib\n",
    "import matplotlib.pyplot as plt\n",
    "matplotlib.use(\"TkAgg\")\n",
    "import gym\n",
    "import gridworld\n",
    "from gym import wrappers, logger\n",
    "import numpy as np\n",
    "import copy\n",
    "from numpy import linalg as LA"
   ]
  },
  {
   "cell_type": "markdown",
   "id": "226f73dc-43a6-48d6-8a7a-9cf1b5ad0cad",
   "metadata": {},
   "source": [
    "# Play with the enviroment"
   ]
  },
  {
   "cell_type": "markdown",
   "id": "e95bbf13-b622-4bbd-ab63-45127cafacff",
   "metadata": {},
   "source": [
    "types de cases du jeu : \n",
    "0 correspond à une case vide, \n",
    "1 correspond à un mur (pas de reward associé car impossible de s’y déplacer), \n",
    "2 correspond au joueur,\n",
    "3 correspond à une case verte, \n",
    "4 une case jaune, \n",
    "5 une case rouge\n",
    "6 une case rose."
   ]
  },
  {
   "cell_type": "code",
   "execution_count": 31,
   "id": "304d3729-5af5-424c-8a4c-1d1413b12c20",
   "metadata": {},
   "outputs": [
    {
     "data": {
      "text/plain": [
       "array([[1, 1, 1, 1, 1, 1],\n",
       "       [1, 0, 0, 0, 3, 1],\n",
       "       [1, 0, 1, 0, 5, 1],\n",
       "       [1, 0, 0, 0, 2, 1],\n",
       "       [1, 1, 1, 1, 1, 1],\n",
       "       [1, 1, 1, 1, 1, 1]])"
      ]
     },
     "execution_count": 31,
     "metadata": {},
     "output_type": "execute_result"
    }
   ],
   "source": [
    "env = gym.make('gridworld-v0')\n",
    "env.verbose = True\n",
    "env.reset()"
   ]
  },
  {
   "cell_type": "code",
   "execution_count": 6,
   "id": "101c92c0-38f3-4551-9a1d-84fb7ba6b04a",
   "metadata": {},
   "outputs": [
    {
     "data": {
      "text/plain": [
       "Discrete(4)"
      ]
     },
     "execution_count": 6,
     "metadata": {},
     "output_type": "execute_result"
    }
   ],
   "source": [
    "env.action_space"
   ]
  },
  {
   "cell_type": "code",
   "execution_count": 7,
   "id": "567b2c73-a747-4228-a132-1f74256bb99e",
   "metadata": {},
   "outputs": [],
   "source": [
    "action = 1\n",
    "obs,reward,done,info = env.step(action)"
   ]
  },
  {
   "cell_type": "code",
   "execution_count": 10,
   "id": "7ebf3ad1-4b30-464b-b512-832e0310ccf5",
   "metadata": {},
   "outputs": [
    {
     "data": {
      "text/plain": [
       "-0.001"
      ]
     },
     "execution_count": 10,
     "metadata": {},
     "output_type": "execute_result"
    }
   ],
   "source": [
    "reward"
   ]
  },
  {
   "cell_type": "code",
   "execution_count": 33,
   "id": "c892d887-1984-4094-b642-c1dfdb282bfd",
   "metadata": {},
   "outputs": [],
   "source": [
    "ren = env.render()"
   ]
  },
  {
   "cell_type": "code",
   "execution_count": 22,
   "id": "2d24ec11-3272-43e0-9e1f-b525f530565f",
   "metadata": {
    "tags": []
   },
   "outputs": [],
   "source": [
    "states, P = env.getMDP()"
   ]
  },
  {
   "cell_type": "code",
   "execution_count": 23,
   "id": "23aa8435-7a0a-42af-aa21-0244e3cfc59b",
   "metadata": {},
   "outputs": [
    {
     "data": {
      "text/plain": [
       "['[[1, 1, 1, 1, 1, 1], [1, 0, 0, 0, 3, 1], [1, 0, 1, 0, 5, 1], [1, 0, 0, 0, 2, 1], [1, 1, 1, 1, 1, 1], [1, 1, 1, 1, 1, 1]]',\n",
       " '[[1, 1, 1, 1, 1, 1], [1, 0, 0, 0, 3, 1], [1, 0, 1, 0, 2, 1], [1, 0, 0, 0, 0, 1], [1, 1, 1, 1, 1, 1], [1, 1, 1, 1, 1, 1]]',\n",
       " '[[1, 1, 1, 1, 1, 1], [1, 0, 0, 0, 3, 1], [1, 0, 1, 0, 5, 1], [1, 0, 0, 2, 0, 1], [1, 1, 1, 1, 1, 1], [1, 1, 1, 1, 1, 1]]',\n",
       " '[[1, 1, 1, 1, 1, 1], [1, 0, 0, 0, 3, 1], [1, 0, 1, 2, 5, 1], [1, 0, 0, 0, 0, 1], [1, 1, 1, 1, 1, 1], [1, 1, 1, 1, 1, 1]]',\n",
       " '[[1, 1, 1, 1, 1, 1], [1, 0, 0, 2, 3, 1], [1, 0, 1, 0, 5, 1], [1, 0, 0, 0, 0, 1], [1, 1, 1, 1, 1, 1], [1, 1, 1, 1, 1, 1]]',\n",
       " '[[1, 1, 1, 1, 1, 1], [1, 0, 0, 0, 2, 1], [1, 0, 1, 0, 5, 1], [1, 0, 0, 0, 0, 1], [1, 1, 1, 1, 1, 1], [1, 1, 1, 1, 1, 1]]',\n",
       " '[[1, 1, 1, 1, 1, 1], [1, 0, 2, 0, 3, 1], [1, 0, 1, 0, 5, 1], [1, 0, 0, 0, 0, 1], [1, 1, 1, 1, 1, 1], [1, 1, 1, 1, 1, 1]]',\n",
       " '[[1, 1, 1, 1, 1, 1], [1, 2, 0, 0, 3, 1], [1, 0, 1, 0, 5, 1], [1, 0, 0, 0, 0, 1], [1, 1, 1, 1, 1, 1], [1, 1, 1, 1, 1, 1]]',\n",
       " '[[1, 1, 1, 1, 1, 1], [1, 0, 0, 0, 3, 1], [1, 2, 1, 0, 5, 1], [1, 0, 0, 0, 0, 1], [1, 1, 1, 1, 1, 1], [1, 1, 1, 1, 1, 1]]',\n",
       " '[[1, 1, 1, 1, 1, 1], [1, 0, 0, 0, 3, 1], [1, 0, 1, 0, 5, 1], [1, 2, 0, 0, 0, 1], [1, 1, 1, 1, 1, 1], [1, 1, 1, 1, 1, 1]]',\n",
       " '[[1, 1, 1, 1, 1, 1], [1, 0, 0, 0, 3, 1], [1, 0, 1, 0, 5, 1], [1, 0, 2, 0, 0, 1], [1, 1, 1, 1, 1, 1], [1, 1, 1, 1, 1, 1]]']"
      ]
     },
     "execution_count": 23,
     "metadata": {},
     "output_type": "execute_result"
    }
   ],
   "source": [
    "states"
   ]
  },
  {
   "cell_type": "code",
   "execution_count": 24,
   "id": "f1b2f5ca-8bd1-418a-8b43-f06a96c7b642",
   "metadata": {},
   "outputs": [
    {
     "data": {
      "text/plain": [
       "{0: {0: [(0.8, 0, -0.001, False),\n",
       "   (0.1, 0, -0.001, False),\n",
       "   (0.1, 2, -0.001, False)],\n",
       "  1: [(0.8, 1, -1, True), (0.1, 0, -0.001, False), (0.1, 2, -0.001, False)],\n",
       "  2: [(0.1, 0, -0.001, False), (0.1, 1, -1, True), (0.8, 2, -0.001, False)],\n",
       "  3: [(0.1, 0, -0.001, False), (0.1, 1, -1, True), (0.8, 0, -0.001, False)]},\n",
       " 2: {0: [(0.8, 2, -0.001, False),\n",
       "   (0.1, 0, -0.001, False),\n",
       "   (0.1, 10, -0.001, False)],\n",
       "  1: [(0.8, 3, -0.001, False),\n",
       "   (0.1, 0, -0.001, False),\n",
       "   (0.1, 10, -0.001, False)],\n",
       "  2: [(0.1, 2, -0.001, False),\n",
       "   (0.1, 3, -0.001, False),\n",
       "   (0.8, 10, -0.001, False)],\n",
       "  3: [(0.1, 2, -0.001, False),\n",
       "   (0.1, 3, -0.001, False),\n",
       "   (0.8, 0, -0.001, False)]},\n",
       " 3: {0: [(0.8, 2, -0.001, False), (0.1, 1, -1, True), (0.1, 3, -0.001, False)],\n",
       "  1: [(0.8, 4, -0.001, False), (0.1, 1, -1, True), (0.1, 3, -0.001, False)],\n",
       "  2: [(0.1, 2, -0.001, False),\n",
       "   (0.1, 4, -0.001, False),\n",
       "   (0.8, 3, -0.001, False)],\n",
       "  3: [(0.1, 2, -0.001, False), (0.1, 4, -0.001, False), (0.8, 1, -1, True)]},\n",
       " 4: {0: [(0.8, 3, -0.001, False), (0.1, 5, 1, True), (0.1, 6, -0.001, False)],\n",
       "  1: [(0.8, 4, -0.001, False), (0.1, 5, 1, True), (0.1, 6, -0.001, False)],\n",
       "  2: [(0.1, 3, -0.001, False),\n",
       "   (0.1, 4, -0.001, False),\n",
       "   (0.8, 6, -0.001, False)],\n",
       "  3: [(0.1, 3, -0.001, False), (0.1, 4, -0.001, False), (0.8, 5, 1, True)]},\n",
       " 6: {0: [(0.8, 6, -0.001, False),\n",
       "   (0.1, 4, -0.001, False),\n",
       "   (0.1, 7, -0.001, False)],\n",
       "  1: [(0.8, 6, -0.001, False),\n",
       "   (0.1, 4, -0.001, False),\n",
       "   (0.1, 7, -0.001, False)],\n",
       "  2: [(0.1, 6, -0.001, False),\n",
       "   (0.1, 6, -0.001, False),\n",
       "   (0.8, 7, -0.001, False)],\n",
       "  3: [(0.1, 6, -0.001, False),\n",
       "   (0.1, 6, -0.001, False),\n",
       "   (0.8, 4, -0.001, False)]},\n",
       " 7: {0: [(0.8, 8, -0.001, False),\n",
       "   (0.1, 6, -0.001, False),\n",
       "   (0.1, 7, -0.001, False)],\n",
       "  1: [(0.8, 7, -0.001, False),\n",
       "   (0.1, 6, -0.001, False),\n",
       "   (0.1, 7, -0.001, False)],\n",
       "  2: [(0.1, 8, -0.001, False),\n",
       "   (0.1, 7, -0.001, False),\n",
       "   (0.8, 7, -0.001, False)],\n",
       "  3: [(0.1, 8, -0.001, False),\n",
       "   (0.1, 7, -0.001, False),\n",
       "   (0.8, 6, -0.001, False)]},\n",
       " 8: {0: [(0.8, 9, -0.001, False),\n",
       "   (0.1, 8, -0.001, False),\n",
       "   (0.1, 8, -0.001, False)],\n",
       "  1: [(0.8, 7, -0.001, False),\n",
       "   (0.1, 8, -0.001, False),\n",
       "   (0.1, 8, -0.001, False)],\n",
       "  2: [(0.1, 9, -0.001, False),\n",
       "   (0.1, 7, -0.001, False),\n",
       "   (0.8, 8, -0.001, False)],\n",
       "  3: [(0.1, 9, -0.001, False),\n",
       "   (0.1, 7, -0.001, False),\n",
       "   (0.8, 8, -0.001, False)]},\n",
       " 9: {0: [(0.8, 9, -0.001, False),\n",
       "   (0.1, 10, -0.001, False),\n",
       "   (0.1, 9, -0.001, False)],\n",
       "  1: [(0.8, 8, -0.001, False),\n",
       "   (0.1, 10, -0.001, False),\n",
       "   (0.1, 9, -0.001, False)],\n",
       "  2: [(0.1, 9, -0.001, False),\n",
       "   (0.1, 8, -0.001, False),\n",
       "   (0.8, 9, -0.001, False)],\n",
       "  3: [(0.1, 9, -0.001, False),\n",
       "   (0.1, 8, -0.001, False),\n",
       "   (0.8, 10, -0.001, False)]},\n",
       " 10: {0: [(0.8, 10, -0.001, False),\n",
       "   (0.1, 2, -0.001, False),\n",
       "   (0.1, 9, -0.001, False)],\n",
       "  1: [(0.8, 10, -0.001, False),\n",
       "   (0.1, 2, -0.001, False),\n",
       "   (0.1, 9, -0.001, False)],\n",
       "  2: [(0.1, 10, -0.001, False),\n",
       "   (0.1, 10, -0.001, False),\n",
       "   (0.8, 9, -0.001, False)],\n",
       "  3: [(0.1, 10, -0.001, False),\n",
       "   (0.1, 10, -0.001, False),\n",
       "   (0.8, 2, -0.001, False)]}}"
      ]
     },
     "execution_count": 24,
     "metadata": {},
     "output_type": "execute_result"
    }
   ],
   "source": [
    "# S: {A: {[(P, S', R, Done), ...]}} \n",
    "P"
   ]
  },
  {
   "cell_type": "code",
   "execution_count": 26,
   "id": "6a754979-6680-4270-8177-b5325fca5fac",
   "metadata": {},
   "outputs": [
    {
     "data": {
      "text/plain": [
       "dict_keys([0, 2, 3, 4, 6, 7, 8, 9, 10])"
      ]
     },
     "execution_count": 26,
     "metadata": {},
     "output_type": "execute_result"
    }
   ],
   "source": [
    "P.keys()"
   ]
  },
  {
   "cell_type": "code",
   "execution_count": 29,
   "id": "6205e67c-5456-4b5c-a08c-674650147e02",
   "metadata": {},
   "outputs": [
    {
     "data": {
      "text/plain": [
       "{0: [(0.8, 0, -0.001, False),\n",
       "  (0.1, 0, -0.001, False),\n",
       "  (0.1, 2, -0.001, False)],\n",
       " 1: [(0.8, 1, -1, True), (0.1, 0, -0.001, False), (0.1, 2, -0.001, False)],\n",
       " 2: [(0.1, 0, -0.001, False), (0.1, 1, -1, True), (0.8, 2, -0.001, False)],\n",
       " 3: [(0.1, 0, -0.001, False), (0.1, 1, -1, True), (0.8, 0, -0.001, False)]}"
      ]
     },
     "execution_count": 29,
     "metadata": {},
     "output_type": "execute_result"
    }
   ],
   "source": [
    "P[0]"
   ]
  },
  {
   "cell_type": "code",
   "execution_count": 30,
   "id": "c0b9526d-734b-4d60-81a6-72b1fb739c4a",
   "metadata": {},
   "outputs": [
    {
     "data": {
      "text/plain": [
       "dict_keys([0, 1, 2, 3])"
      ]
     },
     "execution_count": 30,
     "metadata": {},
     "output_type": "execute_result"
    }
   ],
   "source": [
    "P[0].keys()"
   ]
  },
  {
   "cell_type": "code",
   "execution_count": 34,
   "id": "3d27aef8-2c11-49fb-b228-9a6393cb3f61",
   "metadata": {},
   "outputs": [
    {
     "data": {
      "text/plain": [
       "array([[1, 1, 1, 1, 1, 1],\n",
       "       [1, 0, 0, 0, 3, 1],\n",
       "       [1, 0, 1, 0, 5, 1],\n",
       "       [1, 0, 0, 0, 2, 1],\n",
       "       [1, 1, 1, 1, 1, 1],\n",
       "       [1, 1, 1, 1, 1, 1]])"
      ]
     },
     "execution_count": 34,
     "metadata": {},
     "output_type": "execute_result"
    }
   ],
   "source": [
    "obs"
   ]
  },
  {
   "cell_type": "code",
   "execution_count": 14,
   "id": "ecbefa3d-e8d4-4246-93c4-de3eb0449392",
   "metadata": {},
   "outputs": [
    {
     "data": {
      "text/plain": [
       "0"
      ]
     },
     "execution_count": 14,
     "metadata": {},
     "output_type": "execute_result"
    }
   ],
   "source": [
    "# get number of state from a obs\n",
    "env.getStateFromObs(obs)"
   ]
  },
  {
   "cell_type": "code",
   "execution_count": 35,
   "id": "875db852-a602-40a6-91df-37aae8ab57fd",
   "metadata": {},
   "outputs": [
    {
     "data": {
      "text/plain": [
       "'[[1, 1, 1, 1, 1, 1], [1, 0, 0, 0, 3, 1], [1, 0, 1, 0, 5, 1], [1, 0, 0, 0, 2, 1], [1, 1, 1, 1, 1, 1], [1, 1, 1, 1, 1, 1]]'"
      ]
     },
     "execution_count": 35,
     "metadata": {},
     "output_type": "execute_result"
    }
   ],
   "source": [
    "states[0]"
   ]
  },
  {
   "cell_type": "markdown",
   "id": "a892b47a-389c-4ec0-81a8-fd876dd378ec",
   "metadata": {},
   "source": [
    "# Policy implementation"
   ]
  },
  {
   "cell_type": "code",
   "execution_count": 89,
   "id": "c1770d67-83cc-4e16-a72f-7cf69c329c46",
   "metadata": {},
   "outputs": [],
   "source": [
    "# Environment setting\n",
    "env = gym.make('gridworld-v0')\n",
    "env.verbose = True\n",
    "env.reset()\n",
    "states, MDP = env.getMDP()"
   ]
  },
  {
   "cell_type": "markdown",
   "id": "e7c9563a-ec0b-4680-933d-55a93c852d9a",
   "metadata": {},
   "source": [
    "## policy iteration"
   ]
  },
  {
   "cell_type": "code",
   "execution_count": 37,
   "id": "6566c6a1-5d08-47ba-8216-5bdd3c28591a",
   "metadata": {},
   "outputs": [
    {
     "data": {
      "text/plain": [
       "Discrete(4)"
      ]
     },
     "execution_count": 37,
     "metadata": {},
     "output_type": "execute_result"
    }
   ],
   "source": [
    "env.action_space"
   ]
  },
  {
   "cell_type": "code",
   "execution_count": 79,
   "id": "09217de2-b850-461a-b89a-226112326520",
   "metadata": {},
   "outputs": [
    {
     "ename": "IndentationError",
     "evalue": "expected an indented block (<ipython-input-79-9e9895bd7e4f>, line 22)",
     "output_type": "error",
     "traceback": [
      "\u001b[0;36m  File \u001b[0;32m\"<ipython-input-79-9e9895bd7e4f>\"\u001b[0;36m, line \u001b[0;32m22\u001b[0m\n\u001b[0;31m    return\u001b[0m\n\u001b[0m    ^\u001b[0m\n\u001b[0;31mIndentationError\u001b[0m\u001b[0;31m:\u001b[0m expected an indented block\n"
     ]
    }
   ],
   "source": [
    "class PolicyIterationAgent(object):\n",
    "    \"\"\"The world's simplest agent!\"\"\"\n",
    "\n",
    "    def __init__(self, states, action_space, e=0.01, gamma=0.99):\n",
    "        self.action_space = action_space\n",
    "        self.e = e\n",
    "        self.PI = np.zeros(len(states))\n",
    "        self.V = np.zeros(len(states))\n",
    "        \n",
    "    def train(self, MDP):\n",
    "        while True:\n",
    "            PI_new = np.zeros_like(self.PI)\n",
    "            while True:\n",
    "                # V evaluation for policy PI\n",
    "                V_new = np.zeros_like(self.V)\n",
    "                for state, A_table in MDP.items():\n",
    "                    # for each state in v\n",
    "                    action = self.PI[state]\n",
    "                    s_prime_list = A_table[action]\n",
    "                    for p, s_prime, r, done in s_prime_list:\n",
    "                        # for each s_prime possible in state s with action PI[state]\n",
    "                        V_new[state] += p * (r + self.gamma*self.V[s_prime])\n",
    "                if LA.norm(self.V - V_new) < self.e:\n",
    "                    break\n",
    "                self.V = V_new\n",
    "                \n",
    "            for s in len(states):\n",
    "                actions = MDP[s]\n",
    "                values_a = np.zeros(len(actions))\n",
    "                \n",
    "                \n",
    "                PI_new[s] = \n",
    "            if np.array_equal(PI_new, self.PI):\n",
    "                break\n",
    "            self.PI = PI_new\n",
    "                \n",
    "    def act(self, observation):\n",
    "        return self.PI[observation]\n",
    "        "
   ]
  },
  {
   "cell_type": "code",
   "execution_count": 106,
   "id": "0f25d3c6-f3d5-4373-92d6-eac3846f2bff",
   "metadata": {},
   "outputs": [
    {
     "data": {
      "text/plain": [
       "array([0., 0., 0., 0.])"
      ]
     },
     "execution_count": 106,
     "metadata": {},
     "output_type": "execute_result"
    }
   ],
   "source": [
    "np.zeros(4)"
   ]
  },
  {
   "cell_type": "code",
   "execution_count": 56,
   "id": "18e53857-25a1-40e1-ac1e-b1532778e9ab",
   "metadata": {},
   "outputs": [
    {
     "ename": "TypeError",
     "evalue": "cannot unpack non-iterable int object",
     "output_type": "error",
     "traceback": [
      "\u001b[0;31m---------------------------------------------------------------------------\u001b[0m",
      "\u001b[0;31mTypeError\u001b[0m                                 Traceback (most recent call last)",
      "\u001b[0;32m<ipython-input-56-6b426a886059>\u001b[0m in \u001b[0;36m<module>\u001b[0;34m\u001b[0m\n\u001b[0;32m----> 1\u001b[0;31m \u001b[0;32mfor\u001b[0m \u001b[0mm\u001b[0m\u001b[0;34m,\u001b[0m \u001b[0mv\u001b[0m \u001b[0;32min\u001b[0m \u001b[0mMDP\u001b[0m\u001b[0;34m[\u001b[0m\u001b[0;36m0\u001b[0m\u001b[0;34m]\u001b[0m\u001b[0;34m:\u001b[0m\u001b[0;34m\u001b[0m\u001b[0;34m\u001b[0m\u001b[0m\n\u001b[0m\u001b[1;32m      2\u001b[0m     \u001b[0mprint\u001b[0m\u001b[0;34m(\u001b[0m\u001b[0mm\u001b[0m\u001b[0;34m)\u001b[0m\u001b[0;34m\u001b[0m\u001b[0;34m\u001b[0m\u001b[0m\n",
      "\u001b[0;31mTypeError\u001b[0m: cannot unpack non-iterable int object"
     ]
    }
   ],
   "source": [
    "for m, v in MDP[0]:\n",
    "    print(m)"
   ]
  },
  {
   "cell_type": "code",
   "execution_count": 86,
   "id": "115ab2d1-8e31-47fa-9545-eb73bcd0f7b6",
   "metadata": {},
   "outputs": [],
   "source": [
    "a = np.array([1,3])\n",
    "b = np.array([1,3])"
   ]
  },
  {
   "cell_type": "code",
   "execution_count": 87,
   "id": "ad51a119-ca03-493f-bda9-355f1e55e52a",
   "metadata": {},
   "outputs": [
    {
     "data": {
      "text/plain": [
       "True"
      ]
     },
     "execution_count": 87,
     "metadata": {},
     "output_type": "execute_result"
    }
   ],
   "source": [
    "np.array_equal(a, b)"
   ]
  },
  {
   "cell_type": "code",
   "execution_count": 103,
   "id": "867e6c00-39ad-4a23-9cdf-c8dbeebe1505",
   "metadata": {},
   "outputs": [
    {
     "data": {
      "text/plain": [
       "array([[0., 0., 0., 0.]])"
      ]
     },
     "execution_count": 103,
     "metadata": {},
     "output_type": "execute_result"
    }
   ],
   "source": [
    "np.zeros((1,4))"
   ]
  },
  {
   "cell_type": "markdown",
   "id": "b6f74916-3749-4868-aab8-89c18fb4c7dc",
   "metadata": {},
   "source": [
    "##  value iteration"
   ]
  },
  {
   "cell_type": "code",
   "execution_count": null,
   "id": "09be076d-5002-4d12-b32b-44a74bd09b72",
   "metadata": {},
   "outputs": [],
   "source": []
  },
  {
   "cell_type": "code",
   "execution_count": 64,
   "id": "7f204047-122b-440a-b7f5-0ca8969ac361",
   "metadata": {},
   "outputs": [
    {
     "name": "stdout",
     "output_type": "stream",
     "text": [
      "0\n",
      "[(0.8, 0, -0.001, False), (0.1, 0, -0.001, False), (0.1, 2, -0.001, False)]\n"
     ]
    }
   ],
   "source": [
    "for a, s_prime_list in MDP[0].items():\n",
    "    print(a)\n",
    "    print(s_prime_list)\n",
    "    break"
   ]
  },
  {
   "cell_type": "code",
   "execution_count": 67,
   "id": "0e3c00a4-a09a-4e19-9909-553c9403061d",
   "metadata": {},
   "outputs": [
    {
     "data": {
      "text/plain": [
       "[(0.8, 0, -0.001, False), (0.1, 0, -0.001, False), (0.1, 2, -0.001, False)]"
      ]
     },
     "execution_count": 67,
     "metadata": {},
     "output_type": "execute_result"
    }
   ],
   "source": [
    "MDP[0][0]"
   ]
  },
  {
   "cell_type": "code",
   "execution_count": 68,
   "id": "47a4664f-2e94-4964-9674-bc3003927ecd",
   "metadata": {},
   "outputs": [
    {
     "name": "stdout",
     "output_type": "stream",
     "text": [
      "0.8\n"
     ]
    }
   ],
   "source": [
    "for a,b,c,d in MDP[0][0]:\n",
    "    print(a)\n",
    "    break"
   ]
  },
  {
   "cell_type": "code",
   "execution_count": 70,
   "id": "b000ff22-385b-4cb4-87ad-4053a4927c1e",
   "metadata": {},
   "outputs": [],
   "source": [
    "a = np.zeros(len(states))"
   ]
  },
  {
   "cell_type": "code",
   "execution_count": 74,
   "id": "63f55eb2-e027-4bc2-afcd-bcf74558ad49",
   "metadata": {},
   "outputs": [],
   "source": [
    "b = np.zeros_like(a)"
   ]
  },
  {
   "cell_type": "code",
   "execution_count": 75,
   "id": "e3f542a6-a519-4621-a594-7ba4d89e868a",
   "metadata": {},
   "outputs": [
    {
     "data": {
      "text/plain": [
       "array([0., 0., 0., 0., 0., 0., 0., 0., 0., 0., 0.])"
      ]
     },
     "execution_count": 75,
     "metadata": {},
     "output_type": "execute_result"
    }
   ],
   "source": [
    "b"
   ]
  },
  {
   "cell_type": "code",
   "execution_count": 78,
   "id": "cbcd7c83-2d14-445a-99f9-656210e6e977",
   "metadata": {},
   "outputs": [
    {
     "data": {
      "text/plain": [
       "1.4142135623730951"
      ]
     },
     "execution_count": 78,
     "metadata": {},
     "output_type": "execute_result"
    }
   ],
   "source": [
    "LA.norm(np.array([1,2])- np.array([0,3]))"
   ]
  },
  {
   "cell_type": "code",
   "execution_count": null,
   "id": "8d3a5b16-4e9b-4a9e-8280-a4396c7185e6",
   "metadata": {},
   "outputs": [],
   "source": []
  }
 ],
 "metadata": {
  "kernelspec": {
   "display_name": "Python 3",
   "language": "python",
   "name": "python3"
  },
  "language_info": {
   "codemirror_mode": {
    "name": "ipython",
    "version": 3
   },
   "file_extension": ".py",
   "mimetype": "text/x-python",
   "name": "python",
   "nbconvert_exporter": "python",
   "pygments_lexer": "ipython3",
   "version": "3.8.8"
  }
 },
 "nbformat": 4,
 "nbformat_minor": 5
}
